{
 "cells": [
  {
   "cell_type": "code",
   "execution_count": 9,
   "metadata": {},
   "outputs": [
    {
     "data": {
      "text/html": [
       "<table>\n",
       "<thead><tr><th scope=col>Identifier</th><th scope=col>Edition.Statement</th><th scope=col>Place.of.Publication</th><th scope=col>Date.of.Publication</th><th scope=col>Publisher</th><th scope=col>Title</th><th scope=col>Author</th><th scope=col>Contributors</th><th scope=col>Corporate.Author</th><th scope=col>Corporate.Contributors</th><th scope=col>Former.owner</th><th scope=col>Engraver</th><th scope=col>Issuance.type</th><th scope=col>Flickr.URL</th><th scope=col>Shelfmarks</th></tr></thead>\n",
       "<tbody>\n",
       "\t<tr><td>206                                                                                                                                                </td><td>                                                                                                                                                   </td><td><span style=white-space:pre-wrap>London                  </span>                                                                                   </td><td>1879 [1878]                                                                                                                                        </td><td>S. Tinsley &amp; Co.                                                                                                                               </td><td><span style=white-space:pre-wrap>Walter Forbes. [A novel.] By A. A                                                                          </span></td><td><span style=white-space:pre-wrap>A. A.    </span>                                                                                                  </td><td><span style=white-space:pre-wrap>FORBES, Walter.                             </span>                                                               </td><td>NA                                                                                                                                                 </td><td>NA                                                                                                                                                 </td><td>                                                                                                                                                   </td><td>NA                                                                                                                                                 </td><td>monographic                                                                                                                                        </td><td>http://www.flickr.com/photos/britishlibrary/tags/sysnum000000206                                                                                   </td><td>British Library HMNTS 12641.b.30.                                                                                                                  </td></tr>\n",
       "\t<tr><td>216                                                                                                        </td><td>                                                                                                           </td><td>London; Virtue &amp; Yorston                                                                               </td><td><span style=white-space:pre-wrap>1868       </span>                                                        </td><td><span style=white-space:pre-wrap>Virtue &amp; Co.    </span>                                               </td><td>All for Greed. [A novel. The dedication signed: A. A. A., i.e. Marie Pauline Rose, Baroness Blaze de Bury.]</td><td>A., A. A.                                                                                                  </td><td>BLAZE DE BURY, Marie Pauline Rose - Baroness                                                               </td><td>NA                                                                                                         </td><td>NA                                                                                                         </td><td>                                                                                                           </td><td>NA                                                                                                         </td><td>monographic                                                                                                </td><td>http://www.flickr.com/photos/britishlibrary/tags/sysnum000000216                                           </td><td>British Library HMNTS 12626.cc.2.                                                                          </td></tr>\n",
       "</tbody>\n",
       "</table>\n"
      ],
      "text/latex": [
       "\\begin{tabular}{r|lllllllllllllll}\n",
       " Identifier & Edition.Statement & Place.of.Publication & Date.of.Publication & Publisher & Title & Author & Contributors & Corporate.Author & Corporate.Contributors & Former.owner & Engraver & Issuance.type & Flickr.URL & Shelfmarks\\\\\n",
       "\\hline\n",
       "\t 206                                                                                                             &                                                                                                                 & London                                                                                                          & 1879 {[}1878{]}                                                                                                 & S. Tinsley \\& Co.                                                                                              & Walter Forbes. {[}A novel.{]} By A. A                                                                           & A. A.                                                                                                           & FORBES, Walter.                                                                                                 & NA                                                                                                              & NA                                                                                                              &                                                                                                                 & NA                                                                                                              & monographic                                                                                                     & http://www.flickr.com/photos/britishlibrary/tags/sysnum000000206                                                & British Library HMNTS 12641.b.30.                                                                              \\\\\n",
       "\t 216                                                                                                             &                                                                                                                 & London; Virtue \\& Yorston                                                                                      & 1868                                                                                                            & Virtue \\& Co.                                                                                                  & All for Greed. {[}A novel. The dedication signed: A. A. A., i.e. Marie Pauline Rose, Baroness Blaze de Bury.{]} & A., A. A.                                                                                                       & BLAZE DE BURY, Marie Pauline Rose - Baroness                                                                    & NA                                                                                                              & NA                                                                                                              &                                                                                                                 & NA                                                                                                              & monographic                                                                                                     & http://www.flickr.com/photos/britishlibrary/tags/sysnum000000216                                                & British Library HMNTS 12626.cc.2.                                                                              \\\\\n",
       "\\end{tabular}\n"
      ],
      "text/markdown": [
       "\n",
       "Identifier | Edition.Statement | Place.of.Publication | Date.of.Publication | Publisher | Title | Author | Contributors | Corporate.Author | Corporate.Contributors | Former.owner | Engraver | Issuance.type | Flickr.URL | Shelfmarks | \n",
       "|---|---|\n",
       "| 206                                                                                                         |                                                                                                             | London                                                                                                      | 1879 [1878]                                                                                                 | S. Tinsley & Co.                                                                                            | Walter Forbes. [A novel.] By A. A                                                                           | A. A.                                                                                                       | FORBES, Walter.                                                                                             | NA                                                                                                          | NA                                                                                                          |                                                                                                             | NA                                                                                                          | monographic                                                                                                 | http://www.flickr.com/photos/britishlibrary/tags/sysnum000000206                                            | British Library HMNTS 12641.b.30.                                                                           | \n",
       "| 216                                                                                                         |                                                                                                             | London; Virtue & Yorston                                                                                    | 1868                                                                                                        | Virtue & Co.                                                                                                | All for Greed. [A novel. The dedication signed: A. A. A., i.e. Marie Pauline Rose, Baroness Blaze de Bury.] | A., A. A.                                                                                                   | BLAZE DE BURY, Marie Pauline Rose - Baroness                                                                | NA                                                                                                          | NA                                                                                                          |                                                                                                             | NA                                                                                                          | monographic                                                                                                 | http://www.flickr.com/photos/britishlibrary/tags/sysnum000000216                                            | British Library HMNTS 12626.cc.2.                                                                           | \n",
       "\n",
       "\n"
      ],
      "text/plain": [
       "  Identifier Edition.Statement Place.of.Publication     Date.of.Publication\n",
       "1 206                          London                   1879 [1878]        \n",
       "2 216                          London; Virtue & Yorston 1868               \n",
       "  Publisher       \n",
       "1 S. Tinsley & Co.\n",
       "2 Virtue & Co.    \n",
       "  Title                                                                                                      \n",
       "1 Walter Forbes. [A novel.] By A. A                                                                          \n",
       "2 All for Greed. [A novel. The dedication signed: A. A. A., i.e. Marie Pauline Rose, Baroness Blaze de Bury.]\n",
       "  Author    Contributors                                 Corporate.Author\n",
       "1 A. A.     FORBES, Walter.                              NA              \n",
       "2 A., A. A. BLAZE DE BURY, Marie Pauline Rose - Baroness NA              \n",
       "  Corporate.Contributors Former.owner Engraver Issuance.type\n",
       "1 NA                                  NA       monographic  \n",
       "2 NA                                  NA       monographic  \n",
       "  Flickr.URL                                                      \n",
       "1 http://www.flickr.com/photos/britishlibrary/tags/sysnum000000206\n",
       "2 http://www.flickr.com/photos/britishlibrary/tags/sysnum000000216\n",
       "  Shelfmarks                       \n",
       "1 British Library HMNTS 12641.b.30.\n",
       "2 British Library HMNTS 12626.cc.2."
      ]
     },
     "metadata": {},
     "output_type": "display_data"
    }
   ],
   "source": [
    "setwd(\"C:/Users/linhd/OneDrive/8th Semester/MIS 4596/Code Samples\")\n",
    "# BL-Flickr-Images-Book\n",
    "df <- read.csv(file=\"BL.csv\",header=TRUE)\n",
    "df <- data.frame(df)\n",
    "head(df,2) # list first 2 rows of the table"
   ]
  },
  {
   "cell_type": "code",
   "execution_count": 10,
   "metadata": {},
   "outputs": [
    {
     "data": {
      "text/html": [
       "<table>\n",
       "<thead><tr><th scope=col>Identifier</th><th scope=col>Place.of.Publication</th><th scope=col>Date.of.Publication</th><th scope=col>Publisher</th><th scope=col>Title</th><th scope=col>Author</th><th scope=col>Flickr.URL</th></tr></thead>\n",
       "<tbody>\n",
       "\t<tr><td>206                                                                                                                                                </td><td><span style=white-space:pre-wrap>London                  </span>                                                                                   </td><td>1879 [1878]                                                                                                                                        </td><td>S. Tinsley &amp; Co.                                                                                                                               </td><td><span style=white-space:pre-wrap>Walter Forbes. [A novel.] By A. A                                                                          </span></td><td><span style=white-space:pre-wrap>A. A.    </span>                                                                                                  </td><td>http://www.flickr.com/photos/britishlibrary/tags/sysnum000000206                                                                                   </td></tr>\n",
       "\t<tr><td>216                                                                                                        </td><td>London; Virtue &amp; Yorston                                                                               </td><td><span style=white-space:pre-wrap>1868       </span>                                                        </td><td><span style=white-space:pre-wrap>Virtue &amp; Co.    </span>                                               </td><td>All for Greed. [A novel. The dedication signed: A. A. A., i.e. Marie Pauline Rose, Baroness Blaze de Bury.]</td><td>A., A. A.                                                                                                  </td><td>http://www.flickr.com/photos/britishlibrary/tags/sysnum000000216                                           </td></tr>\n",
       "</tbody>\n",
       "</table>\n"
      ],
      "text/latex": [
       "\\begin{tabular}{r|lllllll}\n",
       " Identifier & Place.of.Publication & Date.of.Publication & Publisher & Title & Author & Flickr.URL\\\\\n",
       "\\hline\n",
       "\t 206                                                                                                             & London                                                                                                          & 1879 {[}1878{]}                                                                                                 & S. Tinsley \\& Co.                                                                                              & Walter Forbes. {[}A novel.{]} By A. A                                                                           & A. A.                                                                                                           & http://www.flickr.com/photos/britishlibrary/tags/sysnum000000206                                               \\\\\n",
       "\t 216                                                                                                             & London; Virtue \\& Yorston                                                                                      & 1868                                                                                                            & Virtue \\& Co.                                                                                                  & All for Greed. {[}A novel. The dedication signed: A. A. A., i.e. Marie Pauline Rose, Baroness Blaze de Bury.{]} & A., A. A.                                                                                                       & http://www.flickr.com/photos/britishlibrary/tags/sysnum000000216                                               \\\\\n",
       "\\end{tabular}\n"
      ],
      "text/markdown": [
       "\n",
       "Identifier | Place.of.Publication | Date.of.Publication | Publisher | Title | Author | Flickr.URL | \n",
       "|---|---|\n",
       "| 206                                                                                                         | London                                                                                                      | 1879 [1878]                                                                                                 | S. Tinsley & Co.                                                                                            | Walter Forbes. [A novel.] By A. A                                                                           | A. A.                                                                                                       | http://www.flickr.com/photos/britishlibrary/tags/sysnum000000206                                            | \n",
       "| 216                                                                                                         | London; Virtue & Yorston                                                                                    | 1868                                                                                                        | Virtue & Co.                                                                                                | All for Greed. [A novel. The dedication signed: A. A. A., i.e. Marie Pauline Rose, Baroness Blaze de Bury.] | A., A. A.                                                                                                   | http://www.flickr.com/photos/britishlibrary/tags/sysnum000000216                                            | \n",
       "\n",
       "\n"
      ],
      "text/plain": [
       "  Identifier Place.of.Publication     Date.of.Publication Publisher       \n",
       "1 206        London                   1879 [1878]         S. Tinsley & Co.\n",
       "2 216        London; Virtue & Yorston 1868                Virtue & Co.    \n",
       "  Title                                                                                                      \n",
       "1 Walter Forbes. [A novel.] By A. A                                                                          \n",
       "2 All for Greed. [A novel. The dedication signed: A. A. A., i.e. Marie Pauline Rose, Baroness Blaze de Bury.]\n",
       "  Author    Flickr.URL                                                      \n",
       "1 A. A.     http://www.flickr.com/photos/britishlibrary/tags/sysnum000000206\n",
       "2 A., A. A. http://www.flickr.com/photos/britishlibrary/tags/sysnum000000216"
      ]
     },
     "metadata": {},
     "output_type": "display_data"
    }
   ],
   "source": [
    "#drop a number of useless columns\n",
    "to_drop <- c('Edition.Statement', 'Corporate.Author', 'Corporate.Contributors','Former.owner','Engraver','Contributors', 'Issuance.type','Shelfmarks')\n",
    "# !(names(df) %in% to_drop) is a boolean vector to filter out FALSE values (not in the to_drop list is false)\n",
    "# !(names(df) %in% to_drop)\n",
    "df <- df[,!(names(df) %in% to_drop)]\n",
    "#another method of dropping columns\n",
    "# df <- subset(df, select= !(names(df) %in% to_drop))\n",
    "head(df,2)"
   ]
  },
  {
   "cell_type": "code",
   "execution_count": 11,
   "metadata": {},
   "outputs": [],
   "source": [
    "#set Identifer as the Index of the the dataframe. Useful for later.\n",
    "rownames(df) <- df$Identifier;\n",
    "# head(df$Identifier, 5)"
   ]
  },
  {
   "cell_type": "code",
   "execution_count": 12,
   "metadata": {},
   "outputs": [
    {
     "name": "stdout",
     "output_type": "stream",
     "text": [
      "'data.frame':\t8287 obs. of  7 variables:\n",
      " $ Identifier          : int  206 216 218 472 480 481 519 667 874 1143 ...\n",
      " $ Place.of.Publication: Factor w/ 1441 levels \"'s-Gravenhage\",..: 695 811 695 695 695 695 695 1071 816 695 ...\n",
      " $ Date.of.Publication : Factor w/ 1149 levels \"\",\"[1710?]\",\"[1710]\",..: 923 825 835 686 733 878 857 1 334 338 ...\n",
      " $ Publisher           : Factor w/ 1990 levels \"\",\"-152. D. H. Edwards\",..: 1519 1773 216 997 1912 1946 1700 1 1 1 ...\n",
      " $ Title               : Factor w/ 8210 levels \"'Alter Ejusdem': being another instalment of lilts and lyrics. By the author of 'Mistura curiosa' [i.e. J. A. S\"| __truncated__,..: 8064 1399 4287 8086 723 723 3981 6243 1264 1134 ...\n",
      " $ Author              : Factor w/ 5006 levels \"\",\"A'BECKETT, Gilbert Abbott.\",..: 4 5 5 6 6 6 7 8 3831 9 ...\n",
      " $ Flickr.URL          : Factor w/ 8287 levels \"http://www.flickr.com/photos/britishlibrary/tags/sysnum000000206\",..: 1 2 3 4 5 6 7 8 9 10 ...\n"
     ]
    }
   ],
   "source": [
    "# Use str() to explore data structure (types + examples) of each column. Use sapply to loop horizontally accross columns. Use table() to wrap all these up and create a summary table\n",
    "str(df)"
   ]
  },
  {
   "cell_type": "code",
   "execution_count": 13,
   "metadata": {},
   "outputs": [
    {
     "data": {
      "text/html": [
       "'character'"
      ],
      "text/latex": [
       "'character'"
      ],
      "text/markdown": [
       "'character'"
      ],
      "text/plain": [
       "[1] \"character\""
      ]
     },
     "metadata": {},
     "output_type": "display_data"
    },
    {
     "data": {
      "text/html": [
       "'character'"
      ],
      "text/latex": [
       "'character'"
      ],
      "text/markdown": [
       "'character'"
      ],
      "text/plain": [
       "[1] \"character\""
      ]
     },
     "metadata": {},
     "output_type": "display_data"
    },
    {
     "data": {
      "text/html": [
       "<table>\n",
       "<thead><tr><th></th><th scope=col>Date.of.Publication</th></tr></thead>\n",
       "<tbody>\n",
       "\t<tr><th scope=row>206</th><td>1879 [1878]       </td></tr>\n",
       "\t<tr><th scope=row>1929</th><td>1839, 38-54       </td></tr>\n",
       "\t<tr><th scope=row>2956</th><td>1860-63           </td></tr>\n",
       "\t<tr><th scope=row>5382</th><td>1847, 48 [1846-48]</td></tr>\n",
       "\t<tr><th scope=row>5385</th><td>[1897?]           </td></tr>\n",
       "\t<tr><th scope=row>5389</th><td>[1897?]           </td></tr>\n",
       "\t<tr><th scope=row>11361</th><td>[1894-96          </td></tr>\n",
       "\t<tr><th scope=row>14466</th><td>[1860?]           </td></tr>\n",
       "\t<tr><th scope=row>21782</th><td>[1817.]           </td></tr>\n",
       "\t<tr><th scope=row>24878</th><td>1886, [1885]      </td></tr>\n",
       "</tbody>\n",
       "</table>\n"
      ],
      "text/latex": [
       "\\begin{tabular}{r|l}\n",
       "  & Date.of.Publication\\\\\n",
       "\\hline\n",
       "\t206 & 1879 {[}1878{]}       \\\\\n",
       "\t1929 & 1839, 38-54       \\\\\n",
       "\t2956 & 1860-63           \\\\\n",
       "\t5382 & 1847, 48 {[}1846-48{]}\\\\\n",
       "\t5385 & {[}1897?{]}           \\\\\n",
       "\t5389 & {[}1897?{]}           \\\\\n",
       "\t11361 & {[}1894-96          \\\\\n",
       "\t14466 & {[}1860?{]}           \\\\\n",
       "\t21782 & {[}1817.{]}           \\\\\n",
       "\t24878 & 1886, {[}1885{]}      \\\\\n",
       "\\end{tabular}\n"
      ],
      "text/markdown": [
       "\n",
       "| <!--/--> | Date.of.Publication | \n",
       "|---|---|---|---|---|---|---|---|---|---|\n",
       "| 206 | 1879 [1878]        | \n",
       "| 1929 | 1839, 38-54        | \n",
       "| 2956 | 1860-63            | \n",
       "| 5382 | 1847, 48 [1846-48] | \n",
       "| 5385 | [1897?]            | \n",
       "| 5389 | [1897?]            | \n",
       "| 11361 | [1894-96           | \n",
       "| 14466 | [1860?]            | \n",
       "| 21782 | [1817.]            | \n",
       "| 24878 | 1886, [1885]       | \n",
       "\n",
       "\n"
      ],
      "text/plain": [
       "      Date.of.Publication\n",
       "206   1879 [1878]        \n",
       "1929  1839, 38-54        \n",
       "2956  1860-63            \n",
       "5382  1847, 48 [1846-48] \n",
       "5385  [1897?]            \n",
       "5389  [1897?]            \n",
       "11361 [1894-96           \n",
       "14466 [1860?]            \n",
       "21782 [1817.]            \n",
       "24878 1886, [1885]       "
      ]
     },
     "metadata": {},
     "output_type": "display_data"
    }
   ],
   "source": [
    "#Turn Date.Of.Publication and Place.Of.Publication into a character vector.\n",
    "df$Date.of.Publication <- as.character(df$Date.of.Publication)\n",
    "df$Place.of.Publication <- as.character(df$Place.of.Publication)\n",
    "class(df$Date.of.Publication)\n",
    "class(df$Place.of.Publication)\n",
    "# Filter the longer date into df_long_date. This allows us to see what the errors are when the string is longer than 6.\n",
    "df_long_date <- subset(df,nchar(df$Date.of.Publication) > 6)  # Use subset for general conditional. No need for df[...]\n",
    "\n",
    "# Seems like we better keep the first instance of a year.\n",
    "head(df_long_date[\"Date.of.Publication\"], 10)\n",
    "\n",
    "# I HAVE NOT DONE THE SAME IN PYTHON - WILL DO LATER"
   ]
  },
  {
   "cell_type": "code",
   "execution_count": 14,
   "metadata": {},
   "outputs": [
    {
     "data": {
      "text/html": [
       "<table>\n",
       "<thead><tr><th></th><th scope=col>Identifier</th><th scope=col>Place.of.Publication</th><th scope=col>Date.of.Publication</th><th scope=col>Publisher</th><th scope=col>Title</th><th scope=col>Author</th><th scope=col>Flickr.URL</th></tr></thead>\n",
       "<tbody>\n",
       "\t<tr><th scope=row>206</th><td>206                                                                                                                                                                                                         </td><td><span style=white-space:pre-wrap>London                  </span>                                                                                                                                            </td><td>1879                                                                                                                                                                                                        </td><td><span style=white-space:pre-wrap>S. Tinsley &amp; Co.     </span>                                                                                                                                           </td><td><span style=white-space:pre-wrap>Walter Forbes. [A novel.] By A. A                                                                                                                                   </span></td><td><span style=white-space:pre-wrap>A. A.    </span>                                                                                                                                                           </td><td>http://www.flickr.com/photos/britishlibrary/tags/sysnum000000206                                                                                                                                            </td></tr>\n",
       "\t<tr><th scope=row>216</th><td>216                                                                                                                                                                                                         </td><td>London; Virtue &amp; Yorston                                                                                                                                                                                </td><td>1868                                                                                                                                                                                                        </td><td><span style=white-space:pre-wrap>Virtue &amp; Co.         </span>                                                                                                                                           </td><td><span style=white-space:pre-wrap>All for Greed. [A novel. The dedication signed: A. A. A., i.e. Marie Pauline Rose, Baroness Blaze de Bury.]                                                         </span></td><td>A., A. A.                                                                                                                                                                                                   </td><td>http://www.flickr.com/photos/britishlibrary/tags/sysnum000000216                                                                                                                                            </td></tr>\n",
       "\t<tr><th scope=row>218</th><td>218                                                                                                                                                                                                         </td><td><span style=white-space:pre-wrap>London                  </span>                                                                                                                                            </td><td>1869                                                                                                                                                                                                        </td><td>Bradbury, Evans &amp; Co.                                                                                                                                                                                   </td><td><span style=white-space:pre-wrap>Love the Avenger. By the author of â€œAll for Greed.â€ [The dedication signed: A. A. A., i.e. Marie Pauline Rose, Baroness Blaze de Bury.]                         </span></td><td>A., A. A.                                                                                                                                                                                                   </td><td>http://www.flickr.com/photos/britishlibrary/tags/sysnum000000218                                                                                                                                            </td></tr>\n",
       "\t<tr><th scope=row>472</th><td>472                                                                                                                                                                 </td><td>London                                                                                                                                                              </td><td>1851                                                                                                                                                                </td><td>James Darling                                                                                                                                                       </td><td>Welsh Sketches, chiefly ecclesiastical, to the close of the twelfth century. By the author of â€œProposals for Christian Unionâ€ (E. S. A. [i.e. Ernest Appleyard])</td><td>A., E. S.                                                                                                                                                           </td><td>http://www.flickr.com/photos/britishlibrary/tags/sysnum000000472                                                                                                    </td></tr>\n",
       "\t<tr><th scope=row>480</th><td>480                                                                                                                                                                                                         </td><td><span style=white-space:pre-wrap>London                  </span>                                                                                                                                            </td><td>1857                                                                                                                                                                                                        </td><td>Wertheim &amp; Macintosh                                                                                                                                                                                    </td><td><span style=white-space:pre-wrap>[The World in which I live, and my place in it. By E. S. A. [i.e. Letitia Willgoss Stone.] Edited by ... J. H. Broome.]                                             </span></td><td>A., E. S.                                                                                                                                                                                                   </td><td>http://www.flickr.com/photos/britishlibrary/tags/sysnum000000480                                                                                                                                            </td></tr>\n",
       "</tbody>\n",
       "</table>\n"
      ],
      "text/latex": [
       "\\begin{tabular}{r|lllllll}\n",
       "  & Identifier & Place.of.Publication & Date.of.Publication & Publisher & Title & Author & Flickr.URL\\\\\n",
       "\\hline\n",
       "\t206 & 206                                                                                                                                                                      & London                                                                                                                                                                   & 1879                                                                                                                                                                     & S. Tinsley \\& Co.                                                                                                                                                       & Walter Forbes. {[}A novel.{]} By A. A                                                                                                                                    & A. A.                                                                                                                                                                    & http://www.flickr.com/photos/britishlibrary/tags/sysnum000000206                                                                                                        \\\\\n",
       "\t216 & 216                                                                                                                                                                      & London; Virtue \\& Yorston                                                                                                                                               & 1868                                                                                                                                                                     & Virtue \\& Co.                                                                                                                                                           & All for Greed. {[}A novel. The dedication signed: A. A. A., i.e. Marie Pauline Rose, Baroness Blaze de Bury.{]}                                                          & A., A. A.                                                                                                                                                                & http://www.flickr.com/photos/britishlibrary/tags/sysnum000000216                                                                                                        \\\\\n",
       "\t218 & 218                                                                                                                                                                      & London                                                                                                                                                                   & 1869                                                                                                                                                                     & Bradbury, Evans \\& Co.                                                                                                                                                  & Love the Avenger. By the author of â€œAll for Greed.â€ {[}The dedication signed: A. A. A., i.e. Marie Pauline Rose, Baroness Blaze de Bury.{]}                          & A., A. A.                                                                                                                                                                & http://www.flickr.com/photos/britishlibrary/tags/sysnum000000218                                                                                                        \\\\\n",
       "\t472 & 472                                                                                                                                                                      & London                                                                                                                                                                   & 1851                                                                                                                                                                     & James Darling                                                                                                                                                            & Welsh Sketches, chiefly ecclesiastical, to the close of the twelfth century. By the author of â€œProposals for Christian Unionâ€ (E. S. A. {[}i.e. Ernest Appleyard{]}) & A., E. S.                                                                                                                                                                & http://www.flickr.com/photos/britishlibrary/tags/sysnum000000472                                                                                                        \\\\\n",
       "\t480 & 480                                                                                                                                                                          & London                                                                                                                                                                       & 1857                                                                                                                                                                         & Wertheim \\& Macintosh                                                                                                                                                       & {[}The World in which I live, and my place in it. By E. S. A. {[}i.e. Letitia Willgoss Stone.{]} Edited by ... J. H. Broome.{]}                                              & A., E. S.                                                                                                                                                                    & http://www.flickr.com/photos/britishlibrary/tags/sysnum000000480                                                                                                            \\\\\n",
       "\\end{tabular}\n"
      ],
      "text/markdown": [
       "\n",
       "| <!--/--> | Identifier | Place.of.Publication | Date.of.Publication | Publisher | Title | Author | Flickr.URL | \n",
       "|---|---|---|---|---|\n",
       "| 206 | 206                                                                                                                                                                  | London                                                                                                                                                               | 1879                                                                                                                                                                 | S. Tinsley & Co.                                                                                                                                                     | Walter Forbes. [A novel.] By A. A                                                                                                                                    | A. A.                                                                                                                                                                | http://www.flickr.com/photos/britishlibrary/tags/sysnum000000206                                                                                                     | \n",
       "| 216 | 216                                                                                                                                                                  | London; Virtue & Yorston                                                                                                                                             | 1868                                                                                                                                                                 | Virtue & Co.                                                                                                                                                         | All for Greed. [A novel. The dedication signed: A. A. A., i.e. Marie Pauline Rose, Baroness Blaze de Bury.]                                                          | A., A. A.                                                                                                                                                            | http://www.flickr.com/photos/britishlibrary/tags/sysnum000000216                                                                                                     | \n",
       "| 218 | 218                                                                                                                                                                  | London                                                                                                                                                               | 1869                                                                                                                                                                 | Bradbury, Evans & Co.                                                                                                                                                | Love the Avenger. By the author of â€œAll for Greed.â€ [The dedication signed: A. A. A., i.e. Marie Pauline Rose, Baroness Blaze de Bury.]                          | A., A. A.                                                                                                                                                            | http://www.flickr.com/photos/britishlibrary/tags/sysnum000000218                                                                                                     | \n",
       "| 472 | 472                                                                                                                                                                  | London                                                                                                                                                               | 1851                                                                                                                                                                 | James Darling                                                                                                                                                        | Welsh Sketches, chiefly ecclesiastical, to the close of the twelfth century. By the author of â€œProposals for Christian Unionâ€ (E. S. A. [i.e. Ernest Appleyard]) | A., E. S.                                                                                                                                                            | http://www.flickr.com/photos/britishlibrary/tags/sysnum000000472                                                                                                     | \n",
       "| 480 | 480                                                                                                                                                                  | London                                                                                                                                                               | 1857                                                                                                                                                                 | Wertheim & Macintosh                                                                                                                                                 | [The World in which I live, and my place in it. By E. S. A. [i.e. Letitia Willgoss Stone.] Edited by ... J. H. Broome.]                                              | A., E. S.                                                                                                                                                            | http://www.flickr.com/photos/britishlibrary/tags/sysnum000000480                                                                                                     | \n",
       "\n",
       "\n"
      ],
      "text/plain": [
       "    Identifier Place.of.Publication     Date.of.Publication\n",
       "206 206        London                   1879               \n",
       "216 216        London; Virtue & Yorston 1868               \n",
       "218 218        London                   1869               \n",
       "472 472        London                   1851               \n",
       "480 480        London                   1857               \n",
       "    Publisher            \n",
       "206 S. Tinsley & Co.     \n",
       "216 Virtue & Co.         \n",
       "218 Bradbury, Evans & Co.\n",
       "472 James Darling        \n",
       "480 Wertheim & Macintosh \n",
       "    Title                                                                                                                                                               \n",
       "206 Walter Forbes. [A novel.] By A. A                                                                                                                                   \n",
       "216 All for Greed. [A novel. The dedication signed: A. A. A., i.e. Marie Pauline Rose, Baroness Blaze de Bury.]                                                         \n",
       "218 Love the Avenger. By the author of â\\200œAll for Greed.â\\200\\235 [The dedication signed: A. A. A., i.e. Marie Pauline Rose, Baroness Blaze de Bury.]                         \n",
       "472 Welsh Sketches, chiefly ecclesiastical, to the close of the twelfth century. By the author of â\\200œProposals for Christian Unionâ\\200\\235 (E. S. A. [i.e. Ernest Appleyard])\n",
       "480 [The World in which I live, and my place in it. By E. S. A. [i.e. Letitia Willgoss Stone.] Edited by ... J. H. Broome.]                                             \n",
       "    Author    Flickr.URL                                                      \n",
       "206 A. A.     http://www.flickr.com/photos/britishlibrary/tags/sysnum000000206\n",
       "216 A., A. A. http://www.flickr.com/photos/britishlibrary/tags/sysnum000000216\n",
       "218 A., A. A. http://www.flickr.com/photos/britishlibrary/tags/sysnum000000218\n",
       "472 A., E. S. http://www.flickr.com/photos/britishlibrary/tags/sysnum000000472\n",
       "480 A., E. S. http://www.flickr.com/photos/britishlibrary/tags/sysnum000000480"
      ]
     },
     "metadata": {},
     "output_type": "display_data"
    }
   ],
   "source": [
    "# In RegEx, this means <Selecting a digit four consecutive time, starting the begining of the text, while ignoring the bracket>\n",
    "# DEFINITELY USE https://regex101.com/ as to understand RegEx (Regular Expression)\n",
    "# https://stat545.com/block022_regular-expression.html\n",
    "# https://stackoverflow.com/questions/41611103/change-column-in-dataframe-based-on-regex-in-r\n",
    "# https://stackoverflow.com/questions/28037248/r-regex-to-extract-information-from-string\n",
    "\n",
    "require(\"stringr\")\n",
    "df$Date.of.Publication <- as.numeric(str_extract(df$Date.of.Publication, '^\\\\d{4}'))\n",
    "head(df,5) #Show how the values in Date.of.publication has changed"
   ]
  },
  {
   "cell_type": "code",
   "execution_count": 15,
   "metadata": {},
   "outputs": [
    {
     "data": {
      "text/html": [
       "0.11717147339206"
      ],
      "text/latex": [
       "0.11717147339206"
      ],
      "text/markdown": [
       "0.11717147339206"
      ],
      "text/plain": [
       "[1] 0.1171715"
      ]
     },
     "metadata": {},
     "output_type": "display_data"
    }
   ],
   "source": [
    "sum(is.na(df$Date.of.Publication))/nrow(df) # Show how many NA is there in the rows now."
   ]
  },
  {
   "cell_type": "code",
   "execution_count": 28,
   "metadata": {},
   "outputs": [
    {
     "data": {
      "text/html": [
       "<table>\n",
       "<thead><tr><th scope=col>Var1</th><th scope=col>Freq</th></tr></thead>\n",
       "<tbody>\n",
       "\t<tr><td>'s Gravenhage                                          </td><td>13                                                     </td></tr>\n",
       "\t<tr><td>'s Hertogenbosch                                       </td><td> 3                                                     </td></tr>\n",
       "\t<tr><td>] Appledore U.S. Press                                 </td><td> 1                                                     </td></tr>\n",
       "\t<tr><td>] Barth, printer, Wych Street, Strand                  </td><td> 1                                                     </td></tr>\n",
       "\t<tr><td>] Birmingham                                           </td><td> 1                                                     </td></tr>\n",
       "\t<tr><td>] Edinburgh                                            </td><td> 1                                                     </td></tr>\n",
       "\t<tr><td>1 3. Edinburgh                                         </td><td> 1                                                     </td></tr>\n",
       "\t<tr><td>1 3. Paris                                             </td><td> 1                                                     </td></tr>\n",
       "\t<tr><td>1814                                                   </td><td> 1                                                     </td></tr>\n",
       "\t<tr><td>1830?]                                                 </td><td> 1                                                     </td></tr>\n",
       "\t<tr><td>1845                                                   </td><td> 1                                                     </td></tr>\n",
       "\t<tr><td>1885?]                                                 </td><td> 1                                                     </td></tr>\n",
       "\t<tr><td>1895                                                   </td><td> 1                                                     </td></tr>\n",
       "\t<tr><td>2 Bd. Naumburg                                         </td><td> 1                                                     </td></tr>\n",
       "\t<tr><td>2 Bdchn. Berlin                                        </td><td> 1                                                     </td></tr>\n",
       "\t<tr><td>2 Ñ‚Ð¾Ð¼. Ð¡Ð°Ð½ÐºÑ‚Ð¿ÐµÑ‚ÐµÑ€Ð±ÑƒÑ€Ð³ÑŠ, 1867         </td><td> 1                                                     </td></tr>\n",
       "\t<tr><td>2 pt. Ð¡Ð°Ð½ÐºÑ‚Ð¿ÐµÑ‚ÐµÑ€Ð±ÑƒÑ€Ð³ÑŠ, 1853, 54         </td><td> 1                                                     </td></tr>\n",
       "\t<tr><td>2 Th. Helmstedt                                        </td><td> 1                                                     </td></tr>\n",
       "\t<tr><td>2 Thle. Frankfurt am Main, 1880, 8Âº                   </td><td> 1                                                     </td></tr>\n",
       "\t<tr><td><span style=white-space:pre-wrap>2 vol. W. Blackwood &amp; Sons: Edinburgh, 1888            </span></td><td> 2                                                                                                 </td></tr>\n",
       "\t<tr><td>3 series. Leamington                                   </td><td> 1                                                     </td></tr>\n",
       "\t<tr><td>3 vols. Edinburgh                                      </td><td> 1                                                     </td></tr>\n",
       "\t<tr><td>4 vol. The Century Co.: New York, 1887, 8Âº            </td><td> 1                                                     </td></tr>\n",
       "\t<tr><td>A. Green                                               </td><td> 1                                                     </td></tr>\n",
       "\t<tr><td>A. Millar                                              </td><td> 1                                                     </td></tr>\n",
       "\t<tr><td>A. Strahan                                             </td><td> 1                                                     </td></tr>\n",
       "\t<tr><td>A[ppledore]. P[rivate]. P[ress: New Haven, Conn.,] 1881</td><td> 1                                                     </td></tr>\n",
       "\t<tr><td>Aarau                                                  </td><td> 2                                                     </td></tr>\n",
       "\t<tr><td>Aaron                                                  </td><td> 1                                                     </td></tr>\n",
       "\t<tr><td>Abbeville                                              </td><td> 1                                                     </td></tr>\n",
       "\t<tr><td>...</td><td>...</td></tr>\n",
       "\t<tr><td>Windsor,]                      </td><td>1                              </td></tr>\n",
       "\t<tr><td>Winnipeg                       </td><td>1                              </td></tr>\n",
       "\t<tr><td>Winsted, Conn                  </td><td>1                              </td></tr>\n",
       "\t<tr><td>Winterthur                     </td><td>1                              </td></tr>\n",
       "\t<tr><td>Wirksworth                     </td><td>1                              </td></tr>\n",
       "\t<tr><td>Wirzburg                       </td><td>1                              </td></tr>\n",
       "\t<tr><td>Wisbech; Simpkin, Marshall &amp; Co</td><td>2                                  </td></tr>\n",
       "\t<tr><td>Woodbridge                     </td><td>2                              </td></tr>\n",
       "\t<tr><td>Woolwich                       </td><td>1                              </td></tr>\n",
       "\t<tr><td>Worcester, [Mass.]             </td><td>1                              </td></tr>\n",
       "\t<tr><td>Worcester, Mass                </td><td>1                              </td></tr>\n",
       "\t<tr><td>Worthing                       </td><td>1                              </td></tr>\n",
       "\t<tr><td>Wrexham                        </td><td>1                              </td></tr>\n",
       "\t<tr><td>Wrexham?]                      </td><td>1                              </td></tr>\n",
       "\t<tr><td>WuÌˆrzburg                     </td><td>2                              </td></tr>\n",
       "\t<tr><td>Wycombe                        </td><td>1                              </td></tr>\n",
       "\t<tr><td>xxu                            </td><td>3                              </td></tr>\n",
       "\t<tr><td>Yarmouth                       </td><td>2                              </td></tr>\n",
       "\t<tr><td>Yarmouth?]                     </td><td>1                              </td></tr>\n",
       "\t<tr><td>Yokohama                       </td><td>2                              </td></tr>\n",
       "\t<tr><td>York                           </td><td>8                              </td></tr>\n",
       "\t<tr><td>Yverdon                        </td><td>1                              </td></tr>\n",
       "\t<tr><td>Zacatecas                      </td><td>1                              </td></tr>\n",
       "\t<tr><td>Zalt Bommel, Nijmegen [printed]</td><td>1                              </td></tr>\n",
       "\t<tr><td>Zielenzig                      </td><td>1                              </td></tr>\n",
       "\t<tr><td>Znaim                          </td><td>1                              </td></tr>\n",
       "\t<tr><td>ZuÌˆrich                       </td><td>9                              </td></tr>\n",
       "\t<tr><td>ZuÌˆrich und Frauenfeld        </td><td>1                              </td></tr>\n",
       "\t<tr><td>Zurich                         </td><td>2                              </td></tr>\n",
       "\t<tr><td>Zutphen                        </td><td>1                              </td></tr>\n",
       "</tbody>\n",
       "</table>\n"
      ],
      "text/latex": [
       "\\begin{tabular}{r|ll}\n",
       " Var1 & Freq\\\\\n",
       "\\hline\n",
       "\t 's Gravenhage                                           & 13                                                     \\\\\n",
       "\t 's Hertogenbosch                                        &  3                                                     \\\\\n",
       "\t {]} Appledore U.S. Press                                  &  1                                                       \\\\\n",
       "\t {]} Barth, printer, Wych Street, Strand                   &  1                                                       \\\\\n",
       "\t {]} Birmingham                                            &  1                                                       \\\\\n",
       "\t {]} Edinburgh                                             &  1                                                       \\\\\n",
       "\t 1 3. Edinburgh                                          &  1                                                     \\\\\n",
       "\t 1 3. Paris                                              &  1                                                     \\\\\n",
       "\t 1814                                                    &  1                                                     \\\\\n",
       "\t 1830?{]}                                                  &  1                                                       \\\\\n",
       "\t 1845                                                    &  1                                                     \\\\\n",
       "\t 1885?{]}                                                  &  1                                                       \\\\\n",
       "\t 1895                                                    &  1                                                     \\\\\n",
       "\t 2 Bd. Naumburg                                          &  1                                                     \\\\\n",
       "\t 2 Bdchn. Berlin                                         &  1                                                     \\\\\n",
       "\t 2 Ñ‚Ð¾Ð¼. Ð¡Ð°Ð½ÐºÑ‚Ð¿ÐµÑ‚ÐµÑ€Ð±ÑƒÑ€Ð³ÑŠ, 1867          &  1                                                     \\\\\n",
       "\t 2 pt. Ð¡Ð°Ð½ÐºÑ‚Ð¿ÐµÑ‚ÐµÑ€Ð±ÑƒÑ€Ð³ÑŠ, 1853, 54          &  1                                                     \\\\\n",
       "\t 2 Th. Helmstedt                                         &  1                                                     \\\\\n",
       "\t 2 Thle. Frankfurt am Main, 1880, 8Âº                    &  1                                                     \\\\\n",
       "\t 2 vol. W. Blackwood \\& Sons: Edinburgh, 1888             &  2                                                       \\\\\n",
       "\t 3 series. Leamington                                    &  1                                                     \\\\\n",
       "\t 3 vols. Edinburgh                                       &  1                                                     \\\\\n",
       "\t 4 vol. The Century Co.: New York, 1887, 8Âº             &  1                                                     \\\\\n",
       "\t A. Green                                                &  1                                                     \\\\\n",
       "\t A. Millar                                               &  1                                                     \\\\\n",
       "\t A. Strahan                                              &  1                                                     \\\\\n",
       "\t A{[}ppledore{]}. P{[}rivate{]}. P{[}ress: New Haven, Conn.,{]} 1881 &  1                                                                 \\\\\n",
       "\t Aarau                                                   &  2                                                     \\\\\n",
       "\t Aaron                                                   &  1                                                     \\\\\n",
       "\t Abbeville                                               &  1                                                     \\\\\n",
       "\t ... & ...\\\\\n",
       "\t Windsor,{]}                       & 1                                \\\\\n",
       "\t Winnipeg                        & 1                              \\\\\n",
       "\t Winsted, Conn                   & 1                              \\\\\n",
       "\t Winterthur                      & 1                              \\\\\n",
       "\t Wirksworth                      & 1                              \\\\\n",
       "\t Wirzburg                        & 1                              \\\\\n",
       "\t Wisbech; Simpkin, Marshall \\& Co & 2                                \\\\\n",
       "\t Woodbridge                      & 2                              \\\\\n",
       "\t Woolwich                        & 1                              \\\\\n",
       "\t Worcester, {[}Mass.{]}              & 1                                  \\\\\n",
       "\t Worcester, Mass                 & 1                              \\\\\n",
       "\t Worthing                        & 1                              \\\\\n",
       "\t Wrexham                         & 1                              \\\\\n",
       "\t Wrexham?{]}                       & 1                                \\\\\n",
       "\t WuÌˆrzburg                      & 2                              \\\\\n",
       "\t Wycombe                         & 1                              \\\\\n",
       "\t xxu                             & 3                              \\\\\n",
       "\t Yarmouth                        & 2                              \\\\\n",
       "\t Yarmouth?{]}                      & 1                                \\\\\n",
       "\t Yokohama                        & 2                              \\\\\n",
       "\t York                            & 8                              \\\\\n",
       "\t Yverdon                         & 1                              \\\\\n",
       "\t Zacatecas                       & 1                              \\\\\n",
       "\t Zalt Bommel, Nijmegen {[}printed{]} & 1                                  \\\\\n",
       "\t Zielenzig                       & 1                              \\\\\n",
       "\t Znaim                           & 1                              \\\\\n",
       "\t ZuÌˆrich                        & 9                              \\\\\n",
       "\t ZuÌˆrich und Frauenfeld         & 1                              \\\\\n",
       "\t Zurich                          & 2                              \\\\\n",
       "\t Zutphen                         & 1                              \\\\\n",
       "\\end{tabular}\n"
      ],
      "text/markdown": [
       "\n",
       "Var1 | Freq | \n",
       "|---|---|---|---|---|---|---|---|---|---|---|---|---|---|---|---|---|---|---|---|---|---|---|---|---|---|---|---|---|---|---|---|---|---|---|---|---|---|---|---|---|---|---|---|---|---|---|---|---|---|---|---|---|---|---|---|---|---|---|---|---|\n",
       "| 's Gravenhage                                           | 13                                                      | \n",
       "| 's Hertogenbosch                                        |  3                                                      | \n",
       "| ] Appledore U.S. Press                                  |  1                                                      | \n",
       "| ] Barth, printer, Wych Street, Strand                   |  1                                                      | \n",
       "| ] Birmingham                                            |  1                                                      | \n",
       "| ] Edinburgh                                             |  1                                                      | \n",
       "| 1 3. Edinburgh                                          |  1                                                      | \n",
       "| 1 3. Paris                                              |  1                                                      | \n",
       "| 1814                                                    |  1                                                      | \n",
       "| 1830?]                                                  |  1                                                      | \n",
       "| 1845                                                    |  1                                                      | \n",
       "| 1885?]                                                  |  1                                                      | \n",
       "| 1895                                                    |  1                                                      | \n",
       "| 2 Bd. Naumburg                                          |  1                                                      | \n",
       "| 2 Bdchn. Berlin                                         |  1                                                      | \n",
       "| 2 Ñ‚Ð¾Ð¼. Ð¡Ð°Ð½ÐºÑ‚Ð¿ÐµÑ‚ÐµÑ€Ð±ÑƒÑ€Ð³ÑŠ, 1867          |  1                                                      | \n",
       "| 2 pt. Ð¡Ð°Ð½ÐºÑ‚Ð¿ÐµÑ‚ÐµÑ€Ð±ÑƒÑ€Ð³ÑŠ, 1853, 54          |  1                                                      | \n",
       "| 2 Th. Helmstedt                                         |  1                                                      | \n",
       "| 2 Thle. Frankfurt am Main, 1880, 8Âº                    |  1                                                      | \n",
       "| 2 vol. W. Blackwood & Sons: Edinburgh, 1888             |  2                                                      | \n",
       "| 3 series. Leamington                                    |  1                                                      | \n",
       "| 3 vols. Edinburgh                                       |  1                                                      | \n",
       "| 4 vol. The Century Co.: New York, 1887, 8Âº             |  1                                                      | \n",
       "| A. Green                                                |  1                                                      | \n",
       "| A. Millar                                               |  1                                                      | \n",
       "| A. Strahan                                              |  1                                                      | \n",
       "| A[ppledore]. P[rivate]. P[ress: New Haven, Conn.,] 1881 |  1                                                      | \n",
       "| Aarau                                                   |  2                                                      | \n",
       "| Aaron                                                   |  1                                                      | \n",
       "| Abbeville                                               |  1                                                      | \n",
       "| ... | ... | \n",
       "| Windsor,]                       | 1                               | \n",
       "| Winnipeg                        | 1                               | \n",
       "| Winsted, Conn                   | 1                               | \n",
       "| Winterthur                      | 1                               | \n",
       "| Wirksworth                      | 1                               | \n",
       "| Wirzburg                        | 1                               | \n",
       "| Wisbech; Simpkin, Marshall & Co | 2                               | \n",
       "| Woodbridge                      | 2                               | \n",
       "| Woolwich                        | 1                               | \n",
       "| Worcester, [Mass.]              | 1                               | \n",
       "| Worcester, Mass                 | 1                               | \n",
       "| Worthing                        | 1                               | \n",
       "| Wrexham                         | 1                               | \n",
       "| Wrexham?]                       | 1                               | \n",
       "| WuÌˆrzburg                      | 2                               | \n",
       "| Wycombe                         | 1                               | \n",
       "| xxu                             | 3                               | \n",
       "| Yarmouth                        | 2                               | \n",
       "| Yarmouth?]                      | 1                               | \n",
       "| Yokohama                        | 2                               | \n",
       "| York                            | 8                               | \n",
       "| Yverdon                         | 1                               | \n",
       "| Zacatecas                       | 1                               | \n",
       "| Zalt Bommel, Nijmegen [printed] | 1                               | \n",
       "| Zielenzig                       | 1                               | \n",
       "| Znaim                           | 1                               | \n",
       "| ZuÌˆrich                        | 9                               | \n",
       "| ZuÌˆrich und Frauenfeld         | 1                               | \n",
       "| Zurich                          | 2                               | \n",
       "| Zutphen                         | 1                               | \n",
       "\n",
       "\n"
      ],
      "text/plain": [
       "     Var1                                                    Freq\n",
       "1    's Gravenhage                                           13  \n",
       "2    's Hertogenbosch                                         3  \n",
       "3    ] Appledore U.S. Press                                   1  \n",
       "4    ] Barth, printer, Wych Street, Strand                    1  \n",
       "5    ] Birmingham                                             1  \n",
       "6    ] Edinburgh                                              1  \n",
       "7    1 3. Edinburgh                                           1  \n",
       "8    1 3. Paris                                               1  \n",
       "9    1814                                                     1  \n",
       "10   1830?]                                                   1  \n",
       "11   1845                                                     1  \n",
       "12   1885?]                                                   1  \n",
       "13   1895                                                     1  \n",
       "14   2 Bd. Naumburg                                           1  \n",
       "15   2 Bdchn. Berlin                                          1  \n",
       "16   2 Ñ‚Ð¾Ð¼. Ð¡Ð°Ð½ÐºÑ‚Ð¿ÐµÑ‚ÐµÑ\\200Ð±ÑƒÑ\\200Ð³ÑŠ, 1867           1  \n",
       "17   2 pt. Ð¡Ð°Ð½ÐºÑ‚Ð¿ÐµÑ‚ÐµÑ\\200Ð±ÑƒÑ\\200Ð³ÑŠ, 1853, 54           1  \n",
       "18   2 Th. Helmstedt                                          1  \n",
       "19   2 Thle. Frankfurt am Main, 1880, 8Âº                     1  \n",
       "20   2 vol. W. Blackwood & Sons: Edinburgh, 1888              2  \n",
       "21   3 series. Leamington                                     1  \n",
       "22   3 vols. Edinburgh                                        1  \n",
       "23   4 vol. The Century Co.: New York, 1887, 8Âº              1  \n",
       "24   A. Green                                                 1  \n",
       "25   A. Millar                                                1  \n",
       "26   A. Strahan                                               1  \n",
       "27   A[ppledore]. P[rivate]. P[ress: New Haven, Conn.,] 1881  1  \n",
       "28   Aarau                                                    2  \n",
       "29   Aaron                                                    1  \n",
       "30   Abbeville                                                1  \n",
       "...  ...                                                     ... \n",
       "1157 Windsor,]                                               1   \n",
       "1158 Winnipeg                                                1   \n",
       "1159 Winsted, Conn                                           1   \n",
       "1160 Winterthur                                              1   \n",
       "1161 Wirksworth                                              1   \n",
       "1162 Wirzburg                                                1   \n",
       "1163 Wisbech; Simpkin, Marshall & Co                         2   \n",
       "1164 Woodbridge                                              2   \n",
       "1165 Woolwich                                                1   \n",
       "1166 Worcester, [Mass.]                                      1   \n",
       "1167 Worcester, Mass                                         1   \n",
       "1168 Worthing                                                1   \n",
       "1169 Wrexham                                                 1   \n",
       "1170 Wrexham?]                                               1   \n",
       "1171 WuÌ\\210rzburg                                              2   \n",
       "1172 Wycombe                                                 1   \n",
       "1173 xxu                                                     3   \n",
       "1174 Yarmouth                                                2   \n",
       "1175 Yarmouth?]                                              1   \n",
       "1176 Yokohama                                                2   \n",
       "1177 York                                                    8   \n",
       "1178 Yverdon                                                 1   \n",
       "1179 Zacatecas                                               1   \n",
       "1180 Zalt Bommel, Nijmegen [printed]                         1   \n",
       "1181 Zielenzig                                               1   \n",
       "1182 Znaim                                                   1   \n",
       "1183 ZuÌ\\210rich                                                9   \n",
       "1184 ZuÌ\\210rich und Frauenfeld                                 1   \n",
       "1185 Zurich                                                  2   \n",
       "1186 Zutphen                                                 1   "
      ]
     },
     "metadata": {},
     "output_type": "display_data"
    }
   ],
   "source": [
    "# Let's try to standardize the Place of Publication. Let's try to see what kind of values are thereself.\n",
    "as.data.frame(table(df$Place.of.Publication)) #table by itself is not graphically pleasant"
   ]
  },
  {
   "cell_type": "code",
   "execution_count": 26,
   "metadata": {},
   "outputs": [
    {
     "data": {
      "text/html": [
       "<table>\n",
       "<thead><tr><th></th><th scope=col>Place.of.Publication</th></tr></thead>\n",
       "<tbody>\n",
       "\t<tr><th scope=row>1808</th><td>Christiania                       </td></tr>\n",
       "\t<tr><th scope=row>3017</th><td>Puerto Rico                       </td></tr>\n",
       "\t<tr><th scope=row>11852</th><td>pp. 40. W. Cann: Plymouth, [1876?]</td></tr>\n",
       "\t<tr><th scope=row>19340</th><td>St. Petersburg                    </td></tr>\n",
       "\t<tr><th scope=row>28615</th><td>Carlstad, Stockholm               </td></tr>\n",
       "\t<tr><th scope=row>33833</th><td><span style=white-space:pre-wrap>D. Appleton &amp; Co                  </span></td></tr>\n",
       "</tbody>\n",
       "</table>\n"
      ],
      "text/latex": [
       "\\begin{tabular}{r|l}\n",
       "  & Place.of.Publication\\\\\n",
       "\\hline\n",
       "\t1808 & Christiania                       \\\\\n",
       "\t3017 & Puerto Rico                       \\\\\n",
       "\t11852 & pp. 40. W. Cann: Plymouth, {[}1876?{]}\\\\\n",
       "\t19340 & St. Petersburg                    \\\\\n",
       "\t28615 & Carlstad, Stockholm               \\\\\n",
       "\t33833 & D. Appleton \\& Co                  \\\\\n",
       "\\end{tabular}\n"
      ],
      "text/markdown": [
       "\n",
       "| <!--/--> | Place.of.Publication | \n",
       "|---|---|---|---|---|---|\n",
       "| 1808 | Christiania                        | \n",
       "| 3017 | Puerto Rico                        | \n",
       "| 11852 | pp. 40. W. Cann: Plymouth, [1876?] | \n",
       "| 19340 | St. Petersburg                     | \n",
       "| 28615 | Carlstad, Stockholm                | \n",
       "| 33833 | D. Appleton & Co                   | \n",
       "\n",
       "\n"
      ],
      "text/plain": [
       "      Place.of.Publication              \n",
       "1808  Christiania                       \n",
       "3017  Puerto Rico                       \n",
       "11852 pp. 40. W. Cann: Plymouth, [1876?]\n",
       "19340 St. Petersburg                    \n",
       "28615 Carlstad, Stockholm               \n",
       "33833 D. Appleton & Co                  "
      ]
     },
     "metadata": {},
     "output_type": "display_data"
    }
   ],
   "source": [
    "df_long_place <- subset(df,nchar(df$Place.of.Publication) > 10)\n",
    "head(df_long_place[\"Place.of.Publication\"], 6)\n",
    "# It's a mess, but at least we know that London is in a lot of those."
   ]
  },
  {
   "cell_type": "code",
   "execution_count": 17,
   "metadata": {},
   "outputs": [
    {
     "data": {
      "text/html": [
       "<table>\n",
       "<thead><tr><th></th><th scope=col>Place.of.Publication</th><th scope=col>Publisher</th></tr></thead>\n",
       "<tbody>\n",
       "\t<tr><th scope=row>206</th><td>London                                                           </td><td><span style=white-space:pre-wrap>S. Tinsley &amp; Co.     </span></td></tr>\n",
       "\t<tr><th scope=row>216</th><td>London                                                           </td><td><span style=white-space:pre-wrap>Virtue &amp; Co.         </span></td></tr>\n",
       "\t<tr><th scope=row>218</th><td>London                   </td><td>Bradbury, Evans &amp; Co.</td></tr>\n",
       "\t<tr><th scope=row>472</th><td>London               </td><td>James Darling        </td></tr>\n",
       "\t<tr><th scope=row>480</th><td>London                   </td><td>Wertheim &amp; Macintosh </td></tr>\n",
       "\t<tr><th scope=row>481</th><td>London               </td><td>William Macintosh    </td></tr>\n",
       "\t<tr><th scope=row>519</th><td>London               </td><td>The Author           </td></tr>\n",
       "\t<tr><th scope=row>667</th><td>Oxford               </td><td>                     </td></tr>\n",
       "\t<tr><th scope=row>874</th><td>London               </td><td>                     </td></tr>\n",
       "\t<tr><th scope=row>1143</th><td>London               </td><td>                     </td></tr>\n",
       "</tbody>\n",
       "</table>\n"
      ],
      "text/latex": [
       "\\begin{tabular}{r|ll}\n",
       "  & Place.of.Publication & Publisher\\\\\n",
       "\\hline\n",
       "\t206 & London                  & S. Tinsley \\& Co.     \\\\\n",
       "\t216 & London                  & Virtue \\& Co.         \\\\\n",
       "\t218 & London                  & Bradbury, Evans \\& Co.\\\\\n",
       "\t472 & London                & James Darling        \\\\\n",
       "\t480 & London                  & Wertheim \\& Macintosh \\\\\n",
       "\t481 & London                & William Macintosh    \\\\\n",
       "\t519 & London                & The Author           \\\\\n",
       "\t667 & Oxford                &                      \\\\\n",
       "\t874 & London                &                      \\\\\n",
       "\t1143 & London                &                      \\\\\n",
       "\\end{tabular}\n"
      ],
      "text/markdown": [
       "\n",
       "| <!--/--> | Place.of.Publication | Publisher | \n",
       "|---|---|---|---|---|---|---|---|---|---|\n",
       "| 206 | London                | S. Tinsley & Co.      | \n",
       "| 216 | London                | Virtue & Co.          | \n",
       "| 218 | London                | Bradbury, Evans & Co. | \n",
       "| 472 | London                | James Darling         | \n",
       "| 480 | London                | Wertheim & Macintosh  | \n",
       "| 481 | London                | William Macintosh     | \n",
       "| 519 | London                | The Author            | \n",
       "| 667 | Oxford                |                       | \n",
       "| 874 | London                |                       | \n",
       "| 1143 | London                |                       | \n",
       "\n",
       "\n"
      ],
      "text/plain": [
       "     Place.of.Publication Publisher            \n",
       "206  London               S. Tinsley & Co.     \n",
       "216  London               Virtue & Co.         \n",
       "218  London               Bradbury, Evans & Co.\n",
       "472  London               James Darling        \n",
       "480  London               Wertheim & Macintosh \n",
       "481  London               William Macintosh    \n",
       "519  London               The Author           \n",
       "667  Oxford                                    \n",
       "874  London                                    \n",
       "1143 London                                    "
      ]
     },
     "metadata": {},
     "output_type": "display_data"
    }
   ],
   "source": [
    "# I HAVE NOT DONE THE SAME IN PYTHON - WILL DO LATER\n",
    "\n",
    "london_filter = str_detect(df$Place.of.Publication,\"London\")\n",
    "oxford_filter = str_detect(df$Place.of.Publication,\"Oxford\")\n",
    "# detect whether \"London is present in that cell\" -> Turn into a boolean vector/mask\n",
    "\n",
    "# library(tictoc) // Commenting this out first because it's not necessary to time it yet.\n",
    "# tic()\n",
    "\n",
    "df$Place.of.Publication <-ifelse(london_filter, \"London\", ifelse(oxford_filter,\"Oxford\",str_replace_all(df$Place.of.Publication,'-', ' ')))\n",
    "#Filter the larger one first, then use the construction [[\"name here\"]] to get to the column.\n",
    "# Case_when using dplyr can be just as good.\n",
    "\n",
    "# toc() // Can save the time in a variable for outputting later\n",
    "\n",
    "head(df[,c('Place.of.Publication','Publisher')],10)"
   ]
  },
  {
   "cell_type": "code",
   "execution_count": 18,
   "metadata": {},
   "outputs": [
    {
     "data": {
      "text/html": [
       "<table>\n",
       "<thead><tr><th scope=col>X0</th><th scope=col>X1</th><th scope=col>X2</th><th scope=col>X3</th><th scope=col>X4</th><th scope=col>X5</th><th scope=col>X6</th><th scope=col>X7</th><th scope=col>X8</th><th scope=col>X9</th><th scope=col>X10</th><th scope=col>X11</th><th scope=col>X12</th><th scope=col>X13</th><th scope=col>X14</th><th scope=col>X15</th></tr></thead>\n",
       "<tbody>\n",
       "\t<tr><td>                 </td><td>? Summer         </td><td>01 !             </td><td>02 !             </td><td>03 !             </td><td>Total            </td><td>? Winter         </td><td>01 !             </td><td>02 !             </td><td>03 !             </td><td>Total            </td><td>? Games          </td><td>01 !             </td><td>02 !             </td><td>03 !             </td><td>Combined total   </td></tr>\n",
       "\t<tr><td>Afghanistan (AFG)</td><td>13               </td><td>0                </td><td>0                </td><td>2                </td><td>2                </td><td>0                </td><td>0                </td><td>0                </td><td>0                </td><td>0                </td><td>13               </td><td>0                </td><td>0                </td><td>2                </td><td>2                </td></tr>\n",
       "\t<tr><td>Algeria (ALG)    </td><td>12               </td><td>5                </td><td>2                </td><td>8                </td><td>15               </td><td>3                </td><td>0                </td><td>0                </td><td>0                </td><td>0                </td><td>15               </td><td>5                </td><td>2                </td><td>8                </td><td>15               </td></tr>\n",
       "\t<tr><td>Argentina (ARG)  </td><td>23               </td><td>18               </td><td>24               </td><td>28               </td><td>70               </td><td>18               </td><td>0                </td><td>0                </td><td>0                </td><td>0                </td><td>41               </td><td>18               </td><td>24               </td><td>28               </td><td>70               </td></tr>\n",
       "\t<tr><td>Armenia (ARM)    </td><td>5                </td><td>1                </td><td>2                </td><td>9                </td><td>12               </td><td>6                </td><td>0                </td><td>0                </td><td>0                </td><td>0                </td><td>11               </td><td>1                </td><td>2                </td><td>9                </td><td>12               </td></tr>\n",
       "</tbody>\n",
       "</table>\n"
      ],
      "text/latex": [
       "\\begin{tabular}{r|llllllllllllllll}\n",
       " X0 & X1 & X2 & X3 & X4 & X5 & X6 & X7 & X8 & X9 & X10 & X11 & X12 & X13 & X14 & X15\\\\\n",
       "\\hline\n",
       "\t                   & ? Summer          & 01 !              & 02 !              & 03 !              & Total             & ? Winter          & 01 !              & 02 !              & 03 !              & Total             & ? Games           & 01 !              & 02 !              & 03 !              & Combined total   \\\\\n",
       "\t Afghanistan (AFG) & 13                & 0                 & 0                 & 2                 & 2                 & 0                 & 0                 & 0                 & 0                 & 0                 & 13                & 0                 & 0                 & 2                 & 2                \\\\\n",
       "\t Algeria (ALG)     & 12                & 5                 & 2                 & 8                 & 15                & 3                 & 0                 & 0                 & 0                 & 0                 & 15                & 5                 & 2                 & 8                 & 15               \\\\\n",
       "\t Argentina (ARG)   & 23                & 18                & 24                & 28                & 70                & 18                & 0                 & 0                 & 0                 & 0                 & 41                & 18                & 24                & 28                & 70               \\\\\n",
       "\t Armenia (ARM)     & 5                 & 1                 & 2                 & 9                 & 12                & 6                 & 0                 & 0                 & 0                 & 0                 & 11                & 1                 & 2                 & 9                 & 12               \\\\\n",
       "\\end{tabular}\n"
      ],
      "text/markdown": [
       "\n",
       "X0 | X1 | X2 | X3 | X4 | X5 | X6 | X7 | X8 | X9 | X10 | X11 | X12 | X13 | X14 | X15 | \n",
       "|---|---|---|---|---|\n",
       "|                   | ? Summer          | 01 !              | 02 !              | 03 !              | Total             | ? Winter          | 01 !              | 02 !              | 03 !              | Total             | ? Games           | 01 !              | 02 !              | 03 !              | Combined total    | \n",
       "| Afghanistan (AFG) | 13                | 0                 | 0                 | 2                 | 2                 | 0                 | 0                 | 0                 | 0                 | 0                 | 13                | 0                 | 0                 | 2                 | 2                 | \n",
       "| Algeria (ALG)     | 12                | 5                 | 2                 | 8                 | 15                | 3                 | 0                 | 0                 | 0                 | 0                 | 15                | 5                 | 2                 | 8                 | 15                | \n",
       "| Argentina (ARG)   | 23                | 18                | 24                | 28                | 70                | 18                | 0                 | 0                 | 0                 | 0                 | 41                | 18                | 24                | 28                | 70                | \n",
       "| Armenia (ARM)     | 5                 | 1                 | 2                 | 9                 | 12                | 6                 | 0                 | 0                 | 0                 | 0                 | 11                | 1                 | 2                 | 9                 | 12                | \n",
       "\n",
       "\n"
      ],
      "text/plain": [
       "  X0                X1       X2   X3   X4   X5    X6       X7   X8   X9   X10  \n",
       "1                   ? Summer 01 ! 02 ! 03 ! Total ? Winter 01 ! 02 ! 03 ! Total\n",
       "2 Afghanistan (AFG) 13       0    0    2    2     0        0    0    0    0    \n",
       "3 Algeria (ALG)     12       5    2    8    15    3        0    0    0    0    \n",
       "4 Argentina (ARG)   23       18   24   28   70    18       0    0    0    0    \n",
       "5 Armenia (ARM)     5        1    2    9    12    6        0    0    0    0    \n",
       "  X11     X12  X13  X14  X15           \n",
       "1 ? Games 01 ! 02 ! 03 ! Combined total\n",
       "2 13      0    0    2    2             \n",
       "3 15      5    2    8    15            \n",
       "4 41      18   24   28   70            \n",
       "5 11      1    2    9    12            "
      ]
     },
     "metadata": {},
     "output_type": "display_data"
    }
   ],
   "source": [
    "# At first, the starts one step above everything -> Column names do not match.\n",
    "df2 = read.csv(\"olympics.csv\", header= TRUE)\n",
    "head(df2, 5)"
   ]
  },
  {
   "cell_type": "code",
   "execution_count": 19,
   "metadata": {},
   "outputs": [
    {
     "data": {
      "text/html": [
       "<table>\n",
       "<thead><tr><th scope=col>X</th><th scope=col>X..Summer</th><th scope=col>X01..</th><th scope=col>X02..</th><th scope=col>X03..</th><th scope=col>Total</th><th scope=col>X..Winter</th><th scope=col>X01...1</th><th scope=col>X02...1</th><th scope=col>X03...1</th><th scope=col>Total.1</th><th scope=col>X..Games</th><th scope=col>X01...2</th><th scope=col>X02...2</th><th scope=col>X03...2</th><th scope=col>Combined.total</th></tr></thead>\n",
       "<tbody>\n",
       "\t<tr><td>Afghanistan (AFG)</td><td>13               </td><td>0                </td><td>0                </td><td>2                </td><td> 2               </td><td>0                </td><td>0                </td><td>0                </td><td>0                </td><td>0                </td><td>13               </td><td>0                </td><td>0                </td><td>2                </td><td> 2               </td></tr>\n",
       "\t<tr><td>Algeria (ALG)    </td><td>12               </td><td>5                </td><td>2                </td><td>8                </td><td>15               </td><td>3                </td><td>0                </td><td>0                </td><td>0                </td><td>0                </td><td>15               </td><td>5                </td><td>2                </td><td>8                </td><td>15               </td></tr>\n",
       "</tbody>\n",
       "</table>\n"
      ],
      "text/latex": [
       "\\begin{tabular}{r|llllllllllllllll}\n",
       " X & X..Summer & X01.. & X02.. & X03.. & Total & X..Winter & X01...1 & X02...1 & X03...1 & Total.1 & X..Games & X01...2 & X02...2 & X03...2 & Combined.total\\\\\n",
       "\\hline\n",
       "\t Afghanistan (AFG) & 13                & 0                 & 0                 & 2                 &  2                & 0                 & 0                 & 0                 & 0                 & 0                 & 13                & 0                 & 0                 & 2                 &  2               \\\\\n",
       "\t Algeria (ALG)     & 12                & 5                 & 2                 & 8                 & 15                & 3                 & 0                 & 0                 & 0                 & 0                 & 15                & 5                 & 2                 & 8                 & 15               \\\\\n",
       "\\end{tabular}\n"
      ],
      "text/markdown": [
       "\n",
       "X | X..Summer | X01.. | X02.. | X03.. | Total | X..Winter | X01...1 | X02...1 | X03...1 | Total.1 | X..Games | X01...2 | X02...2 | X03...2 | Combined.total | \n",
       "|---|---|\n",
       "| Afghanistan (AFG) | 13                | 0                 | 0                 | 2                 |  2                | 0                 | 0                 | 0                 | 0                 | 0                 | 13                | 0                 | 0                 | 2                 |  2                | \n",
       "| Algeria (ALG)     | 12                | 5                 | 2                 | 8                 | 15                | 3                 | 0                 | 0                 | 0                 | 0                 | 15                | 5                 | 2                 | 8                 | 15                | \n",
       "\n",
       "\n"
      ],
      "text/plain": [
       "  X                 X..Summer X01.. X02.. X03.. Total X..Winter X01...1 X02...1\n",
       "1 Afghanistan (AFG) 13        0     0     2      2    0         0       0      \n",
       "2 Algeria (ALG)     12        5     2     8     15    3         0       0      \n",
       "  X03...1 Total.1 X..Games X01...2 X02...2 X03...2 Combined.total\n",
       "1 0       0       13       0       0       2        2            \n",
       "2 0       0       15       5       2       8       15            "
      ]
     },
     "metadata": {},
     "output_type": "display_data"
    }
   ],
   "source": [
    "# Skip one line so that it matches\n",
    "df2 = read.csv(\"olympics.csv\", header= TRUE,sep = \",\", skip=1)\n",
    "head(df2, 2)"
   ]
  },
  {
   "cell_type": "code",
   "execution_count": 20,
   "metadata": {},
   "outputs": [
    {
     "data": {
      "text/html": [
       "<table>\n",
       "<thead><tr><th scope=col>Country</th><th scope=col>Summer</th><th scope=col>Gold</th><th scope=col>Silver</th><th scope=col>Bronze</th><th scope=col>Total</th><th scope=col>Winter_Olympics</th><th scope=col>Gold_W</th><th scope=col>Silver_W</th><th scope=col>Bronze_W</th><th scope=col>Total.1</th><th scope=col>Number of Games</th><th scope=col>Gold_G</th><th scope=col>Silver_G</th><th scope=col>Bronze_G</th><th scope=col>Combined.total</th></tr></thead>\n",
       "<tbody>\n",
       "\t<tr><td>Afghanistan (AFG)      </td><td>13                     </td><td> 0                     </td><td> 0                     </td><td> 2                     </td><td> 2                     </td><td> 0                     </td><td>0                      </td><td>0                      </td><td>0                      </td><td>0                      </td><td>13                     </td><td> 0                     </td><td> 0                     </td><td> 2                     </td><td> 2                     </td></tr>\n",
       "\t<tr><td>Algeria (ALG)          </td><td>12                     </td><td> 5                     </td><td> 2                     </td><td> 8                     </td><td>15                     </td><td> 3                     </td><td>0                      </td><td>0                      </td><td>0                      </td><td>0                      </td><td>15                     </td><td> 5                     </td><td> 2                     </td><td> 8                     </td><td>15                     </td></tr>\n",
       "\t<tr><td>Argentina (ARG)        </td><td>23                     </td><td>18                     </td><td>24                     </td><td>28                     </td><td>70                     </td><td>18                     </td><td>0                      </td><td>0                      </td><td>0                      </td><td>0                      </td><td>41                     </td><td>18                     </td><td>24                     </td><td>28                     </td><td>70                     </td></tr>\n",
       "\t<tr><td>Armenia (ARM)          </td><td> 5                     </td><td> 1                     </td><td> 2                     </td><td> 9                     </td><td>12                     </td><td> 6                     </td><td>0                      </td><td>0                      </td><td>0                      </td><td>0                      </td><td>11                     </td><td> 1                     </td><td> 2                     </td><td> 9                     </td><td>12                     </td></tr>\n",
       "\t<tr><td>Australasia (ANZ) [ANZ]</td><td> 2                     </td><td> 3                     </td><td> 4                     </td><td> 5                     </td><td>12                     </td><td> 0                     </td><td>0                      </td><td>0                      </td><td>0                      </td><td>0                      </td><td> 2                     </td><td> 3                     </td><td> 4                     </td><td> 5                     </td><td>12                     </td></tr>\n",
       "</tbody>\n",
       "</table>\n"
      ],
      "text/latex": [
       "\\begin{tabular}{r|llllllllllllllll}\n",
       " Country & Summer & Gold & Silver & Bronze & Total & Winter\\_Olympics & Gold\\_W & Silver\\_W & Bronze\\_W & Total.1 & Number of Games & Gold\\_G & Silver\\_G & Bronze\\_G & Combined.total\\\\\n",
       "\\hline\n",
       "\t Afghanistan (AFG)       & 13                      &  0                      &  0                      &  2                      &  2                      &  0                      & 0                       & 0                       & 0                       & 0                       & 13                      &  0                      &  0                      &  2                      &  2                     \\\\\n",
       "\t Algeria (ALG)           & 12                      &  5                      &  2                      &  8                      & 15                      &  3                      & 0                       & 0                       & 0                       & 0                       & 15                      &  5                      &  2                      &  8                      & 15                     \\\\\n",
       "\t Argentina (ARG)         & 23                      & 18                      & 24                      & 28                      & 70                      & 18                      & 0                       & 0                       & 0                       & 0                       & 41                      & 18                      & 24                      & 28                      & 70                     \\\\\n",
       "\t Armenia (ARM)           &  5                      &  1                      &  2                      &  9                      & 12                      &  6                      & 0                       & 0                       & 0                       & 0                       & 11                      &  1                      &  2                      &  9                      & 12                     \\\\\n",
       "\t Australasia (ANZ) {[}ANZ{]} &  2                          &  3                          &  4                          &  5                          & 12                          &  0                          & 0                           & 0                           & 0                           & 0                           &  2                          &  3                          &  4                          &  5                          & 12                         \\\\\n",
       "\\end{tabular}\n"
      ],
      "text/markdown": [
       "\n",
       "Country | Summer | Gold | Silver | Bronze | Total | Winter_Olympics | Gold_W | Silver_W | Bronze_W | Total.1 | Number of Games | Gold_G | Silver_G | Bronze_G | Combined.total | \n",
       "|---|---|---|---|---|\n",
       "| Afghanistan (AFG)       | 13                      |  0                      |  0                      |  2                      |  2                      |  0                      | 0                       | 0                       | 0                       | 0                       | 13                      |  0                      |  0                      |  2                      |  2                      | \n",
       "| Algeria (ALG)           | 12                      |  5                      |  2                      |  8                      | 15                      |  3                      | 0                       | 0                       | 0                       | 0                       | 15                      |  5                      |  2                      |  8                      | 15                      | \n",
       "| Argentina (ARG)         | 23                      | 18                      | 24                      | 28                      | 70                      | 18                      | 0                       | 0                       | 0                       | 0                       | 41                      | 18                      | 24                      | 28                      | 70                      | \n",
       "| Armenia (ARM)           |  5                      |  1                      |  2                      |  9                      | 12                      |  6                      | 0                       | 0                       | 0                       | 0                       | 11                      |  1                      |  2                      |  9                      | 12                      | \n",
       "| Australasia (ANZ) [ANZ] |  2                      |  3                      |  4                      |  5                      | 12                      |  0                      | 0                       | 0                       | 0                       | 0                       |  2                      |  3                      |  4                      |  5                      | 12                      | \n",
       "\n",
       "\n"
      ],
      "text/plain": [
       "  Country                 Summer Gold Silver Bronze Total Winter_Olympics\n",
       "1 Afghanistan (AFG)       13      0    0      2      2     0             \n",
       "2 Algeria (ALG)           12      5    2      8     15     3             \n",
       "3 Argentina (ARG)         23     18   24     28     70    18             \n",
       "4 Armenia (ARM)            5      1    2      9     12     6             \n",
       "5 Australasia (ANZ) [ANZ]  2      3    4      5     12     0             \n",
       "  Gold_W Silver_W Bronze_W Total.1 Number of Games Gold_G Silver_G Bronze_G\n",
       "1 0      0        0        0       13               0      0        2      \n",
       "2 0      0        0        0       15               5      2        8      \n",
       "3 0      0        0        0       41              18     24       28      \n",
       "4 0      0        0        0       11               1      2        9      \n",
       "5 0      0        0        0        2               3      4        5      \n",
       "  Combined.total\n",
       "1  2            \n",
       "2 15            \n",
       "3 70            \n",
       "4 12            \n",
       "5 12            "
      ]
     },
     "metadata": {},
     "output_type": "display_data"
    }
   ],
   "source": [
    "require(\"dplyr\")\n",
    "\n",
    "# Obviously, in R, you can just pass a list of names in the right order, but what if there are more columns and less structure\n",
    "oldnames = c(\"X\",\"X..Summer\",'X01..','X02..','X03..','X..Winter','X01...1','X02...1','X03...1','X..Games','X01...2','X02...2','X03...2')\n",
    "newnames = c(\"Country\",\"Summer\",'Gold','Silver','Bronze','Winter_Olympics','Gold_W','Silver_W','Bronze_W','Number of Games','Gold_G','Silver_G','Bronze_G')\n",
    "\n",
    "# The \"pipe\" -> Explain later\n",
    "df2 <- df2 %>% rename_at(vars(oldnames), ~ newnames)\n",
    "# In the end, %>% is similar to chaining Python method .str.apply(....).mean()\n",
    "\n",
    "head(df2,5)"
   ]
  }
 ],
 "metadata": {
  "kernelspec": {
   "display_name": "R",
   "language": "R",
   "name": "ir"
  },
  "language_info": {
   "codemirror_mode": "r",
   "file_extension": ".r",
   "mimetype": "text/x-r-source",
   "name": "R",
   "pygments_lexer": "r",
   "version": "3.5.1"
  }
 },
 "nbformat": 4,
 "nbformat_minor": 2
}
