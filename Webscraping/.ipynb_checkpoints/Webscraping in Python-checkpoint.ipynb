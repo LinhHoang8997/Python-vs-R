{
 "cells": [
  {
   "cell_type": "markdown",
   "metadata": {
    "toc": true
   },
   "source": [
    "<h1>Table of Contents<span class=\"tocSkip\"></span></h1>\n",
    "<div class=\"toc\"><ul class=\"toc-item\"><li><span><a href=\"#Note\" data-toc-modified-id=\"Note-1\"><span class=\"toc-item-num\">1&nbsp;&nbsp;</span>Note</a></span></li><li><span><a href=\"#Load-data-and-the-bs4-package\" data-toc-modified-id=\"Load-data-and-the-bs4-package-2\"><span class=\"toc-item-num\">2&nbsp;&nbsp;</span>Load data and the <code>bs4</code> package</a></span></li><li><span><a href=\"#Parse-data-via-the-page-structure\" data-toc-modified-id=\"Parse-data-via-the-page-structure-3\"><span class=\"toc-item-num\">3&nbsp;&nbsp;</span>Parse data via the page structure</a></span></li><li><span><a href=\"#Combine-all-lists-to-form-one-data-frame\" data-toc-modified-id=\"Combine-all-lists-to-form-one-data-frame-4\"><span class=\"toc-item-num\">4&nbsp;&nbsp;</span>Combine all lists to form one data frame</a></span></li></ul></div>"
   ]
  },
  {
   "cell_type": "markdown",
   "metadata": {},
   "source": [
    "# Note\n",
    "Written by my team member Long Nguyen.\n",
    "\n",
    "Edited and structured by me. "
   ]
  },
  {
   "cell_type": "markdown",
   "metadata": {},
   "source": [
    "# Load data and the `bs4` package"
   ]
  },
  {
   "cell_type": "markdown",
   "metadata": {},
   "source": [
    "We will be focusing on this IMDB list of the best comedy films of all time."
   ]
  },
  {
   "cell_type": "code",
   "execution_count": 7,
   "metadata": {
    "ExecuteTime": {
     "end_time": "2019-04-24T20:39:05.620183Z",
     "start_time": "2019-04-24T20:39:02.333769Z"
    }
   },
   "outputs": [],
   "source": [
    "from requests import get\n",
    "url = 'https://www.imdb.com/list/ls000729643/'\n",
    "response = get(url)"
   ]
  },
  {
   "cell_type": "code",
   "execution_count": 8,
   "metadata": {
    "ExecuteTime": {
     "end_time": "2019-04-24T20:39:07.208158Z",
     "start_time": "2019-04-24T20:39:05.622027Z"
    }
   },
   "outputs": [],
   "source": [
    "from bs4 import BeautifulSoup\n",
    "raw_html = BeautifulSoup(response.text, 'html.parser')"
   ]
  },
  {
   "cell_type": "markdown",
   "metadata": {},
   "source": [
    "# Parse data via the page structure"
   ]
  },
  {
   "cell_type": "markdown",
   "metadata": {},
   "source": [
    "Each movie is identified by a `div` with the class class `list-item mode-detail`."
   ]
  },
  {
   "cell_type": "code",
   "execution_count": 9,
   "metadata": {
    "ExecuteTime": {
     "end_time": "2019-04-24T20:39:07.208158Z",
     "start_time": "2019-04-24T20:39:05.622027Z"
    }
   },
   "outputs": [],
   "source": [
    "movies = raw_html.find_all('div', class_ = 'lister-item mode-detail')"
   ]
  },
  {
   "cell_type": "markdown",
   "metadata": {},
   "source": [
    "Below are all the preprocessing and cleaning operations already done in the R version. <br>However, a notable difference is how `BeautifulSoup` relies on page structure (e.g `movie.h3.find`) to get to the content."
   ]
  },
  {
   "cell_type": "code",
   "execution_count": 10,
   "metadata": {
    "ExecuteTime": {
     "end_time": "2019-04-24T20:39:08.348172Z",
     "start_time": "2019-04-24T20:39:07.210154Z"
    }
   },
   "outputs": [],
   "source": [
    "# Lists to store the scraped data in\n",
    "ranks = []\n",
    "titles = []\n",
    "descriptions = []\n",
    "runtimes = []\n",
    "genres = []\n",
    "ratings = []\n",
    "metascores = []\n",
    "votes = []\n",
    "gross_earnings = []\n",
    "directors = []\n",
    "actors = []\n",
    "\n",
    "\n",
    "# Extract data from individual movie container\n",
    "for movie in movies:\n",
    "\n",
    "        # The rank\n",
    "        rank = movie.h3.find('span', class_ = 'text-primary').text \n",
    "        ranks.append(rank)\n",
    "        \n",
    "        # The name\n",
    "        title = movie.h3.a.text\n",
    "        titles.append(title)\n",
    "        \n",
    "        # The description\n",
    "        raw_description = movie.find('p', class_ = '').text\n",
    "        description = raw_description.replace(\"\\n\",\"\")\n",
    "        descriptions.append(description)\n",
    "        \n",
    "        # The runtime\n",
    "        raw_runtime = movie.p.find('span', class_ = 'runtime').text\n",
    "        runtime = raw_runtime.replace(\"min\",\"\")\n",
    "        runtimes.append(int(runtime))\n",
    "        \n",
    "        # The genre\n",
    "        raw_genre = movie.p.find('span', class_ = 'genre').text\n",
    "        genre = raw_genre.replace(\"\\n\",\"\")\n",
    "        genres.append(genre)\n",
    "        \n",
    "        # The IMDB rating\n",
    "        rating = float(movie.find('span', class_='ipl-rating-star__rating').text)\n",
    "        ratings.append(rating)\n",
    "\n",
    "        # The Metascore\n",
    "        metascore = movie.find('span', class_ = 'metascore').text\n",
    "        metascores.append(int(metascore))\n",
    "\n",
    "        # The number of votes\n",
    "        vote = movie.find('span', attrs = {'name':'nv'})['data-value']\n",
    "        votes.append(int(vote))\n",
    "        \n",
    "        # The gross earning in millions\n",
    "        raw_earning = movie.select(\"span[name=nv]\")[1].text\n",
    "        raw_earning_wo_dollar = raw_earning.replace(\"$\",\"\")\n",
    "        earning = raw_earning_wo_dollar.replace(\"M\",\"\")\n",
    "        gross_earnings.append(float(earning)) \n",
    "        \n",
    "        # List directors and actors\n",
    "        raw_directorandactor = movie.select(\"p.text-muted.text-small\")[1].text\n",
    "        directorandactor = raw_directorandactor.replace(\"\\n\",\"\")\n",
    "        \n",
    "            #Separate directors and actors\n",
    "        director = directorandactor.split('|')[0]\n",
    "        actor = directorandactor.split('|')[1]\n",
    "            \n",
    "            #Data preprocessing \n",
    "                #Director\n",
    "        director_no_space = director.replace('\\n','')\n",
    "        director_final = director_no_space.replace('Director:','')\n",
    "        director_final = director_final.replace('Directors:','') \n",
    "        directors.append(director_final)\n",
    "                #Actor\n",
    "        actor_no_space = actor.replace('\\n','')\n",
    "        actor_final = actor.replace('Stars:', '')\n",
    "        actors.append(actor_final)\n",
    "        \n"
   ]
  },
  {
   "cell_type": "markdown",
   "metadata": {},
   "source": [
    "# Combine all lists to form one data frame"
   ]
  },
  {
   "cell_type": "code",
   "execution_count": 11,
   "metadata": {
    "ExecuteTime": {
     "end_time": "2019-04-24T20:39:09.247496Z",
     "start_time": "2019-04-24T20:39:08.351104Z"
    }
   },
   "outputs": [],
   "source": [
    "import pandas as pd\n",
    "\n",
    "movies_df = pd.DataFrame({'rank': ranks,\n",
    "                        'movie': titles,\n",
    "                        'description': descriptions,\n",
    "                        'runtime': runtimes,\n",
    "                        'genre': genres,\n",
    "                        'rating': ratings,\n",
    "                        'metascore': metascores,\n",
    "                        'votes': votes,\n",
    "                        'gross earning in millions': gross_earnings,\n",
    "                        'directors': directors,\n",
    "                        'actors': actors\n",
    "                       })"
   ]
  },
  {
   "cell_type": "code",
   "execution_count": 12,
   "metadata": {
    "ExecuteTime": {
     "end_time": "2019-04-24T20:39:09.247496Z",
     "start_time": "2019-04-24T20:39:08.351104Z"
    }
   },
   "outputs": [
    {
     "name": "stdout",
     "output_type": "stream",
     "text": [
      "<class 'pandas.core.frame.DataFrame'>\n",
      "RangeIndex: 50 entries, 0 to 49\n",
      "Data columns (total 11 columns):\n",
      "rank                         50 non-null object\n",
      "movie                        50 non-null object\n",
      "description                  50 non-null object\n",
      "runtime                      50 non-null int64\n",
      "genre                        50 non-null object\n",
      "rating                       50 non-null float64\n",
      "metascore                    50 non-null int64\n",
      "votes                        50 non-null int64\n",
      "gross earning in millions    50 non-null float64\n",
      "directors                    50 non-null object\n",
      "actors                       50 non-null object\n",
      "dtypes: float64(2), int64(3), object(6)\n",
      "memory usage: 3.2+ KB\n"
     ]
    }
   ],
   "source": [
    "movies_df.info()"
   ]
  },
  {
   "cell_type": "code",
   "execution_count": 13,
   "metadata": {
    "ExecuteTime": {
     "end_time": "2019-04-24T20:39:09.247496Z",
     "start_time": "2019-04-24T20:39:08.351104Z"
    }
   },
   "outputs": [
    {
     "data": {
      "text/html": [
       "<div>\n",
       "<style scoped>\n",
       "    .dataframe tbody tr th:only-of-type {\n",
       "        vertical-align: middle;\n",
       "    }\n",
       "\n",
       "    .dataframe tbody tr th {\n",
       "        vertical-align: top;\n",
       "    }\n",
       "\n",
       "    .dataframe thead th {\n",
       "        text-align: right;\n",
       "    }\n",
       "</style>\n",
       "<table border=\"1\" class=\"dataframe\">\n",
       "  <thead>\n",
       "    <tr style=\"text-align: right;\">\n",
       "      <th></th>\n",
       "      <th>rank</th>\n",
       "      <th>movie</th>\n",
       "      <th>description</th>\n",
       "      <th>runtime</th>\n",
       "      <th>genre</th>\n",
       "      <th>rating</th>\n",
       "      <th>metascore</th>\n",
       "      <th>votes</th>\n",
       "      <th>gross earning in millions</th>\n",
       "      <th>directors</th>\n",
       "      <th>actors</th>\n",
       "    </tr>\n",
       "  </thead>\n",
       "  <tbody>\n",
       "    <tr>\n",
       "      <th>0</th>\n",
       "      <td>1.</td>\n",
       "      <td>Wedding Crashers</td>\n",
       "      <td>John Beckwith and Jeremy Grey, a pair of c...</td>\n",
       "      <td>119</td>\n",
       "      <td>Comedy, Romance</td>\n",
       "      <td>7.0</td>\n",
       "      <td>64</td>\n",
       "      <td>314206</td>\n",
       "      <td>209.22</td>\n",
       "      <td>David Dobkin</td>\n",
       "      <td>Owen Wilson, Vince Vaughn, Rachel McAdams...</td>\n",
       "    </tr>\n",
       "    <tr>\n",
       "      <th>1</th>\n",
       "      <td>2.</td>\n",
       "      <td>Anchorman: The Legend of Ron Burgundy</td>\n",
       "      <td>Ron Burgundy is San Diego's top-rated news...</td>\n",
       "      <td>94</td>\n",
       "      <td>Comedy</td>\n",
       "      <td>7.2</td>\n",
       "      <td>63</td>\n",
       "      <td>308168</td>\n",
       "      <td>85.29</td>\n",
       "      <td>Adam McKay</td>\n",
       "      <td>Will Ferrell, Christina Applegate, Steve ...</td>\n",
       "    </tr>\n",
       "    <tr>\n",
       "      <th>2</th>\n",
       "      <td>3.</td>\n",
       "      <td>Walk Hard: The Dewey Cox Story</td>\n",
       "      <td>Singer Dewey Cox overcomes adversity to be...</td>\n",
       "      <td>96</td>\n",
       "      <td>Comedy, Music</td>\n",
       "      <td>6.8</td>\n",
       "      <td>63</td>\n",
       "      <td>62649</td>\n",
       "      <td>18.32</td>\n",
       "      <td>Jake Kasdan</td>\n",
       "      <td>John C. Reilly, Jenna Fischer, David Krum...</td>\n",
       "    </tr>\n",
       "    <tr>\n",
       "      <th>3</th>\n",
       "      <td>4.</td>\n",
       "      <td>Step Brothers</td>\n",
       "      <td>Two aimless middle-aged losers still livin...</td>\n",
       "      <td>98</td>\n",
       "      <td>Comedy</td>\n",
       "      <td>6.9</td>\n",
       "      <td>51</td>\n",
       "      <td>246430</td>\n",
       "      <td>100.47</td>\n",
       "      <td>Adam McKay</td>\n",
       "      <td>Will Ferrell, John C. Reilly, Mary Steenb...</td>\n",
       "    </tr>\n",
       "    <tr>\n",
       "      <th>4</th>\n",
       "      <td>5.</td>\n",
       "      <td>The Hangover</td>\n",
       "      <td>Three buddies wake up from a bachelor part...</td>\n",
       "      <td>100</td>\n",
       "      <td>Comedy</td>\n",
       "      <td>7.7</td>\n",
       "      <td>73</td>\n",
       "      <td>668365</td>\n",
       "      <td>277.32</td>\n",
       "      <td>Todd Phillips</td>\n",
       "      <td>Zach Galifianakis, Bradley Cooper, Justin...</td>\n",
       "    </tr>\n",
       "    <tr>\n",
       "      <th>5</th>\n",
       "      <td>6.</td>\n",
       "      <td>Office Space</td>\n",
       "      <td>Three company workers who hate their jobs ...</td>\n",
       "      <td>89</td>\n",
       "      <td>Comedy</td>\n",
       "      <td>7.8</td>\n",
       "      <td>68</td>\n",
       "      <td>226641</td>\n",
       "      <td>10.82</td>\n",
       "      <td>Mike Judge</td>\n",
       "      <td>Ron Livingston, Jennifer Aniston, David H...</td>\n",
       "    </tr>\n",
       "    <tr>\n",
       "      <th>6</th>\n",
       "      <td>7.</td>\n",
       "      <td>Dumb and Dumber</td>\n",
       "      <td>The cross-country adventures of 2 good-hea...</td>\n",
       "      <td>107</td>\n",
       "      <td>Comedy</td>\n",
       "      <td>7.3</td>\n",
       "      <td>41</td>\n",
       "      <td>329041</td>\n",
       "      <td>127.18</td>\n",
       "      <td>Peter Farrelly, Bobby Farrelly</td>\n",
       "      <td>Jim Carrey, Jeff Daniels, Lauren Holly, M...</td>\n",
       "    </tr>\n",
       "    <tr>\n",
       "      <th>7</th>\n",
       "      <td>8.</td>\n",
       "      <td>Austin Powers: International Man of Mystery</td>\n",
       "      <td>A 1960s secret agent is brought out of cry...</td>\n",
       "      <td>89</td>\n",
       "      <td>Adventure, Comedy</td>\n",
       "      <td>7.0</td>\n",
       "      <td>51</td>\n",
       "      <td>206931</td>\n",
       "      <td>53.88</td>\n",
       "      <td>Jay Roach</td>\n",
       "      <td>Mike Myers, Elizabeth Hurley, Michael Yor...</td>\n",
       "    </tr>\n",
       "    <tr>\n",
       "      <th>8</th>\n",
       "      <td>9.</td>\n",
       "      <td>Austin Powers: The Spy Who Shagged Me</td>\n",
       "      <td>Dr. Evil is back and has invented a new ti...</td>\n",
       "      <td>95</td>\n",
       "      <td>Action, Adventure, Comedy</td>\n",
       "      <td>6.6</td>\n",
       "      <td>59</td>\n",
       "      <td>203704</td>\n",
       "      <td>206.04</td>\n",
       "      <td>Jay Roach</td>\n",
       "      <td>Mike Myers, Heather Graham, Michael York,...</td>\n",
       "    </tr>\n",
       "    <tr>\n",
       "      <th>9</th>\n",
       "      <td>10.</td>\n",
       "      <td>Starsky &amp; Hutch</td>\n",
       "      <td>Two streetwise cops bust criminals in thei...</td>\n",
       "      <td>101</td>\n",
       "      <td>Comedy, Crime</td>\n",
       "      <td>6.1</td>\n",
       "      <td>55</td>\n",
       "      <td>131449</td>\n",
       "      <td>88.24</td>\n",
       "      <td>Todd Phillips</td>\n",
       "      <td>Ben Stiller, Owen Wilson, Snoop Dogg, Vin...</td>\n",
       "    </tr>\n",
       "  </tbody>\n",
       "</table>\n",
       "</div>"
      ],
      "text/plain": [
       "  rank                                        movie  \\\n",
       "0   1.                             Wedding Crashers   \n",
       "1   2.        Anchorman: The Legend of Ron Burgundy   \n",
       "2   3.               Walk Hard: The Dewey Cox Story   \n",
       "3   4.                                Step Brothers   \n",
       "4   5.                                 The Hangover   \n",
       "5   6.                                 Office Space   \n",
       "6   7.                              Dumb and Dumber   \n",
       "7   8.  Austin Powers: International Man of Mystery   \n",
       "8   9.        Austin Powers: The Spy Who Shagged Me   \n",
       "9  10.                              Starsky & Hutch   \n",
       "\n",
       "                                         description  runtime  \\\n",
       "0      John Beckwith and Jeremy Grey, a pair of c...      119   \n",
       "1      Ron Burgundy is San Diego's top-rated news...       94   \n",
       "2      Singer Dewey Cox overcomes adversity to be...       96   \n",
       "3      Two aimless middle-aged losers still livin...       98   \n",
       "4      Three buddies wake up from a bachelor part...      100   \n",
       "5      Three company workers who hate their jobs ...       89   \n",
       "6      The cross-country adventures of 2 good-hea...      107   \n",
       "7      A 1960s secret agent is brought out of cry...       89   \n",
       "8      Dr. Evil is back and has invented a new ti...       95   \n",
       "9      Two streetwise cops bust criminals in thei...      101   \n",
       "\n",
       "                                   genre  rating  metascore   votes  \\\n",
       "0            Comedy, Romance                 7.0         64  314206   \n",
       "1                     Comedy                 7.2         63  308168   \n",
       "2              Comedy, Music                 6.8         63   62649   \n",
       "3                     Comedy                 6.9         51  246430   \n",
       "4                     Comedy                 7.7         73  668365   \n",
       "5                     Comedy                 7.8         68  226641   \n",
       "6                     Comedy                 7.3         41  329041   \n",
       "7          Adventure, Comedy                 7.0         51  206931   \n",
       "8  Action, Adventure, Comedy                 6.6         59  203704   \n",
       "9              Comedy, Crime                 6.1         55  131449   \n",
       "\n",
       "   gross earning in millions                           directors  \\\n",
       "0                     209.22                        David Dobkin   \n",
       "1                      85.29                          Adam McKay   \n",
       "2                      18.32                         Jake Kasdan   \n",
       "3                     100.47                          Adam McKay   \n",
       "4                     277.32                       Todd Phillips   \n",
       "5                      10.82                          Mike Judge   \n",
       "6                     127.18      Peter Farrelly, Bobby Farrelly   \n",
       "7                      53.88                           Jay Roach   \n",
       "8                     206.04                           Jay Roach   \n",
       "9                      88.24                       Todd Phillips   \n",
       "\n",
       "                                              actors  \n",
       "0       Owen Wilson, Vince Vaughn, Rachel McAdams...  \n",
       "1       Will Ferrell, Christina Applegate, Steve ...  \n",
       "2       John C. Reilly, Jenna Fischer, David Krum...  \n",
       "3       Will Ferrell, John C. Reilly, Mary Steenb...  \n",
       "4       Zach Galifianakis, Bradley Cooper, Justin...  \n",
       "5       Ron Livingston, Jennifer Aniston, David H...  \n",
       "6       Jim Carrey, Jeff Daniels, Lauren Holly, M...  \n",
       "7       Mike Myers, Elizabeth Hurley, Michael Yor...  \n",
       "8       Mike Myers, Heather Graham, Michael York,...  \n",
       "9       Ben Stiller, Owen Wilson, Snoop Dogg, Vin...  "
      ]
     },
     "execution_count": 13,
     "metadata": {},
     "output_type": "execute_result"
    }
   ],
   "source": [
    "movies_df.head(10)"
   ]
  },
  {
   "cell_type": "markdown",
   "metadata": {},
   "source": [
    "**Now we have a well-structured dataframe ready to be exported and analyzed**"
   ]
  }
 ],
 "metadata": {
  "kernelspec": {
   "display_name": "Python 3",
   "language": "python",
   "name": "python3"
  },
  "language_info": {
   "codemirror_mode": {
    "name": "ipython",
    "version": 3
   },
   "file_extension": ".py",
   "mimetype": "text/x-python",
   "name": "python",
   "nbconvert_exporter": "python",
   "pygments_lexer": "ipython3",
   "version": "3.7.3"
  },
  "toc": {
   "base_numbering": 1,
   "nav_menu": {},
   "number_sections": true,
   "sideBar": true,
   "skip_h1_title": false,
   "title_cell": "Table of Contents",
   "title_sidebar": "Contents",
   "toc_cell": true,
   "toc_position": {},
   "toc_section_display": true,
   "toc_window_display": true
  }
 },
 "nbformat": 4,
 "nbformat_minor": 2
}
