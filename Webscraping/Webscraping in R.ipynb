{
 "cells": [
  {
   "cell_type": "markdown",
   "metadata": {
    "toc": true
   },
   "source": [
    "<h1>Table of Contents<span class=\"tocSkip\"></span></h1>\n",
    "<div class=\"toc\"><ul class=\"toc-item\"><li><span><a href=\"#Note\" data-toc-modified-id=\"Note-1\"><span class=\"toc-item-num\">1&nbsp;&nbsp;</span>Note</a></span></li><li><span><a href=\"#Load-data-and-the-rvest-package\" data-toc-modified-id=\"Load-data-and-the-rvest-package-2\"><span class=\"toc-item-num\">2&nbsp;&nbsp;</span>Load data and the <code>rvest</code> package</a></span></li><li><span><a href=\"#Parse-data-via-tags-and-classes\" data-toc-modified-id=\"Parse-data-via-tags-and-classes-3\"><span class=\"toc-item-num\">3&nbsp;&nbsp;</span>Parse data via tags and classes</a></span><ul class=\"toc-item\"><li><span><a href=\"#Parse-Ranking\" data-toc-modified-id=\"Parse-Ranking-3.1\"><span class=\"toc-item-num\">3.1&nbsp;&nbsp;</span>Parse Ranking</a></span></li><li><span><a href=\"#Parse-Titles\" data-toc-modified-id=\"Parse-Titles-3.2\"><span class=\"toc-item-num\">3.2&nbsp;&nbsp;</span>Parse Titles</a></span></li><li><span><a href=\"#Parse-Movie-descriptions\" data-toc-modified-id=\"Parse-Movie-descriptions-3.3\"><span class=\"toc-item-num\">3.3&nbsp;&nbsp;</span>Parse Movie descriptions</a></span></li><li><span><a href=\"#Parse-Runtime\" data-toc-modified-id=\"Parse-Runtime-3.4\"><span class=\"toc-item-num\">3.4&nbsp;&nbsp;</span>Parse Runtime</a></span></li><li><span><a href=\"#Parse-IMDB-ratings\" data-toc-modified-id=\"Parse-IMDB-ratings-3.5\"><span class=\"toc-item-num\">3.5&nbsp;&nbsp;</span>Parse IMDB ratings</a></span></li><li><span><a href=\"#Parse-Number-of-Votes\" data-toc-modified-id=\"Parse-Number-of-Votes-3.6\"><span class=\"toc-item-num\">3.6&nbsp;&nbsp;</span>Parse Number of Votes</a></span></li><li><span><a href=\"#Parse-Director-Name\" data-toc-modified-id=\"Parse-Director-Name-3.7\"><span class=\"toc-item-num\">3.7&nbsp;&nbsp;</span>Parse Director Name</a></span></li><li><span><a href=\"#Parse-Lead-Actor-Name\" data-toc-modified-id=\"Parse-Lead-Actor-Name-3.8\"><span class=\"toc-item-num\">3.8&nbsp;&nbsp;</span>Parse Lead Actor Name</a></span></li><li><span><a href=\"#Parse-Metascore-Ratings\" data-toc-modified-id=\"Parse-Metascore-Ratings-3.9\"><span class=\"toc-item-num\">3.9&nbsp;&nbsp;</span>Parse Metascore Ratings</a></span></li><li><span><a href=\"#Parse-Gross-Revenue\" data-toc-modified-id=\"Parse-Gross-Revenue-3.10\"><span class=\"toc-item-num\">3.10&nbsp;&nbsp;</span>Parse Gross Revenue</a></span></li></ul></li><li><span><a href=\"#Combine-all-lists-to-form-one-data-frame\" data-toc-modified-id=\"Combine-all-lists-to-form-one-data-frame-4\"><span class=\"toc-item-num\">4&nbsp;&nbsp;</span>Combine all lists to form one data frame</a></span></li></ul></div>"
   ]
  },
  {
   "cell_type": "markdown",
   "metadata": {},
   "source": [
    "# Note\n",
    "**Credit** <br>\n",
    "Written by my team member Zoiz Bouikidis. <br>\n",
    "Edited, reorganized, and commented on by me. \n",
    "\n",
    "**Order** <br>\n",
    "This webscraping model requires a lot of cleaning for each columns, most of which are simple operations. \n",
    "We ran this task in R with step-by-step description, but the one in Python would be more streamlined.\n",
    "\n",
    "**Why this relates to the comparison between Python and R**\n",
    "<br>The major difference between the two languages (and packages) is in the how `rvest` can depend primarily on tags to do its work, while Python's `bs4` requires the user to have an understanding of the webpage's structure. This gives R higher scores given the beginner persona we decided upon.  "
   ]
  },
  {
   "cell_type": "markdown",
   "metadata": {},
   "source": [
    "# Load data and the `rvest` package"
   ]
  },
  {
   "cell_type": "code",
   "execution_count": 36,
   "metadata": {
    "ExecuteTime": {
     "end_time": "2019-04-24T20:39:13.591466Z",
     "start_time": "2019-04-24T20:39:06.211Z"
    }
   },
   "outputs": [
    {
     "name": "stderr",
     "output_type": "stream",
     "text": [
      "Installing package into 'C:/Users/linhd/Documents/R/win-library/3.5'\n",
      "(as 'lib' is unspecified)\n",
      "Warning message:\n",
      "\"unable to access index for repository http://www.stats.ox.ac.uk/pub/RWin/bin/windows/contrib/3.5:\n",
      "  cannot open URL 'http://www.stats.ox.ac.uk/pub/RWin/bin/windows/contrib/3.5/PACKAGES'\"Warning message:\n",
      "\"package 'rvest' is in use and will not be installed\""
     ]
    }
   ],
   "source": [
    "install.packages('rvest')\n",
    "#Loading the rvest package\n",
    "library('rvest')"
   ]
  },
  {
   "cell_type": "markdown",
   "metadata": {},
   "source": [
    "We will be focusing on this IMDB list of the best comedy films of all time. <br>\n",
    "First we retrieve the webpage to be scraped by providing a URL."
   ]
  },
  {
   "cell_type": "code",
   "execution_count": 37,
   "metadata": {
    "ExecuteTime": {
     "end_time": "2019-04-24T20:39:16.169682Z",
     "start_time": "2019-04-24T20:39:06.221Z"
    }
   },
   "outputs": [],
   "source": [
    "# Specifying the url for desired website to be scraped\n",
    "url <- 'https://www.imdb.com/list/ls000729643/'\n",
    "# Reading the HTML code from the website\n",
    "webpage <- read_html(url)"
   ]
  },
  {
   "cell_type": "markdown",
   "metadata": {},
   "source": [
    "Let's take a look at what we get back. We see that the webpage was retrieved as an XML document."
   ]
  },
  {
   "cell_type": "code",
   "execution_count": 38,
   "metadata": {
    "ExecuteTime": {
     "end_time": "2019-04-24T20:39:16.169682Z",
     "start_time": "2019-04-24T20:39:06.221Z"
    }
   },
   "outputs": [
    {
     "name": "stdout",
     "output_type": "stream",
     "text": [
      "{xml_document}\n",
      "<html xmlns:og=\"http://ogp.me/ns#\" xmlns:fb=\"http://www.facebook.com/2008/fbml\">\n",
      "[1] <head>\\n<meta http-equiv=\"Content-Type\" content=\"text/html; charset=UTF-8 ...\n",
      "[2] <body id=\"styleguide-v2\" class=\"fixed\">\\n\\n            <img height=\"1\" wi ...\n"
     ]
    }
   ],
   "source": [
    "print(webpage)"
   ]
  },
  {
   "cell_type": "markdown",
   "metadata": {},
   "source": [
    "# Parse data via tags and classes"
   ]
  },
  {
   "cell_type": "markdown",
   "metadata": {},
   "source": [
    "## Parse Ranking"
   ]
  },
  {
   "cell_type": "code",
   "execution_count": 39,
   "metadata": {
    "ExecuteTime": {
     "end_time": "2019-04-24T20:39:16.311972Z",
     "start_time": "2019-04-24T20:39:06.240Z"
    }
   },
   "outputs": [
    {
     "data": {
      "text/html": [
       "<ol class=list-inline>\n",
       "\t<li>'1.'</li>\n",
       "\t<li>'2.'</li>\n",
       "\t<li>'3.'</li>\n",
       "\t<li>'4.'</li>\n",
       "\t<li>'5.'</li>\n",
       "\t<li>'6.'</li>\n",
       "</ol>\n"
      ],
      "text/latex": [
       "\\begin{enumerate*}\n",
       "\\item '1.'\n",
       "\\item '2.'\n",
       "\\item '3.'\n",
       "\\item '4.'\n",
       "\\item '5.'\n",
       "\\item '6.'\n",
       "\\end{enumerate*}\n"
      ],
      "text/markdown": [
       "1. '1.'\n",
       "2. '2.'\n",
       "3. '3.'\n",
       "4. '4.'\n",
       "5. '5.'\n",
       "6. '6.'\n",
       "\n",
       "\n"
      ],
      "text/plain": [
       "[1] \"1.\" \"2.\" \"3.\" \"4.\" \"5.\" \"6.\""
      ]
     },
     "metadata": {},
     "output_type": "display_data"
    }
   ],
   "source": [
    "#Using CSS selectors to scrap the rankings section\n",
    "rank_data_html <- html_nodes(webpage,'.text-primary')\n",
    "#Converting the ranking data to text\n",
    "rank_data <- html_text(rank_data_html)\n",
    "#Let's have a look at the rankings\n",
    "head(rank_data)"
   ]
  },
  {
   "cell_type": "code",
   "execution_count": 40,
   "metadata": {
    "ExecuteTime": {
     "end_time": "2019-04-24T20:39:16.377796Z",
     "start_time": "2019-04-24T20:39:06.250Z"
    }
   },
   "outputs": [
    {
     "data": {
      "text/html": [
       "<ol class=list-inline>\n",
       "\t<li>1</li>\n",
       "\t<li>2</li>\n",
       "\t<li>3</li>\n",
       "\t<li>4</li>\n",
       "\t<li>5</li>\n",
       "\t<li>6</li>\n",
       "</ol>\n"
      ],
      "text/latex": [
       "\\begin{enumerate*}\n",
       "\\item 1\n",
       "\\item 2\n",
       "\\item 3\n",
       "\\item 4\n",
       "\\item 5\n",
       "\\item 6\n",
       "\\end{enumerate*}\n"
      ],
      "text/markdown": [
       "1. 1\n",
       "2. 2\n",
       "3. 3\n",
       "4. 4\n",
       "5. 5\n",
       "6. 6\n",
       "\n",
       "\n"
      ],
      "text/plain": [
       "[1] 1 2 3 4 5 6"
      ]
     },
     "metadata": {},
     "output_type": "display_data"
    }
   ],
   "source": [
    "#Data-Preprocessing: Converting rankings to numerical\n",
    "rank_data<-as.numeric(rank_data)\n",
    "#Let's have another look at the rankings\n",
    "head(rank_data)"
   ]
  },
  {
   "cell_type": "markdown",
   "metadata": {},
   "source": [
    "## Parse Titles"
   ]
  },
  {
   "cell_type": "code",
   "execution_count": 41,
   "metadata": {
    "ExecuteTime": {
     "end_time": "2019-04-24T20:39:16.492211Z",
     "start_time": "2019-04-24T20:39:06.260Z"
    }
   },
   "outputs": [
    {
     "data": {
      "text/html": [
       "<ol class=list-inline>\n",
       "\t<li>'Wedding Crashers'</li>\n",
       "\t<li>'Anchorman: The Legend of Ron Burgundy'</li>\n",
       "\t<li>'Walk Hard: The Dewey Cox Story'</li>\n",
       "\t<li>'Step Brothers'</li>\n",
       "\t<li>'The Hangover'</li>\n",
       "\t<li>'Office Space'</li>\n",
       "</ol>\n"
      ],
      "text/latex": [
       "\\begin{enumerate*}\n",
       "\\item 'Wedding Crashers'\n",
       "\\item 'Anchorman: The Legend of Ron Burgundy'\n",
       "\\item 'Walk Hard: The Dewey Cox Story'\n",
       "\\item 'Step Brothers'\n",
       "\\item 'The Hangover'\n",
       "\\item 'Office Space'\n",
       "\\end{enumerate*}\n"
      ],
      "text/markdown": [
       "1. 'Wedding Crashers'\n",
       "2. 'Anchorman: The Legend of Ron Burgundy'\n",
       "3. 'Walk Hard: The Dewey Cox Story'\n",
       "4. 'Step Brothers'\n",
       "5. 'The Hangover'\n",
       "6. 'Office Space'\n",
       "\n",
       "\n"
      ],
      "text/plain": [
       "[1] \"Wedding Crashers\"                     \n",
       "[2] \"Anchorman: The Legend of Ron Burgundy\"\n",
       "[3] \"Walk Hard: The Dewey Cox Story\"       \n",
       "[4] \"Step Brothers\"                        \n",
       "[5] \"The Hangover\"                         \n",
       "[6] \"Office Space\"                         "
      ]
     },
     "metadata": {},
     "output_type": "display_data"
    }
   ],
   "source": [
    "#Using CSS selectors to scrap the title section\n",
    "title_data_html <- html_nodes(webpage,'.lister-item-header a')\n",
    "#Converting the title data to text\n",
    "title_data <- html_text(title_data_html)\n",
    "#Let's have a look at the title\n",
    "head(title_data)"
   ]
  },
  {
   "cell_type": "markdown",
   "metadata": {},
   "source": [
    "## Parse Movie descriptions"
   ]
  },
  {
   "cell_type": "code",
   "execution_count": 42,
   "metadata": {
    "ExecuteTime": {
     "end_time": "2019-04-24T20:39:16.585940Z",
     "start_time": "2019-04-24T20:39:06.275Z"
    }
   },
   "outputs": [
    {
     "data": {
      "text/html": [
       "<ol class=list-inline>\n",
       "\t<li><span style=white-space:pre-wrap>'\\n    John Beckwith and Jeremy Grey, a pair of committed womanizers who sneak into weddings to take advantage of the romantic tinge in the air, find themselves at odds with one another when John meets and falls for Claire Cleary.'</span></li>\n",
       "\t<li><span style=white-space:pre-wrap>'\\n    Ron Burgundy is San Diego\\'s top-rated newsman in the male-dominated broadcasting of the 1970s, but that\\'s all about to change for Ron and his cronies when an ambitious woman is hired as a new anchor.'</span></li>\n",
       "\t<li><span style=white-space:pre-wrap>'\\n    Singer Dewey Cox overcomes adversity to become a musical legend.'</span></li>\n",
       "\t<li><span style=white-space:pre-wrap>'\\n    Two aimless middle-aged losers still living at home are forced against their will to become roommates when their parents marry.'</span></li>\n",
       "\t<li><span style=white-space:pre-wrap>'\\n    Three buddies wake up from a bachelor party in Las Vegas, with no memory of the previous night and the bachelor missing. They make their way around the city in order to find their friend before his wedding.'</span></li>\n",
       "\t<li><span style=white-space:pre-wrap>'\\n    Three company workers who hate their jobs decide to rebel against their greedy boss.'</span></li>\n",
       "</ol>\n"
      ],
      "text/latex": [
       "\\begin{enumerate*}\n",
       "\\item '\\textbackslash{}n    John Beckwith and Jeremy Grey, a pair of committed womanizers who sneak into weddings to take advantage of the romantic tinge in the air, find themselves at odds with one another when John meets and falls for Claire Cleary.'\n",
       "\\item '\\textbackslash{}n    Ron Burgundy is San Diego\\textbackslash{}'s top-rated newsman in the male-dominated broadcasting of the 1970s, but that\\textbackslash{}'s all about to change for Ron and his cronies when an ambitious woman is hired as a new anchor.'\n",
       "\\item '\\textbackslash{}n    Singer Dewey Cox overcomes adversity to become a musical legend.'\n",
       "\\item '\\textbackslash{}n    Two aimless middle-aged losers still living at home are forced against their will to become roommates when their parents marry.'\n",
       "\\item '\\textbackslash{}n    Three buddies wake up from a bachelor party in Las Vegas, with no memory of the previous night and the bachelor missing. They make their way around the city in order to find their friend before his wedding.'\n",
       "\\item '\\textbackslash{}n    Three company workers who hate their jobs decide to rebel against their greedy boss.'\n",
       "\\end{enumerate*}\n"
      ],
      "text/markdown": [
       "1. <span style=white-space:pre-wrap>'\\n    John Beckwith and Jeremy Grey, a pair of committed womanizers who sneak into weddings to take advantage of the romantic tinge in the air, find themselves at odds with one another when John meets and falls for Claire Cleary.'</span>\n",
       "2. <span style=white-space:pre-wrap>'\\n    Ron Burgundy is San Diego\\'s top-rated newsman in the male-dominated broadcasting of the 1970s, but that\\'s all about to change for Ron and his cronies when an ambitious woman is hired as a new anchor.'</span>\n",
       "3. <span style=white-space:pre-wrap>'\\n    Singer Dewey Cox overcomes adversity to become a musical legend.'</span>\n",
       "4. <span style=white-space:pre-wrap>'\\n    Two aimless middle-aged losers still living at home are forced against their will to become roommates when their parents marry.'</span>\n",
       "5. <span style=white-space:pre-wrap>'\\n    Three buddies wake up from a bachelor party in Las Vegas, with no memory of the previous night and the bachelor missing. They make their way around the city in order to find their friend before his wedding.'</span>\n",
       "6. <span style=white-space:pre-wrap>'\\n    Three company workers who hate their jobs decide to rebel against their greedy boss.'</span>\n",
       "\n",
       "\n"
      ],
      "text/plain": [
       "[1] \"\\n    John Beckwith and Jeremy Grey, a pair of committed womanizers who sneak into weddings to take advantage of the romantic tinge in the air, find themselves at odds with one another when John meets and falls for Claire Cleary.\"\n",
       "[2] \"\\n    Ron Burgundy is San Diego's top-rated newsman in the male-dominated broadcasting of the 1970s, but that's all about to change for Ron and his cronies when an ambitious woman is hired as a new anchor.\"                        \n",
       "[3] \"\\n    Singer Dewey Cox overcomes adversity to become a musical legend.\"                                                                                                                                                               \n",
       "[4] \"\\n    Two aimless middle-aged losers still living at home are forced against their will to become roommates when their parents marry.\"                                                                                                \n",
       "[5] \"\\n    Three buddies wake up from a bachelor party in Las Vegas, with no memory of the previous night and the bachelor missing. They make their way around the city in order to find their friend before his wedding.\"                 \n",
       "[6] \"\\n    Three company workers who hate their jobs decide to rebel against their greedy boss.\"                                                                                                                                           "
      ]
     },
     "metadata": {},
     "output_type": "display_data"
    }
   ],
   "source": [
    "#Using CSS selectors to scrap the description section\n",
    "description_data_html <- html_nodes(webpage,'.ratings-metascore+ p')\n",
    "#Converting the description data to text\n",
    "description_data <- html_text(description_data_html)\n",
    "#Let's have a look at the description data\n",
    "head(description_data)"
   ]
  },
  {
   "cell_type": "code",
   "execution_count": 43,
   "metadata": {
    "ExecuteTime": {
     "end_time": "2019-04-24T20:39:16.648425Z",
     "start_time": "2019-04-24T20:39:06.282Z"
    },
    "scrolled": true
   },
   "outputs": [
    {
     "data": {
      "text/html": [
       "<ol class=list-inline>\n",
       "\t<li><span style=white-space:pre-wrap>'    John Beckwith and Jeremy Grey, a pair of committed womanizers who sneak into weddings to take advantage of the romantic tinge in the air, find themselves at odds with one another when John meets and falls for Claire Cleary.'</span></li>\n",
       "\t<li><span style=white-space:pre-wrap>'    Ron Burgundy is San Diego\\'s top-rated newsman in the male-dominated broadcasting of the 1970s, but that\\'s all about to change for Ron and his cronies when an ambitious woman is hired as a new anchor.'</span></li>\n",
       "\t<li><span style=white-space:pre-wrap>'    Singer Dewey Cox overcomes adversity to become a musical legend.'</span></li>\n",
       "\t<li><span style=white-space:pre-wrap>'    Two aimless middle-aged losers still living at home are forced against their will to become roommates when their parents marry.'</span></li>\n",
       "\t<li><span style=white-space:pre-wrap>'    Three buddies wake up from a bachelor party in Las Vegas, with no memory of the previous night and the bachelor missing. They make their way around the city in order to find their friend before his wedding.'</span></li>\n",
       "\t<li><span style=white-space:pre-wrap>'    Three company workers who hate their jobs decide to rebel against their greedy boss.'</span></li>\n",
       "</ol>\n"
      ],
      "text/latex": [
       "\\begin{enumerate*}\n",
       "\\item '    John Beckwith and Jeremy Grey, a pair of committed womanizers who sneak into weddings to take advantage of the romantic tinge in the air, find themselves at odds with one another when John meets and falls for Claire Cleary.'\n",
       "\\item '    Ron Burgundy is San Diego\\textbackslash{}'s top-rated newsman in the male-dominated broadcasting of the 1970s, but that\\textbackslash{}'s all about to change for Ron and his cronies when an ambitious woman is hired as a new anchor.'\n",
       "\\item '    Singer Dewey Cox overcomes adversity to become a musical legend.'\n",
       "\\item '    Two aimless middle-aged losers still living at home are forced against their will to become roommates when their parents marry.'\n",
       "\\item '    Three buddies wake up from a bachelor party in Las Vegas, with no memory of the previous night and the bachelor missing. They make their way around the city in order to find their friend before his wedding.'\n",
       "\\item '    Three company workers who hate their jobs decide to rebel against their greedy boss.'\n",
       "\\end{enumerate*}\n"
      ],
      "text/markdown": [
       "1. <span style=white-space:pre-wrap>'    John Beckwith and Jeremy Grey, a pair of committed womanizers who sneak into weddings to take advantage of the romantic tinge in the air, find themselves at odds with one another when John meets and falls for Claire Cleary.'</span>\n",
       "2. <span style=white-space:pre-wrap>'    Ron Burgundy is San Diego\\'s top-rated newsman in the male-dominated broadcasting of the 1970s, but that\\'s all about to change for Ron and his cronies when an ambitious woman is hired as a new anchor.'</span>\n",
       "3. <span style=white-space:pre-wrap>'    Singer Dewey Cox overcomes adversity to become a musical legend.'</span>\n",
       "4. <span style=white-space:pre-wrap>'    Two aimless middle-aged losers still living at home are forced against their will to become roommates when their parents marry.'</span>\n",
       "5. <span style=white-space:pre-wrap>'    Three buddies wake up from a bachelor party in Las Vegas, with no memory of the previous night and the bachelor missing. They make their way around the city in order to find their friend before his wedding.'</span>\n",
       "6. <span style=white-space:pre-wrap>'    Three company workers who hate their jobs decide to rebel against their greedy boss.'</span>\n",
       "\n",
       "\n"
      ],
      "text/plain": [
       "[1] \"    John Beckwith and Jeremy Grey, a pair of committed womanizers who sneak into weddings to take advantage of the romantic tinge in the air, find themselves at odds with one another when John meets and falls for Claire Cleary.\"\n",
       "[2] \"    Ron Burgundy is San Diego's top-rated newsman in the male-dominated broadcasting of the 1970s, but that's all about to change for Ron and his cronies when an ambitious woman is hired as a new anchor.\"                        \n",
       "[3] \"    Singer Dewey Cox overcomes adversity to become a musical legend.\"                                                                                                                                                               \n",
       "[4] \"    Two aimless middle-aged losers still living at home are forced against their will to become roommates when their parents marry.\"                                                                                                \n",
       "[5] \"    Three buddies wake up from a bachelor party in Las Vegas, with no memory of the previous night and the bachelor missing. They make their way around the city in order to find their friend before his wedding.\"                 \n",
       "[6] \"    Three company workers who hate their jobs decide to rebel against their greedy boss.\"                                                                                                                                           "
      ]
     },
     "metadata": {},
     "output_type": "display_data"
    }
   ],
   "source": [
    "#Data-Preprocessing: removing '\\n'\n",
    "description_data<-gsub(\"\\n\",\"\",description_data)\n",
    "#Let's have another look at the description data\n",
    "head(description_data)"
   ]
  },
  {
   "cell_type": "markdown",
   "metadata": {},
   "source": [
    "## Parse Runtime"
   ]
  },
  {
   "cell_type": "code",
   "execution_count": 44,
   "metadata": {
    "ExecuteTime": {
     "end_time": "2019-04-24T20:39:16.710908Z",
     "start_time": "2019-04-24T20:39:06.288Z"
    }
   },
   "outputs": [
    {
     "data": {
      "text/html": [
       "<ol class=list-inline>\n",
       "\t<li>'119 min'</li>\n",
       "\t<li>'94 min'</li>\n",
       "\t<li>'96 min'</li>\n",
       "\t<li>'98 min'</li>\n",
       "\t<li>'100 min'</li>\n",
       "\t<li>'89 min'</li>\n",
       "</ol>\n"
      ],
      "text/latex": [
       "\\begin{enumerate*}\n",
       "\\item '119 min'\n",
       "\\item '94 min'\n",
       "\\item '96 min'\n",
       "\\item '98 min'\n",
       "\\item '100 min'\n",
       "\\item '89 min'\n",
       "\\end{enumerate*}\n"
      ],
      "text/markdown": [
       "1. '119 min'\n",
       "2. '94 min'\n",
       "3. '96 min'\n",
       "4. '98 min'\n",
       "5. '100 min'\n",
       "6. '89 min'\n",
       "\n",
       "\n"
      ],
      "text/plain": [
       "[1] \"119 min\" \"94 min\"  \"96 min\"  \"98 min\"  \"100 min\" \"89 min\" "
      ]
     },
     "metadata": {},
     "output_type": "display_data"
    }
   ],
   "source": [
    "#Using CSS selectors to scrap the Movie runtime section\n",
    "runtime_data_html <- html_nodes(webpage,'.runtime')\n",
    "#Converting the runtime data to text\n",
    "runtime_data <- html_text(runtime_data_html)\n",
    "#Let's have a look at the runtime\n",
    "head(runtime_data)"
   ]
  },
  {
   "cell_type": "code",
   "execution_count": 45,
   "metadata": {
    "ExecuteTime": {
     "end_time": "2019-04-24T20:39:16.757774Z",
     "start_time": "2019-04-24T20:39:06.293Z"
    }
   },
   "outputs": [
    {
     "data": {
      "text/html": [
       "<ol class=list-inline>\n",
       "\t<li>119</li>\n",
       "\t<li>94</li>\n",
       "\t<li>96</li>\n",
       "\t<li>98</li>\n",
       "\t<li>100</li>\n",
       "\t<li>89</li>\n",
       "</ol>\n"
      ],
      "text/latex": [
       "\\begin{enumerate*}\n",
       "\\item 119\n",
       "\\item 94\n",
       "\\item 96\n",
       "\\item 98\n",
       "\\item 100\n",
       "\\item 89\n",
       "\\end{enumerate*}\n"
      ],
      "text/markdown": [
       "1. 119\n",
       "2. 94\n",
       "3. 96\n",
       "4. 98\n",
       "5. 100\n",
       "6. 89\n",
       "\n",
       "\n"
      ],
      "text/plain": [
       "[1] 119  94  96  98 100  89"
      ]
     },
     "metadata": {},
     "output_type": "display_data"
    }
   ],
   "source": [
    "#Data-Preprocessing: removing mins and converting it to numerical\n",
    "runtime_data<-gsub(\" min\",\"\",runtime_data)\n",
    "runtime_data<-as.numeric(runtime_data)\n",
    "#Let's have another look at the runtime data\n",
    "head(runtime_data)"
   ]
  },
  {
   "cell_type": "code",
   "execution_count": 46,
   "metadata": {
    "ExecuteTime": {
     "end_time": "2019-04-24T20:39:16.861304Z",
     "start_time": "2019-04-24T20:39:06.301Z"
    }
   },
   "outputs": [
    {
     "data": {
      "text/html": [
       "<ol class=list-inline>\n",
       "\t<li>'7'</li>\n",
       "\t<li>'0'</li>\n",
       "\t<li>'Rate'</li>\n",
       "\t<li>'1'</li>\n",
       "\t<li>'Rate'</li>\n",
       "\t<li>'2'</li>\n",
       "</ol>\n"
      ],
      "text/latex": [
       "\\begin{enumerate*}\n",
       "\\item '7'\n",
       "\\item '0'\n",
       "\\item 'Rate'\n",
       "\\item '1'\n",
       "\\item 'Rate'\n",
       "\\item '2'\n",
       "\\end{enumerate*}\n"
      ],
      "text/markdown": [
       "1. '7'\n",
       "2. '0'\n",
       "3. 'Rate'\n",
       "4. '1'\n",
       "5. 'Rate'\n",
       "6. '2'\n",
       "\n",
       "\n"
      ],
      "text/plain": [
       "[1] \"7\"    \"0\"    \"Rate\" \"1\"    \"Rate\" \"2\"   "
      ]
     },
     "metadata": {},
     "output_type": "display_data"
    }
   ],
   "source": [
    "#Using CSS selectors to scrap the IMDB rating section\n",
    "rating_data_html <- html_nodes(webpage,'.ipl-rating-star__rating')\n",
    "#Converting the ratings data to text\n",
    "rating_data <- html_text(rating_data_html)\n",
    "#Let's have a look at the ratings\n",
    "head(rating_data)"
   ]
  },
  {
   "cell_type": "markdown",
   "metadata": {},
   "source": [
    "## Parse IMDB ratings"
   ]
  },
  {
   "cell_type": "code",
   "execution_count": 47,
   "metadata": {
    "ExecuteTime": {
     "end_time": "2019-04-24T20:39:16.939416Z",
     "start_time": "2019-04-24T20:39:06.313Z"
    }
   },
   "outputs": [
    {
     "data": {
      "text/html": [
       "<ol class=list-inline>\n",
       "\t<li>'7'</li>\n",
       "\t<li>'7.2'</li>\n",
       "\t<li>'6.8'</li>\n",
       "\t<li>'6.9'</li>\n",
       "\t<li>'7.7'</li>\n",
       "\t<li>'7.8'</li>\n",
       "</ol>\n"
      ],
      "text/latex": [
       "\\begin{enumerate*}\n",
       "\\item '7'\n",
       "\\item '7.2'\n",
       "\\item '6.8'\n",
       "\\item '6.9'\n",
       "\\item '7.7'\n",
       "\\item '7.8'\n",
       "\\end{enumerate*}\n"
      ],
      "text/markdown": [
       "1. '7'\n",
       "2. '7.2'\n",
       "3. '6.8'\n",
       "4. '6.9'\n",
       "5. '7.7'\n",
       "6. '7.8'\n",
       "\n",
       "\n"
      ],
      "text/plain": [
       "[1] \"7\"   \"7.2\" \"6.8\" \"6.9\" \"7.7\" \"7.8\""
      ]
     },
     "metadata": {},
     "output_type": "display_data"
    }
   ],
   "source": [
    "remove(rating_data)\n",
    "#Using CSS selectors to scrap the IMDB rating section\n",
    "rating_data_html <- html_nodes(webpage,'.ipl-rating-star.small .ipl-rating-star__rating')\n",
    "#Converting the ratings data to text\n",
    "rating_data <- html_text(rating_data_html)\n",
    "#Let's have a look at the ratings\n",
    "head(rating_data)"
   ]
  },
  {
   "cell_type": "code",
   "execution_count": 48,
   "metadata": {
    "ExecuteTime": {
     "end_time": "2019-04-24T20:39:16.986279Z",
     "start_time": "2019-04-24T20:39:06.320Z"
    }
   },
   "outputs": [
    {
     "data": {
      "text/html": [
       "<ol class=list-inline>\n",
       "\t<li>7</li>\n",
       "\t<li>7.2</li>\n",
       "\t<li>6.8</li>\n",
       "\t<li>6.9</li>\n",
       "\t<li>7.7</li>\n",
       "\t<li>7.8</li>\n",
       "</ol>\n"
      ],
      "text/latex": [
       "\\begin{enumerate*}\n",
       "\\item 7\n",
       "\\item 7.2\n",
       "\\item 6.8\n",
       "\\item 6.9\n",
       "\\item 7.7\n",
       "\\item 7.8\n",
       "\\end{enumerate*}\n"
      ],
      "text/markdown": [
       "1. 7\n",
       "2. 7.2\n",
       "3. 6.8\n",
       "4. 6.9\n",
       "5. 7.7\n",
       "6. 7.8\n",
       "\n",
       "\n"
      ],
      "text/plain": [
       "[1] 7.0 7.2 6.8 6.9 7.7 7.8"
      ]
     },
     "metadata": {},
     "output_type": "display_data"
    }
   ],
   "source": [
    "#Data-Preprocessing: converting ratings to numerical\n",
    "rating_data<-as.numeric(rating_data)\n",
    "#Let's have another look at the ratings data\n",
    "head(rating_data)"
   ]
  },
  {
   "cell_type": "markdown",
   "metadata": {},
   "source": [
    "## Parse Number of Votes"
   ]
  },
  {
   "cell_type": "code",
   "execution_count": 49,
   "metadata": {
    "ExecuteTime": {
     "end_time": "2019-04-24T20:39:17.109877Z",
     "start_time": "2019-04-24T20:39:06.329Z"
    }
   },
   "outputs": [
    {
     "data": {
      "text/plain": [
       "{xml_nodeset (53)}\n",
       " [1] <span></span>\n",
       " [2] <span></span>\n",
       " [3] <span></span>\n",
       " [4] <span name=\"nv\" data-value=\"314206\">314,206</span>\n",
       " [5] <span name=\"nv\" data-value=\"308168\">308,168</span>\n",
       " [6] <span name=\"nv\" data-value=\"62649\">62,649</span>\n",
       " [7] <span name=\"nv\" data-value=\"246430\">246,430</span>\n",
       " [8] <span name=\"nv\" data-value=\"668365\">668,365</span>\n",
       " [9] <span name=\"nv\" data-value=\"226641\">226,641</span>\n",
       "[10] <span name=\"nv\" data-value=\"329041\">329,041</span>\n",
       "[11] <span name=\"nv\" data-value=\"206931\">206,931</span>\n",
       "[12] <span name=\"nv\" data-value=\"203704\">203,704</span>\n",
       "[13] <span name=\"nv\" data-value=\"131449\">131,449</span>\n",
       "[14] <span name=\"nv\" data-value=\"203635\">203,635</span>\n",
       "[15] <span name=\"nv\" data-value=\"90946\">90,946</span>\n",
       "[16] <span name=\"nv\" data-value=\"137799\">137,799</span>\n",
       "[17] <span name=\"nv\" data-value=\"64535\">64,535</span>\n",
       "[18] <span name=\"nv\" data-value=\"109795\">109,795</span>\n",
       "[19] <span name=\"nv\" data-value=\"49147\">49,147</span>\n",
       "[20] <span name=\"nv\" data-value=\"53260\">53,260</span>\n",
       "..."
      ]
     },
     "metadata": {},
     "output_type": "display_data"
    }
   ],
   "source": [
    "#Using CSS selectors to scrap the votes section\n",
    "votes_data_html <- html_nodes(webpage,'.text-muted+ span:nth-child(2)')\n",
    "votes_data_html"
   ]
  },
  {
   "cell_type": "code",
   "execution_count": 50,
   "metadata": {
    "ExecuteTime": {
     "end_time": "2019-04-24T20:39:17.109877Z",
     "start_time": "2019-04-24T20:39:06.329Z"
    }
   },
   "outputs": [
    {
     "data": {
      "text/html": [
       "<ol class=list-inline>\n",
       "\t<li>''</li>\n",
       "\t<li>''</li>\n",
       "\t<li>''</li>\n",
       "\t<li>'314,206'</li>\n",
       "\t<li>'308,168'</li>\n",
       "\t<li>'62,649'</li>\n",
       "</ol>\n"
      ],
      "text/latex": [
       "\\begin{enumerate*}\n",
       "\\item ''\n",
       "\\item ''\n",
       "\\item ''\n",
       "\\item '314,206'\n",
       "\\item '308,168'\n",
       "\\item '62,649'\n",
       "\\end{enumerate*}\n"
      ],
      "text/markdown": [
       "1. ''\n",
       "2. ''\n",
       "3. ''\n",
       "4. '314,206'\n",
       "5. '308,168'\n",
       "6. '62,649'\n",
       "\n",
       "\n"
      ],
      "text/plain": [
       "[1] \"\"        \"\"        \"\"        \"314,206\" \"308,168\" \"62,649\" "
      ]
     },
     "metadata": {},
     "output_type": "display_data"
    }
   ],
   "source": [
    "#Converting the votes data to text\n",
    "votes_data <- html_text(votes_data_html)\n",
    "\n",
    "#Let's have a look at the votes data\n",
    "head(votes_data)"
   ]
  },
  {
   "cell_type": "code",
   "execution_count": 51,
   "metadata": {
    "ExecuteTime": {
     "end_time": "2019-04-24T20:39:17.219242Z",
     "start_time": "2019-04-24T20:39:06.332Z"
    }
   },
   "outputs": [],
   "source": [
    "remove(votes_data)\n",
    "remove(votes_data_html)"
   ]
  },
  {
   "cell_type": "markdown",
   "metadata": {
    "ExecuteTime": {
     "end_time": "2019-04-24T20:39:17.399828Z",
     "start_time": "2019-04-24T20:39:06.345Z"
    }
   },
   "source": [
    "## Parse Director Name"
   ]
  },
  {
   "cell_type": "code",
   "execution_count": 52,
   "metadata": {
    "ExecuteTime": {
     "end_time": "2019-04-24T20:39:17.504547Z",
     "start_time": "2019-04-24T20:39:06.350Z"
    }
   },
   "outputs": [
    {
     "data": {
      "text/html": [
       "<ol class=list-inline>\n",
       "\t<li>'David Dobkin'</li>\n",
       "\t<li>'Adam McKay'</li>\n",
       "\t<li>'Jake Kasdan'</li>\n",
       "\t<li>'Adam McKay'</li>\n",
       "\t<li>'Todd Phillips'</li>\n",
       "\t<li>'Mike Judge'</li>\n",
       "</ol>\n"
      ],
      "text/latex": [
       "\\begin{enumerate*}\n",
       "\\item 'David Dobkin'\n",
       "\\item 'Adam McKay'\n",
       "\\item 'Jake Kasdan'\n",
       "\\item 'Adam McKay'\n",
       "\\item 'Todd Phillips'\n",
       "\\item 'Mike Judge'\n",
       "\\end{enumerate*}\n"
      ],
      "text/markdown": [
       "1. 'David Dobkin'\n",
       "2. 'Adam McKay'\n",
       "3. 'Jake Kasdan'\n",
       "4. 'Adam McKay'\n",
       "5. 'Todd Phillips'\n",
       "6. 'Mike Judge'\n",
       "\n",
       "\n"
      ],
      "text/plain": [
       "[1] \"David Dobkin\"  \"Adam McKay\"    \"Jake Kasdan\"   \"Adam McKay\"   \n",
       "[5] \"Todd Phillips\" \"Mike Judge\"   "
      ]
     },
     "metadata": {},
     "output_type": "display_data"
    }
   ],
   "source": [
    "#Using CSS selectors to scrap the directors section\n",
    "directors_data_html <- html_nodes(webpage,'.text-muted a:nth-child(1)')\n",
    "#Converting the directors data to text\n",
    "directors_data <- html_text(directors_data_html)\n",
    "#Let's have a look at the directors data\n",
    "head(directors_data)"
   ]
  },
  {
   "cell_type": "code",
   "execution_count": 53,
   "metadata": {
    "ExecuteTime": {
     "end_time": "2019-04-24T20:39:17.589322Z",
     "start_time": "2019-04-24T20:39:06.355Z"
    }
   },
   "outputs": [
    {
     "data": {
      "text/html": [
       "<ol class=list-inline>\n",
       "\t<li>'Owen Wilson'</li>\n",
       "\t<li>'Will Ferrell'</li>\n",
       "\t<li>'John C. Reilly'</li>\n",
       "\t<li>'Will Ferrell'</li>\n",
       "\t<li>'Zach Galifianakis'</li>\n",
       "\t<li>'Ron Livingston'</li>\n",
       "</ol>\n"
      ],
      "text/latex": [
       "\\begin{enumerate*}\n",
       "\\item 'Owen Wilson'\n",
       "\\item 'Will Ferrell'\n",
       "\\item 'John C. Reilly'\n",
       "\\item 'Will Ferrell'\n",
       "\\item 'Zach Galifianakis'\n",
       "\\item 'Ron Livingston'\n",
       "\\end{enumerate*}\n"
      ],
      "text/markdown": [
       "1. 'Owen Wilson'\n",
       "2. 'Will Ferrell'\n",
       "3. 'John C. Reilly'\n",
       "4. 'Will Ferrell'\n",
       "5. 'Zach Galifianakis'\n",
       "6. 'Ron Livingston'\n",
       "\n",
       "\n"
      ],
      "text/plain": [
       "[1] \"Owen Wilson\"       \"Will Ferrell\"      \"John C. Reilly\"   \n",
       "[4] \"Will Ferrell\"      \"Zach Galifianakis\" \"Ron Livingston\"   "
      ]
     },
     "metadata": {},
     "output_type": "display_data"
    }
   ],
   "source": [
    "#Data-Preprocessing: converting directors data into factors\n",
    "directors_data<-as.factor(directors_data)\n",
    "#Using CSS selectors to scrap the actors section\n",
    "actors_data_html <- html_nodes(webpage,'.ghost+ a')\n",
    "#Converting the gross actors data to text\n",
    "actors_data <- html_text(actors_data_html)\n",
    "#Let's have a look at the actors data\n",
    "head(actors_data)"
   ]
  },
  {
   "cell_type": "markdown",
   "metadata": {},
   "source": [
    "## Parse Lead Actor Name"
   ]
  },
  {
   "cell_type": "code",
   "execution_count": 54,
   "metadata": {
    "ExecuteTime": {
     "end_time": "2019-04-24T20:39:17.634205Z",
     "start_time": "2019-04-24T20:39:06.364Z"
    }
   },
   "outputs": [
    {
     "data": {
      "text/plain": [
       "{xml_nodeset (50)}\n",
       " [1] <a href=\"/name/nm0005562/?ref_=ttls_li_st_0\">Owen Wilson</a>\n",
       " [2] <a href=\"/name/nm0002071/?ref_=ttls_li_st_0\">Will Ferrell</a>\n",
       " [3] <a href=\"/name/nm0000604/?ref_=ttls_li_st_0\">John C. Reilly</a>\n",
       " [4] <a href=\"/name/nm0002071/?ref_=ttls_li_st_0\">Will Ferrell</a>\n",
       " [5] <a href=\"/name/nm0302108/?ref_=ttls_li_st_0\">Zach Galifianakis</a>\n",
       " [6] <a href=\"/name/nm0515296/?ref_=ttls_li_st_0\">Ron Livingston</a>\n",
       " [7] <a href=\"/name/nm0000120/?ref_=ttls_li_st_0\">Jim Carrey</a>\n",
       " [8] <a href=\"/name/nm0000196/?ref_=ttls_li_st_0\">Mike Myers</a>\n",
       " [9] <a href=\"/name/nm0000196/?ref_=ttls_li_st_0\">Mike Myers</a>\n",
       "[10] <a href=\"/name/nm0001774/?ref_=ttls_li_st_0\">Ben Stiller</a>\n",
       "[11] <a href=\"/name/nm0005561/?ref_=ttls_li_st_0\">Luke Wilson</a>\n",
       "[12] <a href=\"/name/nm0000409/?ref_=ttls_li_st_0\">Brendan Fraser</a>\n",
       "[13] <a href=\"/name/nm0000134/?ref_=ttls_li_st_0\">Robert De Niro</a>\n",
       "[14] <a href=\"/name/nm0000134/?ref_=ttls_li_st_0\">Robert De Niro</a>\n",
       "[15] <a href=\"/name/nm0000188/?ref_=ttls_li_st_0\">Steve Martin</a>\n",
       "[16] <a href=\"/name/nm0000188/?ref_=ttls_li_st_0\">Steve Martin</a>\n",
       "[17] <a href=\"/name/nm0441592/?ref_=ttls_li_st_0\">Chris Kattan</a>\n",
       "[18] <a href=\"/name/nm0000120/?ref_=ttls_li_st_0\">Jim Carrey</a>\n",
       "[19] <a href=\"/name/nm0068338/?ref_=ttls_li_st_0\">Kristen Bell</a>\n",
       "[20] <a href=\"/name/nm0136797/?ref_=ttls_li_st_0\">Steve Carell</a>\n",
       "..."
      ]
     },
     "metadata": {},
     "output_type": "display_data"
    }
   ],
   "source": [
    "actors_data_html"
   ]
  },
  {
   "cell_type": "code",
   "execution_count": 55,
   "metadata": {
    "ExecuteTime": {
     "end_time": "2019-04-24T20:39:17.712991Z",
     "start_time": "2019-04-24T20:39:06.372Z"
    }
   },
   "outputs": [],
   "source": [
    "#Data-Preprocessing: converting actors data into factors\n",
    "actors_data<-as.factor(actors_data)"
   ]
  },
  {
   "cell_type": "markdown",
   "metadata": {},
   "source": [
    "## Parse Metascore Ratings"
   ]
  },
  {
   "cell_type": "code",
   "execution_count": 56,
   "metadata": {
    "ExecuteTime": {
     "end_time": "2019-04-24T20:39:17.712991Z",
     "start_time": "2019-04-24T20:39:06.372Z"
    }
   },
   "outputs": [
    {
     "data": {
      "text/html": [
       "<ol class=list-inline>\n",
       "\t<li><span style=white-space:pre-wrap>'64        '</span></li>\n",
       "\t<li><span style=white-space:pre-wrap>'63        '</span></li>\n",
       "\t<li><span style=white-space:pre-wrap>'63        '</span></li>\n",
       "\t<li><span style=white-space:pre-wrap>'51        '</span></li>\n",
       "\t<li><span style=white-space:pre-wrap>'73        '</span></li>\n",
       "\t<li><span style=white-space:pre-wrap>'68        '</span></li>\n",
       "</ol>\n"
      ],
      "text/latex": [
       "\\begin{enumerate*}\n",
       "\\item '64        '\n",
       "\\item '63        '\n",
       "\\item '63        '\n",
       "\\item '51        '\n",
       "\\item '73        '\n",
       "\\item '68        '\n",
       "\\end{enumerate*}\n"
      ],
      "text/markdown": [
       "1. <span style=white-space:pre-wrap>'64        '</span>\n",
       "2. <span style=white-space:pre-wrap>'63        '</span>\n",
       "3. <span style=white-space:pre-wrap>'63        '</span>\n",
       "4. <span style=white-space:pre-wrap>'51        '</span>\n",
       "5. <span style=white-space:pre-wrap>'73        '</span>\n",
       "6. <span style=white-space:pre-wrap>'68        '</span>\n",
       "\n",
       "\n"
      ],
      "text/plain": [
       "[1] \"64        \" \"63        \" \"63        \" \"51        \" \"73        \"\n",
       "[6] \"68        \""
      ]
     },
     "metadata": {},
     "output_type": "display_data"
    }
   ],
   "source": [
    "#Using CSS selectors to scrap the metascore section\n",
    "metascore_data_html <- html_nodes(webpage,'.metascore')\n",
    "#Converting the runtime data to text\n",
    "metascore_data <- html_text(metascore_data_html)\n",
    "#Let's have a look at the metascore\n",
    "head(metascore_data)"
   ]
  },
  {
   "cell_type": "code",
   "execution_count": 57,
   "metadata": {
    "ExecuteTime": {
     "end_time": "2019-04-24T20:39:17.758867Z",
     "start_time": "2019-04-24T20:39:06.379Z"
    }
   },
   "outputs": [
    {
     "data": {
      "text/html": [
       "50"
      ],
      "text/latex": [
       "50"
      ],
      "text/markdown": [
       "50"
      ],
      "text/plain": [
       "[1] 50"
      ]
     },
     "metadata": {},
     "output_type": "display_data"
    }
   ],
   "source": [
    "#Data-Preprocessing: removing extra space in metascore\n",
    "metascore_data<-gsub(\" \",\"\",metascore_data)\n",
    "\n",
    "#Lets check the length of metascore data\n",
    "length(metascore_data)"
   ]
  },
  {
   "cell_type": "code",
   "execution_count": 58,
   "metadata": {
    "ExecuteTime": {
     "end_time": "2019-04-24T20:39:17.869572Z",
     "start_time": "2019-04-24T20:39:06.387Z"
    }
   },
   "outputs": [
    {
     "data": {
      "text/html": [
       "<ol class=list-inline>\n",
       "\t<li>'$209.22M'</li>\n",
       "\t<li>'$85.29M'</li>\n",
       "\t<li>'$18.32M'</li>\n",
       "\t<li>'$100.47M'</li>\n",
       "\t<li>'$277.32M'</li>\n",
       "\t<li>'$10.82M'</li>\n",
       "</ol>\n"
      ],
      "text/latex": [
       "\\begin{enumerate*}\n",
       "\\item '\\$209.22M'\n",
       "\\item '\\$85.29M'\n",
       "\\item '\\$18.32M'\n",
       "\\item '\\$100.47M'\n",
       "\\item '\\$277.32M'\n",
       "\\item '\\$10.82M'\n",
       "\\end{enumerate*}\n"
      ],
      "text/markdown": [
       "1. '$209.22M'\n",
       "2. '$85.29M'\n",
       "3. '$18.32M'\n",
       "4. '$100.47M'\n",
       "5. '$277.32M'\n",
       "6. '$10.82M'\n",
       "\n",
       "\n"
      ],
      "text/plain": [
       "[1] \"$209.22M\" \"$85.29M\"  \"$18.32M\"  \"$100.47M\" \"$277.32M\" \"$10.82M\" "
      ]
     },
     "metadata": {},
     "output_type": "display_data"
    }
   ],
   "source": [
    "#Using CSS selectors to scrap the gross revenue section\n",
    "gross_data_html <- html_nodes(webpage,'.text-muted .ghost~ .text-muted+ span')\n",
    "\n",
    "#Converting the gross revenue data to text\n",
    "gross_data <- html_text(gross_data_html)\n",
    "\n",
    "#Let's have a look at the votes data\n",
    "head(gross_data)"
   ]
  },
  {
   "cell_type": "markdown",
   "metadata": {},
   "source": [
    "## Parse Gross Revenue"
   ]
  },
  {
   "cell_type": "code",
   "execution_count": 59,
   "metadata": {
    "ExecuteTime": {
     "end_time": "2019-04-24T20:39:17.933626Z",
     "start_time": "2019-04-24T20:39:06.394Z"
    }
   },
   "outputs": [
    {
     "data": {
      "text/html": [
       "<ol class=list-inline>\n",
       "\t<li>'$209.22'</li>\n",
       "\t<li>'$85.29'</li>\n",
       "\t<li>'$18.32'</li>\n",
       "\t<li>'$100.47'</li>\n",
       "\t<li>'$277.32'</li>\n",
       "\t<li>'$10.82'</li>\n",
       "</ol>\n"
      ],
      "text/latex": [
       "\\begin{enumerate*}\n",
       "\\item '\\$209.22'\n",
       "\\item '\\$85.29'\n",
       "\\item '\\$18.32'\n",
       "\\item '\\$100.47'\n",
       "\\item '\\$277.32'\n",
       "\\item '\\$10.82'\n",
       "\\end{enumerate*}\n"
      ],
      "text/markdown": [
       "1. '$209.22'\n",
       "2. '$85.29'\n",
       "3. '$18.32'\n",
       "4. '$100.47'\n",
       "5. '$277.32'\n",
       "6. '$10.82'\n",
       "\n",
       "\n"
      ],
      "text/plain": [
       "[1] \"$209.22\" \"$85.29\"  \"$18.32\"  \"$100.47\" \"$277.32\" \"$10.82\" "
      ]
     },
     "metadata": {},
     "output_type": "display_data"
    }
   ],
   "source": [
    "# Data-Preprocessing: removing '$' and 'M' signs\n",
    "gross_data<-gsub(\"M\",\"\",gross_data)\n",
    "head(gross_data)\n",
    "gross_data<-substring(gross_data,2,6)"
   ]
  },
  {
   "cell_type": "code",
   "execution_count": 60,
   "metadata": {
    "ExecuteTime": {
     "end_time": "2019-04-24T20:39:17.933626Z",
     "start_time": "2019-04-24T20:39:06.394Z"
    }
   },
   "outputs": [
    {
     "data": {
      "text/html": [
       "<ol class=list-inline>\n",
       "\t<li>'209.2'</li>\n",
       "\t<li>'85.29'</li>\n",
       "\t<li>'18.32'</li>\n",
       "\t<li>'100.4'</li>\n",
       "\t<li>'277.3'</li>\n",
       "\t<li>'10.82'</li>\n",
       "</ol>\n"
      ],
      "text/latex": [
       "\\begin{enumerate*}\n",
       "\\item '209.2'\n",
       "\\item '85.29'\n",
       "\\item '18.32'\n",
       "\\item '100.4'\n",
       "\\item '277.3'\n",
       "\\item '10.82'\n",
       "\\end{enumerate*}\n"
      ],
      "text/markdown": [
       "1. '209.2'\n",
       "2. '85.29'\n",
       "3. '18.32'\n",
       "4. '100.4'\n",
       "5. '277.3'\n",
       "6. '10.82'\n",
       "\n",
       "\n"
      ],
      "text/plain": [
       "[1] \"209.2\" \"85.29\" \"18.32\" \"100.4\" \"277.3\" \"10.82\""
      ]
     },
     "metadata": {},
     "output_type": "display_data"
    },
    {
     "data": {
      "text/html": [
       "50"
      ],
      "text/latex": [
       "50"
      ],
      "text/markdown": [
       "50"
      ],
      "text/plain": [
       "[1] 50"
      ]
     },
     "metadata": {},
     "output_type": "display_data"
    },
    {
     "data": {
      "text/plain": [
       "   Length     Class      Mode \n",
       "       50 character character "
      ]
     },
     "metadata": {},
     "output_type": "display_data"
    }
   ],
   "source": [
    "# Show the cleaning process\n",
    "head(gross_data)\n",
    "length(gross_data)\n",
    "summary(gross_data)"
   ]
  },
  {
   "cell_type": "code",
   "execution_count": 61,
   "metadata": {
    "ExecuteTime": {
     "end_time": "2019-04-24T20:39:17.986484Z",
     "start_time": "2019-04-24T20:39:06.405Z"
    }
   },
   "outputs": [],
   "source": [
    "#Data-Preprocessing: converting gross to numerical\n",
    "gross_data<-as.numeric(gross_data)"
   ]
  },
  {
   "cell_type": "markdown",
   "metadata": {},
   "source": [
    "# Combine all lists to form one data frame"
   ]
  },
  {
   "cell_type": "code",
   "execution_count": 62,
   "metadata": {
    "ExecuteTime": {
     "end_time": "2019-04-24T20:39:18.027376Z",
     "start_time": "2019-04-24T20:39:06.411Z"
    }
   },
   "outputs": [],
   "source": [
    "#Combining all the lists to form a data frame\n",
    "movies_df<-data.frame(Rank = rank_data, Title = title_data,\n",
    "Description = description_data, Runtime = runtime_data,\n",
    "Rating = rating_data,\n",
    "Metascore = metascore_data, Gross_Earning_in_Mil = gross_data, Director = directors_data, Actor = actors_data)"
   ]
  },
  {
   "cell_type": "code",
   "execution_count": 63,
   "metadata": {
    "ExecuteTime": {
     "end_time": "2019-04-24T20:39:18.082369Z",
     "start_time": "2019-04-24T20:39:06.417Z"
    }
   },
   "outputs": [
    {
     "name": "stdout",
     "output_type": "stream",
     "text": [
      "'data.frame':\t50 obs. of  9 variables:\n",
      " $ Rank                : num  1 2 3 4 5 6 7 8 9 10 ...\n",
      " $ Title               : Factor w/ 50 levels \"¡Three Amigos!\",..: 48 8 47 36 41 31 16 9 10 35 ...\n",
      " $ Description         : Factor w/ 50 levels \"    6 Los Angeles celebrities are stuck in James Franco's house after a series of devastating events just destr\"| __truncated__,..: 32 35 36 43 40 41 37 2 24 48 ...\n",
      " $ Runtime             : num  119 94 96 98 100 89 107 89 95 101 ...\n",
      " $ Rating              : num  7 7.2 6.8 6.9 7.7 7.8 7.3 7 6.6 6.1 ...\n",
      " $ Metascore           : Factor w/ 30 levels \"26\",\"37\",\"41\",..: 16 15 15 8 23 18 3 8 12 11 ...\n",
      " $ Gross_Earning_in_Mil: num  209.2 85.3 18.3 100.4 277.3 ...\n",
      " $ Director            : Factor w/ 34 levels \"Adam McKay\",\"Ben Stiller\",..: 8 1 16 1 33 29 31 17 17 33 ...\n",
      " $ Actor               : Factor w/ 38 levels \"Anna Faris\",\"Ben Stiller\",..: 26 36 15 36 38 30 12 25 25 2 ...\n"
     ]
    }
   ],
   "source": [
    "#Structure of the data frame\n",
    "str(movies_df)"
   ]
  },
  {
   "cell_type": "code",
   "execution_count": 64,
   "metadata": {
    "ExecuteTime": {
     "end_time": "2019-04-24T20:39:18.130866Z",
     "start_time": "2019-04-24T20:39:06.423Z"
    }
   },
   "outputs": [
    {
     "data": {
      "text/html": [
       "<table>\n",
       "<thead><tr><th scope=col>Rank</th><th scope=col>Title</th><th scope=col>Description</th><th scope=col>Runtime</th><th scope=col>Rating</th><th scope=col>Metascore</th><th scope=col>Gross_Earning_in_Mil</th><th scope=col>Director</th><th scope=col>Actor</th></tr></thead>\n",
       "<tbody>\n",
       "\t<tr><td> 1                                                                                                                                                                                                                                 </td><td>Wedding Crashers                                                                                                                                                                                                                   </td><td>    John Beckwith and Jeremy Grey, a pair of committed womanizers who sneak into weddings to take advantage of the romantic tinge in the air, find themselves at odds with one another when John meets and falls for Claire Cleary.</td><td>119                                                                                                                                                                                                                                </td><td>7.0                                                                                                                                                                                                                                </td><td>64                                                                                                                                                                                                                                 </td><td>209.20                                                                                                                                                                                                                             </td><td>David Dobkin                                                                                                                                                                                                                       </td><td>Owen Wilson                                                                                                                                                                                                                        </td></tr>\n",
       "\t<tr><td> 2                                                                                                                                                                                                                                 </td><td>Anchorman: The Legend of Ron Burgundy                                                                                                                                                                                              </td><td>    Ron Burgundy is San Diego's top-rated newsman in the male-dominated broadcasting of the 1970s, but that's all about to change for Ron and his cronies when an ambitious woman is hired as a new anchor.                        </td><td> 94                                                                                                                                                                                                                                </td><td>7.2                                                                                                                                                                                                                                </td><td>63                                                                                                                                                                                                                                 </td><td> 85.29                                                                                                                                                                                                                             </td><td>Adam McKay                                                                                                                                                                                                                         </td><td>Will Ferrell                                                                                                                                                                                                                       </td></tr>\n",
       "\t<tr><td> 3                                                                                                                                                                                                                                 </td><td>Walk Hard: The Dewey Cox Story                                                                                                                                                                                                     </td><td>    Singer Dewey Cox overcomes adversity to become a musical legend.                                                                                                                                                               </td><td> 96                                                                                                                                                                                                                                </td><td>6.8                                                                                                                                                                                                                                </td><td>63                                                                                                                                                                                                                                 </td><td> 18.32                                                                                                                                                                                                                             </td><td>Jake Kasdan                                                                                                                                                                                                                        </td><td>John C. Reilly                                                                                                                                                                                                                     </td></tr>\n",
       "\t<tr><td> 4                                                                                                                                                                                                                                 </td><td>Step Brothers                                                                                                                                                                                                                      </td><td>    Two aimless middle-aged losers still living at home are forced against their will to become roommates when their parents marry.                                                                                                </td><td> 98                                                                                                                                                                                                                                </td><td>6.9                                                                                                                                                                                                                                </td><td>51                                                                                                                                                                                                                                 </td><td>100.40                                                                                                                                                                                                                             </td><td>Adam McKay                                                                                                                                                                                                                         </td><td>Will Ferrell                                                                                                                                                                                                                       </td></tr>\n",
       "\t<tr><td> 5                                                                                                                                                                                                                                 </td><td>The Hangover                                                                                                                                                                                                                       </td><td>    Three buddies wake up from a bachelor party in Las Vegas, with no memory of the previous night and the bachelor missing. They make their way around the city in order to find their friend before his wedding.                 </td><td>100                                                                                                                                                                                                                                </td><td>7.7                                                                                                                                                                                                                                </td><td>73                                                                                                                                                                                                                                 </td><td>277.30                                                                                                                                                                                                                             </td><td>Todd Phillips                                                                                                                                                                                                                      </td><td>Zach Galifianakis                                                                                                                                                                                                                  </td></tr>\n",
       "\t<tr><td> 6                                                                                                                                                                                                                                 </td><td>Office Space                                                                                                                                                                                                                       </td><td>    Three company workers who hate their jobs decide to rebel against their greedy boss.                                                                                                                                           </td><td> 89                                                                                                                                                                                                                                </td><td>7.8                                                                                                                                                                                                                                </td><td>68                                                                                                                                                                                                                                 </td><td> 10.82                                                                                                                                                                                                                             </td><td>Mike Judge                                                                                                                                                                                                                         </td><td>Ron Livingston                                                                                                                                                                                                                     </td></tr>\n",
       "\t<tr><td> 7                                                                                                                                                                                                                                 </td><td>Dumb and Dumber                                                                                                                                                                                                                    </td><td>    The cross-country adventures of 2 good-hearted but incredibly stupid friends.                                                                                                                                                  </td><td>107                                                                                                                                                                                                                                </td><td>7.3                                                                                                                                                                                                                                </td><td>41                                                                                                                                                                                                                                 </td><td>127.10                                                                                                                                                                                                                             </td><td>Peter Farrelly                                                                                                                                                                                                                     </td><td>Jim Carrey                                                                                                                                                                                                                         </td></tr>\n",
       "\t<tr><td> 8                                                                                                                                                                                                                                 </td><td>Austin Powers: International Man of Mystery                                                                                                                                                                                        </td><td>    A 1960s secret agent is brought out of cryofreeze to oppose his greatest enemy in the 1990s, where his social attitudes are glaringly out of place.                                                                            </td><td> 89                                                                                                                                                                                                                                </td><td>7.0                                                                                                                                                                                                                                </td><td>51                                                                                                                                                                                                                                 </td><td> 53.88                                                                                                                                                                                                                             </td><td>Jay Roach                                                                                                                                                                                                                          </td><td>Mike Myers                                                                                                                                                                                                                         </td></tr>\n",
       "\t<tr><td> 9                                                                                                                                                                                                                                 </td><td>Austin Powers: The Spy Who Shagged Me                                                                                                                                                                                              </td><td>    Dr. Evil is back and has invented a new time machine that allows him to go back to the 1960s and steal Austin Powers' mojo, inadvertently leaving him \"shagless\".                                                              </td><td> 95                                                                                                                                                                                                                                </td><td>6.6                                                                                                                                                                                                                                </td><td>59                                                                                                                                                                                                                                 </td><td>206.00                                                                                                                                                                                                                             </td><td>Jay Roach                                                                                                                                                                                                                          </td><td>Mike Myers                                                                                                                                                                                                                         </td></tr>\n",
       "\t<tr><td>10                                                                                                                                                                                                                                                                         </td><td><span style=white-space:pre-wrap>Starsky &amp; Hutch                            </span>                                                                                                                                                                                    </td><td><span style=white-space:pre-wrap>    Two streetwise cops bust criminals in their red and white Ford Gran Torino, with the help of a police snitch called \"Huggy Bear\".                                                                                              </span></td><td>101                                                                                                                                                                                                                                                                        </td><td>6.1                                                                                                                                                                                                                                                                        </td><td>55                                                                                                                                                                                                                                                                         </td><td> 88.24                                                                                                                                                                                                                                                                     </td><td>Todd Phillips                                                                                                                                                                                                                                                              </td><td><span style=white-space:pre-wrap>Ben Stiller      </span>                                                                                                                                                                                                                  </td></tr>\n",
       "</tbody>\n",
       "</table>\n"
      ],
      "text/latex": [
       "\\begin{tabular}{r|lllllllll}\n",
       " Rank & Title & Description & Runtime & Rating & Metascore & Gross\\_Earning\\_in\\_Mil & Director & Actor\\\\\n",
       "\\hline\n",
       "\t  1                                                                                                                                                                                                                                  & Wedding Crashers                                                                                                                                                                                                                    &     John Beckwith and Jeremy Grey, a pair of committed womanizers who sneak into weddings to take advantage of the romantic tinge in the air, find themselves at odds with one another when John meets and falls for Claire Cleary. & 119                                                                                                                                                                                                                                 & 7.0                                                                                                                                                                                                                                 & 64                                                                                                                                                                                                                                  & 209.20                                                                                                                                                                                                                              & David Dobkin                                                                                                                                                                                                                        & Owen Wilson                                                                                                                                                                                                                        \\\\\n",
       "\t  2                                                                                                                                                                                                                                  & Anchorman: The Legend of Ron Burgundy                                                                                                                                                                                               &     Ron Burgundy is San Diego's top-rated newsman in the male-dominated broadcasting of the 1970s, but that's all about to change for Ron and his cronies when an ambitious woman is hired as a new anchor.                         &  94                                                                                                                                                                                                                                 & 7.2                                                                                                                                                                                                                                 & 63                                                                                                                                                                                                                                  &  85.29                                                                                                                                                                                                                              & Adam McKay                                                                                                                                                                                                                          & Will Ferrell                                                                                                                                                                                                                       \\\\\n",
       "\t  3                                                                                                                                                                                                                                  & Walk Hard: The Dewey Cox Story                                                                                                                                                                                                      &     Singer Dewey Cox overcomes adversity to become a musical legend.                                                                                                                                                                &  96                                                                                                                                                                                                                                 & 6.8                                                                                                                                                                                                                                 & 63                                                                                                                                                                                                                                  &  18.32                                                                                                                                                                                                                              & Jake Kasdan                                                                                                                                                                                                                         & John C. Reilly                                                                                                                                                                                                                     \\\\\n",
       "\t  4                                                                                                                                                                                                                                  & Step Brothers                                                                                                                                                                                                                       &     Two aimless middle-aged losers still living at home are forced against their will to become roommates when their parents marry.                                                                                                 &  98                                                                                                                                                                                                                                 & 6.9                                                                                                                                                                                                                                 & 51                                                                                                                                                                                                                                  & 100.40                                                                                                                                                                                                                              & Adam McKay                                                                                                                                                                                                                          & Will Ferrell                                                                                                                                                                                                                       \\\\\n",
       "\t  5                                                                                                                                                                                                                                  & The Hangover                                                                                                                                                                                                                        &     Three buddies wake up from a bachelor party in Las Vegas, with no memory of the previous night and the bachelor missing. They make their way around the city in order to find their friend before his wedding.                  & 100                                                                                                                                                                                                                                 & 7.7                                                                                                                                                                                                                                 & 73                                                                                                                                                                                                                                  & 277.30                                                                                                                                                                                                                              & Todd Phillips                                                                                                                                                                                                                       & Zach Galifianakis                                                                                                                                                                                                                  \\\\\n",
       "\t  6                                                                                                                                                                                                                                  & Office Space                                                                                                                                                                                                                        &     Three company workers who hate their jobs decide to rebel against their greedy boss.                                                                                                                                            &  89                                                                                                                                                                                                                                 & 7.8                                                                                                                                                                                                                                 & 68                                                                                                                                                                                                                                  &  10.82                                                                                                                                                                                                                              & Mike Judge                                                                                                                                                                                                                          & Ron Livingston                                                                                                                                                                                                                     \\\\\n",
       "\t  7                                                                                                                                                                                                                                  & Dumb and Dumber                                                                                                                                                                                                                     &     The cross-country adventures of 2 good-hearted but incredibly stupid friends.                                                                                                                                                   & 107                                                                                                                                                                                                                                 & 7.3                                                                                                                                                                                                                                 & 41                                                                                                                                                                                                                                  & 127.10                                                                                                                                                                                                                              & Peter Farrelly                                                                                                                                                                                                                      & Jim Carrey                                                                                                                                                                                                                         \\\\\n",
       "\t  8                                                                                                                                                                                                                                  & Austin Powers: International Man of Mystery                                                                                                                                                                                         &     A 1960s secret agent is brought out of cryofreeze to oppose his greatest enemy in the 1990s, where his social attitudes are glaringly out of place.                                                                             &  89                                                                                                                                                                                                                                 & 7.0                                                                                                                                                                                                                                 & 51                                                                                                                                                                                                                                  &  53.88                                                                                                                                                                                                                              & Jay Roach                                                                                                                                                                                                                           & Mike Myers                                                                                                                                                                                                                         \\\\\n",
       "\t  9                                                                                                                                                                                                                                  & Austin Powers: The Spy Who Shagged Me                                                                                                                                                                                               &     Dr. Evil is back and has invented a new time machine that allows him to go back to the 1960s and steal Austin Powers' mojo, inadvertently leaving him \"shagless\".                                                               &  95                                                                                                                                                                                                                                 & 6.6                                                                                                                                                                                                                                 & 59                                                                                                                                                                                                                                  & 206.00                                                                                                                                                                                                                              & Jay Roach                                                                                                                                                                                                                           & Mike Myers                                                                                                                                                                                                                         \\\\\n",
       "\t 10                                                                                                                                                                                                                                  & Starsky \\& Hutch                                                                                                                                                                                                                   &     Two streetwise cops bust criminals in their red and white Ford Gran Torino, with the help of a police snitch called \"Huggy Bear\".                                                                                               & 101                                                                                                                                                                                                                                 & 6.1                                                                                                                                                                                                                                 & 55                                                                                                                                                                                                                                  &  88.24                                                                                                                                                                                                                              & Todd Phillips                                                                                                                                                                                                                       & Ben Stiller                                                                                                                                                                                                                        \\\\\n",
       "\\end{tabular}\n"
      ],
      "text/markdown": [
       "\n",
       "Rank | Title | Description | Runtime | Rating | Metascore | Gross_Earning_in_Mil | Director | Actor | \n",
       "|---|---|---|---|---|---|---|---|---|---|\n",
       "|  1                                                                                                                                                                                                                                  | Wedding Crashers                                                                                                                                                                                                                    |     John Beckwith and Jeremy Grey, a pair of committed womanizers who sneak into weddings to take advantage of the romantic tinge in the air, find themselves at odds with one another when John meets and falls for Claire Cleary. | 119                                                                                                                                                                                                                                 | 7.0                                                                                                                                                                                                                                 | 64                                                                                                                                                                                                                                  | 209.20                                                                                                                                                                                                                              | David Dobkin                                                                                                                                                                                                                        | Owen Wilson                                                                                                                                                                                                                         | \n",
       "|  2                                                                                                                                                                                                                                  | Anchorman: The Legend of Ron Burgundy                                                                                                                                                                                               |     Ron Burgundy is San Diego's top-rated newsman in the male-dominated broadcasting of the 1970s, but that's all about to change for Ron and his cronies when an ambitious woman is hired as a new anchor.                         |  94                                                                                                                                                                                                                                 | 7.2                                                                                                                                                                                                                                 | 63                                                                                                                                                                                                                                  |  85.29                                                                                                                                                                                                                              | Adam McKay                                                                                                                                                                                                                          | Will Ferrell                                                                                                                                                                                                                        | \n",
       "|  3                                                                                                                                                                                                                                  | Walk Hard: The Dewey Cox Story                                                                                                                                                                                                      |     Singer Dewey Cox overcomes adversity to become a musical legend.                                                                                                                                                                |  96                                                                                                                                                                                                                                 | 6.8                                                                                                                                                                                                                                 | 63                                                                                                                                                                                                                                  |  18.32                                                                                                                                                                                                                              | Jake Kasdan                                                                                                                                                                                                                         | John C. Reilly                                                                                                                                                                                                                      | \n",
       "|  4                                                                                                                                                                                                                                  | Step Brothers                                                                                                                                                                                                                       |     Two aimless middle-aged losers still living at home are forced against their will to become roommates when their parents marry.                                                                                                 |  98                                                                                                                                                                                                                                 | 6.9                                                                                                                                                                                                                                 | 51                                                                                                                                                                                                                                  | 100.40                                                                                                                                                                                                                              | Adam McKay                                                                                                                                                                                                                          | Will Ferrell                                                                                                                                                                                                                        | \n",
       "|  5                                                                                                                                                                                                                                  | The Hangover                                                                                                                                                                                                                        |     Three buddies wake up from a bachelor party in Las Vegas, with no memory of the previous night and the bachelor missing. They make their way around the city in order to find their friend before his wedding.                  | 100                                                                                                                                                                                                                                 | 7.7                                                                                                                                                                                                                                 | 73                                                                                                                                                                                                                                  | 277.30                                                                                                                                                                                                                              | Todd Phillips                                                                                                                                                                                                                       | Zach Galifianakis                                                                                                                                                                                                                   | \n",
       "|  6                                                                                                                                                                                                                                  | Office Space                                                                                                                                                                                                                        |     Three company workers who hate their jobs decide to rebel against their greedy boss.                                                                                                                                            |  89                                                                                                                                                                                                                                 | 7.8                                                                                                                                                                                                                                 | 68                                                                                                                                                                                                                                  |  10.82                                                                                                                                                                                                                              | Mike Judge                                                                                                                                                                                                                          | Ron Livingston                                                                                                                                                                                                                      | \n",
       "|  7                                                                                                                                                                                                                                  | Dumb and Dumber                                                                                                                                                                                                                     |     The cross-country adventures of 2 good-hearted but incredibly stupid friends.                                                                                                                                                   | 107                                                                                                                                                                                                                                 | 7.3                                                                                                                                                                                                                                 | 41                                                                                                                                                                                                                                  | 127.10                                                                                                                                                                                                                              | Peter Farrelly                                                                                                                                                                                                                      | Jim Carrey                                                                                                                                                                                                                          | \n",
       "|  8                                                                                                                                                                                                                                  | Austin Powers: International Man of Mystery                                                                                                                                                                                         |     A 1960s secret agent is brought out of cryofreeze to oppose his greatest enemy in the 1990s, where his social attitudes are glaringly out of place.                                                                             |  89                                                                                                                                                                                                                                 | 7.0                                                                                                                                                                                                                                 | 51                                                                                                                                                                                                                                  |  53.88                                                                                                                                                                                                                              | Jay Roach                                                                                                                                                                                                                           | Mike Myers                                                                                                                                                                                                                          | \n",
       "|  9                                                                                                                                                                                                                                  | Austin Powers: The Spy Who Shagged Me                                                                                                                                                                                               |     Dr. Evil is back and has invented a new time machine that allows him to go back to the 1960s and steal Austin Powers' mojo, inadvertently leaving him \"shagless\".                                                               |  95                                                                                                                                                                                                                                 | 6.6                                                                                                                                                                                                                                 | 59                                                                                                                                                                                                                                  | 206.00                                                                                                                                                                                                                              | Jay Roach                                                                                                                                                                                                                           | Mike Myers                                                                                                                                                                                                                          | \n",
       "| 10                                                                                                                                                                                                                                  | Starsky & Hutch                                                                                                                                                                                                                     |     Two streetwise cops bust criminals in their red and white Ford Gran Torino, with the help of a police snitch called \"Huggy Bear\".                                                                                               | 101                                                                                                                                                                                                                                 | 6.1                                                                                                                                                                                                                                 | 55                                                                                                                                                                                                                                  |  88.24                                                                                                                                                                                                                              | Todd Phillips                                                                                                                                                                                                                       | Ben Stiller                                                                                                                                                                                                                         | \n",
       "\n",
       "\n"
      ],
      "text/plain": [
       "   Rank Title                                      \n",
       "1   1   Wedding Crashers                           \n",
       "2   2   Anchorman: The Legend of Ron Burgundy      \n",
       "3   3   Walk Hard: The Dewey Cox Story             \n",
       "4   4   Step Brothers                              \n",
       "5   5   The Hangover                               \n",
       "6   6   Office Space                               \n",
       "7   7   Dumb and Dumber                            \n",
       "8   8   Austin Powers: International Man of Mystery\n",
       "9   9   Austin Powers: The Spy Who Shagged Me      \n",
       "10 10   Starsky & Hutch                            \n",
       "   Description                                                                                                                                                                                                                        \n",
       "1      John Beckwith and Jeremy Grey, a pair of committed womanizers who sneak into weddings to take advantage of the romantic tinge in the air, find themselves at odds with one another when John meets and falls for Claire Cleary.\n",
       "2      Ron Burgundy is San Diego's top-rated newsman in the male-dominated broadcasting of the 1970s, but that's all about to change for Ron and his cronies when an ambitious woman is hired as a new anchor.                        \n",
       "3      Singer Dewey Cox overcomes adversity to become a musical legend.                                                                                                                                                               \n",
       "4      Two aimless middle-aged losers still living at home are forced against their will to become roommates when their parents marry.                                                                                                \n",
       "5      Three buddies wake up from a bachelor party in Las Vegas, with no memory of the previous night and the bachelor missing. They make their way around the city in order to find their friend before his wedding.                 \n",
       "6      Three company workers who hate their jobs decide to rebel against their greedy boss.                                                                                                                                           \n",
       "7      The cross-country adventures of 2 good-hearted but incredibly stupid friends.                                                                                                                                                  \n",
       "8      A 1960s secret agent is brought out of cryofreeze to oppose his greatest enemy in the 1990s, where his social attitudes are glaringly out of place.                                                                            \n",
       "9      Dr. Evil is back and has invented a new time machine that allows him to go back to the 1960s and steal Austin Powers' mojo, inadvertently leaving him \"shagless\".                                                              \n",
       "10     Two streetwise cops bust criminals in their red and white Ford Gran Torino, with the help of a police snitch called \"Huggy Bear\".                                                                                              \n",
       "   Runtime Rating Metascore Gross_Earning_in_Mil Director      \n",
       "1  119     7.0    64        209.20               David Dobkin  \n",
       "2   94     7.2    63         85.29               Adam McKay    \n",
       "3   96     6.8    63         18.32               Jake Kasdan   \n",
       "4   98     6.9    51        100.40               Adam McKay    \n",
       "5  100     7.7    73        277.30               Todd Phillips \n",
       "6   89     7.8    68         10.82               Mike Judge    \n",
       "7  107     7.3    41        127.10               Peter Farrelly\n",
       "8   89     7.0    51         53.88               Jay Roach     \n",
       "9   95     6.6    59        206.00               Jay Roach     \n",
       "10 101     6.1    55         88.24               Todd Phillips \n",
       "   Actor            \n",
       "1  Owen Wilson      \n",
       "2  Will Ferrell     \n",
       "3  John C. Reilly   \n",
       "4  Will Ferrell     \n",
       "5  Zach Galifianakis\n",
       "6  Ron Livingston   \n",
       "7  Jim Carrey       \n",
       "8  Mike Myers       \n",
       "9  Mike Myers       \n",
       "10 Ben Stiller      "
      ]
     },
     "metadata": {},
     "output_type": "display_data"
    }
   ],
   "source": [
    "head(movies_df,10)"
   ]
  },
  {
   "cell_type": "markdown",
   "metadata": {
    "ExecuteTime": {
     "end_time": "2019-04-24T20:39:18.186716Z",
     "start_time": "2019-04-24T20:39:06.428Z"
    }
   },
   "source": [
    "**Now we have a well-structured dataframe ready to be exported and analyzed**"
   ]
  }
 ],
 "metadata": {
  "kernelspec": {
   "display_name": "R",
   "language": "R",
   "name": "ir"
  },
  "language_info": {
   "codemirror_mode": "r",
   "file_extension": ".r",
   "mimetype": "text/x-r-source",
   "name": "R",
   "pygments_lexer": "r",
   "version": "3.5.1"
  },
  "toc": {
   "base_numbering": 1,
   "nav_menu": {},
   "number_sections": true,
   "sideBar": true,
   "skip_h1_title": false,
   "title_cell": "Table of Contents",
   "title_sidebar": "Contents",
   "toc_cell": true,
   "toc_position": {},
   "toc_section_display": true,
   "toc_window_display": true
  }
 },
 "nbformat": 4,
 "nbformat_minor": 2
}
