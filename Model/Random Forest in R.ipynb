{
 "cells": [
  {
   "cell_type": "markdown",
   "metadata": {
    "toc": true
   },
   "source": [
    "<h1>Table of Contents<span class=\"tocSkip\"></span></h1>\n",
    "<div class=\"toc\"><ul class=\"toc-item\"><li><span><a href=\"#Loading-packages-and-data\" data-toc-modified-id=\"Loading-packages-and-data-1\"><span class=\"toc-item-num\">1&nbsp;&nbsp;</span>Loading packages and data</a></span></li><li><span><a href=\"#Preparing-data-for-modelling\" data-toc-modified-id=\"Preparing-data-for-modelling-2\"><span class=\"toc-item-num\">2&nbsp;&nbsp;</span>Preparing data for modelling</a></span><ul class=\"toc-item\"><li><span><a href=\"#Handle-null-values\" data-toc-modified-id=\"Handle-null-values-2.1\"><span class=\"toc-item-num\">2.1&nbsp;&nbsp;</span>Handle null values</a></span></li><li><span><a href=\"#One-hot-encode-categorical-variables\" data-toc-modified-id=\"One-hot-encode-categorical-variables-2.2\"><span class=\"toc-item-num\">2.2&nbsp;&nbsp;</span>One-hot encode categorical variables</a></span></li></ul></li><li><span><a href=\"#Train-Random-Forest-model,-with-timing-for-comparision-with-Python\" data-toc-modified-id=\"Train-Random-Forest-model,-with-timing-for-comparision-with-Python-3\"><span class=\"toc-item-num\">3&nbsp;&nbsp;</span>Train Random Forest model, with timing for comparision with Python</a></span><ul class=\"toc-item\"><li><span><a href=\"#Split-the-dataset\" data-toc-modified-id=\"Split-the-dataset-3.1\"><span class=\"toc-item-num\">3.1&nbsp;&nbsp;</span>Split the dataset</a></span></li><li><span><a href=\"#Fit-the-model\" data-toc-modified-id=\"Fit-the-model-3.2\"><span class=\"toc-item-num\">3.2&nbsp;&nbsp;</span>Fit the model</a></span></li><li><span><a href=\"#Importance-Plot\" data-toc-modified-id=\"Importance-Plot-3.3\"><span class=\"toc-item-num\">3.3&nbsp;&nbsp;</span>Importance Plot</a></span></li></ul></li></ul></div>"
   ]
  },
  {
   "cell_type": "markdown",
   "metadata": {},
   "source": [
    "# Loading packages and data"
   ]
  },
  {
   "cell_type": "code",
   "execution_count": 1,
   "metadata": {
    "ExecuteTime": {
     "end_time": "2019-04-24T16:32:15.161794Z",
     "start_time": "2019-04-24T16:32:15.115Z"
    }
   },
   "outputs": [
    {
     "name": "stderr",
     "output_type": "stream",
     "text": [
      "Loading required package: grid\n",
      "Loading required package: mvtnorm\n",
      "Loading required package: modeltools\n",
      "Loading required package: stats4\n",
      "Loading required package: strucchange\n",
      "Loading required package: zoo\n",
      "Warning message:\n",
      "\"package 'zoo' was built under R version 3.5.2\"\n",
      "Attaching package: 'zoo'\n",
      "\n",
      "The following objects are masked from 'package:base':\n",
      "\n",
      "    as.Date, as.Date.numeric\n",
      "\n",
      "Loading required package: sandwich\n",
      "randomForest 4.6-14\n",
      "Type rfNews() to see new features/changes/bug fixes.\n",
      "Loading required package: lattice\n",
      "Loading required package: ggplot2\n",
      "Warning message:\n",
      "\"package 'ggplot2' was built under R version 3.5.2\"\n",
      "Attaching package: 'ggplot2'\n",
      "\n",
      "The following object is masked from 'package:randomForest':\n",
      "\n",
      "    margin\n",
      "\n",
      "-- Attaching packages --------------------------------------- tidyverse 1.2.1 --\n",
      "v tibble  2.0.1       v purrr   0.2.5  \n",
      "v tidyr   0.8.1       v dplyr   0.8.0.1\n",
      "v readr   1.1.1       v stringr 1.3.1  \n",
      "v tibble  2.0.1       v forcats 0.3.0  \n",
      "Warning message:\n",
      "\"package 'tibble' was built under R version 3.5.2\"Warning message:\n",
      "\"package 'dplyr' was built under R version 3.5.2\"-- Conflicts ------------------------------------------ tidyverse_conflicts() --\n",
      "x stringr::boundary() masks strucchange::boundary()\n",
      "x dplyr::combine()    masks randomForest::combine()\n",
      "x dplyr::filter()     masks stats::filter()\n",
      "x dplyr::lag()        masks stats::lag()\n",
      "x purrr::lift()       masks caret::lift()\n",
      "x ggplot2::margin()   masks randomForest::margin()\n"
     ]
    }
   ],
   "source": [
    "library(party)\n",
    "library(randomForest)\n",
    "library(caret)\n",
    "library(tidyverse)\n",
    "library(tictoc)"
   ]
  },
  {
   "cell_type": "code",
   "execution_count": 2,
   "metadata": {
    "ExecuteTime": {
     "end_time": "2019-04-24T16:32:15.606605Z",
     "start_time": "2019-04-24T16:32:15.128Z"
    }
   },
   "outputs": [
    {
     "name": "stderr",
     "output_type": "stream",
     "text": [
      "Parsed with column specification:\n",
      "cols(\n",
      "  `Loan ID` = col_character(),\n",
      "  `Customer ID` = col_character(),\n",
      "  `Loan Status` = col_character(),\n",
      "  `Current Loan Amount` = col_integer(),\n",
      "  Term = col_character(),\n",
      "  `Credit Score` = col_integer(),\n",
      "  `Annual Income` = col_integer(),\n",
      "  `Years in current job` = col_character(),\n",
      "  `Home Ownership` = col_character(),\n",
      "  Purpose = col_character(),\n",
      "  `Monthly Debt` = col_double(),\n",
      "  `Years of Credit History` = col_double(),\n",
      "  `Months since last delinquent` = col_integer(),\n",
      "  `Number of Open Accounts` = col_integer(),\n",
      "  `Number of Credit Problems` = col_integer(),\n",
      "  `Current Credit Balance` = col_integer(),\n",
      "  `Maximum Open Credit` = col_integer(),\n",
      "  Bankruptcies = col_integer(),\n",
      "  `Tax Liens` = col_integer()\n",
      ")\n"
     ]
    }
   ],
   "source": [
    "df = read_csv('../datasets/credit.csv')"
   ]
  },
  {
   "cell_type": "markdown",
   "metadata": {},
   "source": [
    "Use `str()` and `summmary()` to take a glimpse at the variables and their data types.\n",
    "**Compared to Python's `info()`:**\n",
    "1. Gives you more information and overall sense of the data\n",
    "2. `readr` (a package where you call `read_csv()` from) will type strings as char right away.\n",
    "3. `str()` or `summmary()` give a richer overview of the dataset than `describe()`, in my own evaluation."
   ]
  },
  {
   "cell_type": "code",
   "execution_count": 5,
   "metadata": {
    "ExecuteTime": {
     "end_time": "2019-04-24T16:32:15.809071Z",
     "start_time": "2019-04-24T16:32:15.143Z"
    },
    "scrolled": true
   },
   "outputs": [
    {
     "name": "stdout",
     "output_type": "stream",
     "text": [
      "Classes 'tbl_df', 'tbl' and 'data.frame':\t100514 obs. of  19 variables:\n",
      " $ Loan ID                     : chr  \"14dd8831-6af5-400b-83ec-68e61888a048\" \"4771cc26-131a-45db-b5aa-537ea4ba5342\" \"4eed4e6a-aa2f-4c91-8651-ce984ee8fb26\" \"77598f7b-32e7-4e3b-a6e5-06ba0d98fe8a\" ...\n",
      " $ Customer ID                 : chr  \"981165ec-3274-42f5-a3b4-d104041a9ca9\" \"2de017a3-2e01-49cb-a581-08169e83be29\" \"5efb2b2b-bf11-4dfd-a572-3761a2694725\" \"e777faab-98ae-45af-9a86-7ce5b33b1011\" ...\n",
      " $ Loan Status                 : chr  \"Fully Paid\" \"Fully Paid\" \"Fully Paid\" \"Fully Paid\" ...\n",
      " $ Current Loan Amount         : int  445412 262328 99999999 347666 176220 206602 217646 648714 548746 215952 ...\n",
      " $ Term                        : chr  \"Short Term\" \"Short Term\" \"Short Term\" \"Long Term\" ...\n",
      " $ Credit Score                : int  709 NA 741 721 NA 7290 730 NA 678 739 ...\n",
      " $ Annual Income               : int  1167493 NA 2231892 806949 NA 896857 1184194 NA 2559110 1454735 ...\n",
      " $ Years in current job        : chr  \"8 years\" \"10+ years\" \"8 years\" \"3 years\" ...\n",
      " $ Home Ownership              : chr  \"Home Mortgage\" \"Home Mortgage\" \"Own Home\" \"Own Home\" ...\n",
      " $ Purpose                     : chr  \"Home Improvements\" \"Debt Consolidation\" \"Debt Consolidation\" \"Debt Consolidation\" ...\n",
      " $ Monthly Debt                : num  5215 33296 29201 8742 20640 ...\n",
      " $ Years of Credit History     : num  17.2 21.1 14.9 12 6.1 17.3 19.6 8.2 22.6 13.9 ...\n",
      " $ Months since last delinquent: int  NA 8 29 NA NA NA 10 8 33 NA ...\n",
      " $ Number of Open Accounts     : int  6 35 18 9 15 6 13 15 4 20 ...\n",
      " $ Number of Credit Problems   : int  1 0 1 0 0 0 1 0 0 0 ...\n",
      " $ Current Credit Balance      : int  228190 229976 297996 256329 253460 215308 122170 193306 437171 669560 ...\n",
      " $ Maximum Open Credit         : int  416746 850784 750090 386958 427174 272448 272052 864204 555038 1021460 ...\n",
      " $ Bankruptcies                : int  1 0 0 0 0 0 1 0 0 0 ...\n",
      " $ Tax Liens                   : int  0 0 0 0 0 0 0 0 0 0 ...\n",
      " - attr(*, \"spec\")=List of 2\n",
      "  ..$ cols   :List of 19\n",
      "  .. ..$ Loan ID                     : list()\n",
      "  .. .. ..- attr(*, \"class\")= chr  \"collector_character\" \"collector\"\n",
      "  .. ..$ Customer ID                 : list()\n",
      "  .. .. ..- attr(*, \"class\")= chr  \"collector_character\" \"collector\"\n",
      "  .. ..$ Loan Status                 : list()\n",
      "  .. .. ..- attr(*, \"class\")= chr  \"collector_character\" \"collector\"\n",
      "  .. ..$ Current Loan Amount         : list()\n",
      "  .. .. ..- attr(*, \"class\")= chr  \"collector_integer\" \"collector\"\n",
      "  .. ..$ Term                        : list()\n",
      "  .. .. ..- attr(*, \"class\")= chr  \"collector_character\" \"collector\"\n",
      "  .. ..$ Credit Score                : list()\n",
      "  .. .. ..- attr(*, \"class\")= chr  \"collector_integer\" \"collector\"\n",
      "  .. ..$ Annual Income               : list()\n",
      "  .. .. ..- attr(*, \"class\")= chr  \"collector_integer\" \"collector\"\n",
      "  .. ..$ Years in current job        : list()\n",
      "  .. .. ..- attr(*, \"class\")= chr  \"collector_character\" \"collector\"\n",
      "  .. ..$ Home Ownership              : list()\n",
      "  .. .. ..- attr(*, \"class\")= chr  \"collector_character\" \"collector\"\n",
      "  .. ..$ Purpose                     : list()\n",
      "  .. .. ..- attr(*, \"class\")= chr  \"collector_character\" \"collector\"\n",
      "  .. ..$ Monthly Debt                : list()\n",
      "  .. .. ..- attr(*, \"class\")= chr  \"collector_double\" \"collector\"\n",
      "  .. ..$ Years of Credit History     : list()\n",
      "  .. .. ..- attr(*, \"class\")= chr  \"collector_double\" \"collector\"\n",
      "  .. ..$ Months since last delinquent: list()\n",
      "  .. .. ..- attr(*, \"class\")= chr  \"collector_integer\" \"collector\"\n",
      "  .. ..$ Number of Open Accounts     : list()\n",
      "  .. .. ..- attr(*, \"class\")= chr  \"collector_integer\" \"collector\"\n",
      "  .. ..$ Number of Credit Problems   : list()\n",
      "  .. .. ..- attr(*, \"class\")= chr  \"collector_integer\" \"collector\"\n",
      "  .. ..$ Current Credit Balance      : list()\n",
      "  .. .. ..- attr(*, \"class\")= chr  \"collector_integer\" \"collector\"\n",
      "  .. ..$ Maximum Open Credit         : list()\n",
      "  .. .. ..- attr(*, \"class\")= chr  \"collector_integer\" \"collector\"\n",
      "  .. ..$ Bankruptcies                : list()\n",
      "  .. .. ..- attr(*, \"class\")= chr  \"collector_integer\" \"collector\"\n",
      "  .. ..$ Tax Liens                   : list()\n",
      "  .. .. ..- attr(*, \"class\")= chr  \"collector_integer\" \"collector\"\n",
      "  ..$ default: list()\n",
      "  .. ..- attr(*, \"class\")= chr  \"collector_guess\" \"collector\"\n",
      "  ..- attr(*, \"class\")= chr \"col_spec\"\n"
     ]
    }
   ],
   "source": [
    "str(df)\n",
    "# Str() is a powerful function that gives a more complete overview of the the language"
   ]
  },
  {
   "cell_type": "markdown",
   "metadata": {},
   "source": [
    "# Preparing data for modelling"
   ]
  },
  {
   "cell_type": "code",
   "execution_count": 6,
   "metadata": {},
   "outputs": [
    {
     "data": {
      "text/plain": [
       "   Loan ID          Customer ID        Loan Status        Current Loan Amount\n",
       " Length:100514      Length:100514      Length:100514      Min.   :   10802   \n",
       " Class :character   Class :character   Class :character   1st Qu.:  179652   \n",
       " Mode  :character   Mode  :character   Mode  :character   Median :  312246   \n",
       "                                                          Mean   :11760447   \n",
       "                                                          3rd Qu.:  524942   \n",
       "                                                          Max.   :99999999   \n",
       "                                                          NA's   :514        \n",
       "     Term            Credit Score   Annual Income       Years in current job\n",
       " Length:100514      Min.   : 585    Min.   :    76627   Length:100514       \n",
       " Class :character   1st Qu.: 705    1st Qu.:   848844   Class :character    \n",
       " Mode  :character   Median : 724    Median :  1174162   Mode  :character    \n",
       "                    Mean   :1076    Mean   :  1378277                       \n",
       "                    3rd Qu.: 741    3rd Qu.:  1650663                       \n",
       "                    Max.   :7510    Max.   :165557393                       \n",
       "                    NA's   :19668   NA's   :19668                           \n",
       " Home Ownership       Purpose           Monthly Debt    Years of Credit History\n",
       " Length:100514      Length:100514      Min.   :     0   Min.   : 3.6           \n",
       " Class :character   Class :character   1st Qu.: 10214   1st Qu.:13.5           \n",
       " Mode  :character   Mode  :character   Median : 16220   Median :16.9           \n",
       "                                       Mean   : 18472   Mean   :18.2           \n",
       "                                       3rd Qu.: 24012   3rd Qu.:21.7           \n",
       "                                       Max.   :435843   Max.   :70.5           \n",
       "                                       NA's   :514      NA's   :514            \n",
       " Months since last delinquent Number of Open Accounts Number of Credit Problems\n",
       " Min.   :  0.0                Min.   : 0.00           Min.   : 0.0000          \n",
       " 1st Qu.: 16.0                1st Qu.: 8.00           1st Qu.: 0.0000          \n",
       " Median : 32.0                Median :10.00           Median : 0.0000          \n",
       " Mean   : 34.9                Mean   :11.13           Mean   : 0.1683          \n",
       " 3rd Qu.: 51.0                3rd Qu.:14.00           3rd Qu.: 0.0000          \n",
       " Max.   :176.0                Max.   :76.00           Max.   :15.0000          \n",
       " NA's   :53655                NA's   :514             NA's   :514              \n",
       " Current Credit Balance Maximum Open Credit  Bankruptcies      Tax Liens      \n",
       " Min.   :       0       Min.   :0.000e+00   Min.   :0.0000   Min.   : 0.0000  \n",
       " 1st Qu.:  112670       1st Qu.:2.734e+05   1st Qu.:0.0000   1st Qu.: 0.0000  \n",
       " Median :  209817       Median :4.679e+05   Median :0.0000   Median : 0.0000  \n",
       " Mean   :  294637       Mean   :7.608e+05   Mean   :0.1177   Mean   : 0.0293  \n",
       " 3rd Qu.:  367959       3rd Qu.:7.830e+05   3rd Qu.:0.0000   3rd Qu.: 0.0000  \n",
       " Max.   :32878968       Max.   :1.540e+09   Max.   :7.0000   Max.   :15.0000  \n",
       " NA's   :514            NA's   :516         NA's   :718      NA's   :524      "
      ]
     },
     "metadata": {},
     "output_type": "display_data"
    }
   ],
   "source": [
    "summary(df)"
   ]
  },
  {
   "cell_type": "markdown",
   "metadata": {},
   "source": [
    "## Handle null values"
   ]
  },
  {
   "cell_type": "markdown",
   "metadata": {},
   "source": [
    "We find that many columns have fewer non-null entries than others, meaning that there are a number of null values to worry about. For the purpose of this demonstration, NaNs for months since delinquents, credit score, and income will be counted as zeros. The rest of NaNs will be dropped."
   ]
  },
  {
   "cell_type": "code",
   "execution_count": 7,
   "metadata": {
    "ExecuteTime": {
     "end_time": "2019-04-24T16:32:16.069372Z",
     "start_time": "2019-04-24T16:32:15.164Z"
    }
   },
   "outputs": [],
   "source": [
    "df['Annual Income'][is.na(df['Annual Income'])] <- 0\n",
    "df['Credit Score'][is.na(df['Credit Score'])] <- 0\n",
    "df['Years in current job'][is.na(df['Years in current job'])] <- 0\n",
    "df['Months since last delinquent'][is.na(df['Months since last delinquent'])] <- 0\n",
    "df <- na.omit(df)"
   ]
  },
  {
   "cell_type": "markdown",
   "metadata": {},
   "source": [
    "Check how many rows are left. Seems good to go."
   ]
  },
  {
   "cell_type": "code",
   "execution_count": 8,
   "metadata": {},
   "outputs": [
    {
     "data": {
      "text/html": [
       "<ol class=list-inline>\n",
       "\t<li>99794</li>\n",
       "\t<li>19</li>\n",
       "</ol>\n"
      ],
      "text/latex": [
       "\\begin{enumerate*}\n",
       "\\item 99794\n",
       "\\item 19\n",
       "\\end{enumerate*}\n"
      ],
      "text/markdown": [
       "1. 99794\n",
       "2. 19\n",
       "\n",
       "\n"
      ],
      "text/plain": [
       "[1] 99794    19"
      ]
     },
     "metadata": {},
     "output_type": "display_data"
    }
   ],
   "source": [
    "dim(df)"
   ]
  },
  {
   "cell_type": "code",
   "execution_count": 9,
   "metadata": {
    "ExecuteTime": {
     "end_time": "2019-04-24T16:32:16.151149Z",
     "start_time": "2019-04-24T16:32:15.181Z"
    }
   },
   "outputs": [],
   "source": [
    "df <- select(df,-`Loan ID`,-`Customer ID`) "
   ]
  },
  {
   "cell_type": "markdown",
   "metadata": {},
   "source": [
    "## One-hot encode categorical variables"
   ]
  },
  {
   "cell_type": "code",
   "execution_count": 10,
   "metadata": {
    "ExecuteTime": {
     "end_time": "2019-04-24T16:32:17.213338Z",
     "start_time": "2019-04-24T16:32:15.190Z"
    }
   },
   "outputs": [],
   "source": [
    "# One hot code all categorical values \n",
    "dummy <- dummyVars(\"~ .\", data = df,fullRank = TRUE, sep =\"_\")\n",
    "df_new <- as.data.frame(predict(dummy, df))"
   ]
  },
  {
   "cell_type": "code",
   "execution_count": 11,
   "metadata": {
    "ExecuteTime": {
     "end_time": "2019-04-24T16:32:17.359918Z",
     "start_time": "2019-04-24T16:32:15.208Z"
    }
   },
   "outputs": [
    {
     "data": {
      "text/html": [
       "<table>\n",
       "<thead><tr><th scope=col>`Loan Status`Fully Paid</th><th scope=col>`Current Loan Amount`</th><th scope=col>TermShort Term</th><th scope=col>`Credit Score`</th><th scope=col>`Annual Income`</th><th scope=col>`Years in current job`1 year</th><th scope=col>`Years in current job`10+ years</th><th scope=col>`Years in current job`2 years</th><th scope=col>`Years in current job`3 years</th><th scope=col>`Years in current job`4 years</th><th scope=col>...</th><th scope=col>Purposewedding</th><th scope=col>`Monthly Debt`</th><th scope=col>`Years of Credit History`</th><th scope=col>`Months since last delinquent`</th><th scope=col>`Number of Open Accounts`</th><th scope=col>`Number of Credit Problems`</th><th scope=col>`Current Credit Balance`</th><th scope=col>`Maximum Open Credit`</th><th scope=col>Bankruptcies</th><th scope=col>`Tax Liens`</th></tr></thead>\n",
       "<tbody>\n",
       "\t<tr><td>1       </td><td>445412  </td><td>1       </td><td>709     </td><td>1167493 </td><td>0       </td><td>0       </td><td>0       </td><td>0       </td><td>0       </td><td>...     </td><td>0       </td><td> 5214.74</td><td>17.2    </td><td>0       </td><td> 6      </td><td>1       </td><td>228190  </td><td>416746  </td><td>1       </td><td>0       </td></tr>\n",
       "\t<tr><td>1       </td><td>262328  </td><td>1       </td><td>  0     </td><td>      0 </td><td>0       </td><td>1       </td><td>0       </td><td>0       </td><td>0       </td><td>...     </td><td>0       </td><td>33295.98</td><td>21.1    </td><td>8       </td><td>35      </td><td>0       </td><td>229976  </td><td>850784  </td><td>0       </td><td>0       </td></tr>\n",
       "</tbody>\n",
       "</table>\n"
      ],
      "text/latex": [
       "\\begin{tabular}{r|lllllllllllllllllllllllllllllllllllllllllll}\n",
       " `Loan Status`Fully Paid & `Current Loan Amount` & TermShort Term & `Credit Score` & `Annual Income` & `Years in current job`1 year & `Years in current job`10+ years & `Years in current job`2 years & `Years in current job`3 years & `Years in current job`4 years & ... & Purposewedding & `Monthly Debt` & `Years of Credit History` & `Months since last delinquent` & `Number of Open Accounts` & `Number of Credit Problems` & `Current Credit Balance` & `Maximum Open Credit` & Bankruptcies & `Tax Liens`\\\\\n",
       "\\hline\n",
       "\t 1        & 445412   & 1        & 709      & 1167493  & 0        & 0        & 0        & 0        & 0        & ...      & 0        &  5214.74 & 17.2     & 0        &  6       & 1        & 228190   & 416746   & 1        & 0       \\\\\n",
       "\t 1        & 262328   & 1        &   0      &       0  & 0        & 1        & 0        & 0        & 0        & ...      & 0        & 33295.98 & 21.1     & 8        & 35       & 0        & 229976   & 850784   & 0        & 0       \\\\\n",
       "\\end{tabular}\n"
      ],
      "text/markdown": [
       "\n",
       "`Loan Status`Fully Paid | `Current Loan Amount` | TermShort Term | `Credit Score` | `Annual Income` | `Years in current job`1 year | `Years in current job`10+ years | `Years in current job`2 years | `Years in current job`3 years | `Years in current job`4 years | ... | Purposewedding | `Monthly Debt` | `Years of Credit History` | `Months since last delinquent` | `Number of Open Accounts` | `Number of Credit Problems` | `Current Credit Balance` | `Maximum Open Credit` | Bankruptcies | `Tax Liens` | \n",
       "|---|---|\n",
       "| 1        | 445412   | 1        | 709      | 1167493  | 0        | 0        | 0        | 0        | 0        | ...      | 0        |  5214.74 | 17.2     | 0        |  6       | 1        | 228190   | 416746   | 1        | 0        | \n",
       "| 1        | 262328   | 1        |   0      |       0  | 0        | 1        | 0        | 0        | 0        | ...      | 0        | 33295.98 | 21.1     | 8        | 35       | 0        | 229976   | 850784   | 0        | 0        | \n",
       "\n",
       "\n"
      ],
      "text/plain": [
       "  `Loan Status`Fully Paid `Current Loan Amount` TermShort Term `Credit Score`\n",
       "1 1                       445412                1              709           \n",
       "2 1                       262328                1                0           \n",
       "  `Annual Income` `Years in current job`1 year `Years in current job`10+ years\n",
       "1 1167493         0                            0                              \n",
       "2       0         0                            1                              \n",
       "  `Years in current job`2 years `Years in current job`3 years\n",
       "1 0                             0                            \n",
       "2 0                             0                            \n",
       "  `Years in current job`4 years ... Purposewedding `Monthly Debt`\n",
       "1 0                             ... 0               5214.74      \n",
       "2 0                             ... 0              33295.98      \n",
       "  `Years of Credit History` `Months since last delinquent`\n",
       "1 17.2                      0                             \n",
       "2 21.1                      8                             \n",
       "  `Number of Open Accounts` `Number of Credit Problems`\n",
       "1  6                        1                          \n",
       "2 35                        0                          \n",
       "  `Current Credit Balance` `Maximum Open Credit` Bankruptcies `Tax Liens`\n",
       "1 228190                   416746                1            0          \n",
       "2 229976                   850784                0            0          "
      ]
     },
     "metadata": {},
     "output_type": "display_data"
    }
   ],
   "source": [
    "head(df_new,2)"
   ]
  },
  {
   "cell_type": "markdown",
   "metadata": {
    "ExecuteTime": {
     "end_time": "2019-04-24T16:32:17.402803Z",
     "start_time": "2019-04-24T16:32:15.215Z"
    }
   },
   "source": [
    "With R, the column names generated from `dummyVars()` are unexpected transformed. From our persona's perspective, a beginnger, this is an issue. Some simple replacements are needed."
   ]
  },
  {
   "cell_type": "code",
   "execution_count": 12,
   "metadata": {
    "ExecuteTime": {
     "end_time": "2019-04-24T16:32:17.512509Z",
     "start_time": "2019-04-24T16:32:15.231Z"
    }
   },
   "outputs": [],
   "source": [
    "colnames(df_new) <- gsub(\"`\", \"\", colnames(df_new))\n",
    "colnames(df_new) <- gsub(\"'\", \"\", colnames(df_new))"
   ]
  },
  {
   "cell_type": "code",
   "execution_count": 13,
   "metadata": {
    "ExecuteTime": {
     "end_time": "2019-04-24T16:32:17.565368Z",
     "start_time": "2019-04-24T16:32:15.236Z"
    }
   },
   "outputs": [
    {
     "data": {
      "text/html": [
       "<ol class=list-inline>\n",
       "\t<li>'Loan StatusFully Paid'</li>\n",
       "\t<li>'Current Loan Amount'</li>\n",
       "\t<li>'TermShort Term'</li>\n",
       "\t<li>'Credit Score'</li>\n",
       "\t<li>'Annual Income'</li>\n",
       "\t<li>'Years in current job1 year'</li>\n",
       "\t<li>'Years in current job10+ years'</li>\n",
       "\t<li>'Years in current job2 years'</li>\n",
       "\t<li>'Years in current job3 years'</li>\n",
       "\t<li>'Years in current job4 years'</li>\n",
       "\t<li>'Years in current job5 years'</li>\n",
       "\t<li>'Years in current job6 years'</li>\n",
       "\t<li>'Years in current job7 years'</li>\n",
       "\t<li>'Years in current job8 years'</li>\n",
       "\t<li>'Years in current job9 years'</li>\n",
       "\t<li>'Years in current jobn/a'</li>\n",
       "\t<li>'Home OwnershipHome Mortgage'</li>\n",
       "\t<li>'Home OwnershipOwn Home'</li>\n",
       "\t<li>'Home OwnershipRent'</li>\n",
       "\t<li>'PurposeBuy a Car'</li>\n",
       "\t<li>'PurposeBuy House'</li>\n",
       "\t<li>'PurposeDebt Consolidation'</li>\n",
       "\t<li>'PurposeEducational Expenses'</li>\n",
       "\t<li>'PurposeHome Improvements'</li>\n",
       "\t<li>'Purposemajor_purchase'</li>\n",
       "\t<li>'PurposeMedical Bills'</li>\n",
       "\t<li>'Purposemoving'</li>\n",
       "\t<li>'Purposeother'</li>\n",
       "\t<li>'PurposeOther'</li>\n",
       "\t<li>'Purposerenewable_energy'</li>\n",
       "\t<li>'Purposesmall_business'</li>\n",
       "\t<li>'PurposeTake a Trip'</li>\n",
       "\t<li>'Purposevacation'</li>\n",
       "\t<li>'Purposewedding'</li>\n",
       "\t<li>'Monthly Debt'</li>\n",
       "\t<li>'Years of Credit History'</li>\n",
       "\t<li>'Months since last delinquent'</li>\n",
       "\t<li>'Number of Open Accounts'</li>\n",
       "\t<li>'Number of Credit Problems'</li>\n",
       "\t<li>'Current Credit Balance'</li>\n",
       "\t<li>'Maximum Open Credit'</li>\n",
       "\t<li>'Bankruptcies'</li>\n",
       "\t<li>'Tax Liens'</li>\n",
       "</ol>\n"
      ],
      "text/latex": [
       "\\begin{enumerate*}\n",
       "\\item 'Loan StatusFully Paid'\n",
       "\\item 'Current Loan Amount'\n",
       "\\item 'TermShort Term'\n",
       "\\item 'Credit Score'\n",
       "\\item 'Annual Income'\n",
       "\\item 'Years in current job1 year'\n",
       "\\item 'Years in current job10+ years'\n",
       "\\item 'Years in current job2 years'\n",
       "\\item 'Years in current job3 years'\n",
       "\\item 'Years in current job4 years'\n",
       "\\item 'Years in current job5 years'\n",
       "\\item 'Years in current job6 years'\n",
       "\\item 'Years in current job7 years'\n",
       "\\item 'Years in current job8 years'\n",
       "\\item 'Years in current job9 years'\n",
       "\\item 'Years in current jobn/a'\n",
       "\\item 'Home OwnershipHome Mortgage'\n",
       "\\item 'Home OwnershipOwn Home'\n",
       "\\item 'Home OwnershipRent'\n",
       "\\item 'PurposeBuy a Car'\n",
       "\\item 'PurposeBuy House'\n",
       "\\item 'PurposeDebt Consolidation'\n",
       "\\item 'PurposeEducational Expenses'\n",
       "\\item 'PurposeHome Improvements'\n",
       "\\item 'Purposemajor\\_purchase'\n",
       "\\item 'PurposeMedical Bills'\n",
       "\\item 'Purposemoving'\n",
       "\\item 'Purposeother'\n",
       "\\item 'PurposeOther'\n",
       "\\item 'Purposerenewable\\_energy'\n",
       "\\item 'Purposesmall\\_business'\n",
       "\\item 'PurposeTake a Trip'\n",
       "\\item 'Purposevacation'\n",
       "\\item 'Purposewedding'\n",
       "\\item 'Monthly Debt'\n",
       "\\item 'Years of Credit History'\n",
       "\\item 'Months since last delinquent'\n",
       "\\item 'Number of Open Accounts'\n",
       "\\item 'Number of Credit Problems'\n",
       "\\item 'Current Credit Balance'\n",
       "\\item 'Maximum Open Credit'\n",
       "\\item 'Bankruptcies'\n",
       "\\item 'Tax Liens'\n",
       "\\end{enumerate*}\n"
      ],
      "text/markdown": [
       "1. 'Loan StatusFully Paid'\n",
       "2. 'Current Loan Amount'\n",
       "3. 'TermShort Term'\n",
       "4. 'Credit Score'\n",
       "5. 'Annual Income'\n",
       "6. 'Years in current job1 year'\n",
       "7. 'Years in current job10+ years'\n",
       "8. 'Years in current job2 years'\n",
       "9. 'Years in current job3 years'\n",
       "10. 'Years in current job4 years'\n",
       "11. 'Years in current job5 years'\n",
       "12. 'Years in current job6 years'\n",
       "13. 'Years in current job7 years'\n",
       "14. 'Years in current job8 years'\n",
       "15. 'Years in current job9 years'\n",
       "16. 'Years in current jobn/a'\n",
       "17. 'Home OwnershipHome Mortgage'\n",
       "18. 'Home OwnershipOwn Home'\n",
       "19. 'Home OwnershipRent'\n",
       "20. 'PurposeBuy a Car'\n",
       "21. 'PurposeBuy House'\n",
       "22. 'PurposeDebt Consolidation'\n",
       "23. 'PurposeEducational Expenses'\n",
       "24. 'PurposeHome Improvements'\n",
       "25. 'Purposemajor_purchase'\n",
       "26. 'PurposeMedical Bills'\n",
       "27. 'Purposemoving'\n",
       "28. 'Purposeother'\n",
       "29. 'PurposeOther'\n",
       "30. 'Purposerenewable_energy'\n",
       "31. 'Purposesmall_business'\n",
       "32. 'PurposeTake a Trip'\n",
       "33. 'Purposevacation'\n",
       "34. 'Purposewedding'\n",
       "35. 'Monthly Debt'\n",
       "36. 'Years of Credit History'\n",
       "37. 'Months since last delinquent'\n",
       "38. 'Number of Open Accounts'\n",
       "39. 'Number of Credit Problems'\n",
       "40. 'Current Credit Balance'\n",
       "41. 'Maximum Open Credit'\n",
       "42. 'Bankruptcies'\n",
       "43. 'Tax Liens'\n",
       "\n",
       "\n"
      ],
      "text/plain": [
       " [1] \"Loan StatusFully Paid\"         \"Current Loan Amount\"          \n",
       " [3] \"TermShort Term\"                \"Credit Score\"                 \n",
       " [5] \"Annual Income\"                 \"Years in current job1 year\"   \n",
       " [7] \"Years in current job10+ years\" \"Years in current job2 years\"  \n",
       " [9] \"Years in current job3 years\"   \"Years in current job4 years\"  \n",
       "[11] \"Years in current job5 years\"   \"Years in current job6 years\"  \n",
       "[13] \"Years in current job7 years\"   \"Years in current job8 years\"  \n",
       "[15] \"Years in current job9 years\"   \"Years in current jobn/a\"      \n",
       "[17] \"Home OwnershipHome Mortgage\"   \"Home OwnershipOwn Home\"       \n",
       "[19] \"Home OwnershipRent\"            \"PurposeBuy a Car\"             \n",
       "[21] \"PurposeBuy House\"              \"PurposeDebt Consolidation\"    \n",
       "[23] \"PurposeEducational Expenses\"   \"PurposeHome Improvements\"     \n",
       "[25] \"Purposemajor_purchase\"         \"PurposeMedical Bills\"         \n",
       "[27] \"Purposemoving\"                 \"Purposeother\"                 \n",
       "[29] \"PurposeOther\"                  \"Purposerenewable_energy\"      \n",
       "[31] \"Purposesmall_business\"         \"PurposeTake a Trip\"           \n",
       "[33] \"Purposevacation\"               \"Purposewedding\"               \n",
       "[35] \"Monthly Debt\"                  \"Years of Credit History\"      \n",
       "[37] \"Months since last delinquent\"  \"Number of Open Accounts\"      \n",
       "[39] \"Number of Credit Problems\"     \"Current Credit Balance\"       \n",
       "[41] \"Maximum Open Credit\"           \"Bankruptcies\"                 \n",
       "[43] \"Tax Liens\"                    "
      ]
     },
     "metadata": {},
     "output_type": "display_data"
    }
   ],
   "source": [
    "# length(colnames(df_new))\n",
    "colnames(df_new)"
   ]
  },
  {
   "cell_type": "markdown",
   "metadata": {},
   "source": [
    "# Train Random Forest model, with timing for comparision with Python"
   ]
  },
  {
   "cell_type": "markdown",
   "metadata": {},
   "source": [
    "**Key distinction:**\n",
    "\n",
    "'Loan.StatusFully.Paid' is automatically kept as the one field.\n",
    "\n",
    "R's dummyVars has automatically removed the 'ChargedOff' option (the negative) from the model.\n",
    "\n",
    "With Python, one must remove the ChargedOff as it can mess with the model. "
   ]
  },
  {
   "cell_type": "markdown",
   "metadata": {},
   "source": [
    "## Split the dataset"
   ]
  },
  {
   "cell_type": "code",
   "execution_count": 14,
   "metadata": {
    "ExecuteTime": {
     "end_time": "2019-04-24T16:32:17.703001Z",
     "start_time": "2019-04-24T16:32:15.245Z"
    }
   },
   "outputs": [],
   "source": [
    "set.seed(100)\n",
    "train <- sample(nrow(df_new), 0.75*nrow(df_new), replace = FALSE)\n",
    "TrainSet <- df_new[train,]\n",
    "TestSet <- df_new[-train,]"
   ]
  },
  {
   "cell_type": "code",
   "execution_count": 15,
   "metadata": {
    "ExecuteTime": {
     "end_time": "2019-04-24T16:32:17.850606Z",
     "start_time": "2019-04-24T16:32:15.254Z"
    }
   },
   "outputs": [],
   "source": [
    "train_labels <- as.factor(TrainSet[,\"Loan StatusFully Paid\"])\n",
    "train_features <- select(TrainSet, -\"Loan StatusFully Paid\")"
   ]
  },
  {
   "cell_type": "code",
   "execution_count": 16,
   "metadata": {
    "ExecuteTime": {
     "end_time": "2019-04-24T16:32:17.919425Z",
     "start_time": "2019-04-24T16:32:15.258Z"
    }
   },
   "outputs": [],
   "source": [
    "test_labels <- as.factor(TestSet[,\"Loan StatusFully Paid\"])\n",
    "test_features <- select(TestSet, -\"Loan StatusFully Paid\")"
   ]
  },
  {
   "cell_type": "markdown",
   "metadata": {},
   "source": [
    "## Fit the model\n",
    "Clear explanation on specific package. For instance: paramaters."
   ]
  },
  {
   "cell_type": "code",
   "execution_count": 30,
   "metadata": {
    "ExecuteTime": {
     "end_time": "2019-04-24T16:37:50.184269Z",
     "start_time": "2019-04-24T16:36:22.987Z"
    },
    "scrolled": true
   },
   "outputs": [
    {
     "name": "stdout",
     "output_type": "stream",
     "text": [
      "590.09 sec elapsed\n"
     ]
    }
   ],
   "source": [
    "tic()\n",
    "rf <- randomForest(train_features,train_labels, ntree=200, importance=TRUE)\n",
    "toc()"
   ]
  },
  {
   "cell_type": "markdown",
   "metadata": {},
   "source": [
    "That was very long..."
   ]
  },
  {
   "cell_type": "code",
   "execution_count": 31,
   "metadata": {
    "ExecuteTime": {
     "end_time": "2019-04-24T16:34:09.747829Z",
     "start_time": "2019-04-24T16:32:15.270Z"
    },
    "scrolled": false
   },
   "outputs": [
    {
     "name": "stdout",
     "output_type": "stream",
     "text": [
      "\n",
      "Call:\n",
      " randomForest(x = train_features, y = train_labels, ntree = 200,      importance = TRUE) \n",
      "               Type of random forest: classification\n",
      "                     Number of trees: 200\n",
      "No. of variables tried at each split: 6\n",
      "\n",
      "        OOB estimate of  error rate: 17.92%\n",
      "Confusion matrix:\n",
      "     0     1 class.error\n",
      "0 3891 12998  0.76961336\n",
      "1  414 57542  0.00714335\n"
     ]
    }
   ],
   "source": [
    "print(rf)"
   ]
  },
  {
   "cell_type": "markdown",
   "metadata": {},
   "source": [
    "Display the error to test how many trees should be ran"
   ]
  },
  {
   "cell_type": "code",
   "execution_count": 37,
   "metadata": {
    "ExecuteTime": {
     "end_time": "2019-04-24T16:34:09.782736Z",
     "start_time": "2019-04-24T16:32:15.275Z"
    },
    "scrolled": true
   },
   "outputs": [],
   "source": [
    "# plot(rf)\n",
    "# # Have to find a way to do this in Python"
   ]
  },
  {
   "cell_type": "code",
   "execution_count": 38,
   "metadata": {
    "ExecuteTime": {
     "end_time": "2019-04-24T16:34:10.272429Z",
     "start_time": "2019-04-24T16:32:15.279Z"
    }
   },
   "outputs": [
    {
     "data": {
      "text/plain": [
       "         test_labels\n",
       "predTrain     0     1\n",
       "        0  1257    87\n",
       "        1  4441 19164"
      ]
     },
     "metadata": {},
     "output_type": "display_data"
    }
   ],
   "source": [
    "# Predicting on train set\n",
    "predTrain <- predict(rf, test_features, type = \"class\")\n",
    "# Checking classification accuracy\n",
    "table(predTrain, test_labels)  "
   ]
  },
  {
   "cell_type": "code",
   "execution_count": 39,
   "metadata": {
    "ExecuteTime": {
     "end_time": "2019-04-24T16:34:10.858859Z",
     "start_time": "2019-04-24T16:32:15.284Z"
    },
    "scrolled": false
   },
   "outputs": [
    {
     "name": "stdout",
     "output_type": "stream",
     "text": [
      "[1] \"The accuracy is: \"\n"
     ]
    },
    {
     "data": {
      "text/html": [
       "0.818549841677021"
      ],
      "text/latex": [
       "0.818549841677021"
      ],
      "text/markdown": [
       "0.818549841677021"
      ],
      "text/plain": [
       "[1] 0.8185498"
      ]
     },
     "metadata": {},
     "output_type": "display_data"
    },
    {
     "data": {
      "text/plain": [
       "         test_labels\n",
       "predValid     0     1\n",
       "        0  1257    86\n",
       "        1  4441 19165"
      ]
     },
     "metadata": {},
     "output_type": "display_data"
    }
   ],
   "source": [
    "# Checking classification accuracy\n",
    "predValid <- predict(rf, test_features, type = \"class\")\n",
    "print(\"The accuracy is: \")\n",
    "mean(predValid == test_labels)                \n",
    "table(predValid,test_labels)"
   ]
  },
  {
   "cell_type": "markdown",
   "metadata": {},
   "source": [
    "## Importance Plot\n",
    "R's `random forest` package gives a better context of the features/variables used in the training the algorithm.\n",
    "Simple, intuitive included functions are also a plus for R compared to Python."
   ]
  },
  {
   "cell_type": "code",
   "execution_count": 40,
   "metadata": {
    "ExecuteTime": {
     "end_time": "2019-04-24T16:34:11.105199Z",
     "start_time": "2019-04-24T16:32:15.290Z"
    },
    "scrolled": false
   },
   "outputs": [
    {
     "data": {
      "image/png": "[encoded data removed]",
      "text/plain": [
       "plot without title"
      ]
     },
     "metadata": {},
     "output_type": "display_data"
    }
   ],
   "source": [
    "varImpPlot(rf)\n",
    "\n",
    "# Importance of features in the model, represented by degree of accuracy lost if the feature is removed."
   ]
  }
 ],
 "metadata": {
  "kernelspec": {
   "display_name": "R",
   "language": "R",
   "name": "ir"
  },
  "language_info": {
   "codemirror_mode": "r",
   "file_extension": ".r",
   "mimetype": "text/x-r-source",
   "name": "R",
   "pygments_lexer": "r",
   "version": "3.5.1"
  },
  "toc": {
   "base_numbering": 1,
   "nav_menu": {},
   "number_sections": true,
   "sideBar": true,
   "skip_h1_title": false,
   "title_cell": "Table of Contents",
   "title_sidebar": "Contents",
   "toc_cell": true,
   "toc_position": {},
   "toc_section_display": true,
   "toc_window_display": true
  }
 },
 "nbformat": 4,
 "nbformat_minor": 2
}
