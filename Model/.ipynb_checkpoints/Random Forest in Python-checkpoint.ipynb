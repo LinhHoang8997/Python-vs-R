{
 "cells": [
  {
   "cell_type": "markdown",
   "metadata": {
    "toc": true
   },
   "source": [
    "<h1>Table of Contents<span class=\"tocSkip\"></span></h1>\n",
    "<div class=\"toc\"><ul class=\"toc-item\"><li><span><a href=\"#Loading-packages-and-data\" data-toc-modified-id=\"Loading-packages-and-data-1\"><span class=\"toc-item-num\">1&nbsp;&nbsp;</span>Loading packages and data</a></span></li><li><span><a href=\"#Preparing-data-for-modelling\" data-toc-modified-id=\"Preparing-data-for-modelling-2\"><span class=\"toc-item-num\">2&nbsp;&nbsp;</span>Preparing data for modelling</a></span><ul class=\"toc-item\"><li><span><a href=\"#Handle-null-values\" data-toc-modified-id=\"Handle-null-values-2.1\"><span class=\"toc-item-num\">2.1&nbsp;&nbsp;</span>Handle null values</a></span></li><li><span><a href=\"#One-hot-encode-categorical-variables\" data-toc-modified-id=\"One-hot-encode-categorical-variables-2.2\"><span class=\"toc-item-num\">2.2&nbsp;&nbsp;</span>One-hot encode categorical variables</a></span></li></ul></li><li><span><a href=\"#Train-Random-Forest-model,-with-timing-for-comparision-with-R\" data-toc-modified-id=\"Train-Random-Forest-model,-with-timing-for-comparision-with-R-3\"><span class=\"toc-item-num\">3&nbsp;&nbsp;</span>Train Random Forest model, with timing for comparision with R</a></span><ul class=\"toc-item\"><li><span><a href=\"#Split-the-dataset\" data-toc-modified-id=\"Split-the-dataset-3.1\"><span class=\"toc-item-num\">3.1&nbsp;&nbsp;</span>Split the dataset</a></span></li><li><span><a href=\"#Fit-the-model\" data-toc-modified-id=\"Fit-the-model-3.2\"><span class=\"toc-item-num\">3.2&nbsp;&nbsp;</span>Fit the model</a></span></li></ul></li><li><span><a href=\"#Get-feature-importance-from-model\" data-toc-modified-id=\"Get-feature-importance-from-model-4\"><span class=\"toc-item-num\">4&nbsp;&nbsp;</span>Get feature importance from model</a></span></li></ul></div>"
   ]
  },
  {
   "cell_type": "markdown",
   "metadata": {},
   "source": [
    "# Loading packages and data"
   ]
  },
  {
   "cell_type": "code",
   "execution_count": 126,
   "metadata": {
    "ExecuteTime": {
     "end_time": "2019-04-24T16:35:53.887251Z",
     "start_time": "2019-04-24T16:35:53.881267Z"
    }
   },
   "outputs": [],
   "source": [
    "import pandas as pd\n",
    "import time\n",
    "from sklearn.ensemble import RandomForestClassifier"
   ]
  },
  {
   "cell_type": "code",
   "execution_count": 127,
   "metadata": {
    "ExecuteTime": {
     "end_time": "2019-05-16T20:36:14.806799Z",
     "start_time": "2019-05-16T20:36:14.597059Z"
    }
   },
   "outputs": [],
   "source": [
    "# Reading data from csv file\n",
    "data = pd.read_csv(\"credit.csv\")"
   ]
  },
  {
   "cell_type": "markdown",
   "metadata": {},
   "source": [
    "# Preparing data for modelling"
   ]
  },
  {
   "cell_type": "markdown",
   "metadata": {
    "ExecuteTime": {
     "end_time": "2019-04-24T16:35:54.506601Z",
     "start_time": "2019-04-24T16:35:54.434790Z"
    }
   },
   "source": [
    "Use `info()` to take a glimpse at the variables and their data types."
   ]
  },
  {
   "cell_type": "code",
   "execution_count": 128,
   "metadata": {
    "ExecuteTime": {
     "end_time": "2019-04-24T16:35:54.506601Z",
     "start_time": "2019-04-24T16:35:54.434790Z"
    }
   },
   "outputs": [
    {
     "name": "stdout",
     "output_type": "stream",
     "text": [
      "<class 'pandas.core.frame.DataFrame'>\n",
      "RangeIndex: 100514 entries, 0 to 100513\n",
      "Data columns (total 19 columns):\n",
      "Loan ID                         100000 non-null object\n",
      "Customer ID                     100000 non-null object\n",
      "Loan Status                     100000 non-null object\n",
      "Current Loan Amount             100000 non-null float64\n",
      "Term                            100000 non-null object\n",
      "Credit Score                    80846 non-null float64\n",
      "Annual Income                   80846 non-null float64\n",
      "Years in current job            95778 non-null object\n",
      "Home Ownership                  100000 non-null object\n",
      "Purpose                         100000 non-null object\n",
      "Monthly Debt                    100000 non-null float64\n",
      "Years of Credit History         100000 non-null float64\n",
      "Months since last delinquent    46859 non-null float64\n",
      "Number of Open Accounts         100000 non-null float64\n",
      "Number of Credit Problems       100000 non-null float64\n",
      "Current Credit Balance          100000 non-null float64\n",
      "Maximum Open Credit             99998 non-null float64\n",
      "Bankruptcies                    99796 non-null float64\n",
      "Tax Liens                       99990 non-null float64\n",
      "dtypes: float64(12), object(7)\n",
      "memory usage: 11.9+ MB\n"
     ]
    }
   ],
   "source": [
    "data.info()\n",
    "#Python will classify non-numeric columns as objects, limiting"
   ]
  },
  {
   "cell_type": "markdown",
   "metadata": {},
   "source": [
    "## Handle null values"
   ]
  },
  {
   "cell_type": "markdown",
   "metadata": {},
   "source": [
    "We find that many columns have fewer non-null entries than others, meaning that there are a number of null values to worry about. For the purpose of this demonstration, NaNs for months since delinquents, credit score, and income will be counted as zeros. The rest of NaNs will be dropped."
   ]
  },
  {
   "cell_type": "code",
   "execution_count": 129,
   "metadata": {
    "ExecuteTime": {
     "end_time": "2019-04-24T16:35:54.673149Z",
     "start_time": "2019-04-24T16:35:54.569428Z"
    }
   },
   "outputs": [],
   "source": [
    "# Remove NaN values\n",
    "data['Credit Score'].fillna(0, inplace=True)\n",
    "data['Annual Income'].fillna(0, inplace=True)\n",
    "data['Months since last delinquent'].fillna(0, inplace=True)\n",
    "data['Years in current job'].fillna(0, inplace=True)"
   ]
  },
  {
   "cell_type": "code",
   "execution_count": 130,
   "metadata": {
    "ExecuteTime": {
     "end_time": "2019-04-24T16:35:54.673149Z",
     "start_time": "2019-04-24T16:35:54.569428Z"
    }
   },
   "outputs": [],
   "source": [
    "data.dropna(how='any',inplace=True)"
   ]
  },
  {
   "cell_type": "markdown",
   "metadata": {},
   "source": [
    "Check how many rows are left. Seems good to go."
   ]
  },
  {
   "cell_type": "code",
   "execution_count": 131,
   "metadata": {},
   "outputs": [
    {
     "data": {
      "text/plain": [
       "(99794, 19)"
      ]
     },
     "execution_count": 131,
     "metadata": {},
     "output_type": "execute_result"
    }
   ],
   "source": [
    "data.shape"
   ]
  },
  {
   "cell_type": "markdown",
   "metadata": {},
   "source": [
    "## One-hot encode categorical variables"
   ]
  },
  {
   "cell_type": "markdown",
   "metadata": {},
   "source": [
    "For the Purpose of running Random Forest, we need to handle unneeded and categorical fields. "
   ]
  },
  {
   "cell_type": "code",
   "execution_count": 132,
   "metadata": {
    "ExecuteTime": {
     "end_time": "2019-04-24T16:35:54.702073Z",
     "start_time": "2019-04-24T16:35:54.676149Z"
    }
   },
   "outputs": [],
   "source": [
    "# Exclude IDs, for they are not important to the model\n",
    "data_new = data.drop(['Customer ID','Loan ID'], axis=1)"
   ]
  },
  {
   "cell_type": "code",
   "execution_count": 133,
   "metadata": {
    "ExecuteTime": {
     "end_time": "2019-04-24T16:35:54.762924Z",
     "start_time": "2019-04-24T16:35:54.706061Z"
    }
   },
   "outputs": [],
   "source": [
    "# Use get_dummies to code categorical variables into 0s and 1s.\n",
    "data_new = pd.get_dummies(data_new)"
   ]
  },
  {
   "cell_type": "code",
   "execution_count": 134,
   "metadata": {
    "ExecuteTime": {
     "end_time": "2019-04-24T16:35:54.823746Z",
     "start_time": "2019-04-24T16:35:54.778867Z"
    }
   },
   "outputs": [
    {
     "data": {
      "text/html": [
       "<div>\n",
       "<style scoped>\n",
       "    .dataframe tbody tr th:only-of-type {\n",
       "        vertical-align: middle;\n",
       "    }\n",
       "\n",
       "    .dataframe tbody tr th {\n",
       "        vertical-align: top;\n",
       "    }\n",
       "\n",
       "    .dataframe thead th {\n",
       "        text-align: right;\n",
       "    }\n",
       "</style>\n",
       "<table border=\"1\" class=\"dataframe\">\n",
       "  <thead>\n",
       "    <tr style=\"text-align: right;\">\n",
       "      <th></th>\n",
       "      <th>Current Loan Amount</th>\n",
       "      <th>Credit Score</th>\n",
       "      <th>Annual Income</th>\n",
       "      <th>Monthly Debt</th>\n",
       "      <th>Years of Credit History</th>\n",
       "      <th>Months since last delinquent</th>\n",
       "      <th>Number of Open Accounts</th>\n",
       "      <th>Number of Credit Problems</th>\n",
       "      <th>Current Credit Balance</th>\n",
       "      <th>Maximum Open Credit</th>\n",
       "      <th>...</th>\n",
       "      <th>Purpose_Medical Bills</th>\n",
       "      <th>Purpose_Other</th>\n",
       "      <th>Purpose_Take a Trip</th>\n",
       "      <th>Purpose_major_purchase</th>\n",
       "      <th>Purpose_moving</th>\n",
       "      <th>Purpose_other</th>\n",
       "      <th>Purpose_renewable_energy</th>\n",
       "      <th>Purpose_small_business</th>\n",
       "      <th>Purpose_vacation</th>\n",
       "      <th>Purpose_wedding</th>\n",
       "    </tr>\n",
       "  </thead>\n",
       "  <tbody>\n",
       "    <tr>\n",
       "      <th>0</th>\n",
       "      <td>445412.0</td>\n",
       "      <td>709.0</td>\n",
       "      <td>1167493.0</td>\n",
       "      <td>5214.74</td>\n",
       "      <td>17.2</td>\n",
       "      <td>0.0</td>\n",
       "      <td>6.0</td>\n",
       "      <td>1.0</td>\n",
       "      <td>228190.0</td>\n",
       "      <td>416746.0</td>\n",
       "      <td>...</td>\n",
       "      <td>0</td>\n",
       "      <td>0</td>\n",
       "      <td>0</td>\n",
       "      <td>0</td>\n",
       "      <td>0</td>\n",
       "      <td>0</td>\n",
       "      <td>0</td>\n",
       "      <td>0</td>\n",
       "      <td>0</td>\n",
       "      <td>0</td>\n",
       "    </tr>\n",
       "  </tbody>\n",
       "</table>\n",
       "<p>1 rows × 48 columns</p>\n",
       "</div>"
      ],
      "text/plain": [
       "   Current Loan Amount  Credit Score  Annual Income  Monthly Debt  \\\n",
       "0             445412.0         709.0      1167493.0       5214.74   \n",
       "\n",
       "   Years of Credit History  Months since last delinquent  \\\n",
       "0                     17.2                           0.0   \n",
       "\n",
       "   Number of Open Accounts  Number of Credit Problems  Current Credit Balance  \\\n",
       "0                      6.0                        1.0                228190.0   \n",
       "\n",
       "   Maximum Open Credit  ...  Purpose_Medical Bills  Purpose_Other  \\\n",
       "0             416746.0  ...                      0              0   \n",
       "\n",
       "   Purpose_Take a Trip  Purpose_major_purchase  Purpose_moving  Purpose_other  \\\n",
       "0                    0                       0               0              0   \n",
       "\n",
       "   Purpose_renewable_energy  Purpose_small_business  Purpose_vacation  \\\n",
       "0                         0                       0                 0   \n",
       "\n",
       "   Purpose_wedding  \n",
       "0                0  \n",
       "\n",
       "[1 rows x 48 columns]"
      ]
     },
     "execution_count": 134,
     "metadata": {},
     "output_type": "execute_result"
    }
   ],
   "source": [
    "data_new.head(1)"
   ]
  },
  {
   "cell_type": "code",
   "execution_count": 135,
   "metadata": {
    "ExecuteTime": {
     "end_time": "2019-04-24T16:35:54.850674Z",
     "start_time": "2019-04-24T16:35:54.830729Z"
    }
   },
   "outputs": [],
   "source": [
    "# Delete \"Loan Status Charged Off\" here to prevent it from skewing the model\n",
    "data_new = data_new.drop('Loan Status_Charged Off', axis = 1)"
   ]
  },
  {
   "cell_type": "markdown",
   "metadata": {},
   "source": [
    "# Train Random Forest model, with timing for comparision with R"
   ]
  },
  {
   "cell_type": "code",
   "execution_count": 136,
   "metadata": {
    "ExecuteTime": {
     "end_time": "2019-04-24T16:35:54.901541Z",
     "start_time": "2019-04-24T16:35:54.854665Z"
    }
   },
   "outputs": [],
   "source": [
    "# Use numpy to convert data to arrays -> This speeds thing up\n",
    "import numpy as np"
   ]
  },
  {
   "cell_type": "markdown",
   "metadata": {},
   "source": [
    "## Split the dataset\n",
    "We choose Loan Status as our target (labels). The model will predict whether the loan is fully paid or not."
   ]
  },
  {
   "cell_type": "code",
   "execution_count": 137,
   "metadata": {
    "ExecuteTime": {
     "end_time": "2019-04-24T16:35:54.901541Z",
     "start_time": "2019-04-24T16:35:54.854665Z"
    }
   },
   "outputs": [],
   "source": [
    "# Labels are the values we want to predict (Labels are the dependent var)\n",
    "# We will predict Loan Status with this model\n",
    "labels = np.array(data_new['Loan Status_Fully Paid'])\n",
    "\n",
    "# Remove the labels from the set to create features\n",
    "features = data_new.drop('Loan Status_Fully Paid', axis = 1)\n",
    "\n",
    "# Saving feature names for later use (for visualization perhaps)\n",
    "feature_list = list(features.columns)\n",
    "\n",
    "# Convert to numpy array\n",
    "features = np.array(features)"
   ]
  },
  {
   "cell_type": "code",
   "execution_count": 138,
   "metadata": {
    "ExecuteTime": {
     "end_time": "2019-04-24T16:35:54.979337Z",
     "start_time": "2019-04-24T16:35:54.904531Z"
    }
   },
   "outputs": [],
   "source": [
    "# Using Skicit-learn to split data into training and testing sets\n",
    "from sklearn.model_selection import train_test_split\n",
    "\n",
    "# The split function produces 4 arrays, in the below order. -> Create 4 variables to store them.\n",
    "train_features, test_features, train_labels, test_labels = train_test_split(features, labels, test_size = 0.25, random_state = 42)"
   ]
  },
  {
   "cell_type": "code",
   "execution_count": 139,
   "metadata": {
    "ExecuteTime": {
     "end_time": "2019-04-24T16:35:54.996291Z",
     "start_time": "2019-04-24T16:35:54.985315Z"
    }
   },
   "outputs": [
    {
     "name": "stdout",
     "output_type": "stream",
     "text": [
      "Training Features Shape: (74845, 46)\n",
      "Training Labels Shape: (74845,)\n",
      "Testing Features Shape: (24949, 46)\n",
      "Testing Labels Shape: (24949,)\n"
     ]
    }
   ],
   "source": [
    "print('Training Features Shape:', train_features.shape)\n",
    "print('Training Labels Shape:', train_labels.shape)\n",
    "print('Testing Features Shape:', test_features.shape)\n",
    "print('Testing Labels Shape:', test_labels.shape)"
   ]
  },
  {
   "cell_type": "markdown",
   "metadata": {},
   "source": [
    "## Fit the model"
   ]
  },
  {
   "cell_type": "code",
   "execution_count": 140,
   "metadata": {
    "ExecuteTime": {
     "end_time": "2019-04-24T16:35:55.008253Z",
     "start_time": "2019-04-24T16:35:55.002270Z"
    },
    "scrolled": false
   },
   "outputs": [],
   "source": [
    "# Instantiate model with 200 decision trees\n",
    "rf = RandomForestClassifier(n_estimators = 200, random_state = 42)"
   ]
  },
  {
   "cell_type": "code",
   "execution_count": 141,
   "metadata": {
    "ExecuteTime": {
     "end_time": "2019-04-24T16:36:07.299831Z",
     "start_time": "2019-04-24T16:35:55.014237Z"
    },
    "scrolled": true
   },
   "outputs": [],
   "source": [
    "t = time.time()\n",
    "\n",
    "# Train the model on training data\n",
    "rf.fit(train_features, train_labels)\n",
    "\n",
    "t_now = time.time()"
   ]
  },
  {
   "cell_type": "code",
   "execution_count": 142,
   "metadata": {
    "ExecuteTime": {
     "end_time": "2019-04-24T16:36:07.311798Z",
     "start_time": "2019-04-24T16:36:07.302823Z"
    }
   },
   "outputs": [
    {
     "name": "stdout",
     "output_type": "stream",
     "text": [
      "It took:\n",
      "85.12242 seconds to train the Random Forest\n"
     ]
    }
   ],
   "source": [
    "elapsed = t_now - t\n",
    "print(\"It took:\")\n",
    "print(round(elapsed,5),\"seconds to train the Random Forest\")"
   ]
  },
  {
   "cell_type": "code",
   "execution_count": 143,
   "metadata": {
    "ExecuteTime": {
     "end_time": "2019-04-24T16:36:07.863326Z",
     "start_time": "2019-04-24T16:36:07.316786Z"
    }
   },
   "outputs": [],
   "source": [
    "# Use the forest's predict method on the test data\n",
    "predictions = rf.predict(test_features)\n",
    "\n",
    "# Calculate the absolute errors\n",
    "errors = abs(predictions - test_labels)"
   ]
  },
  {
   "cell_type": "markdown",
   "metadata": {
    "ExecuteTime": {
     "end_time": "2019-04-24T16:36:07.863326Z",
     "start_time": "2019-04-24T16:36:07.316786Z"
    }
   },
   "source": [
    "The mean absolute error (mae) is:"
   ]
  },
  {
   "cell_type": "code",
   "execution_count": 144,
   "metadata": {
    "ExecuteTime": {
     "end_time": "2019-04-24T16:36:07.863326Z",
     "start_time": "2019-04-24T16:36:07.316786Z"
    }
   },
   "outputs": [
    {
     "name": "stdout",
     "output_type": "stream",
     "text": [
      "Mean Absolute Error: 1.56668 degrees.\n"
     ]
    }
   ],
   "source": [
    "print('Mean Absolute Error:', round(np.mean(errors), 5), 'degrees.')"
   ]
  },
  {
   "cell_type": "code",
   "execution_count": 145,
   "metadata": {
    "ExecuteTime": {
     "end_time": "2019-04-24T16:36:07.901223Z",
     "start_time": "2019-04-24T16:36:07.885268Z"
    }
   },
   "outputs": [
    {
     "name": "stdout",
     "output_type": "stream",
     "text": [
      "Accuracy: 99.99186 %.\n"
     ]
    }
   ],
   "source": [
    "# Calculate mean absolute percentage error (MAPE)\n",
    "mape = 100 * (errors / sum(test_labels))\n",
    "\n",
    "# Calculate and display accuracy. This is faster than .score(), due to the time it took to train the RF\n",
    "accuracy = 100 - np.mean(mape)\n",
    "print('Accuracy:', round(accuracy, 5), '%.')"
   ]
  },
  {
   "cell_type": "markdown",
   "metadata": {},
   "source": [
    "This is too good to be true. It is worth checkng my small sample size has led to overfitting."
   ]
  },
  {
   "cell_type": "markdown",
   "metadata": {},
   "source": [
    "# Get feature importance from model\n",
    "This is to see which variable is most important to producing predictions. As our team is comparing Python and R while assuming a beginner's perspective, this step requires more work than the equivalent model in R. "
   ]
  },
  {
   "cell_type": "code",
   "execution_count": 146,
   "metadata": {
    "ExecuteTime": {
     "end_time": "2019-04-24T16:36:07.984000Z",
     "start_time": "2019-04-24T16:36:07.912193Z"
    }
   },
   "outputs": [],
   "source": [
    "# Get numerical feature importances\n",
    "importances = list(rf.feature_importances_)\n",
    "\n",
    "# List of tuples with variable and importance\n",
    "feature_importances = [(feature, round(importance, 2)) for feature, importance in zip(feature_list, importances)]\n",
    "\n",
    "# Turn this into a Df and sort by importance - for presentation purpose\n",
    "feature_importances = pd.DataFrame(feature_importances, columns=['features','importance']).sort_values(by=\"importance\",ascending=False)"
   ]
  },
  {
   "cell_type": "code",
   "execution_count": 147,
   "metadata": {},
   "outputs": [
    {
     "data": {
      "text/html": [
       "<div>\n",
       "<style scoped>\n",
       "    .dataframe tbody tr th:only-of-type {\n",
       "        vertical-align: middle;\n",
       "    }\n",
       "\n",
       "    .dataframe tbody tr th {\n",
       "        vertical-align: top;\n",
       "    }\n",
       "\n",
       "    .dataframe thead th {\n",
       "        text-align: right;\n",
       "    }\n",
       "</style>\n",
       "<table border=\"1\" class=\"dataframe\">\n",
       "  <thead>\n",
       "    <tr style=\"text-align: right;\">\n",
       "      <th></th>\n",
       "      <th>features</th>\n",
       "      <th>importance</th>\n",
       "    </tr>\n",
       "  </thead>\n",
       "  <tbody>\n",
       "    <tr>\n",
       "      <th>1</th>\n",
       "      <td>Credit Score</td>\n",
       "      <td>0.21</td>\n",
       "    </tr>\n",
       "    <tr>\n",
       "      <th>0</th>\n",
       "      <td>Current Loan Amount</td>\n",
       "      <td>0.12</td>\n",
       "    </tr>\n",
       "    <tr>\n",
       "      <th>3</th>\n",
       "      <td>Monthly Debt</td>\n",
       "      <td>0.09</td>\n",
       "    </tr>\n",
       "    <tr>\n",
       "      <th>8</th>\n",
       "      <td>Current Credit Balance</td>\n",
       "      <td>0.09</td>\n",
       "    </tr>\n",
       "    <tr>\n",
       "      <th>9</th>\n",
       "      <td>Maximum Open Credit</td>\n",
       "      <td>0.09</td>\n",
       "    </tr>\n",
       "    <tr>\n",
       "      <th>4</th>\n",
       "      <td>Years of Credit History</td>\n",
       "      <td>0.08</td>\n",
       "    </tr>\n",
       "    <tr>\n",
       "      <th>2</th>\n",
       "      <td>Annual Income</td>\n",
       "      <td>0.07</td>\n",
       "    </tr>\n",
       "    <tr>\n",
       "      <th>6</th>\n",
       "      <td>Number of Open Accounts</td>\n",
       "      <td>0.06</td>\n",
       "    </tr>\n",
       "    <tr>\n",
       "      <th>5</th>\n",
       "      <td>Months since last delinquent</td>\n",
       "      <td>0.05</td>\n",
       "    </tr>\n",
       "    <tr>\n",
       "      <th>18</th>\n",
       "      <td>Years in current job_3 years</td>\n",
       "      <td>0.01</td>\n",
       "    </tr>\n",
       "    <tr>\n",
       "      <th>29</th>\n",
       "      <td>Home Ownership_Rent</td>\n",
       "      <td>0.01</td>\n",
       "    </tr>\n",
       "    <tr>\n",
       "      <th>25</th>\n",
       "      <td>Years in current job_&lt; 1 year</td>\n",
       "      <td>0.01</td>\n",
       "    </tr>\n",
       "    <tr>\n",
       "      <th>22</th>\n",
       "      <td>Years in current job_7 years</td>\n",
       "      <td>0.01</td>\n",
       "    </tr>\n",
       "    <tr>\n",
       "      <th>21</th>\n",
       "      <td>Years in current job_6 years</td>\n",
       "      <td>0.01</td>\n",
       "    </tr>\n",
       "    <tr>\n",
       "      <th>20</th>\n",
       "      <td>Years in current job_5 years</td>\n",
       "      <td>0.01</td>\n",
       "    </tr>\n",
       "    <tr>\n",
       "      <th>19</th>\n",
       "      <td>Years in current job_4 years</td>\n",
       "      <td>0.01</td>\n",
       "    </tr>\n",
       "    <tr>\n",
       "      <th>17</th>\n",
       "      <td>Years in current job_2 years</td>\n",
       "      <td>0.01</td>\n",
       "    </tr>\n",
       "    <tr>\n",
       "      <th>10</th>\n",
       "      <td>Bankruptcies</td>\n",
       "      <td>0.01</td>\n",
       "    </tr>\n",
       "    <tr>\n",
       "      <th>12</th>\n",
       "      <td>Term_Long Term</td>\n",
       "      <td>0.01</td>\n",
       "    </tr>\n",
       "    <tr>\n",
       "      <th>7</th>\n",
       "      <td>Number of Credit Problems</td>\n",
       "      <td>0.01</td>\n",
       "    </tr>\n",
       "    <tr>\n",
       "      <th>16</th>\n",
       "      <td>Years in current job_10+ years</td>\n",
       "      <td>0.01</td>\n",
       "    </tr>\n",
       "    <tr>\n",
       "      <th>33</th>\n",
       "      <td>Purpose_Debt Consolidation</td>\n",
       "      <td>0.01</td>\n",
       "    </tr>\n",
       "    <tr>\n",
       "      <th>13</th>\n",
       "      <td>Term_Short Term</td>\n",
       "      <td>0.01</td>\n",
       "    </tr>\n",
       "    <tr>\n",
       "      <th>15</th>\n",
       "      <td>Years in current job_1 year</td>\n",
       "      <td>0.01</td>\n",
       "    </tr>\n",
       "    <tr>\n",
       "      <th>44</th>\n",
       "      <td>Purpose_vacation</td>\n",
       "      <td>0.00</td>\n",
       "    </tr>\n",
       "    <tr>\n",
       "      <th>42</th>\n",
       "      <td>Purpose_renewable_energy</td>\n",
       "      <td>0.00</td>\n",
       "    </tr>\n",
       "    <tr>\n",
       "      <th>43</th>\n",
       "      <td>Purpose_small_business</td>\n",
       "      <td>0.00</td>\n",
       "    </tr>\n",
       "    <tr>\n",
       "      <th>41</th>\n",
       "      <td>Purpose_other</td>\n",
       "      <td>0.00</td>\n",
       "    </tr>\n",
       "    <tr>\n",
       "      <th>40</th>\n",
       "      <td>Purpose_moving</td>\n",
       "      <td>0.00</td>\n",
       "    </tr>\n",
       "    <tr>\n",
       "      <th>39</th>\n",
       "      <td>Purpose_major_purchase</td>\n",
       "      <td>0.00</td>\n",
       "    </tr>\n",
       "    <tr>\n",
       "      <th>38</th>\n",
       "      <td>Purpose_Take a Trip</td>\n",
       "      <td>0.00</td>\n",
       "    </tr>\n",
       "    <tr>\n",
       "      <th>37</th>\n",
       "      <td>Purpose_Other</td>\n",
       "      <td>0.00</td>\n",
       "    </tr>\n",
       "    <tr>\n",
       "      <th>36</th>\n",
       "      <td>Purpose_Medical Bills</td>\n",
       "      <td>0.00</td>\n",
       "    </tr>\n",
       "    <tr>\n",
       "      <th>35</th>\n",
       "      <td>Purpose_Home Improvements</td>\n",
       "      <td>0.00</td>\n",
       "    </tr>\n",
       "    <tr>\n",
       "      <th>23</th>\n",
       "      <td>Years in current job_8 years</td>\n",
       "      <td>0.00</td>\n",
       "    </tr>\n",
       "    <tr>\n",
       "      <th>34</th>\n",
       "      <td>Purpose_Educational Expenses</td>\n",
       "      <td>0.00</td>\n",
       "    </tr>\n",
       "    <tr>\n",
       "      <th>32</th>\n",
       "      <td>Purpose_Buy a Car</td>\n",
       "      <td>0.00</td>\n",
       "    </tr>\n",
       "    <tr>\n",
       "      <th>31</th>\n",
       "      <td>Purpose_Buy House</td>\n",
       "      <td>0.00</td>\n",
       "    </tr>\n",
       "    <tr>\n",
       "      <th>30</th>\n",
       "      <td>Purpose_Business Loan</td>\n",
       "      <td>0.00</td>\n",
       "    </tr>\n",
       "    <tr>\n",
       "      <th>28</th>\n",
       "      <td>Home Ownership_Own Home</td>\n",
       "      <td>0.00</td>\n",
       "    </tr>\n",
       "    <tr>\n",
       "      <th>27</th>\n",
       "      <td>Home Ownership_Home Mortgage</td>\n",
       "      <td>0.00</td>\n",
       "    </tr>\n",
       "    <tr>\n",
       "      <th>26</th>\n",
       "      <td>Home Ownership_HaveMortgage</td>\n",
       "      <td>0.00</td>\n",
       "    </tr>\n",
       "    <tr>\n",
       "      <th>24</th>\n",
       "      <td>Years in current job_9 years</td>\n",
       "      <td>0.00</td>\n",
       "    </tr>\n",
       "    <tr>\n",
       "      <th>14</th>\n",
       "      <td>Years in current job_0</td>\n",
       "      <td>0.00</td>\n",
       "    </tr>\n",
       "    <tr>\n",
       "      <th>11</th>\n",
       "      <td>Tax Liens</td>\n",
       "      <td>0.00</td>\n",
       "    </tr>\n",
       "    <tr>\n",
       "      <th>45</th>\n",
       "      <td>Purpose_wedding</td>\n",
       "      <td>0.00</td>\n",
       "    </tr>\n",
       "  </tbody>\n",
       "</table>\n",
       "</div>"
      ],
      "text/plain": [
       "                          features  importance\n",
       "1                     Credit Score        0.21\n",
       "0              Current Loan Amount        0.12\n",
       "3                     Monthly Debt        0.09\n",
       "8           Current Credit Balance        0.09\n",
       "9              Maximum Open Credit        0.09\n",
       "4          Years of Credit History        0.08\n",
       "2                    Annual Income        0.07\n",
       "6          Number of Open Accounts        0.06\n",
       "5     Months since last delinquent        0.05\n",
       "18    Years in current job_3 years        0.01\n",
       "29             Home Ownership_Rent        0.01\n",
       "25   Years in current job_< 1 year        0.01\n",
       "22    Years in current job_7 years        0.01\n",
       "21    Years in current job_6 years        0.01\n",
       "20    Years in current job_5 years        0.01\n",
       "19    Years in current job_4 years        0.01\n",
       "17    Years in current job_2 years        0.01\n",
       "10                    Bankruptcies        0.01\n",
       "12                  Term_Long Term        0.01\n",
       "7        Number of Credit Problems        0.01\n",
       "16  Years in current job_10+ years        0.01\n",
       "33      Purpose_Debt Consolidation        0.01\n",
       "13                 Term_Short Term        0.01\n",
       "15     Years in current job_1 year        0.01\n",
       "44                Purpose_vacation        0.00\n",
       "42        Purpose_renewable_energy        0.00\n",
       "43          Purpose_small_business        0.00\n",
       "41                   Purpose_other        0.00\n",
       "40                  Purpose_moving        0.00\n",
       "39          Purpose_major_purchase        0.00\n",
       "38             Purpose_Take a Trip        0.00\n",
       "37                   Purpose_Other        0.00\n",
       "36           Purpose_Medical Bills        0.00\n",
       "35       Purpose_Home Improvements        0.00\n",
       "23    Years in current job_8 years        0.00\n",
       "34    Purpose_Educational Expenses        0.00\n",
       "32               Purpose_Buy a Car        0.00\n",
       "31               Purpose_Buy House        0.00\n",
       "30           Purpose_Business Loan        0.00\n",
       "28         Home Ownership_Own Home        0.00\n",
       "27    Home Ownership_Home Mortgage        0.00\n",
       "26     Home Ownership_HaveMortgage        0.00\n",
       "24    Years in current job_9 years        0.00\n",
       "14          Years in current job_0        0.00\n",
       "11                       Tax Liens        0.00\n",
       "45                 Purpose_wedding        0.00"
      ]
     },
     "execution_count": 147,
     "metadata": {},
     "output_type": "execute_result"
    }
   ],
   "source": [
    "feature_importances"
   ]
  }
 ],
 "metadata": {
  "kernelspec": {
   "display_name": "Python 3",
   "language": "python",
   "name": "python3"
  },
  "language_info": {
   "codemirror_mode": {
    "name": "ipython",
    "version": 3
   },
   "file_extension": ".py",
   "mimetype": "text/x-python",
   "name": "python",
   "nbconvert_exporter": "python",
   "pygments_lexer": "ipython3",
   "version": "3.7.3"
  },
  "toc": {
   "base_numbering": 1,
   "nav_menu": {},
   "number_sections": true,
   "sideBar": true,
   "skip_h1_title": false,
   "title_cell": "Table of Contents",
   "title_sidebar": "Contents",
   "toc_cell": true,
   "toc_position": {
    "height": "calc(100% - 180px)",
    "left": "10px",
    "top": "150px",
    "width": "256px"
   },
   "toc_section_display": true,
   "toc_window_display": true
  }
 },
 "nbformat": 4,
 "nbformat_minor": 2
}
