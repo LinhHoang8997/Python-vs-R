{
 "cells": [
  {
   "cell_type": "code",
   "execution_count": 20,
   "metadata": {
    "ExecuteTime": {
     "end_time": "2019-04-24T17:07:23.855100Z",
     "start_time": "2019-04-24T17:07:23.850114Z"
    }
   },
   "outputs": [],
   "source": [
    "import pandas as pd"
   ]
  },
  {
   "cell_type": "code",
   "execution_count": 21,
   "metadata": {
    "ExecuteTime": {
     "end_time": "2019-04-24T17:07:23.870059Z",
     "start_time": "2019-04-24T17:07:23.862081Z"
    }
   },
   "outputs": [],
   "source": [
    "# display floats with 2 decimal places\n",
    "pd.options.display.float_format = '{:,.5f}'.format\n",
    " \n",
    "# expand display limits\n",
    "pd.options.display.max_rows = 200\n",
    "pd.options.display.max_columns = 100"
   ]
  },
  {
   "cell_type": "code",
   "execution_count": 22,
   "metadata": {
    "ExecuteTime": {
     "end_time": "2019-04-24T17:07:23.932892Z",
     "start_time": "2019-04-24T17:07:23.873052Z"
    }
   },
   "outputs": [
    {
     "data": {
      "text/html": [
       "<div>\n",
       "<style scoped>\n",
       "    .dataframe tbody tr th:only-of-type {\n",
       "        vertical-align: middle;\n",
       "    }\n",
       "\n",
       "    .dataframe tbody tr th {\n",
       "        vertical-align: top;\n",
       "    }\n",
       "\n",
       "    .dataframe thead th {\n",
       "        text-align: right;\n",
       "    }\n",
       "</style>\n",
       "<table border=\"1\" class=\"dataframe\">\n",
       "  <thead>\n",
       "    <tr style=\"text-align: right;\">\n",
       "      <th></th>\n",
       "      <th>index</th>\n",
       "      <th>Date</th>\n",
       "      <th>Open</th>\n",
       "      <th>High</th>\n",
       "      <th>Low</th>\n",
       "      <th>Close</th>\n",
       "      <th>Volume</th>\n",
       "      <th>Name</th>\n",
       "    </tr>\n",
       "  </thead>\n",
       "  <tbody>\n",
       "    <tr>\n",
       "      <th>1</th>\n",
       "      <td>1</td>\n",
       "      <td>1/3/2017</td>\n",
       "      <td>178.83</td>\n",
       "      <td>180</td>\n",
       "      <td>177.22</td>\n",
       "      <td>178.05</td>\n",
       "      <td>2510055</td>\n",
       "      <td>MMM</td>\n",
       "    </tr>\n",
       "    <tr>\n",
       "      <th>2</th>\n",
       "      <td>2</td>\n",
       "      <td>1/4/2017</td>\n",
       "      <td>178.03</td>\n",
       "      <td>178.9</td>\n",
       "      <td>177.61</td>\n",
       "      <td>178.32</td>\n",
       "      <td>1541985</td>\n",
       "      <td>MMM</td>\n",
       "    </tr>\n",
       "    <tr>\n",
       "      <th>3</th>\n",
       "      <td>3</td>\n",
       "      <td>1/5/2017</td>\n",
       "      <td>178.26</td>\n",
       "      <td>179.14</td>\n",
       "      <td>176.89</td>\n",
       "      <td>177.71</td>\n",
       "      <td>1447848</td>\n",
       "      <td>MMM</td>\n",
       "    </tr>\n",
       "    <tr>\n",
       "      <th>4</th>\n",
       "      <td>4</td>\n",
       "      <td>1/6/2017</td>\n",
       "      <td>177.29</td>\n",
       "      <td>178.6</td>\n",
       "      <td>175.8</td>\n",
       "      <td>178.23</td>\n",
       "      <td>1625049</td>\n",
       "      <td>MMM</td>\n",
       "    </tr>\n",
       "    <tr>\n",
       "      <th>5</th>\n",
       "      <td>5</td>\n",
       "      <td>1/9/2017</td>\n",
       "      <td>178.37</td>\n",
       "      <td>178.38</td>\n",
       "      <td>177.2</td>\n",
       "      <td>177.27</td>\n",
       "      <td>1622625</td>\n",
       "      <td>MMM</td>\n",
       "    </tr>\n",
       "  </tbody>\n",
       "</table>\n",
       "</div>"
      ],
      "text/plain": [
       "   index      Date    Open    High     Low   Close   Volume Name\n",
       "1      1  1/3/2017  178.83     180  177.22  178.05  2510055  MMM\n",
       "2      2  1/4/2017  178.03   178.9  177.61  178.32  1541985  MMM\n",
       "3      3  1/5/2017  178.26  179.14  176.89  177.71  1447848  MMM\n",
       "4      4  1/6/2017  177.29   178.6   175.8  178.23  1625049  MMM\n",
       "5      5  1/9/2017  178.37  178.38   177.2  177.27  1622625  MMM"
      ]
     },
     "execution_count": 22,
     "metadata": {},
     "output_type": "execute_result"
    }
   ],
   "source": [
    "df = pd.read_csv('all_stocks_2017-2018.csv',\n",
    "                names=['Date', 'Open', 'High', 'Low', 'Close', 'Volume','Name']).reset_index().drop(0)\n",
    "df.head()"
   ]
  },
  {
   "cell_type": "code",
   "execution_count": 23,
   "metadata": {
    "ExecuteTime": {
     "end_time": "2019-04-24T17:07:23.966801Z",
     "start_time": "2019-04-24T17:07:23.935891Z"
    }
   },
   "outputs": [],
   "source": [
    "for i in ['Open', 'High', 'Low', 'Close', 'Volume']:\n",
    "    df.loc[:,i] = df.loc[:,i].astype('float')"
   ]
  },
  {
   "cell_type": "code",
   "execution_count": 24,
   "metadata": {
    "ExecuteTime": {
     "end_time": "2019-04-24T17:07:23.989740Z",
     "start_time": "2019-04-24T17:07:23.970791Z"
    }
   },
   "outputs": [
    {
     "name": "stdout",
     "output_type": "stream",
     "text": [
      "<class 'pandas.core.frame.DataFrame'>\n",
      "Int64Index: 7781 entries, 1 to 7781\n",
      "Data columns (total 8 columns):\n",
      "index     7781 non-null int64\n",
      "Date      7781 non-null object\n",
      "Open      7757 non-null float64\n",
      "High      7772 non-null float64\n",
      "Low       7762 non-null float64\n",
      "Close     7781 non-null float64\n",
      "Volume    7781 non-null float64\n",
      "Name      7781 non-null object\n",
      "dtypes: float64(5), int64(1), object(2)\n",
      "memory usage: 547.1+ KB\n"
     ]
    }
   ],
   "source": [
    "df.info()"
   ]
  },
  {
   "cell_type": "code",
   "execution_count": 25,
   "metadata": {
    "ExecuteTime": {
     "end_time": "2019-04-24T17:07:24.000711Z",
     "start_time": "2019-04-24T17:07:23.992733Z"
    }
   },
   "outputs": [
    {
     "name": "stdout",
     "output_type": "stream",
     "text": [
      "['MMM' 'AXP' 'AAPL' 'BA' 'CAT' 'CVX' 'CSCO' 'KO' 'DIS' 'XOM' 'GE' 'GS'\n",
      " 'HD' 'IBM' 'INTC' 'JNJ' 'JPM' 'MCD' 'MRK' 'MSFT' 'NKE' 'PFE' 'PG' 'TRV'\n",
      " 'UTX' 'UNH' 'VZ' 'WMT' 'GOOGL' 'AMZN' 'AABA']\n"
     ]
    }
   ],
   "source": [
    "\n",
    "print( df.Name.unique() )"
   ]
  },
  {
   "cell_type": "code",
   "execution_count": 26,
   "metadata": {
    "ExecuteTime": {
     "end_time": "2019-04-24T17:07:24.020656Z",
     "start_time": "2019-04-24T17:07:24.003703Z"
    }
   },
   "outputs": [],
   "source": [
    "df_AAPL = df[df.Name.isin(['AAPL','GOOGL','MSFT','AMZN'])]"
   ]
  },
  {
   "cell_type": "markdown",
   "metadata": {},
   "source": [
    "## One simple pivot do the trick"
   ]
  },
  {
   "cell_type": "code",
   "execution_count": 27,
   "metadata": {
    "ExecuteTime": {
     "end_time": "2019-04-24T17:07:24.048585Z",
     "start_time": "2019-04-24T17:07:24.024646Z"
    }
   },
   "outputs": [
    {
     "data": {
      "text/html": [
       "<div>\n",
       "<style scoped>\n",
       "    .dataframe tbody tr th:only-of-type {\n",
       "        vertical-align: middle;\n",
       "    }\n",
       "\n",
       "    .dataframe tbody tr th {\n",
       "        vertical-align: top;\n",
       "    }\n",
       "\n",
       "    .dataframe thead th {\n",
       "        text-align: right;\n",
       "    }\n",
       "</style>\n",
       "<table border=\"1\" class=\"dataframe\">\n",
       "  <thead>\n",
       "    <tr style=\"text-align: right;\">\n",
       "      <th>Name</th>\n",
       "      <th>AAPL</th>\n",
       "      <th>AMZN</th>\n",
       "      <th>GOOGL</th>\n",
       "      <th>MSFT</th>\n",
       "    </tr>\n",
       "    <tr>\n",
       "      <th>Date</th>\n",
       "      <th></th>\n",
       "      <th></th>\n",
       "      <th></th>\n",
       "      <th></th>\n",
       "    </tr>\n",
       "  </thead>\n",
       "  <tbody>\n",
       "    <tr>\n",
       "      <th>9/29/2017</th>\n",
       "      <td>154.12000</td>\n",
       "      <td>961.35000</td>\n",
       "      <td>973.72000</td>\n",
       "      <td>74.49000</td>\n",
       "    </tr>\n",
       "    <tr>\n",
       "      <th>9/5/2017</th>\n",
       "      <td>162.08000</td>\n",
       "      <td>965.27000</td>\n",
       "      <td>941.48000</td>\n",
       "      <td>73.61000</td>\n",
       "    </tr>\n",
       "    <tr>\n",
       "      <th>9/6/2017</th>\n",
       "      <td>161.91000</td>\n",
       "      <td>967.80000</td>\n",
       "      <td>942.02000</td>\n",
       "      <td>73.40000</td>\n",
       "    </tr>\n",
       "    <tr>\n",
       "      <th>9/7/2017</th>\n",
       "      <td>161.26000</td>\n",
       "      <td>979.47000</td>\n",
       "      <td>949.89000</td>\n",
       "      <td>74.34000</td>\n",
       "    </tr>\n",
       "    <tr>\n",
       "      <th>9/8/2017</th>\n",
       "      <td>158.63000</td>\n",
       "      <td>965.90000</td>\n",
       "      <td>941.41000</td>\n",
       "      <td>73.98000</td>\n",
       "    </tr>\n",
       "  </tbody>\n",
       "</table>\n",
       "</div>"
      ],
      "text/plain": [
       "Name           AAPL      AMZN     GOOGL     MSFT\n",
       "Date                                            \n",
       "9/29/2017 154.12000 961.35000 973.72000 74.49000\n",
       "9/5/2017  162.08000 965.27000 941.48000 73.61000\n",
       "9/6/2017  161.91000 967.80000 942.02000 73.40000\n",
       "9/7/2017  161.26000 979.47000 949.89000 74.34000\n",
       "9/8/2017  158.63000 965.90000 941.41000 73.98000"
      ]
     },
     "execution_count": 27,
     "metadata": {},
     "output_type": "execute_result"
    }
   ],
   "source": [
    "# pivot the dataset while keeping only one price column\n",
    "pivoted_df = df_AAPL.pivot(index='Date', columns='Name', values='Close')\n",
    "\n",
    "# display examples from pivoted dataset\n",
    "pivoted_df.tail()"
   ]
  },
  {
   "cell_type": "code",
   "execution_count": null,
   "metadata": {},
   "outputs": [],
   "source": []
  },
  {
   "cell_type": "code",
   "execution_count": 28,
   "metadata": {
    "ExecuteTime": {
     "end_time": "2019-04-24T17:07:24.074514Z",
     "start_time": "2019-04-24T17:07:24.050581Z"
    }
   },
   "outputs": [
    {
     "data": {
      "text/html": [
       "<div>\n",
       "<style scoped>\n",
       "    .dataframe tbody tr th:only-of-type {\n",
       "        vertical-align: middle;\n",
       "    }\n",
       "\n",
       "    .dataframe tbody tr th {\n",
       "        vertical-align: top;\n",
       "    }\n",
       "\n",
       "    .dataframe thead th {\n",
       "        text-align: right;\n",
       "    }\n",
       "</style>\n",
       "<table border=\"1\" class=\"dataframe\">\n",
       "  <thead>\n",
       "    <tr style=\"text-align: right;\">\n",
       "      <th>Name</th>\n",
       "      <th>AAPL</th>\n",
       "      <th>AMZN</th>\n",
       "      <th>GOOGL</th>\n",
       "      <th>MSFT</th>\n",
       "    </tr>\n",
       "    <tr>\n",
       "      <th>Date</th>\n",
       "      <th></th>\n",
       "      <th></th>\n",
       "      <th></th>\n",
       "      <th></th>\n",
       "    </tr>\n",
       "  </thead>\n",
       "  <tbody>\n",
       "    <tr>\n",
       "      <th>9/6/2017</th>\n",
       "      <td>161.91000</td>\n",
       "      <td>967.80000</td>\n",
       "      <td>942.02000</td>\n",
       "      <td>73.40000</td>\n",
       "    </tr>\n",
       "    <tr>\n",
       "      <th>9/7/2017</th>\n",
       "      <td>161.26000</td>\n",
       "      <td>979.47000</td>\n",
       "      <td>949.89000</td>\n",
       "      <td>74.34000</td>\n",
       "    </tr>\n",
       "    <tr>\n",
       "      <th>9/8/2017</th>\n",
       "      <td>158.63000</td>\n",
       "      <td>965.90000</td>\n",
       "      <td>941.41000</td>\n",
       "      <td>73.98000</td>\n",
       "    </tr>\n",
       "  </tbody>\n",
       "</table>\n",
       "</div>"
      ],
      "text/plain": [
       "Name          AAPL      AMZN     GOOGL     MSFT\n",
       "Date                                           \n",
       "9/6/2017 161.91000 967.80000 942.02000 73.40000\n",
       "9/7/2017 161.26000 979.47000 949.89000 74.34000\n",
       "9/8/2017 158.63000 965.90000 941.41000 73.98000"
      ]
     },
     "execution_count": 28,
     "metadata": {},
     "output_type": "execute_result"
    }
   ],
   "source": [
    "# calculate returns over the prior 7, 14, 21 and 28 days using shift method\n",
    "\n",
    "# shift the index of the dataframe by some number of periods\n",
    "pivoted_df.tail(3)"
   ]
  },
  {
   "cell_type": "markdown",
   "metadata": {},
   "source": [
    "## Simple and easy in Python with .shift"
   ]
  },
  {
   "cell_type": "code",
   "execution_count": 29,
   "metadata": {
    "ExecuteTime": {
     "end_time": "2019-04-24T17:07:24.090475Z",
     "start_time": "2019-04-24T17:07:24.084493Z"
    }
   },
   "outputs": [],
   "source": [
    "shifted = pivoted_df.shift(-7)"
   ]
  },
  {
   "cell_type": "code",
   "execution_count": 30,
   "metadata": {
    "ExecuteTime": {
     "end_time": "2019-04-24T17:07:24.117399Z",
     "start_time": "2019-04-24T17:07:24.099447Z"
    }
   },
   "outputs": [
    {
     "data": {
      "text/html": [
       "<div>\n",
       "<style scoped>\n",
       "    .dataframe tbody tr th:only-of-type {\n",
       "        vertical-align: middle;\n",
       "    }\n",
       "\n",
       "    .dataframe tbody tr th {\n",
       "        vertical-align: top;\n",
       "    }\n",
       "\n",
       "    .dataframe thead th {\n",
       "        text-align: right;\n",
       "    }\n",
       "</style>\n",
       "<table border=\"1\" class=\"dataframe\">\n",
       "  <thead>\n",
       "    <tr style=\"text-align: right;\">\n",
       "      <th>Name</th>\n",
       "      <th>AAPL</th>\n",
       "      <th>AMZN</th>\n",
       "      <th>GOOGL</th>\n",
       "      <th>MSFT</th>\n",
       "    </tr>\n",
       "    <tr>\n",
       "      <th>Date</th>\n",
       "      <th></th>\n",
       "      <th></th>\n",
       "      <th></th>\n",
       "      <th></th>\n",
       "    </tr>\n",
       "  </thead>\n",
       "  <tbody>\n",
       "    <tr>\n",
       "      <th>9/29/2017</th>\n",
       "      <td>nan</td>\n",
       "      <td>nan</td>\n",
       "      <td>nan</td>\n",
       "      <td>nan</td>\n",
       "    </tr>\n",
       "    <tr>\n",
       "      <th>9/5/2017</th>\n",
       "      <td>nan</td>\n",
       "      <td>nan</td>\n",
       "      <td>nan</td>\n",
       "      <td>nan</td>\n",
       "    </tr>\n",
       "    <tr>\n",
       "      <th>9/6/2017</th>\n",
       "      <td>nan</td>\n",
       "      <td>nan</td>\n",
       "      <td>nan</td>\n",
       "      <td>nan</td>\n",
       "    </tr>\n",
       "    <tr>\n",
       "      <th>9/7/2017</th>\n",
       "      <td>nan</td>\n",
       "      <td>nan</td>\n",
       "      <td>nan</td>\n",
       "      <td>nan</td>\n",
       "    </tr>\n",
       "    <tr>\n",
       "      <th>9/8/2017</th>\n",
       "      <td>nan</td>\n",
       "      <td>nan</td>\n",
       "      <td>nan</td>\n",
       "      <td>nan</td>\n",
       "    </tr>\n",
       "  </tbody>\n",
       "</table>\n",
       "</div>"
      ],
      "text/plain": [
       "Name       AAPL  AMZN  GOOGL  MSFT\n",
       "Date                              \n",
       "9/29/2017   nan   nan    nan   nan\n",
       "9/5/2017    nan   nan    nan   nan\n",
       "9/6/2017    nan   nan    nan   nan\n",
       "9/7/2017    nan   nan    nan   nan\n",
       "9/8/2017    nan   nan    nan   nan"
      ]
     },
     "execution_count": 30,
     "metadata": {},
     "output_type": "execute_result"
    }
   ],
   "source": [
    "# to calcuate returns over 7 days prior we can use prices_today/prices_7_days_ago -1.0\n",
    "#calculate returns over 7 days prior\n",
    "delta_7 = pivoted_df / shifted - 1.0\n",
    "\n",
    "#display examples\n",
    "delta_7.tail()"
   ]
  },
  {
   "cell_type": "code",
   "execution_count": 31,
   "metadata": {
    "ExecuteTime": {
     "end_time": "2019-04-24T17:07:24.132359Z",
     "start_time": "2019-04-24T17:07:24.119399Z"
    }
   },
   "outputs": [],
   "source": [
    "# calculate returns over each window and store them in dictionary using loop\n",
    "\n",
    "delta_dict = {}\n",
    "for offset in [7, 14, 21, 28]:\n",
    "    delta_dict['delta_{}'.format(offset)] = pivoted_df / pivoted_df.shift(offset) - 1.0"
   ]
  },
  {
   "cell_type": "code",
   "execution_count": 32,
   "metadata": {
    "ExecuteTime": {
     "end_time": "2019-04-24T17:07:24.166268Z",
     "start_time": "2019-04-24T17:07:24.135352Z"
    }
   },
   "outputs": [
    {
     "data": {
      "text/html": [
       "<div>\n",
       "<style scoped>\n",
       "    .dataframe tbody tr th:only-of-type {\n",
       "        vertical-align: middle;\n",
       "    }\n",
       "\n",
       "    .dataframe tbody tr th {\n",
       "        vertical-align: top;\n",
       "    }\n",
       "\n",
       "    .dataframe thead th {\n",
       "        text-align: right;\n",
       "    }\n",
       "</style>\n",
       "<table border=\"1\" class=\"dataframe\">\n",
       "  <thead>\n",
       "    <tr style=\"text-align: right;\">\n",
       "      <th></th>\n",
       "      <th>Date</th>\n",
       "      <th>Name</th>\n",
       "      <th>delta_7</th>\n",
       "    </tr>\n",
       "  </thead>\n",
       "  <tbody>\n",
       "    <tr>\n",
       "      <th>999</th>\n",
       "      <td>9/29/2017</td>\n",
       "      <td>MSFT</td>\n",
       "      <td>nan</td>\n",
       "    </tr>\n",
       "    <tr>\n",
       "      <th>1000</th>\n",
       "      <td>9/5/2017</td>\n",
       "      <td>MSFT</td>\n",
       "      <td>nan</td>\n",
       "    </tr>\n",
       "    <tr>\n",
       "      <th>1001</th>\n",
       "      <td>9/6/2017</td>\n",
       "      <td>MSFT</td>\n",
       "      <td>nan</td>\n",
       "    </tr>\n",
       "    <tr>\n",
       "      <th>1002</th>\n",
       "      <td>9/7/2017</td>\n",
       "      <td>MSFT</td>\n",
       "      <td>nan</td>\n",
       "    </tr>\n",
       "    <tr>\n",
       "      <th>1003</th>\n",
       "      <td>9/8/2017</td>\n",
       "      <td>MSFT</td>\n",
       "      <td>nan</td>\n",
       "    </tr>\n",
       "  </tbody>\n",
       "</table>\n",
       "</div>"
      ],
      "text/plain": [
       "           Date  Name  delta_7\n",
       "999   9/29/2017  MSFT      nan\n",
       "1000   9/5/2017  MSFT      nan\n",
       "1001   9/6/2017  MSFT      nan\n",
       "1002   9/7/2017  MSFT      nan\n",
       "1003   9/8/2017  MSFT      nan"
      ]
     },
     "execution_count": 32,
     "metadata": {},
     "output_type": "execute_result"
    }
   ],
   "source": [
    "# melt data to create analytical base table (ABT)\n",
    "# melt delta_7 returns\n",
    "\n",
    "melted_7 = delta_7.reset_index().melt(id_vars='Date', value_name= 'delta_7')\n",
    "\n",
    "#melted dataframe examples\n",
    "melted_7.tail()"
   ]
  },
  {
   "cell_type": "code",
   "execution_count": 33,
   "metadata": {
    "ExecuteTime": {
     "end_time": "2019-04-24T17:07:24.197185Z",
     "start_time": "2019-04-24T17:07:24.170258Z"
    }
   },
   "outputs": [],
   "source": [
    "# to do so for all the returns dataframes, loop through delta_dict\n",
    "\n",
    "#melt all the delta dataframes and store in list\n",
    "melted_dfs = []\n",
    "for key, delta_df in delta_dict.items():\n",
    "    melted_dfs.append( delta_df.reset_index().melt(id_vars=['Date'], value_name=key))"
   ]
  },
  {
   "cell_type": "code",
   "execution_count": 34,
   "metadata": {
    "ExecuteTime": {
     "end_time": "2019-04-24T17:07:24.214140Z",
     "start_time": "2019-04-24T17:07:24.201177Z"
    }
   },
   "outputs": [],
   "source": [
    "# calculate 7-day returns after the date\n",
    "return_df = pivoted_df.shift(-7) / pivoted_df - 1.0\n",
    "\n",
    "# melt the return dataset and append to list\n",
    "melted_dfs.append( return_df.reset_index().melt(id_vars=['Date'], value_name='return_7') )"
   ]
  },
  {
   "cell_type": "code",
   "execution_count": 35,
   "metadata": {
    "ExecuteTime": {
     "end_time": "2019-04-24T17:07:24.244061Z",
     "start_time": "2019-04-24T17:07:24.218133Z"
    }
   },
   "outputs": [
    {
     "data": {
      "text/html": [
       "<div>\n",
       "<style scoped>\n",
       "    .dataframe tbody tr th:only-of-type {\n",
       "        vertical-align: middle;\n",
       "    }\n",
       "\n",
       "    .dataframe tbody tr th {\n",
       "        vertical-align: top;\n",
       "    }\n",
       "\n",
       "    .dataframe thead th {\n",
       "        text-align: right;\n",
       "    }\n",
       "</style>\n",
       "<table border=\"1\" class=\"dataframe\">\n",
       "  <thead>\n",
       "    <tr style=\"text-align: right;\">\n",
       "      <th></th>\n",
       "      <th>Date</th>\n",
       "      <th>Name_x</th>\n",
       "      <th>delta_7</th>\n",
       "      <th>Name_y</th>\n",
       "      <th>delta_14</th>\n",
       "    </tr>\n",
       "  </thead>\n",
       "  <tbody>\n",
       "    <tr>\n",
       "      <th>4011</th>\n",
       "      <td>9/8/2017</td>\n",
       "      <td>GOOGL</td>\n",
       "      <td>0.00425</td>\n",
       "      <td>MSFT</td>\n",
       "      <td>-0.01766</td>\n",
       "    </tr>\n",
       "    <tr>\n",
       "      <th>4012</th>\n",
       "      <td>9/8/2017</td>\n",
       "      <td>MSFT</td>\n",
       "      <td>0.00983</td>\n",
       "      <td>AAPL</td>\n",
       "      <td>-0.00782</td>\n",
       "    </tr>\n",
       "    <tr>\n",
       "      <th>4013</th>\n",
       "      <td>9/8/2017</td>\n",
       "      <td>MSFT</td>\n",
       "      <td>0.00983</td>\n",
       "      <td>AMZN</td>\n",
       "      <td>-0.02117</td>\n",
       "    </tr>\n",
       "    <tr>\n",
       "      <th>4014</th>\n",
       "      <td>9/8/2017</td>\n",
       "      <td>MSFT</td>\n",
       "      <td>0.00983</td>\n",
       "      <td>GOOGL</td>\n",
       "      <td>0.00654</td>\n",
       "    </tr>\n",
       "    <tr>\n",
       "      <th>4015</th>\n",
       "      <td>9/8/2017</td>\n",
       "      <td>MSFT</td>\n",
       "      <td>0.00983</td>\n",
       "      <td>MSFT</td>\n",
       "      <td>-0.01766</td>\n",
       "    </tr>\n",
       "  </tbody>\n",
       "</table>\n",
       "</div>"
      ],
      "text/plain": [
       "          Date Name_x  delta_7 Name_y  delta_14\n",
       "4011  9/8/2017  GOOGL  0.00425   MSFT  -0.01766\n",
       "4012  9/8/2017   MSFT  0.00983   AAPL  -0.00782\n",
       "4013  9/8/2017   MSFT  0.00983   AMZN  -0.02117\n",
       "4014  9/8/2017   MSFT  0.00983  GOOGL   0.00654\n",
       "4015  9/8/2017   MSFT  0.00983   MSFT  -0.01766"
      ]
     },
     "execution_count": 35,
     "metadata": {},
     "output_type": "execute_result"
    }
   ],
   "source": [
    "# we now have 5 melted dataframes stred in the melted_dfs list\n",
    "# now to join melted dataframes into a single ABT \n",
    "\n",
    "#merge two dataframes\n",
    "pd.merge(melted_dfs[0], melted_dfs[1], on=['Date']).tail()"
   ]
  },
  {
   "cell_type": "code",
   "execution_count": 36,
   "metadata": {
    "ExecuteTime": {
     "end_time": "2019-04-24T17:07:24.252039Z",
     "start_time": "2019-04-24T17:07:24.246055Z"
    }
   },
   "outputs": [],
   "source": [
    "from functools import reduce"
   ]
  },
  {
   "cell_type": "code",
   "execution_count": 37,
   "metadata": {
    "ExecuteTime": {
     "end_time": "2019-04-24T17:07:24.265004Z",
     "start_time": "2019-04-24T17:07:24.256028Z"
    }
   },
   "outputs": [],
   "source": [
    "# create feature_dfs list that contains base features from original dataset plus melted dataset\n",
    "\n",
    "# grab features from original dataset\n",
    "base_df = df[['Date','Name', 'Volume', 'Close']]\n",
    "\n",
    "# create a list with all the features dataframes\n",
    "feature_dfs = [base_df] + melted_dfs"
   ]
  },
  {
   "cell_type": "code",
   "execution_count": 38,
   "metadata": {
    "ExecuteTime": {
     "end_time": "2019-04-24T17:07:24.354764Z",
     "start_time": "2019-04-24T17:07:24.267996Z"
    }
   },
   "outputs": [
    {
     "data": {
      "text/html": [
       "<div>\n",
       "<style scoped>\n",
       "    .dataframe tbody tr th:only-of-type {\n",
       "        vertical-align: middle;\n",
       "    }\n",
       "\n",
       "    .dataframe tbody tr th {\n",
       "        vertical-align: top;\n",
       "    }\n",
       "\n",
       "    .dataframe thead th {\n",
       "        text-align: right;\n",
       "    }\n",
       "</style>\n",
       "<table border=\"1\" class=\"dataframe\">\n",
       "  <thead>\n",
       "    <tr style=\"text-align: right;\">\n",
       "      <th></th>\n",
       "      <th>Date</th>\n",
       "      <th>Name</th>\n",
       "      <th>Volume</th>\n",
       "      <th>Close</th>\n",
       "      <th>delta_7</th>\n",
       "      <th>delta_14</th>\n",
       "      <th>delta_21</th>\n",
       "      <th>delta_28</th>\n",
       "      <th>return_7</th>\n",
       "    </tr>\n",
       "  </thead>\n",
       "  <tbody>\n",
       "    <tr>\n",
       "      <th>994</th>\n",
       "      <td>12/15/2017</td>\n",
       "      <td>AMZN</td>\n",
       "      <td>4,778,621.00000</td>\n",
       "      <td>1,179.14000</td>\n",
       "      <td>0.04083</td>\n",
       "      <td>-0.01396</td>\n",
       "      <td>0.03680</td>\n",
       "      <td>0.19156</td>\n",
       "      <td>0.00265</td>\n",
       "    </tr>\n",
       "    <tr>\n",
       "      <th>995</th>\n",
       "      <td>12/18/2017</td>\n",
       "      <td>AMZN</td>\n",
       "      <td>2,947,625.00000</td>\n",
       "      <td>1,190.58000</td>\n",
       "      <td>0.05442</td>\n",
       "      <td>-0.00253</td>\n",
       "      <td>0.05372</td>\n",
       "      <td>0.20140</td>\n",
       "      <td>-0.00376</td>\n",
       "    </tr>\n",
       "    <tr>\n",
       "      <th>996</th>\n",
       "      <td>12/19/2017</td>\n",
       "      <td>AMZN</td>\n",
       "      <td>2,587,792.00000</td>\n",
       "      <td>1,187.38000</td>\n",
       "      <td>0.02153</td>\n",
       "      <td>0.02248</td>\n",
       "      <td>0.08514</td>\n",
       "      <td>0.07584</td>\n",
       "      <td>-0.01508</td>\n",
       "    </tr>\n",
       "    <tr>\n",
       "      <th>997</th>\n",
       "      <td>12/20/2017</td>\n",
       "      <td>AMZN</td>\n",
       "      <td>2,371,166.00000</td>\n",
       "      <td>1,177.62000</td>\n",
       "      <td>0.00744</td>\n",
       "      <td>0.05939</td>\n",
       "      <td>0.04556</td>\n",
       "      <td>0.04645</td>\n",
       "      <td>-0.03708</td>\n",
       "    </tr>\n",
       "    <tr>\n",
       "      <th>998</th>\n",
       "      <td>12/21/2017</td>\n",
       "      <td>AMZN</td>\n",
       "      <td>2,123,117.00000</td>\n",
       "      <td>1,174.76000</td>\n",
       "      <td>0.00831</td>\n",
       "      <td>-0.00169</td>\n",
       "      <td>0.03095</td>\n",
       "      <td>0.04037</td>\n",
       "      <td>-0.02825</td>\n",
       "    </tr>\n",
       "    <tr>\n",
       "      <th>999</th>\n",
       "      <td>12/22/2017</td>\n",
       "      <td>AMZN</td>\n",
       "      <td>1,585,054.00000</td>\n",
       "      <td>1,168.36000</td>\n",
       "      <td>0.00363</td>\n",
       "      <td>0.04256</td>\n",
       "      <td>0.01055</td>\n",
       "      <td>0.02773</td>\n",
       "      <td>-0.01370</td>\n",
       "    </tr>\n",
       "    <tr>\n",
       "      <th>1000</th>\n",
       "      <td>12/26/2017</td>\n",
       "      <td>AMZN</td>\n",
       "      <td>2,005,187.00000</td>\n",
       "      <td>1,176.76000</td>\n",
       "      <td>0.00213</td>\n",
       "      <td>0.04771</td>\n",
       "      <td>-0.00779</td>\n",
       "      <td>0.04444</td>\n",
       "      <td>-0.01442</td>\n",
       "    </tr>\n",
       "    <tr>\n",
       "      <th>1001</th>\n",
       "      <td>12/27/2017</td>\n",
       "      <td>AMZN</td>\n",
       "      <td>1,867,208.00000</td>\n",
       "      <td>1,182.26000</td>\n",
       "      <td>0.00265</td>\n",
       "      <td>0.04359</td>\n",
       "      <td>-0.01135</td>\n",
       "      <td>0.03954</td>\n",
       "      <td>-0.01714</td>\n",
       "    </tr>\n",
       "    <tr>\n",
       "      <th>1002</th>\n",
       "      <td>12/28/2017</td>\n",
       "      <td>AMZN</td>\n",
       "      <td>1,841,676.00000</td>\n",
       "      <td>1,186.10000</td>\n",
       "      <td>-0.00376</td>\n",
       "      <td>0.05045</td>\n",
       "      <td>-0.00628</td>\n",
       "      <td>0.04976</td>\n",
       "      <td>-0.29825</td>\n",
       "    </tr>\n",
       "    <tr>\n",
       "      <th>1003</th>\n",
       "      <td>12/29/2017</td>\n",
       "      <td>AMZN</td>\n",
       "      <td>2,688,391.00000</td>\n",
       "      <td>1,169.47000</td>\n",
       "      <td>-0.01508</td>\n",
       "      <td>0.00613</td>\n",
       "      <td>0.00706</td>\n",
       "      <td>0.06877</td>\n",
       "      <td>-0.29245</td>\n",
       "    </tr>\n",
       "  </tbody>\n",
       "</table>\n",
       "</div>"
      ],
      "text/plain": [
       "            Date  Name          Volume       Close  delta_7  delta_14  \\\n",
       "994   12/15/2017  AMZN 4,778,621.00000 1,179.14000  0.04083  -0.01396   \n",
       "995   12/18/2017  AMZN 2,947,625.00000 1,190.58000  0.05442  -0.00253   \n",
       "996   12/19/2017  AMZN 2,587,792.00000 1,187.38000  0.02153   0.02248   \n",
       "997   12/20/2017  AMZN 2,371,166.00000 1,177.62000  0.00744   0.05939   \n",
       "998   12/21/2017  AMZN 2,123,117.00000 1,174.76000  0.00831  -0.00169   \n",
       "999   12/22/2017  AMZN 1,585,054.00000 1,168.36000  0.00363   0.04256   \n",
       "1000  12/26/2017  AMZN 2,005,187.00000 1,176.76000  0.00213   0.04771   \n",
       "1001  12/27/2017  AMZN 1,867,208.00000 1,182.26000  0.00265   0.04359   \n",
       "1002  12/28/2017  AMZN 1,841,676.00000 1,186.10000 -0.00376   0.05045   \n",
       "1003  12/29/2017  AMZN 2,688,391.00000 1,169.47000 -0.01508   0.00613   \n",
       "\n",
       "      delta_21  delta_28  return_7  \n",
       "994    0.03680   0.19156   0.00265  \n",
       "995    0.05372   0.20140  -0.00376  \n",
       "996    0.08514   0.07584  -0.01508  \n",
       "997    0.04556   0.04645  -0.03708  \n",
       "998    0.03095   0.04037  -0.02825  \n",
       "999    0.01055   0.02773  -0.01370  \n",
       "1000  -0.00779   0.04444  -0.01442  \n",
       "1001  -0.01135   0.03954  -0.01714  \n",
       "1002  -0.00628   0.04976  -0.29825  \n",
       "1003   0.00706   0.06877  -0.29245  "
      ]
     },
     "execution_count": 38,
     "metadata": {},
     "output_type": "execute_result"
    }
   ],
   "source": [
    "# now we can use reduce\n",
    "# reduce applies to two arguments cummulatively objects and sequence \n",
    "\n",
    "# reduce-merge features into analytical bae table\n",
    "abt = reduce(lambda left,right: pd.merge(left,right,on=['Date','Name']), feature_dfs)\n",
    "\n",
    "# display examples from the ABT \n",
    "abt.tail(10)"
   ]
  }
 ],
 "metadata": {
  "kernelspec": {
   "display_name": "Python 3",
   "language": "python",
   "name": "python3"
  },
  "language_info": {
   "codemirror_mode": {
    "name": "ipython",
    "version": 3
   },
   "file_extension": ".py",
   "mimetype": "text/x-python",
   "name": "python",
   "nbconvert_exporter": "python",
   "pygments_lexer": "ipython3",
   "version": "3.6.2"
  },
  "toc": {
   "base_numbering": 1,
   "nav_menu": {},
   "number_sections": true,
   "sideBar": true,
   "skip_h1_title": false,
   "title_cell": "Table of Contents",
   "title_sidebar": "Contents",
   "toc_cell": false,
   "toc_position": {},
   "toc_section_display": true,
   "toc_window_display": true
  }
 },
 "nbformat": 4,
 "nbformat_minor": 2
}
