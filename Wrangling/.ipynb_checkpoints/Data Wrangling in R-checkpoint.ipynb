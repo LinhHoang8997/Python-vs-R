{
 "cells": [
  {
   "cell_type": "markdown",
   "metadata": {
    "toc": true
   },
   "source": [
    "<h1>Table of Contents<span class=\"tocSkip\"></span></h1>\n",
    "<div class=\"toc\"><ul class=\"toc-item\"><li><span><a href=\"#Note\" data-toc-modified-id=\"Note-1\"><span class=\"toc-item-num\">1&nbsp;&nbsp;</span>Note</a></span></li><li><span><a href=\"#Load-data-and-packages\" data-toc-modified-id=\"Load-data-and-packages-2\"><span class=\"toc-item-num\">2&nbsp;&nbsp;</span>Load data and packages</a></span><ul class=\"toc-item\"><li><span><a href=\"#Choose-tech-stocks-as-the-focus\" data-toc-modified-id=\"Choose-tech-stocks-as-the-focus-2.1\"><span class=\"toc-item-num\">2.1&nbsp;&nbsp;</span>Choose tech stocks as the focus</a></span></li></ul></li><li><span><a href=\"#Pivot-dataframe,-so-that-each-stock-is-a-column\" data-toc-modified-id=\"Pivot-dataframe,-so-that-each-stock-is-a-column-3\"><span class=\"toc-item-num\">3&nbsp;&nbsp;</span>Pivot dataframe, so that each stock is a column</a></span></li><li><span><a href=\"#Prepare-data-for-analysis\" data-toc-modified-id=\"Prepare-data-for-analysis-4\"><span class=\"toc-item-num\">4&nbsp;&nbsp;</span>Prepare data for analysis</a></span><ul class=\"toc-item\"><li><ul class=\"toc-item\"><li><span><a href=\"#Use-lag-to-quickly-change-the-index-to-leave-the-first-few-rows-blank\" data-toc-modified-id=\"Use-lag-to-quickly-change-the-index-to-leave-the-first-few-rows-blank-4.0.1\"><span class=\"toc-item-num\">4.0.1&nbsp;&nbsp;</span>Use lag to quickly change the index to leave the first few rows blank</a></span></li><li><span><a href=\"#Calculate-returns-over-7-days-prior-as-{-prices_today/prices_7_days_ago--1.0-}\" data-toc-modified-id=\"Calculate-returns-over-7-days-prior-as-{-prices_today/prices_7_days_ago--1.0-}-4.0.2\"><span class=\"toc-item-num\">4.0.2&nbsp;&nbsp;</span>Calculate returns over 7 days prior as { prices_today/prices_7_days_ago -1.0 }</a></span></li><li><span><a href=\"#Melt-(unpivot)-data-to-create-an-analytical-base-table-(ABT)\" data-toc-modified-id=\"Melt-(unpivot)-data-to-create-an-analytical-base-table-(ABT)-4.0.3\"><span class=\"toc-item-num\">4.0.3&nbsp;&nbsp;</span>Melt (unpivot) data to create an analytical base table (ABT)</a></span></li><li><span><a href=\"#Repeat-the-shifting,-calculation,-and-melting-for-the-14,-21,-28-day-offset\" data-toc-modified-id=\"Repeat-the-shifting,-calculation,-and-melting-for-the-14,-21,-28-day-offset-4.0.4\"><span class=\"toc-item-num\">4.0.4&nbsp;&nbsp;</span>Repeat the shifting, calculation, and melting for the 14, 21, 28-day offset</a></span></li><li><span><a href=\"#Create-a-seperate-set-for-the-7-day-forward-offset\" data-toc-modified-id=\"Create-a-seperate-set-for-the-7-day-forward-offset-4.0.5\"><span class=\"toc-item-num\">4.0.5&nbsp;&nbsp;</span>Create a seperate set for the 7-day-forward offset</a></span></li><li><span><a href=\"#Use-reduce()-to-merge-all-dataframes-(representing-intervals)-in-the-dict-into-one-single-ABT\" data-toc-modified-id=\"Use-reduce()-to-merge-all-dataframes-(representing-intervals)-in-the-dict-into-one-single-ABT-4.0.6\"><span class=\"toc-item-num\">4.0.6&nbsp;&nbsp;</span>Use <code>reduce()</code> to merge all dataframes (representing intervals) in the dict into one single ABT</a></span></li></ul></li></ul></li></ul></div>"
   ]
  },
  {
   "cell_type": "markdown",
   "metadata": {},
   "source": [
    "# Note\n",
    "Done in collaboration with Vinnie Ronzano on my team."
   ]
  },
  {
   "cell_type": "markdown",
   "metadata": {},
   "source": [
    "# Load data and packages"
   ]
  },
  {
   "cell_type": "code",
   "execution_count": 112,
   "metadata": {
    "ExecuteTime": {
     "end_time": "2019-04-24T17:02:44.165496Z",
     "start_time": "2019-04-24T17:02:42.205Z"
    },
    "scrolled": true
   },
   "outputs": [],
   "source": [
    "library(\"tidyverse\");\n",
    "library(\"reshape\");\n",
    "library(\"data.table\");"
   ]
  },
  {
   "cell_type": "code",
   "execution_count": 113,
   "metadata": {
    "ExecuteTime": {
     "end_time": "2019-04-24T17:02:44.490893Z",
     "start_time": "2019-04-24T17:02:42.217Z"
    }
   },
   "outputs": [
    {
     "data": {
      "text/html": [
       "<table>\n",
       "<thead><tr><th></th><th scope=col>Date</th><th scope=col>Open</th><th scope=col>High</th><th scope=col>Low</th><th scope=col>Close</th><th scope=col>Volume</th><th scope=col>Name</th></tr></thead>\n",
       "<tbody>\n",
       "\t<tr><th scope=row>7777</th><td>12/22/2017</td><td>71.42     </td><td>71.87     </td><td>71.22     </td><td>71.58     </td><td>10979165  </td><td>AABA      </td></tr>\n",
       "\t<tr><th scope=row>7778</th><td>12/26/2017</td><td>70.94     </td><td>71.39     </td><td>69.63     </td><td>69.86     </td><td> 8542802  </td><td>AABA      </td></tr>\n",
       "\t<tr><th scope=row>7779</th><td>12/27/2017</td><td>69.77     </td><td>70.49     </td><td>69.69     </td><td>70.06     </td><td> 6345124  </td><td>AABA      </td></tr>\n",
       "\t<tr><th scope=row>7780</th><td>12/28/2017</td><td>70.12     </td><td>70.32     </td><td>69.51     </td><td>69.82     </td><td> 7556877  </td><td>AABA      </td></tr>\n",
       "\t<tr><th scope=row>7781</th><td>12/29/2017</td><td>69.79     </td><td>70.13     </td><td>69.43     </td><td>69.85     </td><td> 6613070  </td><td>AABA      </td></tr>\n",
       "</tbody>\n",
       "</table>\n"
      ],
      "text/latex": [
       "\\begin{tabular}{r|lllllll}\n",
       "  & Date & Open & High & Low & Close & Volume & Name\\\\\n",
       "\\hline\n",
       "\t7777 & 12/22/2017 & 71.42      & 71.87      & 71.22      & 71.58      & 10979165   & AABA      \\\\\n",
       "\t7778 & 12/26/2017 & 70.94      & 71.39      & 69.63      & 69.86      &  8542802   & AABA      \\\\\n",
       "\t7779 & 12/27/2017 & 69.77      & 70.49      & 69.69      & 70.06      &  6345124   & AABA      \\\\\n",
       "\t7780 & 12/28/2017 & 70.12      & 70.32      & 69.51      & 69.82      &  7556877   & AABA      \\\\\n",
       "\t7781 & 12/29/2017 & 69.79      & 70.13      & 69.43      & 69.85      &  6613070   & AABA      \\\\\n",
       "\\end{tabular}\n"
      ],
      "text/markdown": [
       "\n",
       "| <!--/--> | Date | Open | High | Low | Close | Volume | Name | \n",
       "|---|---|---|---|---|\n",
       "| 7777 | 12/22/2017 | 71.42      | 71.87      | 71.22      | 71.58      | 10979165   | AABA       | \n",
       "| 7778 | 12/26/2017 | 70.94      | 71.39      | 69.63      | 69.86      |  8542802   | AABA       | \n",
       "| 7779 | 12/27/2017 | 69.77      | 70.49      | 69.69      | 70.06      |  6345124   | AABA       | \n",
       "| 7780 | 12/28/2017 | 70.12      | 70.32      | 69.51      | 69.82      |  7556877   | AABA       | \n",
       "| 7781 | 12/29/2017 | 69.79      | 70.13      | 69.43      | 69.85      |  6613070   | AABA       | \n",
       "\n",
       "\n"
      ],
      "text/plain": [
       "     Date       Open  High  Low   Close Volume   Name\n",
       "7777 12/22/2017 71.42 71.87 71.22 71.58 10979165 AABA\n",
       "7778 12/26/2017 70.94 71.39 69.63 69.86  8542802 AABA\n",
       "7779 12/27/2017 69.77 70.49 69.69 70.06  6345124 AABA\n",
       "7780 12/28/2017 70.12 70.32 69.51 69.82  7556877 AABA\n",
       "7781 12/29/2017 69.79 70.13 69.43 69.85  6613070 AABA"
      ]
     },
     "metadata": {},
     "output_type": "display_data"
    }
   ],
   "source": [
    "df <- read.csv(file=\"all_stocks_2017-2018.csv\", header=TRUE, sep=\",\");\n",
    "tail(df,5)"
   ]
  },
  {
   "cell_type": "markdown",
   "metadata": {},
   "source": [
    "## Choose tech stocks as the focus"
   ]
  },
  {
   "cell_type": "code",
   "execution_count": 114,
   "metadata": {
    "ExecuteTime": {
     "end_time": "2019-04-24T17:02:44.570896Z",
     "start_time": "2019-04-24T17:02:42.222Z"
    }
   },
   "outputs": [],
   "source": [
    "df_stock <- df %>%\n",
    "  filter(str_detect(Name, \"AAPL|MSFT|AMZN|GOOGL\"))"
   ]
  },
  {
   "cell_type": "markdown",
   "metadata": {},
   "source": [
    "# Pivot dataframe, so that each stock is a column"
   ]
  },
  {
   "cell_type": "code",
   "execution_count": 115,
   "metadata": {
    "ExecuteTime": {
     "end_time": "2019-04-24T17:02:44.679571Z",
     "start_time": "2019-04-24T17:02:42.228Z"
    }
   },
   "outputs": [
    {
     "data": {
      "text/html": [
       "<table>\n",
       "<thead><tr><th></th><th scope=col>Date</th><th scope=col>AAPL</th><th scope=col>AMZN</th><th scope=col>GOOGL</th><th scope=col>MSFT</th></tr></thead>\n",
       "<tbody>\n",
       "\t<tr><th scope=row>73</th><td>12/21/2017</td><td>175.01    </td><td>1174.76   </td><td>1070.85   </td><td>85.50     </td></tr>\n",
       "\t<tr><th scope=row>74</th><td>12/22/2017</td><td>175.01    </td><td>1168.36   </td><td>1068.86   </td><td>85.51     </td></tr>\n",
       "\t<tr><th scope=row>75</th><td>12/26/2017</td><td>170.57    </td><td>1176.76   </td><td>1065.85   </td><td>85.40     </td></tr>\n",
       "\t<tr><th scope=row>76</th><td>12/27/2017</td><td>170.60    </td><td>1182.26   </td><td>1060.20   </td><td>85.71     </td></tr>\n",
       "\t<tr><th scope=row>77</th><td>12/28/2017</td><td>171.08    </td><td>1186.10   </td><td>1055.95   </td><td>85.72     </td></tr>\n",
       "\t<tr><th scope=row>78</th><td>12/29/2017</td><td>169.23    </td><td>1169.47   </td><td>1053.40   </td><td>85.54     </td></tr>\n",
       "</tbody>\n",
       "</table>\n"
      ],
      "text/latex": [
       "\\begin{tabular}{r|lllll}\n",
       "  & Date & AAPL & AMZN & GOOGL & MSFT\\\\\n",
       "\\hline\n",
       "\t73 & 12/21/2017 & 175.01     & 1174.76    & 1070.85    & 85.50     \\\\\n",
       "\t74 & 12/22/2017 & 175.01     & 1168.36    & 1068.86    & 85.51     \\\\\n",
       "\t75 & 12/26/2017 & 170.57     & 1176.76    & 1065.85    & 85.40     \\\\\n",
       "\t76 & 12/27/2017 & 170.60     & 1182.26    & 1060.20    & 85.71     \\\\\n",
       "\t77 & 12/28/2017 & 171.08     & 1186.10    & 1055.95    & 85.72     \\\\\n",
       "\t78 & 12/29/2017 & 169.23     & 1169.47    & 1053.40    & 85.54     \\\\\n",
       "\\end{tabular}\n"
      ],
      "text/markdown": [
       "\n",
       "| <!--/--> | Date | AAPL | AMZN | GOOGL | MSFT | \n",
       "|---|---|---|---|---|---|\n",
       "| 73 | 12/21/2017 | 175.01     | 1174.76    | 1070.85    | 85.50      | \n",
       "| 74 | 12/22/2017 | 175.01     | 1168.36    | 1068.86    | 85.51      | \n",
       "| 75 | 12/26/2017 | 170.57     | 1176.76    | 1065.85    | 85.40      | \n",
       "| 76 | 12/27/2017 | 170.60     | 1182.26    | 1060.20    | 85.71      | \n",
       "| 77 | 12/28/2017 | 171.08     | 1186.10    | 1055.95    | 85.72      | \n",
       "| 78 | 12/29/2017 | 169.23     | 1169.47    | 1053.40    | 85.54      | \n",
       "\n",
       "\n"
      ],
      "text/plain": [
       "   Date       AAPL   AMZN    GOOGL   MSFT \n",
       "73 12/21/2017 175.01 1174.76 1070.85 85.50\n",
       "74 12/22/2017 175.01 1168.36 1068.86 85.51\n",
       "75 12/26/2017 170.57 1176.76 1065.85 85.40\n",
       "76 12/27/2017 170.60 1182.26 1060.20 85.71\n",
       "77 12/28/2017 171.08 1186.10 1055.95 85.72\n",
       "78 12/29/2017 169.23 1169.47 1053.40 85.54"
      ]
     },
     "metadata": {},
     "output_type": "display_data"
    }
   ],
   "source": [
    "pivoted_df <- cast(df_stock, Date ~ Name, value = \"Close\")\n",
    "pivoted_df <- pivoted_df[order(as.Date(pivoted_df$Date, format=\"%m/%d/%Y\")), ]\n",
    "tail(pivoted_df)"
   ]
  },
  {
   "cell_type": "code",
   "execution_count": null,
   "metadata": {},
   "outputs": [],
   "source": []
  },
  {
   "cell_type": "markdown",
   "metadata": {
    "ExecuteTime": {
     "end_time": "2019-04-24T17:02:44.730435Z",
     "start_time": "2019-04-24T17:02:42.236Z"
    }
   },
   "source": [
    "Turn date into index (rownames in R) to simplify transformations later on"
   ]
  },
  {
   "cell_type": "code",
   "execution_count": 116,
   "metadata": {
    "ExecuteTime": {
     "end_time": "2019-04-24T17:02:44.730435Z",
     "start_time": "2019-04-24T17:02:42.236Z"
    }
   },
   "outputs": [],
   "source": [
    "rownames(pivoted_df) <- pivoted_df$Date\n",
    "pivoted_df$Date <- NULL"
   ]
  },
  {
   "cell_type": "markdown",
   "metadata": {},
   "source": [
    "# Prepare data for analysis"
   ]
  },
  {
   "cell_type": "markdown",
   "metadata": {},
   "source": [
    "###  Use lag to quickly change the index to leave the first few rows blank\n",
    "Comparision: `lead()` vs `lag()` in R, while just `shift(+/- x)` in Python."
   ]
  },
  {
   "cell_type": "code",
   "execution_count": 117,
   "metadata": {
    "ExecuteTime": {
     "end_time": "2019-04-24T17:02:44.812217Z",
     "start_time": "2019-04-24T17:02:42.277Z"
    },
    "scrolled": true
   },
   "outputs": [
    {
     "data": {
      "text/html": [
       "<table>\n",
       "<thead><tr><th scope=col>AAPL</th><th scope=col>AMZN</th><th scope=col>GOOGL</th><th scope=col>MSFT</th></tr></thead>\n",
       "<tbody>\n",
       "\t<tr><td>    NA</td><td>    NA</td><td>    NA</td><td>   NA </td></tr>\n",
       "\t<tr><td>    NA</td><td>    NA</td><td>    NA</td><td>   NA </td></tr>\n",
       "\t<tr><td>    NA</td><td>    NA</td><td>    NA</td><td>   NA </td></tr>\n",
       "\t<tr><td>    NA</td><td>    NA</td><td>    NA</td><td>   NA </td></tr>\n",
       "\t<tr><td>    NA</td><td>    NA</td><td>    NA</td><td>   NA </td></tr>\n",
       "\t<tr><td>    NA</td><td>    NA</td><td>    NA</td><td>   NA </td></tr>\n",
       "\t<tr><td>    NA</td><td>    NA</td><td>    NA</td><td>   NA </td></tr>\n",
       "\t<tr><td>116.15</td><td>753.67</td><td>808.01</td><td>62.58 </td></tr>\n",
       "\t<tr><td>116.02</td><td>757.18</td><td>807.77</td><td>62.30 </td></tr>\n",
       "\t<tr><td>116.61</td><td>780.45</td><td>813.02</td><td>62.30 </td></tr>\n",
       "</tbody>\n",
       "</table>\n"
      ],
      "text/latex": [
       "\\begin{tabular}{r|llll}\n",
       " AAPL & AMZN & GOOGL & MSFT\\\\\n",
       "\\hline\n",
       "\t     NA &     NA &     NA &    NA \\\\\n",
       "\t     NA &     NA &     NA &    NA \\\\\n",
       "\t     NA &     NA &     NA &    NA \\\\\n",
       "\t     NA &     NA &     NA &    NA \\\\\n",
       "\t     NA &     NA &     NA &    NA \\\\\n",
       "\t     NA &     NA &     NA &    NA \\\\\n",
       "\t     NA &     NA &     NA &    NA \\\\\n",
       "\t 116.15 & 753.67 & 808.01 & 62.58 \\\\\n",
       "\t 116.02 & 757.18 & 807.77 & 62.30 \\\\\n",
       "\t 116.61 & 780.45 & 813.02 & 62.30 \\\\\n",
       "\\end{tabular}\n"
      ],
      "text/markdown": [
       "\n",
       "AAPL | AMZN | GOOGL | MSFT | \n",
       "|---|---|---|---|---|---|---|---|---|---|\n",
       "|     NA |     NA |     NA |    NA  | \n",
       "|     NA |     NA |     NA |    NA  | \n",
       "|     NA |     NA |     NA |    NA  | \n",
       "|     NA |     NA |     NA |    NA  | \n",
       "|     NA |     NA |     NA |    NA  | \n",
       "|     NA |     NA |     NA |    NA  | \n",
       "|     NA |     NA |     NA |    NA  | \n",
       "| 116.15 | 753.67 | 808.01 | 62.58  | \n",
       "| 116.02 | 757.18 | 807.77 | 62.30  | \n",
       "| 116.61 | 780.45 | 813.02 | 62.30  | \n",
       "\n",
       "\n"
      ],
      "text/plain": [
       "   AAPL   AMZN   GOOGL  MSFT \n",
       "1      NA     NA     NA    NA\n",
       "2      NA     NA     NA    NA\n",
       "3      NA     NA     NA    NA\n",
       "4      NA     NA     NA    NA\n",
       "5      NA     NA     NA    NA\n",
       "6      NA     NA     NA    NA\n",
       "7      NA     NA     NA    NA\n",
       "8  116.15 753.67 808.01 62.58\n",
       "9  116.02 757.18 807.77 62.30\n",
       "10 116.61 780.45 813.02 62.30"
      ]
     },
     "metadata": {},
     "output_type": "display_data"
    }
   ],
   "source": [
    "shifted <- lapply(pivoted_df,lag,n=7)\n",
    "head(data.frame(shifted),10)"
   ]
  },
  {
   "cell_type": "markdown",
   "metadata": {},
   "source": [
    "### Calculate returns over 7 days prior as { prices_today/prices_7_days_ago -1.0 }"
   ]
  },
  {
   "cell_type": "code",
   "execution_count": 118,
   "metadata": {
    "ExecuteTime": {
     "end_time": "2019-04-24T17:02:44.920929Z",
     "start_time": "2019-04-24T17:02:42.286Z"
    }
   },
   "outputs": [
    {
     "data": {
      "text/html": [
       "<table>\n",
       "<thead><tr><th></th><th scope=col>AAPL</th><th scope=col>AMZN</th><th scope=col>GOOGL</th><th scope=col>MSFT</th></tr></thead>\n",
       "<tbody>\n",
       "\t<tr><th scope=row>1/3/2017</th><td>       NA</td><td>       NA</td><td>       NA</td><td>       NA</td></tr>\n",
       "\t<tr><th scope=row>1/4/2017</th><td>       NA</td><td>       NA</td><td>       NA</td><td>       NA</td></tr>\n",
       "\t<tr><th scope=row>1/5/2017</th><td>       NA</td><td>       NA</td><td>       NA</td><td>       NA</td></tr>\n",
       "\t<tr><th scope=row>1/6/2017</th><td>       NA</td><td>       NA</td><td>       NA</td><td>       NA</td></tr>\n",
       "\t<tr><th scope=row>1/9/2017</th><td>       NA</td><td>       NA</td><td>       NA</td><td>       NA</td></tr>\n",
       "\t<tr><th scope=row>1/10/2017</th><td>       NA</td><td>       NA</td><td>       NA</td><td>       NA</td></tr>\n",
       "\t<tr><th scope=row>1/11/2017</th><td>       NA</td><td>       NA</td><td>       NA</td><td>       NA</td></tr>\n",
       "\t<tr><th scope=row>1/12/2017</th><td>-8.973310</td><td>-8.920429</td><td>-8.973367</td><td>-8.999521</td></tr>\n",
       "\t<tr><th scope=row>1/13/2017</th><td>-8.973970</td><td>-8.920811</td><td>-8.971316</td><td>-8.993579</td></tr>\n",
       "\t<tr><th scope=row>1/17/2017</th><td>-8.970929</td><td>-8.962496</td><td>-8.982239</td><td>-8.996308</td></tr>\n",
       "</tbody>\n",
       "</table>\n"
      ],
      "text/latex": [
       "\\begin{tabular}{r|llll}\n",
       "  & AAPL & AMZN & GOOGL & MSFT\\\\\n",
       "\\hline\n",
       "\t1/3/2017 &        NA &        NA &        NA &        NA\\\\\n",
       "\t1/4/2017 &        NA &        NA &        NA &        NA\\\\\n",
       "\t1/5/2017 &        NA &        NA &        NA &        NA\\\\\n",
       "\t1/6/2017 &        NA &        NA &        NA &        NA\\\\\n",
       "\t1/9/2017 &        NA &        NA &        NA &        NA\\\\\n",
       "\t1/10/2017 &        NA &        NA &        NA &        NA\\\\\n",
       "\t1/11/2017 &        NA &        NA &        NA &        NA\\\\\n",
       "\t1/12/2017 & -8.973310 & -8.920429 & -8.973367 & -8.999521\\\\\n",
       "\t1/13/2017 & -8.973970 & -8.920811 & -8.971316 & -8.993579\\\\\n",
       "\t1/17/2017 & -8.970929 & -8.962496 & -8.982239 & -8.996308\\\\\n",
       "\\end{tabular}\n"
      ],
      "text/markdown": [
       "\n",
       "| <!--/--> | AAPL | AMZN | GOOGL | MSFT | \n",
       "|---|---|---|---|---|---|---|---|---|---|\n",
       "| 1/3/2017 |        NA |        NA |        NA |        NA | \n",
       "| 1/4/2017 |        NA |        NA |        NA |        NA | \n",
       "| 1/5/2017 |        NA |        NA |        NA |        NA | \n",
       "| 1/6/2017 |        NA |        NA |        NA |        NA | \n",
       "| 1/9/2017 |        NA |        NA |        NA |        NA | \n",
       "| 1/10/2017 |        NA |        NA |        NA |        NA | \n",
       "| 1/11/2017 |        NA |        NA |        NA |        NA | \n",
       "| 1/12/2017 | -8.973310 | -8.920429 | -8.973367 | -8.999521 | \n",
       "| 1/13/2017 | -8.973970 | -8.920811 | -8.971316 | -8.993579 | \n",
       "| 1/17/2017 | -8.970929 | -8.962496 | -8.982239 | -8.996308 | \n",
       "\n",
       "\n"
      ],
      "text/plain": [
       "          AAPL      AMZN      GOOGL     MSFT     \n",
       "1/3/2017         NA        NA        NA        NA\n",
       "1/4/2017         NA        NA        NA        NA\n",
       "1/5/2017         NA        NA        NA        NA\n",
       "1/6/2017         NA        NA        NA        NA\n",
       "1/9/2017         NA        NA        NA        NA\n",
       "1/10/2017        NA        NA        NA        NA\n",
       "1/11/2017        NA        NA        NA        NA\n",
       "1/12/2017 -8.973310 -8.920429 -8.973367 -8.999521\n",
       "1/13/2017 -8.973970 -8.920811 -8.971316 -8.993579\n",
       "1/17/2017 -8.970929 -8.962496 -8.982239 -8.996308"
      ]
     },
     "metadata": {},
     "output_type": "display_data"
    }
   ],
   "source": [
    "# calculate returns over 7 days prior\n",
    "delta_7 <-  pivoted_df/shifted - 10\n",
    "\n",
    "# show some rows as examples\n",
    "head(delta_7,10)"
   ]
  },
  {
   "cell_type": "markdown",
   "metadata": {},
   "source": [
    "### Melt (unpivot) data to create an analytical base table (ABT)\n",
    "This should improve performance when running time-series analysis."
   ]
  },
  {
   "cell_type": "code",
   "execution_count": 119,
   "metadata": {
    "ExecuteTime": {
     "end_time": "2019-04-24T17:02:45.037616Z",
     "start_time": "2019-04-24T17:02:42.308Z"
    }
   },
   "outputs": [],
   "source": [
    "delta_7$Date <- rownames(delta_7)"
   ]
  },
  {
   "cell_type": "code",
   "execution_count": 120,
   "metadata": {
    "ExecuteTime": {
     "end_time": "2019-04-24T17:02:45.037616Z",
     "start_time": "2019-04-24T17:02:42.308Z"
    }
   },
   "outputs": [],
   "source": [
    "# melt with melt()\n",
    "melt_7 <- melt(delta_7, id=\"Date\")\n",
    "colnames(melt_7)[2] <- \"Name\"\n",
    "colnames(melt_7)[3] <- \"delta_7\""
   ]
  },
  {
   "cell_type": "code",
   "execution_count": 121,
   "metadata": {
    "ExecuteTime": {
     "end_time": "2019-04-24T17:02:45.037616Z",
     "start_time": "2019-04-24T17:02:42.308Z"
    }
   },
   "outputs": [
    {
     "data": {
      "text/html": [
       "<table>\n",
       "<thead><tr><th></th><th scope=col>Date</th><th scope=col>Name</th><th scope=col>delta_7</th></tr></thead>\n",
       "<tbody>\n",
       "\t<tr><th scope=row>999</th><td>12/21/2017</td><td>MSFT      </td><td>-9.000935 </td></tr>\n",
       "\t<tr><th scope=row>1000</th><td>12/22/2017</td><td>MSFT      </td><td>-8.998125 </td></tr>\n",
       "\t<tr><th scope=row>1001</th><td>12/26/2017</td><td>MSFT      </td><td>-8.991616 </td></tr>\n",
       "\t<tr><th scope=row>1002</th><td>12/27/2017</td><td>MSFT      </td><td>-9.013126 </td></tr>\n",
       "\t<tr><th scope=row>1003</th><td>12/28/2017</td><td>MSFT      </td><td>-9.007641 </td></tr>\n",
       "\t<tr><th scope=row>1004</th><td>12/29/2017</td><td>MSFT      </td><td>-9.003379 </td></tr>\n",
       "</tbody>\n",
       "</table>\n"
      ],
      "text/latex": [
       "\\begin{tabular}{r|lll}\n",
       "  & Date & Name & delta\\_7\\\\\n",
       "\\hline\n",
       "\t999 & 12/21/2017 & MSFT       & -9.000935 \\\\\n",
       "\t1000 & 12/22/2017 & MSFT       & -8.998125 \\\\\n",
       "\t1001 & 12/26/2017 & MSFT       & -8.991616 \\\\\n",
       "\t1002 & 12/27/2017 & MSFT       & -9.013126 \\\\\n",
       "\t1003 & 12/28/2017 & MSFT       & -9.007641 \\\\\n",
       "\t1004 & 12/29/2017 & MSFT       & -9.003379 \\\\\n",
       "\\end{tabular}\n"
      ],
      "text/markdown": [
       "\n",
       "| <!--/--> | Date | Name | delta_7 | \n",
       "|---|---|---|---|---|---|\n",
       "| 999 | 12/21/2017 | MSFT       | -9.000935  | \n",
       "| 1000 | 12/22/2017 | MSFT       | -8.998125  | \n",
       "| 1001 | 12/26/2017 | MSFT       | -8.991616  | \n",
       "| 1002 | 12/27/2017 | MSFT       | -9.013126  | \n",
       "| 1003 | 12/28/2017 | MSFT       | -9.007641  | \n",
       "| 1004 | 12/29/2017 | MSFT       | -9.003379  | \n",
       "\n",
       "\n"
      ],
      "text/plain": [
       "     Date       Name delta_7  \n",
       "999  12/21/2017 MSFT -9.000935\n",
       "1000 12/22/2017 MSFT -8.998125\n",
       "1001 12/26/2017 MSFT -8.991616\n",
       "1002 12/27/2017 MSFT -9.013126\n",
       "1003 12/28/2017 MSFT -9.007641\n",
       "1004 12/29/2017 MSFT -9.003379"
      ]
     },
     "metadata": {},
     "output_type": "display_data"
    }
   ],
   "source": [
    "#melted dataframe example (with 7 days)\n",
    "tail(melt_7)"
   ]
  },
  {
   "cell_type": "markdown",
   "metadata": {},
   "source": [
    "As one can see, the columns name is consolidated in a single column. "
   ]
  },
  {
   "cell_type": "markdown",
   "metadata": {},
   "source": [
    "### Repeat the shifting, calculation, and melting for the 14, 21, 28-day offset\n",
    "This means comparing today prices with those 14, 21, or 28 days ago.\n",
    "We want to shift the data to create a dataset that contains records moving backwards by day 7 days (1 week), 14 days (2 weeks), 21 days, and 28 days."
   ]
  },
  {
   "cell_type": "code",
   "execution_count": 122,
   "metadata": {
    "ExecuteTime": {
     "end_time": "2019-04-24T17:02:45.094465Z",
     "start_time": "2019-04-24T17:02:42.316Z"
    }
   },
   "outputs": [],
   "source": [
    "delta_dict <- list(7,14,21,28)\n",
    "names(delta_dict) <- list(\"delta_7\",\"delta_14\",\"delta_21\",\"delta_28\")"
   ]
  },
  {
   "cell_type": "code",
   "execution_count": 123,
   "metadata": {
    "ExecuteTime": {
     "end_time": "2019-04-24T17:02:45.254386Z",
     "start_time": "2019-04-24T17:02:42.321Z"
    }
   },
   "outputs": [],
   "source": [
    "melted_dfs <- list()\n",
    "for (i in delta_dict)\n",
    "{\n",
    "  transit <- lapply(pivoted_df,lag,n=i)\n",
    "  rate_change <-  pivoted_df/transit - 1\n",
    "  rate_change$Date <- rownames(rate_change)\n",
    "  melted_dfs[[paste(\"delta_\",i)]] <- melt(rate_change, id=\"Date\")\n",
    "  colnames(melted_dfs[[paste(\"delta_\",i)]])[2] <- \"Name\"\n",
    "  colnames(melted_dfs[[paste(\"delta_\",i)]])[3] <- paste(\"delta_\",i)\n",
    "}"
   ]
  },
  {
   "cell_type": "markdown",
   "metadata": {},
   "source": [
    "### Create a seperate set for the 7-day-forward offset"
   ]
  },
  {
   "cell_type": "code",
   "execution_count": 124,
   "metadata": {
    "ExecuteTime": {
     "end_time": "2019-04-24T17:02:45.330182Z",
     "start_time": "2019-04-24T17:02:42.325Z"
    }
   },
   "outputs": [],
   "source": [
    "# We need a seperate section to shift 7 days forward (to act as a future predictor)\n",
    "transit <- lapply(pivoted_df,lead,n=7)\n",
    "return_7 <-  pivoted_df/transit - 1\n",
    "return_7$Date <- rownames(return_7)\n",
    "melted_dfs[[\"return_7\"]] <- melt(return_7, id=\"Date\")\n",
    "colnames(melted_dfs[[\"return_7\"]])[2] <- \"Name\"\n",
    "colnames(melted_dfs[[\"return_7\"]])[3] <- \"return_7\""
   ]
  },
  {
   "cell_type": "markdown",
   "metadata": {},
   "source": [
    "### Use `reduce()` to merge all dataframes (representing intervals) in the dict into one single ABT\n",
    "`Reduce`() is a much faster way to merge dataframes with writing long-winded function for iterating through the list and dictionary."
   ]
  },
  {
   "cell_type": "code",
   "execution_count": 125,
   "metadata": {
    "ExecuteTime": {
     "end_time": "2019-04-24T17:02:45.472806Z",
     "start_time": "2019-04-24T17:02:42.330Z"
    }
   },
   "outputs": [
    {
     "data": {
      "text/html": [
       "<table>\n",
       "<thead><tr><th></th><th scope=col>Date</th><th scope=col>Name</th><th scope=col>delta_ 7</th><th scope=col>delta_ 14</th><th scope=col>delta_ 21</th><th scope=col>delta_ 28</th><th scope=col>return_7</th></tr></thead>\n",
       "<tbody>\n",
       "\t<tr><th scope=row>995</th><td>9/6/2017     </td><td>GOOGL        </td><td> 0.012380441 </td><td>-0.002382793 </td><td>-0.003943960 </td><td>-0.011013008 </td><td> 0.0071956292</td></tr>\n",
       "\t<tr><th scope=row>996</th><td>9/6/2017     </td><td>MSFT         </td><td> 0.007964845 </td><td>-0.003394433 </td><td> 0.013812155 </td><td> 0.003280481 </td><td>-0.0253618377</td></tr>\n",
       "\t<tr><th scope=row>997</th><td>9/7/2017     </td><td>AAPL         </td><td>-0.001300551 </td><td> 0.021538072 </td><td> 0.007371314 </td><td> 0.078662207 </td><td> 0.0163231865</td></tr>\n",
       "\t<tr><th scope=row>998</th><td>9/7/2017     </td><td>AMZN         </td><td> 0.035358660 </td><td> 0.019675817 </td><td>-0.010476441 </td><td>-0.039772950 </td><td> 0.0054198873</td></tr>\n",
       "\t<tr><th scope=row>999</th><td>9/7/2017     </td><td>GOOGL        </td><td> 0.023444992 </td><td> 0.023963521 </td><td> 0.006036921 </td><td>-0.008806987 </td><td> 0.0216617370</td></tr>\n",
       "\t<tr><th scope=row>1000</th><td>9/7/2017     </td><td>MSFT         </td><td> 0.020733214 </td><td> 0.026795580 </td><td> 0.021294134 </td><td> 0.017798467 </td><td>-0.0109100585</td></tr>\n",
       "\t<tr><th scope=row>1001</th><td>9/8/2017     </td><td>AAPL         </td><td>-0.026272175 </td><td> 0.007174603 </td><td>-0.015087545 </td><td> 0.066563572 </td><td>-0.0006300006</td></tr>\n",
       "\t<tr><th scope=row>1002</th><td>9/8/2017     </td><td>AMZN         </td><td> 0.012410121 </td><td> 0.007751938 </td><td>-0.016405128 </td><td>-0.022150681 </td><td>-0.0040830635</td></tr>\n",
       "\t<tr><th scope=row>1003</th><td>9/8/2017     </td><td>GOOGL        </td><td> 0.006048624 </td><td> 0.016443888 </td><td> 0.001414773 </td><td>-0.004325754 </td><td> 0.0048566488</td></tr>\n",
       "\t<tr><th scope=row>1004</th><td>9/8/2017     </td><td>MSFT         </td><td> 0.012731006 </td><td> 0.020554559 </td><td> 0.020836208 </td><td> 0.017606602 </td><td>-0.0193531283</td></tr>\n",
       "</tbody>\n",
       "</table>\n"
      ],
      "text/latex": [
       "\\begin{tabular}{r|lllllll}\n",
       "  & Date & Name & delta\\_ 7 & delta\\_ 14 & delta\\_ 21 & delta\\_ 28 & return\\_7\\\\\n",
       "\\hline\n",
       "\t995 & 9/6/2017      & GOOGL         &  0.012380441  & -0.002382793  & -0.003943960  & -0.011013008  &  0.0071956292\\\\\n",
       "\t996 & 9/6/2017      & MSFT          &  0.007964845  & -0.003394433  &  0.013812155  &  0.003280481  & -0.0253618377\\\\\n",
       "\t997 & 9/7/2017      & AAPL          & -0.001300551  &  0.021538072  &  0.007371314  &  0.078662207  &  0.0163231865\\\\\n",
       "\t998 & 9/7/2017      & AMZN          &  0.035358660  &  0.019675817  & -0.010476441  & -0.039772950  &  0.0054198873\\\\\n",
       "\t999 & 9/7/2017      & GOOGL         &  0.023444992  &  0.023963521  &  0.006036921  & -0.008806987  &  0.0216617370\\\\\n",
       "\t1000 & 9/7/2017      & MSFT          &  0.020733214  &  0.026795580  &  0.021294134  &  0.017798467  & -0.0109100585\\\\\n",
       "\t1001 & 9/8/2017      & AAPL          & -0.026272175  &  0.007174603  & -0.015087545  &  0.066563572  & -0.0006300006\\\\\n",
       "\t1002 & 9/8/2017      & AMZN          &  0.012410121  &  0.007751938  & -0.016405128  & -0.022150681  & -0.0040830635\\\\\n",
       "\t1003 & 9/8/2017      & GOOGL         &  0.006048624  &  0.016443888  &  0.001414773  & -0.004325754  &  0.0048566488\\\\\n",
       "\t1004 & 9/8/2017      & MSFT          &  0.012731006  &  0.020554559  &  0.020836208  &  0.017606602  & -0.0193531283\\\\\n",
       "\\end{tabular}\n"
      ],
      "text/markdown": [
       "\n",
       "| <!--/--> | Date | Name | delta_ 7 | delta_ 14 | delta_ 21 | delta_ 28 | return_7 | \n",
       "|---|---|---|---|---|---|---|---|---|---|\n",
       "| 995 | 9/6/2017      | GOOGL         |  0.012380441  | -0.002382793  | -0.003943960  | -0.011013008  |  0.0071956292 | \n",
       "| 996 | 9/6/2017      | MSFT          |  0.007964845  | -0.003394433  |  0.013812155  |  0.003280481  | -0.0253618377 | \n",
       "| 997 | 9/7/2017      | AAPL          | -0.001300551  |  0.021538072  |  0.007371314  |  0.078662207  |  0.0163231865 | \n",
       "| 998 | 9/7/2017      | AMZN          |  0.035358660  |  0.019675817  | -0.010476441  | -0.039772950  |  0.0054198873 | \n",
       "| 999 | 9/7/2017      | GOOGL         |  0.023444992  |  0.023963521  |  0.006036921  | -0.008806987  |  0.0216617370 | \n",
       "| 1000 | 9/7/2017      | MSFT          |  0.020733214  |  0.026795580  |  0.021294134  |  0.017798467  | -0.0109100585 | \n",
       "| 1001 | 9/8/2017      | AAPL          | -0.026272175  |  0.007174603  | -0.015087545  |  0.066563572  | -0.0006300006 | \n",
       "| 1002 | 9/8/2017      | AMZN          |  0.012410121  |  0.007751938  | -0.016405128  | -0.022150681  | -0.0040830635 | \n",
       "| 1003 | 9/8/2017      | GOOGL         |  0.006048624  |  0.016443888  |  0.001414773  | -0.004325754  |  0.0048566488 | \n",
       "| 1004 | 9/8/2017      | MSFT          |  0.012731006  |  0.020554559  |  0.020836208  |  0.017606602  | -0.0193531283 | \n",
       "\n",
       "\n"
      ],
      "text/plain": [
       "     Date     Name  delta_ 7     delta_ 14    delta_ 21    delta_ 28   \n",
       "995  9/6/2017 GOOGL  0.012380441 -0.002382793 -0.003943960 -0.011013008\n",
       "996  9/6/2017 MSFT   0.007964845 -0.003394433  0.013812155  0.003280481\n",
       "997  9/7/2017 AAPL  -0.001300551  0.021538072  0.007371314  0.078662207\n",
       "998  9/7/2017 AMZN   0.035358660  0.019675817 -0.010476441 -0.039772950\n",
       "999  9/7/2017 GOOGL  0.023444992  0.023963521  0.006036921 -0.008806987\n",
       "1000 9/7/2017 MSFT   0.020733214  0.026795580  0.021294134  0.017798467\n",
       "1001 9/8/2017 AAPL  -0.026272175  0.007174603 -0.015087545  0.066563572\n",
       "1002 9/8/2017 AMZN   0.012410121  0.007751938 -0.016405128 -0.022150681\n",
       "1003 9/8/2017 GOOGL  0.006048624  0.016443888  0.001414773 -0.004325754\n",
       "1004 9/8/2017 MSFT   0.012731006  0.020554559  0.020836208  0.017606602\n",
       "     return_7     \n",
       "995   0.0071956292\n",
       "996  -0.0253618377\n",
       "997   0.0163231865\n",
       "998   0.0054198873\n",
       "999   0.0216617370\n",
       "1000 -0.0109100585\n",
       "1001 -0.0006300006\n",
       "1002 -0.0040830635\n",
       "1003  0.0048566488\n",
       "1004 -0.0193531283"
      ]
     },
     "metadata": {},
     "output_type": "display_data"
    }
   ],
   "source": [
    "# Reduce() work with merge() to combine features into an analytical base table\n",
    "\n",
    "abt <- Reduce(function(x,y) merge(x,y,by=c(\"Date\",\"Name\"),all=TRUE),melted_dfs)\n",
    "                  \n",
    "# display examples from the ABT \n",
    "tail(abt, 10)"
   ]
  },
  {
   "cell_type": "code",
   "execution_count": 126,
   "metadata": {
    "ExecuteTime": {
     "end_time": "2019-04-24T17:02:45.472806Z",
     "start_time": "2019-04-24T17:02:42.330Z"
    }
   },
   "outputs": [],
   "source": [
    "# create feature_dfs list that contains base features from original dataset plus melted dataset\n",
    "# grab features from original dataset\n",
    "base_df <- select(df,'Date', 'Name', 'Volume', 'Close')"
   ]
  },
  {
   "cell_type": "code",
   "execution_count": 127,
   "metadata": {
    "ExecuteTime": {
     "end_time": "2019-04-24T17:02:45.472806Z",
     "start_time": "2019-04-24T17:02:42.330Z"
    }
   },
   "outputs": [],
   "source": [
    "# create a list with all the features in the  dataframes\n",
    "melted_dfs[['base']] <- base_df"
   ]
  },
  {
   "cell_type": "code",
   "execution_count": 128,
   "metadata": {},
   "outputs": [],
   "source": [
    "# reduce-merge features into analytical base table\n",
    "abt <- Reduce(function(x,y) merge(x,y,by=c(\"Date\",\"Name\"),all=TRUE),melted_dfs)\n",
    "abt <- abt[order(as.Date(abt$Date, format=\"%m/%d/%Y\")), ]\n",
    "abt <- abt[order(abt$Name), ] "
   ]
  },
  {
   "cell_type": "code",
   "execution_count": 130,
   "metadata": {},
   "outputs": [
    {
     "data": {
      "text/html": [
       "<table>\n",
       "<thead><tr><th></th><th scope=col>Date</th><th scope=col>Name</th><th scope=col>delta_ 7</th><th scope=col>delta_ 14</th><th scope=col>delta_ 21</th><th scope=col>delta_ 28</th><th scope=col>return_7</th><th scope=col>Volume</th><th scope=col>Close</th></tr></thead>\n",
       "<tbody>\n",
       "\t<tr><th scope=row>404</th><td>1/3/2017    </td><td>AAPL        </td><td>        NA  </td><td>NA          </td><td>NA          </td><td>NA          </td><td>-0.025995807</td><td>28781865    </td><td>116.15      </td></tr>\n",
       "\t<tr><th scope=row>497</th><td>1/4/2017    </td><td>AAPL        </td><td>        NA  </td><td>NA          </td><td>NA          </td><td>NA          </td><td>-0.025369624</td><td>21118116    </td><td>116.02      </td></tr>\n",
       "\t<tr><th scope=row>528</th><td>1/5/2017    </td><td>AAPL        </td><td>        NA  </td><td>NA          </td><td>NA          </td><td>NA          </td><td>-0.028250000</td><td>22193587    </td><td>116.61      </td></tr>\n",
       "\t<tr><th scope=row>559</th><td>1/6/2017    </td><td>AAPL        </td><td>        NA  </td><td>NA          </td><td>NA          </td><td>NA          </td><td>-0.017334778</td><td>31751900    </td><td>117.91      </td></tr>\n",
       "\t<tr><th scope=row>590</th><td>1/9/2017    </td><td>AAPL        </td><td>        NA  </td><td>NA          </td><td>NA          </td><td>NA          </td><td>-0.006595425</td><td>33561948    </td><td>118.99      </td></tr>\n",
       "\t<tr><th scope=row>1</th><td>1/10/2017   </td><td>AAPL        </td><td>        NA  </td><td>NA          </td><td>NA          </td><td>NA          </td><td>-0.007416667</td><td>24462051    </td><td>119.11      </td></tr>\n",
       "\t<tr><th scope=row>32</th><td>1/11/2017   </td><td>AAPL        </td><td>        NA  </td><td>NA          </td><td>NA          </td><td>NA          </td><td>-0.002748168</td><td>27588593    </td><td>119.75      </td></tr>\n",
       "\t<tr><th scope=row>63</th><td>1/12/2017   </td><td>AAPL        </td><td>0.02668963  </td><td>NA          </td><td>NA          </td><td>NA          </td><td>-0.006001500</td><td>27086220    </td><td>119.25      </td></tr>\n",
       "\t<tr><th scope=row>94</th><td>1/13/2017   </td><td>AAPL        </td><td>0.02602999  </td><td>NA          </td><td>NA          </td><td>NA          </td><td>-0.023301608</td><td>26111948    </td><td>119.04      </td></tr>\n",
       "\t<tr><th scope=row>125</th><td>1/17/2017   </td><td>AAPL        </td><td>0.02907126  </td><td>NA          </td><td>NA          </td><td>NA          </td><td>-0.015909464</td><td>34439843    </td><td>120.00      </td></tr>\n",
       "</tbody>\n",
       "</table>\n"
      ],
      "text/latex": [
       "\\begin{tabular}{r|lllllllll}\n",
       "  & Date & Name & delta\\_ 7 & delta\\_ 14 & delta\\_ 21 & delta\\_ 28 & return\\_7 & Volume & Close\\\\\n",
       "\\hline\n",
       "\t404 & 1/3/2017     & AAPL         &         NA   & NA           & NA           & NA           & -0.025995807 & 28781865     & 116.15      \\\\\n",
       "\t497 & 1/4/2017     & AAPL         &         NA   & NA           & NA           & NA           & -0.025369624 & 21118116     & 116.02      \\\\\n",
       "\t528 & 1/5/2017     & AAPL         &         NA   & NA           & NA           & NA           & -0.028250000 & 22193587     & 116.61      \\\\\n",
       "\t559 & 1/6/2017     & AAPL         &         NA   & NA           & NA           & NA           & -0.017334778 & 31751900     & 117.91      \\\\\n",
       "\t590 & 1/9/2017     & AAPL         &         NA   & NA           & NA           & NA           & -0.006595425 & 33561948     & 118.99      \\\\\n",
       "\t1 & 1/10/2017    & AAPL         &         NA   & NA           & NA           & NA           & -0.007416667 & 24462051     & 119.11      \\\\\n",
       "\t32 & 1/11/2017    & AAPL         &         NA   & NA           & NA           & NA           & -0.002748168 & 27588593     & 119.75      \\\\\n",
       "\t63 & 1/12/2017    & AAPL         & 0.02668963   & NA           & NA           & NA           & -0.006001500 & 27086220     & 119.25      \\\\\n",
       "\t94 & 1/13/2017    & AAPL         & 0.02602999   & NA           & NA           & NA           & -0.023301608 & 26111948     & 119.04      \\\\\n",
       "\t125 & 1/17/2017    & AAPL         & 0.02907126   & NA           & NA           & NA           & -0.015909464 & 34439843     & 120.00      \\\\\n",
       "\\end{tabular}\n"
      ],
      "text/markdown": [
       "\n",
       "| <!--/--> | Date | Name | delta_ 7 | delta_ 14 | delta_ 21 | delta_ 28 | return_7 | Volume | Close | \n",
       "|---|---|---|---|---|---|---|---|---|---|\n",
       "| 404 | 1/3/2017     | AAPL         |         NA   | NA           | NA           | NA           | -0.025995807 | 28781865     | 116.15       | \n",
       "| 497 | 1/4/2017     | AAPL         |         NA   | NA           | NA           | NA           | -0.025369624 | 21118116     | 116.02       | \n",
       "| 528 | 1/5/2017     | AAPL         |         NA   | NA           | NA           | NA           | -0.028250000 | 22193587     | 116.61       | \n",
       "| 559 | 1/6/2017     | AAPL         |         NA   | NA           | NA           | NA           | -0.017334778 | 31751900     | 117.91       | \n",
       "| 590 | 1/9/2017     | AAPL         |         NA   | NA           | NA           | NA           | -0.006595425 | 33561948     | 118.99       | \n",
       "| 1 | 1/10/2017    | AAPL         |         NA   | NA           | NA           | NA           | -0.007416667 | 24462051     | 119.11       | \n",
       "| 32 | 1/11/2017    | AAPL         |         NA   | NA           | NA           | NA           | -0.002748168 | 27588593     | 119.75       | \n",
       "| 63 | 1/12/2017    | AAPL         | 0.02668963   | NA           | NA           | NA           | -0.006001500 | 27086220     | 119.25       | \n",
       "| 94 | 1/13/2017    | AAPL         | 0.02602999   | NA           | NA           | NA           | -0.023301608 | 26111948     | 119.04       | \n",
       "| 125 | 1/17/2017    | AAPL         | 0.02907126   | NA           | NA           | NA           | -0.015909464 | 34439843     | 120.00       | \n",
       "\n",
       "\n"
      ],
      "text/plain": [
       "    Date      Name delta_ 7   delta_ 14 delta_ 21 delta_ 28 return_7    \n",
       "404 1/3/2017  AAPL         NA NA        NA        NA        -0.025995807\n",
       "497 1/4/2017  AAPL         NA NA        NA        NA        -0.025369624\n",
       "528 1/5/2017  AAPL         NA NA        NA        NA        -0.028250000\n",
       "559 1/6/2017  AAPL         NA NA        NA        NA        -0.017334778\n",
       "590 1/9/2017  AAPL         NA NA        NA        NA        -0.006595425\n",
       "1   1/10/2017 AAPL         NA NA        NA        NA        -0.007416667\n",
       "32  1/11/2017 AAPL         NA NA        NA        NA        -0.002748168\n",
       "63  1/12/2017 AAPL 0.02668963 NA        NA        NA        -0.006001500\n",
       "94  1/13/2017 AAPL 0.02602999 NA        NA        NA        -0.023301608\n",
       "125 1/17/2017 AAPL 0.02907126 NA        NA        NA        -0.015909464\n",
       "    Volume   Close \n",
       "404 28781865 116.15\n",
       "497 21118116 116.02\n",
       "528 22193587 116.61\n",
       "559 31751900 117.91\n",
       "590 33561948 118.99\n",
       "1   24462051 119.11\n",
       "32  27588593 119.75\n",
       "63  27086220 119.25\n",
       "94  26111948 119.04\n",
       "125 34439843 120.00"
      ]
     },
     "metadata": {},
     "output_type": "display_data"
    }
   ],
   "source": [
    "# display examples from the ABT \n",
    "head(abt,10)"
   ]
  },
  {
   "cell_type": "markdown",
   "metadata": {},
   "source": [
    "**Now, we have a ABT ready for analysis using analytics tools such as Tableau**"
   ]
  }
 ],
 "metadata": {
  "kernelspec": {
   "display_name": "R",
   "language": "R",
   "name": "ir"
  },
  "language_info": {
   "codemirror_mode": "r",
   "file_extension": ".r",
   "mimetype": "text/x-r-source",
   "name": "R",
   "pygments_lexer": "r",
   "version": "3.5.1"
  },
  "toc": {
   "base_numbering": 1,
   "nav_menu": {},
   "number_sections": true,
   "sideBar": true,
   "skip_h1_title": false,
   "title_cell": "Table of Contents",
   "title_sidebar": "Contents",
   "toc_cell": true,
   "toc_position": {},
   "toc_section_display": true,
   "toc_window_display": true
  }
 },
 "nbformat": 4,
 "nbformat_minor": 2
}
