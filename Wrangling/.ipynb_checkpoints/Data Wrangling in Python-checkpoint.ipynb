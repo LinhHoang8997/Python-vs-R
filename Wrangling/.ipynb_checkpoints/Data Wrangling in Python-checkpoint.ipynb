{
 "cells": [
  {
   "cell_type": "markdown",
   "metadata": {
    "toc": true
   },
   "source": [
    "<h1>Table of Contents<span class=\"tocSkip\"></span></h1>\n",
    "<div class=\"toc\"><ul class=\"toc-item\"><li><span><a href=\"#Note\" data-toc-modified-id=\"Note-1\"><span class=\"toc-item-num\">1&nbsp;&nbsp;</span>Note</a></span></li><li><span><a href=\"#Load-data-and-packages\" data-toc-modified-id=\"Load-data-and-packages-2\"><span class=\"toc-item-num\">2&nbsp;&nbsp;</span>Load data and packages</a></span><ul class=\"toc-item\"><li><span><a href=\"#Choose-tech-stocks-as-the-focus\" data-toc-modified-id=\"Choose-tech-stocks-as-the-focus-2.1\"><span class=\"toc-item-num\">2.1&nbsp;&nbsp;</span>Choose tech stocks as the focus</a></span></li></ul></li><li><span><a href=\"#Pivot-dataframe,-so-that-each-stock-is-a-column\" data-toc-modified-id=\"Pivot-dataframe,-so-that-each-stock-is-a-column-3\"><span class=\"toc-item-num\">3&nbsp;&nbsp;</span>Pivot dataframe, so that each stock is a column</a></span></li><li><span><a href=\"#Prepare-data-for-analysis\" data-toc-modified-id=\"Prepare-data-for-analysis-4\"><span class=\"toc-item-num\">4&nbsp;&nbsp;</span>Prepare data for analysis</a></span><ul class=\"toc-item\"><li><ul class=\"toc-item\"><li><span><a href=\"#Use-.shift()-to-quickly-change-the-index-to-leave-the-first-few-rows-blank\" data-toc-modified-id=\"Use-.shift()-to-quickly-change-the-index-to-leave-the-first-few-rows-blank-4.0.1\"><span class=\"toc-item-num\">4.0.1&nbsp;&nbsp;</span>Use <code>.shift()</code> to quickly change the index to leave the first few rows blank</a></span></li><li><span><a href=\"#Calculate-returns-over-7-days-prior-as-{-prices_today/prices_7_days_ago--1.0-}\" data-toc-modified-id=\"Calculate-returns-over-7-days-prior-as-{-prices_today/prices_7_days_ago--1.0-}-4.0.2\"><span class=\"toc-item-num\">4.0.2&nbsp;&nbsp;</span>Calculate returns over 7 days prior as { prices_today/prices_7_days_ago -1.0 }</a></span></li><li><span><a href=\"#Melt-(unpivot)-data-to-create-an-analytical-base-table-(ABT)\" data-toc-modified-id=\"Melt-(unpivot)-data-to-create-an-analytical-base-table-(ABT)-4.0.3\"><span class=\"toc-item-num\">4.0.3&nbsp;&nbsp;</span>Melt (unpivot) data to create an analytical base table (ABT)</a></span></li><li><span><a href=\"#Repeat-the-shifting-and-calculation-for-the-14,-21,-28-day-offset\" data-toc-modified-id=\"Repeat-the-shifting-and-calculation-for-the-14,-21,-28-day-offset-4.0.4\"><span class=\"toc-item-num\">4.0.4&nbsp;&nbsp;</span>Repeat the shifting and calculation for the 14, 21, 28-day offset</a></span></li><li><span><a href=\"#Repeat-the-melting-process-for-all-other-time-offsets\" data-toc-modified-id=\"Repeat-the-melting-process-for-all-other-time-offsets-4.0.5\"><span class=\"toc-item-num\">4.0.5&nbsp;&nbsp;</span>Repeat the melting process for all other time offsets</a></span></li><li><span><a href=\"#Create-a-seperate-set-for-7-day-forward-offset\" data-toc-modified-id=\"Create-a-seperate-set-for-7-day-forward-offset-4.0.6\"><span class=\"toc-item-num\">4.0.6&nbsp;&nbsp;</span>Create a seperate set for 7-day-forward offset</a></span></li><li><span><a href=\"#Use-reduce()-to-merge-all-dataframes-(representing-intervals)-in-the-dict-into-one-single-ABT\" data-toc-modified-id=\"Use-reduce()-to-merge-all-dataframes-(representing-intervals)-in-the-dict-into-one-single-ABT-4.0.7\"><span class=\"toc-item-num\">4.0.7&nbsp;&nbsp;</span>Use <code>reduce()</code> to merge all dataframes (representing intervals) in the dict into one single ABT</a></span></li></ul></li></ul></li></ul></div>"
   ]
  },
  {
   "cell_type": "markdown",
   "metadata": {},
   "source": [
    "# Note\n",
    "Done in collaboration with Davis Trinh on my team."
   ]
  },
  {
   "cell_type": "markdown",
   "metadata": {},
   "source": [
    "# Load data and packages"
   ]
  },
  {
   "cell_type": "code",
   "execution_count": 48,
   "metadata": {
    "ExecuteTime": {
     "end_time": "2019-04-24T17:07:23.855100Z",
     "start_time": "2019-04-24T17:07:23.850114Z"
    }
   },
   "outputs": [],
   "source": [
    "import pandas as pd"
   ]
  },
  {
   "cell_type": "code",
   "execution_count": 49,
   "metadata": {
    "ExecuteTime": {
     "end_time": "2019-04-24T17:07:23.870059Z",
     "start_time": "2019-04-24T17:07:23.862081Z"
    }
   },
   "outputs": [],
   "source": [
    "# display floats with 2 decimal places so, that it is easier to see the prices\n",
    "pd.options.display.float_format = '{:,.2f}'.format"
   ]
  },
  {
   "cell_type": "code",
   "execution_count": 50,
   "metadata": {
    "ExecuteTime": {
     "end_time": "2019-04-24T17:07:23.932892Z",
     "start_time": "2019-04-24T17:07:23.873052Z"
    }
   },
   "outputs": [],
   "source": [
    "df = pd.read_csv('all_stocks_2017-2018.csv',\n",
    "                names=['Date', 'Open', 'High', 'Low', 'Close', 'Volume','Name']).reset_index().drop(0)"
   ]
  },
  {
   "cell_type": "code",
   "execution_count": 51,
   "metadata": {
    "ExecuteTime": {
     "end_time": "2019-04-24T17:07:23.932892Z",
     "start_time": "2019-04-24T17:07:23.873052Z"
    }
   },
   "outputs": [
    {
     "data": {
      "text/html": [
       "<div>\n",
       "<style scoped>\n",
       "    .dataframe tbody tr th:only-of-type {\n",
       "        vertical-align: middle;\n",
       "    }\n",
       "\n",
       "    .dataframe tbody tr th {\n",
       "        vertical-align: top;\n",
       "    }\n",
       "\n",
       "    .dataframe thead th {\n",
       "        text-align: right;\n",
       "    }\n",
       "</style>\n",
       "<table border=\"1\" class=\"dataframe\">\n",
       "  <thead>\n",
       "    <tr style=\"text-align: right;\">\n",
       "      <th></th>\n",
       "      <th>index</th>\n",
       "      <th>Date</th>\n",
       "      <th>Open</th>\n",
       "      <th>High</th>\n",
       "      <th>Low</th>\n",
       "      <th>Close</th>\n",
       "      <th>Volume</th>\n",
       "      <th>Name</th>\n",
       "    </tr>\n",
       "  </thead>\n",
       "  <tbody>\n",
       "    <tr>\n",
       "      <th>1</th>\n",
       "      <td>1</td>\n",
       "      <td>1/3/2017</td>\n",
       "      <td>178.83</td>\n",
       "      <td>180</td>\n",
       "      <td>177.22</td>\n",
       "      <td>178.05</td>\n",
       "      <td>2510055</td>\n",
       "      <td>MMM</td>\n",
       "    </tr>\n",
       "    <tr>\n",
       "      <th>2</th>\n",
       "      <td>2</td>\n",
       "      <td>1/4/2017</td>\n",
       "      <td>178.03</td>\n",
       "      <td>178.9</td>\n",
       "      <td>177.61</td>\n",
       "      <td>178.32</td>\n",
       "      <td>1541985</td>\n",
       "      <td>MMM</td>\n",
       "    </tr>\n",
       "    <tr>\n",
       "      <th>3</th>\n",
       "      <td>3</td>\n",
       "      <td>1/5/2017</td>\n",
       "      <td>178.26</td>\n",
       "      <td>179.14</td>\n",
       "      <td>176.89</td>\n",
       "      <td>177.71</td>\n",
       "      <td>1447848</td>\n",
       "      <td>MMM</td>\n",
       "    </tr>\n",
       "    <tr>\n",
       "      <th>4</th>\n",
       "      <td>4</td>\n",
       "      <td>1/6/2017</td>\n",
       "      <td>177.29</td>\n",
       "      <td>178.6</td>\n",
       "      <td>175.8</td>\n",
       "      <td>178.23</td>\n",
       "      <td>1625049</td>\n",
       "      <td>MMM</td>\n",
       "    </tr>\n",
       "    <tr>\n",
       "      <th>5</th>\n",
       "      <td>5</td>\n",
       "      <td>1/9/2017</td>\n",
       "      <td>178.37</td>\n",
       "      <td>178.38</td>\n",
       "      <td>177.2</td>\n",
       "      <td>177.27</td>\n",
       "      <td>1622625</td>\n",
       "      <td>MMM</td>\n",
       "    </tr>\n",
       "  </tbody>\n",
       "</table>\n",
       "</div>"
      ],
      "text/plain": [
       "   index      Date    Open    High     Low   Close   Volume Name\n",
       "1      1  1/3/2017  178.83     180  177.22  178.05  2510055  MMM\n",
       "2      2  1/4/2017  178.03   178.9  177.61  178.32  1541985  MMM\n",
       "3      3  1/5/2017  178.26  179.14  176.89  177.71  1447848  MMM\n",
       "4      4  1/6/2017  177.29   178.6   175.8  178.23  1625049  MMM\n",
       "5      5  1/9/2017  178.37  178.38   177.2  177.27  1622625  MMM"
      ]
     },
     "execution_count": 51,
     "metadata": {},
     "output_type": "execute_result"
    }
   ],
   "source": [
    "# Use head() to look at the first few rows\n",
    "df.head()"
   ]
  },
  {
   "cell_type": "code",
   "execution_count": 52,
   "metadata": {
    "ExecuteTime": {
     "end_time": "2019-04-24T17:07:23.989740Z",
     "start_time": "2019-04-24T17:07:23.970791Z"
    }
   },
   "outputs": [
    {
     "name": "stdout",
     "output_type": "stream",
     "text": [
      "<class 'pandas.core.frame.DataFrame'>\n",
      "Int64Index: 7781 entries, 1 to 7781\n",
      "Data columns (total 8 columns):\n",
      "index     7781 non-null int64\n",
      "Date      7781 non-null object\n",
      "Open      7757 non-null object\n",
      "High      7772 non-null object\n",
      "Low       7762 non-null object\n",
      "Close     7781 non-null object\n",
      "Volume    7781 non-null object\n",
      "Name      7781 non-null object\n",
      "dtypes: int64(1), object(7)\n",
      "memory usage: 334.3+ KB\n"
     ]
    }
   ],
   "source": [
    "df.info()"
   ]
  },
  {
   "cell_type": "markdown",
   "metadata": {},
   "source": [
    "Open, High, Low, Close, and Volume are numeric. The `object` dtype suggests there are a mix of dtypes in these columns. \n",
    "We need to cast these columns as float."
   ]
  },
  {
   "cell_type": "code",
   "execution_count": 53,
   "metadata": {
    "ExecuteTime": {
     "end_time": "2019-04-24T17:07:23.966801Z",
     "start_time": "2019-04-24T17:07:23.935891Z"
    }
   },
   "outputs": [],
   "source": [
    "for i in ['Open', 'High', 'Low', 'Close', 'Volume']:\n",
    "    df.loc[:,i] = df.loc[:,i].astype('float')"
   ]
  },
  {
   "cell_type": "markdown",
   "metadata": {},
   "source": [
    "## Choose tech stocks as the focus"
   ]
  },
  {
   "cell_type": "code",
   "execution_count": 54,
   "metadata": {
    "ExecuteTime": {
     "end_time": "2019-04-24T17:07:24.000711Z",
     "start_time": "2019-04-24T17:07:23.992733Z"
    }
   },
   "outputs": [
    {
     "name": "stdout",
     "output_type": "stream",
     "text": [
      "['MMM' 'AXP' 'AAPL' 'BA' 'CAT' 'CVX' 'CSCO' 'KO' 'DIS' 'XOM' 'GE' 'GS'\n",
      " 'HD' 'IBM' 'INTC' 'JNJ' 'JPM' 'MCD' 'MRK' 'MSFT' 'NKE' 'PFE' 'PG' 'TRV'\n",
      " 'UTX' 'UNH' 'VZ' 'WMT' 'GOOGL' 'AMZN' 'AABA']\n"
     ]
    }
   ],
   "source": [
    "print( df.Name.unique())"
   ]
  },
  {
   "cell_type": "code",
   "execution_count": 55,
   "metadata": {
    "ExecuteTime": {
     "end_time": "2019-04-24T17:07:24.020656Z",
     "start_time": "2019-04-24T17:07:24.003703Z"
    }
   },
   "outputs": [],
   "source": [
    "df_tech = df[df.Name.isin(['AAPL','GOOGL','MSFT','AMZN'])]"
   ]
  },
  {
   "cell_type": "markdown",
   "metadata": {},
   "source": [
    "# Pivot dataframe, so that each stock is a column"
   ]
  },
  {
   "cell_type": "markdown",
   "metadata": {},
   "source": [
    "Turn Date into index to simplify transformations later on"
   ]
  },
  {
   "cell_type": "code",
   "execution_count": 56,
   "metadata": {
    "ExecuteTime": {
     "end_time": "2019-04-24T17:07:24.048585Z",
     "start_time": "2019-04-24T17:07:24.024646Z"
    },
    "scrolled": false
   },
   "outputs": [
    {
     "data": {
      "text/html": [
       "<div>\n",
       "<style scoped>\n",
       "    .dataframe tbody tr th:only-of-type {\n",
       "        vertical-align: middle;\n",
       "    }\n",
       "\n",
       "    .dataframe tbody tr th {\n",
       "        vertical-align: top;\n",
       "    }\n",
       "\n",
       "    .dataframe thead th {\n",
       "        text-align: right;\n",
       "    }\n",
       "</style>\n",
       "<table border=\"1\" class=\"dataframe\">\n",
       "  <thead>\n",
       "    <tr style=\"text-align: right;\">\n",
       "      <th>Name</th>\n",
       "      <th>AAPL</th>\n",
       "      <th>AMZN</th>\n",
       "      <th>GOOGL</th>\n",
       "      <th>MSFT</th>\n",
       "    </tr>\n",
       "    <tr>\n",
       "      <th>Date</th>\n",
       "      <th></th>\n",
       "      <th></th>\n",
       "      <th></th>\n",
       "      <th></th>\n",
       "    </tr>\n",
       "  </thead>\n",
       "  <tbody>\n",
       "    <tr>\n",
       "      <th>9/29/2017</th>\n",
       "      <td>154.12</td>\n",
       "      <td>961.35</td>\n",
       "      <td>973.72</td>\n",
       "      <td>74.49</td>\n",
       "    </tr>\n",
       "    <tr>\n",
       "      <th>9/5/2017</th>\n",
       "      <td>162.08</td>\n",
       "      <td>965.27</td>\n",
       "      <td>941.48</td>\n",
       "      <td>73.61</td>\n",
       "    </tr>\n",
       "    <tr>\n",
       "      <th>9/6/2017</th>\n",
       "      <td>161.91</td>\n",
       "      <td>967.80</td>\n",
       "      <td>942.02</td>\n",
       "      <td>73.40</td>\n",
       "    </tr>\n",
       "    <tr>\n",
       "      <th>9/7/2017</th>\n",
       "      <td>161.26</td>\n",
       "      <td>979.47</td>\n",
       "      <td>949.89</td>\n",
       "      <td>74.34</td>\n",
       "    </tr>\n",
       "    <tr>\n",
       "      <th>9/8/2017</th>\n",
       "      <td>158.63</td>\n",
       "      <td>965.90</td>\n",
       "      <td>941.41</td>\n",
       "      <td>73.98</td>\n",
       "    </tr>\n",
       "  </tbody>\n",
       "</table>\n",
       "</div>"
      ],
      "text/plain": [
       "Name        AAPL   AMZN  GOOGL  MSFT\n",
       "Date                                \n",
       "9/29/2017 154.12 961.35 973.72 74.49\n",
       "9/5/2017  162.08 965.27 941.48 73.61\n",
       "9/6/2017  161.91 967.80 942.02 73.40\n",
       "9/7/2017  161.26 979.47 949.89 74.34\n",
       "9/8/2017  158.63 965.90 941.41 73.98"
      ]
     },
     "execution_count": 56,
     "metadata": {},
     "output_type": "execute_result"
    }
   ],
   "source": [
    "# pivot the dataset while keeping only one price column\n",
    "pivoted_df = df_tech.pivot(index='Date', columns='Name', values='Close')\n",
    "\n",
    "# display examples from pivoted dataset\n",
    "pivoted_df.tail()"
   ]
  },
  {
   "cell_type": "markdown",
   "metadata": {},
   "source": [
    "# Prepare data for analysis"
   ]
  },
  {
   "cell_type": "markdown",
   "metadata": {},
   "source": [
    "###  Use `.shift()` to quickly change the index to leave the first few rows blank"
   ]
  },
  {
   "cell_type": "code",
   "execution_count": 57,
   "metadata": {
    "ExecuteTime": {
     "end_time": "2019-04-24T17:07:24.090475Z",
     "start_time": "2019-04-24T17:07:24.084493Z"
    }
   },
   "outputs": [
    {
     "data": {
      "text/html": [
       "<div>\n",
       "<style scoped>\n",
       "    .dataframe tbody tr th:only-of-type {\n",
       "        vertical-align: middle;\n",
       "    }\n",
       "\n",
       "    .dataframe tbody tr th {\n",
       "        vertical-align: top;\n",
       "    }\n",
       "\n",
       "    .dataframe thead th {\n",
       "        text-align: right;\n",
       "    }\n",
       "</style>\n",
       "<table border=\"1\" class=\"dataframe\">\n",
       "  <thead>\n",
       "    <tr style=\"text-align: right;\">\n",
       "      <th>Name</th>\n",
       "      <th>AAPL</th>\n",
       "      <th>AMZN</th>\n",
       "      <th>GOOGL</th>\n",
       "      <th>MSFT</th>\n",
       "    </tr>\n",
       "    <tr>\n",
       "      <th>Date</th>\n",
       "      <th></th>\n",
       "      <th></th>\n",
       "      <th></th>\n",
       "      <th></th>\n",
       "    </tr>\n",
       "  </thead>\n",
       "  <tbody>\n",
       "    <tr>\n",
       "      <th>1/10/2017</th>\n",
       "      <td>nan</td>\n",
       "      <td>nan</td>\n",
       "      <td>nan</td>\n",
       "      <td>nan</td>\n",
       "    </tr>\n",
       "    <tr>\n",
       "      <th>1/11/2017</th>\n",
       "      <td>nan</td>\n",
       "      <td>nan</td>\n",
       "      <td>nan</td>\n",
       "      <td>nan</td>\n",
       "    </tr>\n",
       "    <tr>\n",
       "      <th>1/12/2017</th>\n",
       "      <td>nan</td>\n",
       "      <td>nan</td>\n",
       "      <td>nan</td>\n",
       "      <td>nan</td>\n",
       "    </tr>\n",
       "    <tr>\n",
       "      <th>1/13/2017</th>\n",
       "      <td>nan</td>\n",
       "      <td>nan</td>\n",
       "      <td>nan</td>\n",
       "      <td>nan</td>\n",
       "    </tr>\n",
       "    <tr>\n",
       "      <th>1/17/2017</th>\n",
       "      <td>nan</td>\n",
       "      <td>nan</td>\n",
       "      <td>nan</td>\n",
       "      <td>nan</td>\n",
       "    </tr>\n",
       "    <tr>\n",
       "      <th>1/18/2017</th>\n",
       "      <td>nan</td>\n",
       "      <td>nan</td>\n",
       "      <td>nan</td>\n",
       "      <td>nan</td>\n",
       "    </tr>\n",
       "    <tr>\n",
       "      <th>1/19/2017</th>\n",
       "      <td>nan</td>\n",
       "      <td>nan</td>\n",
       "      <td>nan</td>\n",
       "      <td>nan</td>\n",
       "    </tr>\n",
       "    <tr>\n",
       "      <th>1/20/2017</th>\n",
       "      <td>119.11</td>\n",
       "      <td>795.90</td>\n",
       "      <td>826.01</td>\n",
       "      <td>62.62</td>\n",
       "    </tr>\n",
       "    <tr>\n",
       "      <th>1/23/2017</th>\n",
       "      <td>119.75</td>\n",
       "      <td>799.02</td>\n",
       "      <td>829.86</td>\n",
       "      <td>63.19</td>\n",
       "    </tr>\n",
       "    <tr>\n",
       "      <th>1/24/2017</th>\n",
       "      <td>119.25</td>\n",
       "      <td>813.64</td>\n",
       "      <td>829.53</td>\n",
       "      <td>62.61</td>\n",
       "    </tr>\n",
       "  </tbody>\n",
       "</table>\n",
       "</div>"
      ],
      "text/plain": [
       "Name        AAPL   AMZN  GOOGL  MSFT\n",
       "Date                                \n",
       "1/10/2017    nan    nan    nan   nan\n",
       "1/11/2017    nan    nan    nan   nan\n",
       "1/12/2017    nan    nan    nan   nan\n",
       "1/13/2017    nan    nan    nan   nan\n",
       "1/17/2017    nan    nan    nan   nan\n",
       "1/18/2017    nan    nan    nan   nan\n",
       "1/19/2017    nan    nan    nan   nan\n",
       "1/20/2017 119.11 795.90 826.01 62.62\n",
       "1/23/2017 119.75 799.02 829.86 63.19\n",
       "1/24/2017 119.25 813.64 829.53 62.61"
      ]
     },
     "execution_count": 57,
     "metadata": {},
     "output_type": "execute_result"
    }
   ],
   "source": [
    "shifted = pivoted_df.shift(7)\n",
    "shifted.head(10)"
   ]
  },
  {
   "cell_type": "markdown",
   "metadata": {
    "ExecuteTime": {
     "end_time": "2019-04-24T17:07:24.117399Z",
     "start_time": "2019-04-24T17:07:24.099447Z"
    }
   },
   "source": [
    "### Calculate returns over 7 days prior as { prices_today/prices_7_days_ago -1.0 }"
   ]
  },
  {
   "cell_type": "code",
   "execution_count": 58,
   "metadata": {
    "ExecuteTime": {
     "end_time": "2019-04-24T17:07:24.117399Z",
     "start_time": "2019-04-24T17:07:24.099447Z"
    }
   },
   "outputs": [],
   "source": [
    "#calculate returns over 7 days prior\n",
    "delta_7 = pivoted_df / shifted - 1.0"
   ]
  },
  {
   "cell_type": "code",
   "execution_count": 59,
   "metadata": {
    "ExecuteTime": {
     "end_time": "2019-04-24T17:07:24.117399Z",
     "start_time": "2019-04-24T17:07:24.099447Z"
    }
   },
   "outputs": [
    {
     "data": {
      "text/html": [
       "<div>\n",
       "<style scoped>\n",
       "    .dataframe tbody tr th:only-of-type {\n",
       "        vertical-align: middle;\n",
       "    }\n",
       "\n",
       "    .dataframe tbody tr th {\n",
       "        vertical-align: top;\n",
       "    }\n",
       "\n",
       "    .dataframe thead th {\n",
       "        text-align: right;\n",
       "    }\n",
       "</style>\n",
       "<table border=\"1\" class=\"dataframe\">\n",
       "  <thead>\n",
       "    <tr style=\"text-align: right;\">\n",
       "      <th>Name</th>\n",
       "      <th>AAPL</th>\n",
       "      <th>AMZN</th>\n",
       "      <th>GOOGL</th>\n",
       "      <th>MSFT</th>\n",
       "    </tr>\n",
       "    <tr>\n",
       "      <th>Date</th>\n",
       "      <th></th>\n",
       "      <th></th>\n",
       "      <th></th>\n",
       "      <th></th>\n",
       "    </tr>\n",
       "  </thead>\n",
       "  <tbody>\n",
       "    <tr>\n",
       "      <th>1/10/2017</th>\n",
       "      <td>nan</td>\n",
       "      <td>nan</td>\n",
       "      <td>nan</td>\n",
       "      <td>nan</td>\n",
       "    </tr>\n",
       "    <tr>\n",
       "      <th>1/11/2017</th>\n",
       "      <td>nan</td>\n",
       "      <td>nan</td>\n",
       "      <td>nan</td>\n",
       "      <td>nan</td>\n",
       "    </tr>\n",
       "    <tr>\n",
       "      <th>1/12/2017</th>\n",
       "      <td>nan</td>\n",
       "      <td>nan</td>\n",
       "      <td>nan</td>\n",
       "      <td>nan</td>\n",
       "    </tr>\n",
       "    <tr>\n",
       "      <th>1/13/2017</th>\n",
       "      <td>nan</td>\n",
       "      <td>nan</td>\n",
       "      <td>nan</td>\n",
       "      <td>nan</td>\n",
       "    </tr>\n",
       "    <tr>\n",
       "      <th>1/17/2017</th>\n",
       "      <td>nan</td>\n",
       "      <td>nan</td>\n",
       "      <td>nan</td>\n",
       "      <td>nan</td>\n",
       "    </tr>\n",
       "    <tr>\n",
       "      <th>1/18/2017</th>\n",
       "      <td>nan</td>\n",
       "      <td>nan</td>\n",
       "      <td>nan</td>\n",
       "      <td>nan</td>\n",
       "    </tr>\n",
       "    <tr>\n",
       "      <th>1/19/2017</th>\n",
       "      <td>nan</td>\n",
       "      <td>nan</td>\n",
       "      <td>nan</td>\n",
       "      <td>nan</td>\n",
       "    </tr>\n",
       "    <tr>\n",
       "      <th>1/20/2017</th>\n",
       "      <td>0.01</td>\n",
       "      <td>0.02</td>\n",
       "      <td>0.00</td>\n",
       "      <td>0.00</td>\n",
       "    </tr>\n",
       "    <tr>\n",
       "      <th>1/23/2017</th>\n",
       "      <td>0.00</td>\n",
       "      <td>0.02</td>\n",
       "      <td>0.02</td>\n",
       "      <td>-0.00</td>\n",
       "    </tr>\n",
       "    <tr>\n",
       "      <th>1/24/2017</th>\n",
       "      <td>0.01</td>\n",
       "      <td>0.01</td>\n",
       "      <td>0.02</td>\n",
       "      <td>0.01</td>\n",
       "    </tr>\n",
       "  </tbody>\n",
       "</table>\n",
       "</div>"
      ],
      "text/plain": [
       "Name       AAPL  AMZN  GOOGL  MSFT\n",
       "Date                              \n",
       "1/10/2017   nan   nan    nan   nan\n",
       "1/11/2017   nan   nan    nan   nan\n",
       "1/12/2017   nan   nan    nan   nan\n",
       "1/13/2017   nan   nan    nan   nan\n",
       "1/17/2017   nan   nan    nan   nan\n",
       "1/18/2017   nan   nan    nan   nan\n",
       "1/19/2017   nan   nan    nan   nan\n",
       "1/20/2017  0.01  0.02   0.00  0.00\n",
       "1/23/2017  0.00  0.02   0.02 -0.00\n",
       "1/24/2017  0.01  0.01   0.02  0.01"
      ]
     },
     "execution_count": 59,
     "metadata": {},
     "output_type": "execute_result"
    }
   ],
   "source": [
    "#display examples\n",
    "delta_7.head(10)"
   ]
  },
  {
   "cell_type": "markdown",
   "metadata": {},
   "source": [
    "### Melt (unpivot) data to create an analytical base table (ABT)\n",
    "This should improve performance when running time-series analysis."
   ]
  },
  {
   "cell_type": "code",
   "execution_count": 60,
   "metadata": {
    "ExecuteTime": {
     "end_time": "2019-04-24T17:07:24.166268Z",
     "start_time": "2019-04-24T17:07:24.135352Z"
    }
   },
   "outputs": [],
   "source": [
    "# melt with melt()\n",
    "melted_7 = delta_7.reset_index().melt(id_vars='Date', value_name= 'delta_7')"
   ]
  },
  {
   "cell_type": "code",
   "execution_count": 61,
   "metadata": {
    "ExecuteTime": {
     "end_time": "2019-04-24T17:07:24.166268Z",
     "start_time": "2019-04-24T17:07:24.135352Z"
    }
   },
   "outputs": [
    {
     "data": {
      "text/html": [
       "<div>\n",
       "<style scoped>\n",
       "    .dataframe tbody tr th:only-of-type {\n",
       "        vertical-align: middle;\n",
       "    }\n",
       "\n",
       "    .dataframe tbody tr th {\n",
       "        vertical-align: top;\n",
       "    }\n",
       "\n",
       "    .dataframe thead th {\n",
       "        text-align: right;\n",
       "    }\n",
       "</style>\n",
       "<table border=\"1\" class=\"dataframe\">\n",
       "  <thead>\n",
       "    <tr style=\"text-align: right;\">\n",
       "      <th></th>\n",
       "      <th>Date</th>\n",
       "      <th>Name</th>\n",
       "      <th>delta_7</th>\n",
       "    </tr>\n",
       "  </thead>\n",
       "  <tbody>\n",
       "    <tr>\n",
       "      <th>999</th>\n",
       "      <td>9/29/2017</td>\n",
       "      <td>MSFT</td>\n",
       "      <td>-0.01</td>\n",
       "    </tr>\n",
       "    <tr>\n",
       "      <th>1000</th>\n",
       "      <td>9/5/2017</td>\n",
       "      <td>MSFT</td>\n",
       "      <td>-0.01</td>\n",
       "    </tr>\n",
       "    <tr>\n",
       "      <th>1001</th>\n",
       "      <td>9/6/2017</td>\n",
       "      <td>MSFT</td>\n",
       "      <td>-0.01</td>\n",
       "    </tr>\n",
       "    <tr>\n",
       "      <th>1002</th>\n",
       "      <td>9/7/2017</td>\n",
       "      <td>MSFT</td>\n",
       "      <td>0.01</td>\n",
       "    </tr>\n",
       "    <tr>\n",
       "      <th>1003</th>\n",
       "      <td>9/8/2017</td>\n",
       "      <td>MSFT</td>\n",
       "      <td>0.01</td>\n",
       "    </tr>\n",
       "  </tbody>\n",
       "</table>\n",
       "</div>"
      ],
      "text/plain": [
       "           Date  Name  delta_7\n",
       "999   9/29/2017  MSFT    -0.01\n",
       "1000   9/5/2017  MSFT    -0.01\n",
       "1001   9/6/2017  MSFT    -0.01\n",
       "1002   9/7/2017  MSFT     0.01\n",
       "1003   9/8/2017  MSFT     0.01"
      ]
     },
     "execution_count": 61,
     "metadata": {},
     "output_type": "execute_result"
    }
   ],
   "source": [
    "#melted dataframe example (with 7 days)\n",
    "melted_7.tail()"
   ]
  },
  {
   "cell_type": "markdown",
   "metadata": {},
   "source": [
    "As one can see, the columns name is consolidated in a single column. "
   ]
  },
  {
   "cell_type": "markdown",
   "metadata": {},
   "source": [
    "### Repeat the shifting and calculation for the 14, 21, 28-day offset\n",
    "This means comparing today prices with those 14, 21, or 28 days ago."
   ]
  },
  {
   "cell_type": "code",
   "execution_count": 62,
   "metadata": {
    "ExecuteTime": {
     "end_time": "2019-04-24T17:07:24.132359Z",
     "start_time": "2019-04-24T17:07:24.119399Z"
    }
   },
   "outputs": [],
   "source": [
    "# calculate returns over each window (offset) and store them in a dictionary with a loop\n",
    "delta_dict = {}\n",
    "for offset in [7, 14, 21, 28]:\n",
    "    delta_dict['delta_{}'.format(offset)] = pivoted_df / pivoted_df.shift(offset) - 1.0"
   ]
  },
  {
   "cell_type": "markdown",
   "metadata": {},
   "source": [
    "### Repeat the melting process for all other time offsets"
   ]
  },
  {
   "cell_type": "code",
   "execution_count": 64,
   "metadata": {
    "ExecuteTime": {
     "end_time": "2019-04-24T17:07:24.197185Z",
     "start_time": "2019-04-24T17:07:24.170258Z"
    }
   },
   "outputs": [],
   "source": [
    "# to do so for all the returns dataframes, loop through delta_dic\n",
    "#melt all the delta dataframes and store in list\n",
    "melted_dfs = []\n",
    "for key, delta_df in delta_dict.items():\n",
    "    melted_dfs.append( delta_df.reset_index().melt(id_vars=['Date'], value_name=key))"
   ]
  },
  {
   "cell_type": "markdown",
   "metadata": {},
   "source": [
    "### Create a seperate set for the 7-day-forward offset"
   ]
  },
  {
   "cell_type": "code",
   "execution_count": 65,
   "metadata": {
    "ExecuteTime": {
     "end_time": "2019-04-24T17:07:24.214140Z",
     "start_time": "2019-04-24T17:07:24.201177Z"
    }
   },
   "outputs": [],
   "source": [
    "# calculate 7-day returns after the date\n",
    "return_df = pivoted_df.shift(-7) / pivoted_df - 1.0\n",
    "\n",
    "# melt the return dataset and append to list\n",
    "melted_dfs.append( return_df.reset_index().melt(id_vars=['Date'], value_name='return_7') )"
   ]
  },
  {
   "cell_type": "markdown",
   "metadata": {
    "ExecuteTime": {
     "end_time": "2019-04-24T17:07:24.252039Z",
     "start_time": "2019-04-24T17:07:24.246055Z"
    }
   },
   "source": [
    "### Use `reduce()` to merge all dataframes (representing intervals) in the dict into one single ABT\n",
    "`reduce`() is a much faster way to merge dataframes with writing long-winded function for iterating through the list and dictionary."
   ]
  },
  {
   "cell_type": "code",
   "execution_count": 63,
   "metadata": {
    "ExecuteTime": {
     "end_time": "2019-04-24T17:07:24.265004Z",
     "start_time": "2019-04-24T17:07:24.256028Z"
    }
   },
   "outputs": [],
   "source": [
    "# create feature_dfs list that contains base features from original dataset plus melted dataset\n",
    "# grab features from original dataset\n",
    "base_df = df[['Date','Name', 'Volume', 'Close']]\n",
    "\n",
    "# create a list with all the features in the  dataframes\n",
    "feature_dfs = [base_df] + melted_dfs"
   ]
  },
  {
   "cell_type": "code",
   "execution_count": 67,
   "metadata": {
    "ExecuteTime": {
     "end_time": "2019-04-24T17:07:24.354764Z",
     "start_time": "2019-04-24T17:07:24.267996Z"
    }
   },
   "outputs": [
    {
     "data": {
      "text/html": [
       "<div>\n",
       "<style scoped>\n",
       "    .dataframe tbody tr th:only-of-type {\n",
       "        vertical-align: middle;\n",
       "    }\n",
       "\n",
       "    .dataframe tbody tr th {\n",
       "        vertical-align: top;\n",
       "    }\n",
       "\n",
       "    .dataframe thead th {\n",
       "        text-align: right;\n",
       "    }\n",
       "</style>\n",
       "<table border=\"1\" class=\"dataframe\">\n",
       "  <thead>\n",
       "    <tr style=\"text-align: right;\">\n",
       "      <th></th>\n",
       "      <th>Date</th>\n",
       "      <th>Name</th>\n",
       "      <th>Volume</th>\n",
       "      <th>Close</th>\n",
       "      <th>delta_7</th>\n",
       "      <th>delta_14</th>\n",
       "      <th>delta_21</th>\n",
       "      <th>delta_28</th>\n",
       "      <th>return_7</th>\n",
       "    </tr>\n",
       "  </thead>\n",
       "  <tbody>\n",
       "    <tr>\n",
       "      <th>0</th>\n",
       "      <td>1/3/2017</td>\n",
       "      <td>AAPL</td>\n",
       "      <td>28,781,865.00</td>\n",
       "      <td>116.15</td>\n",
       "      <td>-0.03</td>\n",
       "      <td>nan</td>\n",
       "      <td>nan</td>\n",
       "      <td>nan</td>\n",
       "      <td>0.34</td>\n",
       "    </tr>\n",
       "    <tr>\n",
       "      <th>1</th>\n",
       "      <td>1/4/2017</td>\n",
       "      <td>AAPL</td>\n",
       "      <td>21,118,116.00</td>\n",
       "      <td>116.02</td>\n",
       "      <td>-0.03</td>\n",
       "      <td>-0.03</td>\n",
       "      <td>nan</td>\n",
       "      <td>nan</td>\n",
       "      <td>0.35</td>\n",
       "    </tr>\n",
       "    <tr>\n",
       "      <th>2</th>\n",
       "      <td>1/5/2017</td>\n",
       "      <td>AAPL</td>\n",
       "      <td>22,193,587.00</td>\n",
       "      <td>116.61</td>\n",
       "      <td>-0.04</td>\n",
       "      <td>-0.02</td>\n",
       "      <td>nan</td>\n",
       "      <td>nan</td>\n",
       "      <td>0.37</td>\n",
       "    </tr>\n",
       "    <tr>\n",
       "      <th>3</th>\n",
       "      <td>1/6/2017</td>\n",
       "      <td>AAPL</td>\n",
       "      <td>31,751,900.00</td>\n",
       "      <td>117.91</td>\n",
       "      <td>-0.03</td>\n",
       "      <td>-0.02</td>\n",
       "      <td>nan</td>\n",
       "      <td>nan</td>\n",
       "      <td>0.36</td>\n",
       "    </tr>\n",
       "    <tr>\n",
       "      <th>4</th>\n",
       "      <td>1/9/2017</td>\n",
       "      <td>AAPL</td>\n",
       "      <td>33,561,948.00</td>\n",
       "      <td>118.99</td>\n",
       "      <td>-0.02</td>\n",
       "      <td>-0.01</td>\n",
       "      <td>nan</td>\n",
       "      <td>nan</td>\n",
       "      <td>0.34</td>\n",
       "    </tr>\n",
       "    <tr>\n",
       "      <th>5</th>\n",
       "      <td>1/10/2017</td>\n",
       "      <td>AAPL</td>\n",
       "      <td>24,462,051.00</td>\n",
       "      <td>119.11</td>\n",
       "      <td>nan</td>\n",
       "      <td>nan</td>\n",
       "      <td>nan</td>\n",
       "      <td>nan</td>\n",
       "      <td>0.01</td>\n",
       "    </tr>\n",
       "    <tr>\n",
       "      <th>6</th>\n",
       "      <td>1/11/2017</td>\n",
       "      <td>AAPL</td>\n",
       "      <td>27,588,593.00</td>\n",
       "      <td>119.75</td>\n",
       "      <td>nan</td>\n",
       "      <td>nan</td>\n",
       "      <td>nan</td>\n",
       "      <td>nan</td>\n",
       "      <td>0.00</td>\n",
       "    </tr>\n",
       "    <tr>\n",
       "      <th>7</th>\n",
       "      <td>1/12/2017</td>\n",
       "      <td>AAPL</td>\n",
       "      <td>27,086,220.00</td>\n",
       "      <td>119.25</td>\n",
       "      <td>nan</td>\n",
       "      <td>nan</td>\n",
       "      <td>nan</td>\n",
       "      <td>nan</td>\n",
       "      <td>0.01</td>\n",
       "    </tr>\n",
       "    <tr>\n",
       "      <th>8</th>\n",
       "      <td>1/13/2017</td>\n",
       "      <td>AAPL</td>\n",
       "      <td>26,111,948.00</td>\n",
       "      <td>119.04</td>\n",
       "      <td>nan</td>\n",
       "      <td>nan</td>\n",
       "      <td>nan</td>\n",
       "      <td>nan</td>\n",
       "      <td>0.02</td>\n",
       "    </tr>\n",
       "    <tr>\n",
       "      <th>9</th>\n",
       "      <td>1/17/2017</td>\n",
       "      <td>AAPL</td>\n",
       "      <td>34,439,843.00</td>\n",
       "      <td>120.00</td>\n",
       "      <td>nan</td>\n",
       "      <td>nan</td>\n",
       "      <td>nan</td>\n",
       "      <td>nan</td>\n",
       "      <td>0.02</td>\n",
       "    </tr>\n",
       "  </tbody>\n",
       "</table>\n",
       "</div>"
      ],
      "text/plain": [
       "        Date  Name        Volume  Close  delta_7  delta_14  delta_21  \\\n",
       "0   1/3/2017  AAPL 28,781,865.00 116.15    -0.03       nan       nan   \n",
       "1   1/4/2017  AAPL 21,118,116.00 116.02    -0.03     -0.03       nan   \n",
       "2   1/5/2017  AAPL 22,193,587.00 116.61    -0.04     -0.02       nan   \n",
       "3   1/6/2017  AAPL 31,751,900.00 117.91    -0.03     -0.02       nan   \n",
       "4   1/9/2017  AAPL 33,561,948.00 118.99    -0.02     -0.01       nan   \n",
       "5  1/10/2017  AAPL 24,462,051.00 119.11      nan       nan       nan   \n",
       "6  1/11/2017  AAPL 27,588,593.00 119.75      nan       nan       nan   \n",
       "7  1/12/2017  AAPL 27,086,220.00 119.25      nan       nan       nan   \n",
       "8  1/13/2017  AAPL 26,111,948.00 119.04      nan       nan       nan   \n",
       "9  1/17/2017  AAPL 34,439,843.00 120.00      nan       nan       nan   \n",
       "\n",
       "   delta_28  return_7  \n",
       "0       nan      0.34  \n",
       "1       nan      0.35  \n",
       "2       nan      0.37  \n",
       "3       nan      0.36  \n",
       "4       nan      0.34  \n",
       "5       nan      0.01  \n",
       "6       nan      0.00  \n",
       "7       nan      0.01  \n",
       "8       nan      0.02  \n",
       "9       nan      0.02  "
      ]
     },
     "execution_count": 67,
     "metadata": {},
     "output_type": "execute_result"
    }
   ],
   "source": [
    "from functools import reduce\n",
    "\n",
    "# reduce-merge features into analytical base table\n",
    "abt = reduce(lambda left,right: pd.merge(left,right,on=['Date','Name']), feature_dfs)\n",
    "\n",
    "# display examples from the ABT \n",
    "abt.head(10)"
   ]
  },
  {
   "cell_type": "markdown",
   "metadata": {},
   "source": [
    "**Now, we have a ABT ready for analysis using analytics tools such as Tableau**"
   ]
  }
 ],
 "metadata": {
  "kernelspec": {
   "display_name": "Python 3",
   "language": "python",
   "name": "python3"
  },
  "language_info": {
   "codemirror_mode": {
    "name": "ipython",
    "version": 3
   },
   "file_extension": ".py",
   "mimetype": "text/x-python",
   "name": "python",
   "nbconvert_exporter": "python",
   "pygments_lexer": "ipython3",
   "version": "3.7.3"
  },
  "toc": {
   "base_numbering": 1,
   "nav_menu": {},
   "number_sections": true,
   "sideBar": true,
   "skip_h1_title": false,
   "title_cell": "Table of Contents",
   "title_sidebar": "Contents",
   "toc_cell": true,
   "toc_position": {},
   "toc_section_display": true,
   "toc_window_display": true
  }
 },
 "nbformat": 4,
 "nbformat_minor": 2
}
