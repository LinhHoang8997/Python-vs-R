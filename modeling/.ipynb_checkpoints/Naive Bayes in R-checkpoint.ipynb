{
 "cells": [
  {
   "cell_type": "code",
   "execution_count": 2,
   "metadata": {
    "ExecuteTime": {
     "end_time": "2019-04-23T06:17:12.024371Z",
     "start_time": "2019-04-23T06:17:07.790Z"
    }
   },
   "outputs": [
    {
     "name": "stderr",
     "output_type": "stream",
     "text": [
      "Loading required package: tidyverse\n",
      "-- Attaching packages --------------------------------------- tidyverse 1.2.1 --\n",
      "v ggplot2 3.1.0       v purrr   0.2.5  \n",
      "v tibble  2.0.1       v dplyr   0.8.0.1\n",
      "v tidyr   0.8.1       v stringr 1.3.1  \n",
      "v readr   1.1.1       v forcats 0.3.0  \n",
      "Warning message:\n",
      "\"package 'ggplot2' was built under R version 3.5.2\"Warning message:\n",
      "\"package 'tibble' was built under R version 3.5.2\"Warning message:\n",
      "\"package 'dplyr' was built under R version 3.5.2\"-- Conflicts ------------------------------------------ tidyverse_conflicts() --\n",
      "x dplyr::filter() masks stats::filter()\n",
      "x dplyr::lag()    masks stats::lag()\n",
      "Loading required package: caret\n",
      "Loading required package: lattice\n",
      "\n",
      "Attaching package: 'caret'\n",
      "\n",
      "The following object is masked from 'package:purrr':\n",
      "\n",
      "    lift\n",
      "\n",
      "Loading required package: corrplot\n",
      "Warning message:\n",
      "\"package 'corrplot' was built under R version 3.5.2\"corrplot 0.84 loaded\n",
      "Loading required package: e1071\n",
      "Warning message:\n",
      "\"package 'e1071' was built under R version 3.5.2\""
     ]
    }
   ],
   "source": [
    "require(\"tidyverse\")\n",
    "require(\"caret\")\n",
    "require(\"corrplot\")\n",
    "require(\"e1071\")"
   ]
  },
  {
   "cell_type": "code",
   "execution_count": 1,
   "metadata": {
    "ExecuteTime": {
     "end_time": "2019-04-23T06:17:12.072243Z",
     "start_time": "2019-04-23T06:17:07.796Z"
    }
   },
   "outputs": [],
   "source": [
    "df <- read.csv('../datasets/diabetes.csv')"
   ]
  },
  {
   "cell_type": "code",
   "execution_count": 4,
   "metadata": {
    "ExecuteTime": {
     "end_time": "2019-04-23T06:17:12.124105Z",
     "start_time": "2019-04-23T06:17:07.809Z"
    }
   },
   "outputs": [
    {
     "data": {
      "text/html": [
       "<table>\n",
       "<thead><tr><th scope=col>Pregnancies</th><th scope=col>Glucose</th><th scope=col>BloodPressure</th><th scope=col>SkinThickness</th><th scope=col>Insulin</th><th scope=col>BMI</th><th scope=col>DiabetesPedigreeFunction</th><th scope=col>Age</th><th scope=col>Outcome</th></tr></thead>\n",
       "<tbody>\n",
       "\t<tr><td>6    </td><td>148  </td><td>72   </td><td>35   </td><td>0    </td><td>33.6 </td><td>0.627</td><td>50   </td><td>1    </td></tr>\n",
       "\t<tr><td>1    </td><td> 85  </td><td>66   </td><td>29   </td><td>0    </td><td>26.6 </td><td>0.351</td><td>31   </td><td>0    </td></tr>\n",
       "\t<tr><td>8    </td><td>183  </td><td>64   </td><td> 0   </td><td>0    </td><td>23.3 </td><td>0.672</td><td>32   </td><td>1    </td></tr>\n",
       "</tbody>\n",
       "</table>\n"
      ],
      "text/latex": [
       "\\begin{tabular}{r|lllllllll}\n",
       " Pregnancies & Glucose & BloodPressure & SkinThickness & Insulin & BMI & DiabetesPedigreeFunction & Age & Outcome\\\\\n",
       "\\hline\n",
       "\t 6     & 148   & 72    & 35    & 0     & 33.6  & 0.627 & 50    & 1    \\\\\n",
       "\t 1     &  85   & 66    & 29    & 0     & 26.6  & 0.351 & 31    & 0    \\\\\n",
       "\t 8     & 183   & 64    &  0    & 0     & 23.3  & 0.672 & 32    & 1    \\\\\n",
       "\\end{tabular}\n"
      ],
      "text/markdown": [
       "\n",
       "Pregnancies | Glucose | BloodPressure | SkinThickness | Insulin | BMI | DiabetesPedigreeFunction | Age | Outcome | \n",
       "|---|---|---|\n",
       "| 6     | 148   | 72    | 35    | 0     | 33.6  | 0.627 | 50    | 1     | \n",
       "| 1     |  85   | 66    | 29    | 0     | 26.6  | 0.351 | 31    | 0     | \n",
       "| 8     | 183   | 64    |  0    | 0     | 23.3  | 0.672 | 32    | 1     | \n",
       "\n",
       "\n"
      ],
      "text/plain": [
       "  Pregnancies Glucose BloodPressure SkinThickness Insulin BMI \n",
       "1 6           148     72            35            0       33.6\n",
       "2 1            85     66            29            0       26.6\n",
       "3 8           183     64             0            0       23.3\n",
       "  DiabetesPedigreeFunction Age Outcome\n",
       "1 0.627                    50  1      \n",
       "2 0.351                    31  0      \n",
       "3 0.672                    32  1      "
      ]
     },
     "metadata": {},
     "output_type": "display_data"
    }
   ],
   "source": [
    "head(df,3)"
   ]
  },
  {
   "cell_type": "code",
   "execution_count": 5,
   "metadata": {
    "ExecuteTime": {
     "end_time": "2019-04-23T06:17:12.182951Z",
     "start_time": "2019-04-23T06:17:07.818Z"
    }
   },
   "outputs": [],
   "source": [
    "set.seed(100)\n",
    "split_rule <- sample(nrow(df), 0.75*nrow(df), replace = FALSE)\n",
    "train <- df[split_rule,]\n",
    "test <- df[-split_rule,]"
   ]
  },
  {
   "cell_type": "code",
   "execution_count": 6,
   "metadata": {
    "ExecuteTime": {
     "end_time": "2019-04-23T06:17:12.250766Z",
     "start_time": "2019-04-23T06:17:07.824Z"
    }
   },
   "outputs": [],
   "source": [
    "# Alternatively, using the Caret package also works, but it includes extra steps\n",
    "trainIndex = createDataPartition(df$Outcome,\n",
    "                       p=0.7, list=FALSE,times=1)\n",
    "train_x = df[trainIndex,]\n",
    "test_x = df[-trainIndex,]"
   ]
  },
  {
   "cell_type": "code",
   "execution_count": 7,
   "metadata": {
    "ExecuteTime": {
     "end_time": "2019-04-23T06:17:12.306616Z",
     "start_time": "2019-04-23T06:17:07.831Z"
    }
   },
   "outputs": [
    {
     "data": {
      "text/plain": [
       "\n",
       "        0         1 \n",
       "0.6423611 0.3576389 "
      ]
     },
     "metadata": {},
     "output_type": "display_data"
    }
   ],
   "source": [
    "# Prop table to take probability.\n",
    "# Use this to make sure the train and test sets are the same in distribution\n",
    "prop.table(table(train$Outcome))"
   ]
  },
  {
   "cell_type": "code",
   "execution_count": 8,
   "metadata": {
    "ExecuteTime": {
     "end_time": "2019-04-23T06:17:12.519049Z",
     "start_time": "2019-04-23T06:17:07.836Z"
    }
   },
   "outputs": [
    {
     "data": {
      "image/png": "[encoded data removed]",
      "text/plain": [
       "Plot with title \"\""
      ]
     },
     "metadata": {},
     "output_type": "display_data"
    }
   ],
   "source": [
    "train %>%\n",
    "  filter(Outcome == 1) %>%\n",
    "  select(-Outcome) %>%\n",
    "  select_if(is.numeric) %>%\n",
    "  cor() %>%\n",
    "  corrplot::corrplot()"
   ]
  },
  {
   "cell_type": "code",
   "execution_count": 9,
   "metadata": {
    "ExecuteTime": {
     "end_time": "2019-04-23T06:17:12.605817Z",
     "start_time": "2019-04-23T06:17:07.842Z"
    }
   },
   "outputs": [
    {
     "data": {
      "text/plain": [
       "\n",
       "Naive Bayes Classifier for Discrete Predictors\n",
       "\n",
       "Call:\n",
       "naiveBayes.default(x = X, y = Y, laplace = laplace)\n",
       "\n",
       "A-priori probabilities:\n",
       "Y\n",
       "        0         1 \n",
       "0.6423611 0.3576389 \n",
       "\n",
       "Conditional probabilities:\n",
       "   Pregnancies\n",
       "Y       [,1]     [,2]\n",
       "  0 3.232432 3.012175\n",
       "  1 4.883495 3.856704\n",
       "\n",
       "   Glucose\n",
       "Y       [,1]     [,2]\n",
       "  0 108.8838 26.24721\n",
       "  1 142.4417 31.12577\n",
       "\n",
       "   BloodPressure\n",
       "Y       [,1]     [,2]\n",
       "  0 68.28919 17.75397\n",
       "  1 70.46117 23.02207\n",
       "\n",
       "   SkinThickness\n",
       "Y       [,1]     [,2]\n",
       "  0 19.41351 14.95447\n",
       "  1 22.15534 17.94124\n",
       "\n",
       "   Insulin\n",
       "Y        [,1]     [,2]\n",
       "  0  68.38378 100.9886\n",
       "  1 101.19903 144.1537\n",
       "\n",
       "   BMI\n",
       "Y       [,1]     [,2]\n",
       "  0 30.41703 7.775931\n",
       "  1 35.38398 7.189999\n",
       "\n",
       "   DiabetesPedigreeFunction\n",
       "Y        [,1]      [,2]\n",
       "  0 0.4073757 0.2796142\n",
       "  1 0.5429029 0.3694381\n",
       "\n",
       "   Age\n",
       "Y       [,1]     [,2]\n",
       "  0 31.14865 12.05192\n",
       "  1 36.60194 10.88731\n"
      ]
     },
     "metadata": {},
     "output_type": "display_data"
    }
   ],
   "source": [
    "# This will fail if you do not set Outcome as the correct type (factor, or categorical variable.\n",
    "test$Outcome <- as.factor(test$Outcome)\n",
    "# This package in R is Gaussian by design. Other implementations/methods are avaiable in other packages\n",
    "gauss_NB = naiveBayes(as.factor(Outcome) ~., data = train)\n",
    "#What does the model say? Print the model summary\n",
    "gauss_NB "
   ]
  },
  {
   "cell_type": "code",
   "execution_count": 10,
   "metadata": {
    "ExecuteTime": {
     "end_time": "2019-04-23T06:17:12.684606Z",
     "start_time": "2019-04-23T06:17:07.851Z"
    }
   },
   "outputs": [],
   "source": [
    "# Prediction on the dataset\n",
    "predicted_labels <- predict(gauss_NB,test)"
   ]
  },
  {
   "cell_type": "code",
   "execution_count": 11,
   "metadata": {
    "ExecuteTime": {
     "end_time": "2019-04-23T06:17:12.735470Z",
     "start_time": "2019-04-23T06:17:07.867Z"
    },
    "scrolled": true
   },
   "outputs": [
    {
     "data": {
      "text/html": [
       "<ol class=list-inline>\n",
       "\t<li>1</li>\n",
       "\t<li>0</li>\n",
       "\t<li>1</li>\n",
       "</ol>\n",
       "\n",
       "<details>\n",
       "\t<summary style=display:list-item;cursor:pointer>\n",
       "\t\t<strong>Levels</strong>:\n",
       "\t</summary>\n",
       "\t<ol class=list-inline>\n",
       "\t\t<li>'0'</li>\n",
       "\t\t<li>'1'</li>\n",
       "\t</ol>\n",
       "</details>"
      ],
      "text/latex": [
       "\\begin{enumerate*}\n",
       "\\item 1\n",
       "\\item 0\n",
       "\\item 1\n",
       "\\end{enumerate*}\n",
       "\n",
       "\\emph{Levels}: \\begin{enumerate*}\n",
       "\\item '0'\n",
       "\\item '1'\n",
       "\\end{enumerate*}\n"
      ],
      "text/markdown": [
       "1. 1\n",
       "2. 0\n",
       "3. 1\n",
       "\n",
       "\n",
       "\n",
       "**Levels**: 1. '0'\n",
       "2. '1'\n",
       "\n",
       "\n"
      ],
      "text/plain": [
       "[1] 1 0 1\n",
       "Levels: 0 1"
      ]
     },
     "metadata": {},
     "output_type": "display_data"
    }
   ],
   "source": [
    "# The kind of outputs we get from the model - Guass NB. \n",
    "# It will predict whether outcome is 0 or 1.\n",
    "\n",
    "head(predicted_labels,3)"
   ]
  },
  {
   "cell_type": "code",
   "execution_count": 12,
   "metadata": {
    "ExecuteTime": {
     "end_time": "2019-04-23T06:17:12.798306Z",
     "start_time": "2019-04-23T06:17:07.874Z"
    }
   },
   "outputs": [
    {
     "data": {
      "text/plain": [
       "Confusion Matrix and Statistics\n",
       "\n",
       "                \n",
       "predicted_labels   0   1\n",
       "               0 105  27\n",
       "               1  25  35\n",
       "                                          \n",
       "               Accuracy : 0.7292          \n",
       "                 95% CI : (0.6605, 0.7906)\n",
       "    No Information Rate : 0.6771          \n",
       "    P-Value [Acc > NIR] : 0.06969         \n",
       "                                          \n",
       "                  Kappa : 0.3754          \n",
       " Mcnemar's Test P-Value : 0.88971         \n",
       "                                          \n",
       "            Sensitivity : 0.8077          \n",
       "            Specificity : 0.5645          \n",
       "         Pos Pred Value : 0.7955          \n",
       "         Neg Pred Value : 0.5833          \n",
       "             Prevalence : 0.6771          \n",
       "         Detection Rate : 0.5469          \n",
       "   Detection Prevalence : 0.6875          \n",
       "      Balanced Accuracy : 0.6861          \n",
       "                                          \n",
       "       'Positive' Class : 0               \n",
       "                                          "
      ]
     },
     "metadata": {},
     "output_type": "display_data"
    }
   ],
   "source": [
    "# Confusion matrix to check accuracy\n",
    "xtab <- table(predicted_labels, test$Outcome)\n",
    "\n",
    "confusionMatrix(xtab)\n",
    "# table does record a lot of data; it's not just a n x n matrix"
   ]
  }
 ],
 "metadata": {
  "kernelspec": {
   "display_name": "R",
   "language": "R",
   "name": "ir"
  },
  "language_info": {
   "codemirror_mode": "r",
   "file_extension": ".r",
   "mimetype": "text/x-r-source",
   "name": "R",
   "pygments_lexer": "r",
   "version": "3.5.1"
  },
  "toc": {
   "base_numbering": 1,
   "nav_menu": {},
   "number_sections": true,
   "sideBar": true,
   "skip_h1_title": false,
   "title_cell": "Table of Contents",
   "title_sidebar": "Contents",
   "toc_cell": false,
   "toc_position": {},
   "toc_section_display": true,
   "toc_window_display": true
  }
 },
 "nbformat": 4,
 "nbformat_minor": 2
}
