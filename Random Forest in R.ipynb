{
 "cells": [
  {
   "cell_type": "markdown",
   "metadata": {},
   "source": [
    "_I will use these two resources_:\n",
    "- https://stats.stackexchange.com/questions/41443/how-to-actually-plot-a-sample-tree-from-randomforestgettree\n",
    "- https://stats.stackexchange.com/questions/41443/how-to-actually-plot-a-sample-tree-from-randomforestgettree\n"
   ]
  },
  {
   "cell_type": "code",
   "execution_count": 2,
   "metadata": {},
   "outputs": [],
   "source": [
    "library(party)\n",
    "library(randomForest)\n",
    "library(readr)\n",
    "library(dplyr)\n",
    "library(tictoc)"
   ]
  },
  {
   "cell_type": "code",
   "execution_count": 3,
   "metadata": {
    "scrolled": true
   },
   "outputs": [
    {
     "name": "stderr",
     "output_type": "stream",
     "text": [
      "Parsed with column specification:\n",
      "cols(\n",
      "  `Loan ID` = col_character(),\n",
      "  `Customer ID` = col_character(),\n",
      "  `Loan Status` = col_character(),\n",
      "  `Current Loan Amount` = col_integer(),\n",
      "  Term = col_character(),\n",
      "  `Credit Score` = col_integer(),\n",
      "  `Annual Income` = col_integer(),\n",
      "  `Years in current job` = col_character(),\n",
      "  `Home Ownership` = col_character(),\n",
      "  Purpose = col_character(),\n",
      "  `Monthly Debt` = col_double(),\n",
      "  `Years of Credit History` = col_double(),\n",
      "  `Months since last delinquent` = col_integer(),\n",
      "  `Number of Open Accounts` = col_integer(),\n",
      "  `Number of Credit Problems` = col_integer(),\n",
      "  `Current Credit Balance` = col_integer(),\n",
      "  `Maximum Open Credit` = col_integer(),\n",
      "  Bankruptcies = col_integer(),\n",
      "  `Tax Liens` = col_integer()\n",
      ")\n"
     ]
    }
   ],
   "source": [
    "df <- as.data.frame(read_csv('credit_train.csv'))"
   ]
  },
  {
   "cell_type": "code",
   "execution_count": 4,
   "metadata": {},
   "outputs": [
    {
     "data": {
      "text/html": [
       "<dl class=dl-horizontal>\n",
       "\t<dt>Loan ID</dt>\n",
       "\t\t<dd>'character'</dd>\n",
       "\t<dt>Customer ID</dt>\n",
       "\t\t<dd>'character'</dd>\n",
       "\t<dt>Loan Status</dt>\n",
       "\t\t<dd>'character'</dd>\n",
       "\t<dt>Current Loan Amount</dt>\n",
       "\t\t<dd>'integer'</dd>\n",
       "\t<dt>Term</dt>\n",
       "\t\t<dd>'character'</dd>\n",
       "\t<dt>Credit Score</dt>\n",
       "\t\t<dd>'integer'</dd>\n",
       "\t<dt>Annual Income</dt>\n",
       "\t\t<dd>'integer'</dd>\n",
       "\t<dt>Years in current job</dt>\n",
       "\t\t<dd>'character'</dd>\n",
       "\t<dt>Home Ownership</dt>\n",
       "\t\t<dd>'character'</dd>\n",
       "\t<dt>Purpose</dt>\n",
       "\t\t<dd>'character'</dd>\n",
       "\t<dt>Monthly Debt</dt>\n",
       "\t\t<dd>'numeric'</dd>\n",
       "\t<dt>Years of Credit History</dt>\n",
       "\t\t<dd>'numeric'</dd>\n",
       "\t<dt>Months since last delinquent</dt>\n",
       "\t\t<dd>'integer'</dd>\n",
       "\t<dt>Number of Open Accounts</dt>\n",
       "\t\t<dd>'integer'</dd>\n",
       "\t<dt>Number of Credit Problems</dt>\n",
       "\t\t<dd>'integer'</dd>\n",
       "\t<dt>Current Credit Balance</dt>\n",
       "\t\t<dd>'integer'</dd>\n",
       "\t<dt>Maximum Open Credit</dt>\n",
       "\t\t<dd>'integer'</dd>\n",
       "\t<dt>Bankruptcies</dt>\n",
       "\t\t<dd>'integer'</dd>\n",
       "\t<dt>Tax Liens</dt>\n",
       "\t\t<dd>'integer'</dd>\n",
       "</dl>\n"
      ],
      "text/latex": [
       "\\begin{description*}\n",
       "\\item[Loan ID] 'character'\n",
       "\\item[Customer ID] 'character'\n",
       "\\item[Loan Status] 'character'\n",
       "\\item[Current Loan Amount] 'integer'\n",
       "\\item[Term] 'character'\n",
       "\\item[Credit Score] 'integer'\n",
       "\\item[Annual Income] 'integer'\n",
       "\\item[Years in current job] 'character'\n",
       "\\item[Home Ownership] 'character'\n",
       "\\item[Purpose] 'character'\n",
       "\\item[Monthly Debt] 'numeric'\n",
       "\\item[Years of Credit History] 'numeric'\n",
       "\\item[Months since last delinquent] 'integer'\n",
       "\\item[Number of Open Accounts] 'integer'\n",
       "\\item[Number of Credit Problems] 'integer'\n",
       "\\item[Current Credit Balance] 'integer'\n",
       "\\item[Maximum Open Credit] 'integer'\n",
       "\\item[Bankruptcies] 'integer'\n",
       "\\item[Tax Liens] 'integer'\n",
       "\\end{description*}\n"
      ],
      "text/markdown": [
       "Loan ID\n",
       ":   'character'Customer ID\n",
       ":   'character'Loan Status\n",
       ":   'character'Current Loan Amount\n",
       ":   'integer'Term\n",
       ":   'character'Credit Score\n",
       ":   'integer'Annual Income\n",
       ":   'integer'Years in current job\n",
       ":   'character'Home Ownership\n",
       ":   'character'Purpose\n",
       ":   'character'Monthly Debt\n",
       ":   'numeric'Years of Credit History\n",
       ":   'numeric'Months since last delinquent\n",
       ":   'integer'Number of Open Accounts\n",
       ":   'integer'Number of Credit Problems\n",
       ":   'integer'Current Credit Balance\n",
       ":   'integer'Maximum Open Credit\n",
       ":   'integer'Bankruptcies\n",
       ":   'integer'Tax Liens\n",
       ":   'integer'\n",
       "\n"
      ],
      "text/plain": [
       "                     Loan ID                  Customer ID \n",
       "                 \"character\"                  \"character\" \n",
       "                 Loan Status          Current Loan Amount \n",
       "                 \"character\"                    \"integer\" \n",
       "                        Term                 Credit Score \n",
       "                 \"character\"                    \"integer\" \n",
       "               Annual Income         Years in current job \n",
       "                   \"integer\"                  \"character\" \n",
       "              Home Ownership                      Purpose \n",
       "                 \"character\"                  \"character\" \n",
       "                Monthly Debt      Years of Credit History \n",
       "                   \"numeric\"                    \"numeric\" \n",
       "Months since last delinquent      Number of Open Accounts \n",
       "                   \"integer\"                    \"integer\" \n",
       "   Number of Credit Problems       Current Credit Balance \n",
       "                   \"integer\"                    \"integer\" \n",
       "         Maximum Open Credit                 Bankruptcies \n",
       "                   \"integer\"                    \"integer\" \n",
       "                   Tax Liens \n",
       "                   \"integer\" "
      ]
     },
     "metadata": {},
     "output_type": "display_data"
    }
   ],
   "source": [
    "sapply(df,class)\n",
    "# There are a ton of NAs"
   ]
  },
  {
   "cell_type": "code",
   "execution_count": 5,
   "metadata": {},
   "outputs": [],
   "source": [
    "df <- na.omit(df)"
   ]
  },
  {
   "cell_type": "code",
   "execution_count": 6,
   "metadata": {},
   "outputs": [
    {
     "data": {
      "text/html": [
       "<table>\n",
       "<thead><tr><th></th><th scope=col>Loan ID</th><th scope=col>Customer ID</th><th scope=col>Loan Status</th><th scope=col>Current Loan Amount</th><th scope=col>Term</th><th scope=col>Credit Score</th><th scope=col>Annual Income</th><th scope=col>Years in current job</th><th scope=col>Home Ownership</th><th scope=col>Purpose</th><th scope=col>Monthly Debt</th><th scope=col>Years of Credit History</th><th scope=col>Months since last delinquent</th><th scope=col>Number of Open Accounts</th><th scope=col>Number of Credit Problems</th><th scope=col>Current Credit Balance</th><th scope=col>Maximum Open Credit</th><th scope=col>Bankruptcies</th><th scope=col>Tax Liens</th></tr></thead>\n",
       "<tbody>\n",
       "\t<tr><th scope=row>3</th><td>4eed4e6a-aa2f-4c91-8651-ce984ee8fb26</td><td>5efb2b2b-bf11-4dfd-a572-3761a2694725</td><td>Fully Paid                          </td><td>99999999                            </td><td>Short Term                          </td><td>741                                 </td><td>2231892                             </td><td>8 years                             </td><td>Own Home                            </td><td>Debt Consolidation                  </td><td>29200.53                            </td><td>14.9                                </td><td>29                                  </td><td>18                                  </td><td>1                                   </td><td>297996                              </td><td>750090                              </td><td>0                                   </td><td>0                                   </td></tr>\n",
       "\t<tr><th scope=row>7</th><td>273581de-85d8-4332-81a5-19b04ce68666            </td><td>90a75dde-34d5-419c-90dc-1e58b04b3e35            </td><td>Fully Paid                                      </td><td><span style=white-space:pre-wrap>  217646</span></td><td>Short Term                                      </td><td>730                                             </td><td>1184194                                         </td><td>&lt; 1 year                                     </td><td>Home Mortgage                                   </td><td>Debt Consolidation                              </td><td>10855.08                                        </td><td>19.6                                            </td><td>10                                              </td><td>13                                              </td><td>1                                               </td><td>122170                                          </td><td>272052                                          </td><td>1                                               </td><td>0                                               </td></tr>\n",
       "</tbody>\n",
       "</table>\n"
      ],
      "text/latex": [
       "\\begin{tabular}{r|lllllllllllllllllll}\n",
       "  & Loan ID & Customer ID & Loan Status & Current Loan Amount & Term & Credit Score & Annual Income & Years in current job & Home Ownership & Purpose & Monthly Debt & Years of Credit History & Months since last delinquent & Number of Open Accounts & Number of Credit Problems & Current Credit Balance & Maximum Open Credit & Bankruptcies & Tax Liens\\\\\n",
       "\\hline\n",
       "\t3 & 4eed4e6a-aa2f-4c91-8651-ce984ee8fb26 & 5efb2b2b-bf11-4dfd-a572-3761a2694725 & Fully Paid                           & 99999999                             & Short Term                           & 741                                  & 2231892                              & 8 years                              & Own Home                             & Debt Consolidation                   & 29200.53                             & 14.9                                 & 29                                   & 18                                   & 1                                    & 297996                               & 750090                               & 0                                    & 0                                   \\\\\n",
       "\t7 & 273581de-85d8-4332-81a5-19b04ce68666 & 90a75dde-34d5-419c-90dc-1e58b04b3e35 & Fully Paid                           &   217646                             & Short Term                           & 730                                  & 1184194                              & < 1 year                             & Home Mortgage                        & Debt Consolidation                   & 10855.08                             & 19.6                                 & 10                                   & 13                                   & 1                                    & 122170                               & 272052                               & 1                                    & 0                                   \\\\\n",
       "\\end{tabular}\n"
      ],
      "text/markdown": [
       "\n",
       "| <!--/--> | Loan ID | Customer ID | Loan Status | Current Loan Amount | Term | Credit Score | Annual Income | Years in current job | Home Ownership | Purpose | Monthly Debt | Years of Credit History | Months since last delinquent | Number of Open Accounts | Number of Credit Problems | Current Credit Balance | Maximum Open Credit | Bankruptcies | Tax Liens | \n",
       "|---|---|\n",
       "| 3 | 4eed4e6a-aa2f-4c91-8651-ce984ee8fb26 | 5efb2b2b-bf11-4dfd-a572-3761a2694725 | Fully Paid                           | 99999999                             | Short Term                           | 741                                  | 2231892                              | 8 years                              | Own Home                             | Debt Consolidation                   | 29200.53                             | 14.9                                 | 29                                   | 18                                   | 1                                    | 297996                               | 750090                               | 0                                    | 0                                    | \n",
       "| 7 | 273581de-85d8-4332-81a5-19b04ce68666 | 90a75dde-34d5-419c-90dc-1e58b04b3e35 | Fully Paid                           |   217646                             | Short Term                           | 730                                  | 1184194                              | < 1 year                             | Home Mortgage                        | Debt Consolidation                   | 10855.08                             | 19.6                                 | 10                                   | 13                                   | 1                                    | 122170                               | 272052                               | 1                                    | 0                                    | \n",
       "\n",
       "\n"
      ],
      "text/plain": [
       "  Loan ID                              Customer ID                         \n",
       "3 4eed4e6a-aa2f-4c91-8651-ce984ee8fb26 5efb2b2b-bf11-4dfd-a572-3761a2694725\n",
       "7 273581de-85d8-4332-81a5-19b04ce68666 90a75dde-34d5-419c-90dc-1e58b04b3e35\n",
       "  Loan Status Current Loan Amount Term       Credit Score Annual Income\n",
       "3 Fully Paid  99999999            Short Term 741          2231892      \n",
       "7 Fully Paid    217646            Short Term 730          1184194      \n",
       "  Years in current job Home Ownership Purpose            Monthly Debt\n",
       "3 8 years              Own Home       Debt Consolidation 29200.53    \n",
       "7 < 1 year             Home Mortgage  Debt Consolidation 10855.08    \n",
       "  Years of Credit History Months since last delinquent Number of Open Accounts\n",
       "3 14.9                    29                           18                     \n",
       "7 19.6                    10                           13                     \n",
       "  Number of Credit Problems Current Credit Balance Maximum Open Credit\n",
       "3 1                         297996                 750090             \n",
       "7 1                         122170                 272052             \n",
       "  Bankruptcies Tax Liens\n",
       "3 0            0        \n",
       "7 1            0        "
      ]
     },
     "metadata": {},
     "output_type": "display_data"
    }
   ],
   "source": [
    "head(df,2)"
   ]
  },
  {
   "cell_type": "code",
   "execution_count": 7,
   "metadata": {},
   "outputs": [],
   "source": [
    "df <- select(df,-`Loan ID`,-`Customer ID`) "
   ]
  },
  {
   "cell_type": "code",
   "execution_count": 8,
   "metadata": {},
   "outputs": [
    {
     "name": "stderr",
     "output_type": "stream",
     "text": [
      "Loading required package: lattice\n",
      "Loading required package: ggplot2\n",
      "\n",
      "Attaching package: 'ggplot2'\n",
      "\n",
      "The following object is masked from 'package:randomForest':\n",
      "\n",
      "    margin\n",
      "\n"
     ]
    }
   ],
   "source": [
    "library(caret)\n",
    "dummy <- dummyVars(\"~ .\", data = df,fullRank = TRUE, sep=\".\")\n",
    "# Don't know "
   ]
  },
  {
   "cell_type": "code",
   "execution_count": 9,
   "metadata": {},
   "outputs": [],
   "source": [
    "features <- as.data.frame(predict(dummy, df))"
   ]
  },
  {
   "cell_type": "code",
   "execution_count": 10,
   "metadata": {},
   "outputs": [
    {
     "data": {
      "text/html": [
       "<table>\n",
       "<thead><tr><th></th><th scope=col>`Loan Status`Fully Paid</th><th scope=col>`Current Loan Amount`</th><th scope=col>TermShort Term</th><th scope=col>`Credit Score`</th><th scope=col>`Annual Income`</th><th scope=col>`Years in current job`1 year</th><th scope=col>`Years in current job`10+ years</th><th scope=col>`Years in current job`2 years</th><th scope=col>`Years in current job`3 years</th><th scope=col>`Years in current job`4 years</th><th scope=col>...</th><th scope=col>Purposewedding</th><th scope=col>`Monthly Debt`</th><th scope=col>`Years of Credit History`</th><th scope=col>`Months since last delinquent`</th><th scope=col>`Number of Open Accounts`</th><th scope=col>`Number of Credit Problems`</th><th scope=col>`Current Credit Balance`</th><th scope=col>`Maximum Open Credit`</th><th scope=col>Bankruptcies</th><th scope=col>`Tax Liens`</th></tr></thead>\n",
       "<tbody>\n",
       "\t<tr><th scope=row>3</th><td>1       </td><td>99999999</td><td>1       </td><td>741     </td><td>2231892 </td><td>0       </td><td>0       </td><td>0       </td><td>0       </td><td>0       </td><td>...     </td><td>0       </td><td>29200.53</td><td>14.9    </td><td>29      </td><td>18      </td><td>1       </td><td>297996  </td><td>750090  </td><td>0       </td><td>0       </td></tr>\n",
       "\t<tr><th scope=row>7</th><td>1       </td><td>  217646</td><td>1       </td><td>730     </td><td>1184194 </td><td>0       </td><td>0       </td><td>0       </td><td>0       </td><td>0       </td><td>...     </td><td>0       </td><td>10855.08</td><td>19.6    </td><td>10      </td><td>13      </td><td>1       </td><td>122170  </td><td>272052  </td><td>1       </td><td>0       </td></tr>\n",
       "\t<tr><th scope=row>9</th><td>1       </td><td>  548746</td><td>1       </td><td>678     </td><td>2559110 </td><td>0       </td><td>0       </td><td>1       </td><td>0       </td><td>0       </td><td>...     </td><td>0       </td><td>18660.28</td><td>22.6    </td><td>33      </td><td> 4      </td><td>0       </td><td>437171  </td><td>555038  </td><td>0       </td><td>0       </td></tr>\n",
       "</tbody>\n",
       "</table>\n"
      ],
      "text/latex": [
       "\\begin{tabular}{r|lllllllllllllllllllllllllllllllllllllllllll}\n",
       "  & `Loan Status`Fully Paid & `Current Loan Amount` & TermShort Term & `Credit Score` & `Annual Income` & `Years in current job`1 year & `Years in current job`10+ years & `Years in current job`2 years & `Years in current job`3 years & `Years in current job`4 years & ... & Purposewedding & `Monthly Debt` & `Years of Credit History` & `Months since last delinquent` & `Number of Open Accounts` & `Number of Credit Problems` & `Current Credit Balance` & `Maximum Open Credit` & Bankruptcies & `Tax Liens`\\\\\n",
       "\\hline\n",
       "\t3 & 1        & 99999999 & 1        & 741      & 2231892  & 0        & 0        & 0        & 0        & 0        & ...      & 0        & 29200.53 & 14.9     & 29       & 18       & 1        & 297996   & 750090   & 0        & 0       \\\\\n",
       "\t7 & 1        &   217646 & 1        & 730      & 1184194  & 0        & 0        & 0        & 0        & 0        & ...      & 0        & 10855.08 & 19.6     & 10       & 13       & 1        & 122170   & 272052   & 1        & 0       \\\\\n",
       "\t9 & 1        &   548746 & 1        & 678      & 2559110  & 0        & 0        & 1        & 0        & 0        & ...      & 0        & 18660.28 & 22.6     & 33       &  4       & 0        & 437171   & 555038   & 0        & 0       \\\\\n",
       "\\end{tabular}\n"
      ],
      "text/markdown": [
       "\n",
       "| <!--/--> | `Loan Status`Fully Paid | `Current Loan Amount` | TermShort Term | `Credit Score` | `Annual Income` | `Years in current job`1 year | `Years in current job`10+ years | `Years in current job`2 years | `Years in current job`3 years | `Years in current job`4 years | ... | Purposewedding | `Monthly Debt` | `Years of Credit History` | `Months since last delinquent` | `Number of Open Accounts` | `Number of Credit Problems` | `Current Credit Balance` | `Maximum Open Credit` | Bankruptcies | `Tax Liens` | \n",
       "|---|---|---|\n",
       "| 3 | 1        | 99999999 | 1        | 741      | 2231892  | 0        | 0        | 0        | 0        | 0        | ...      | 0        | 29200.53 | 14.9     | 29       | 18       | 1        | 297996   | 750090   | 0        | 0        | \n",
       "| 7 | 1        |   217646 | 1        | 730      | 1184194  | 0        | 0        | 0        | 0        | 0        | ...      | 0        | 10855.08 | 19.6     | 10       | 13       | 1        | 122170   | 272052   | 1        | 0        | \n",
       "| 9 | 1        |   548746 | 1        | 678      | 2559110  | 0        | 0        | 1        | 0        | 0        | ...      | 0        | 18660.28 | 22.6     | 33       |  4       | 0        | 437171   | 555038   | 0        | 0        | \n",
       "\n",
       "\n"
      ],
      "text/plain": [
       "  `Loan Status`Fully Paid `Current Loan Amount` TermShort Term `Credit Score`\n",
       "3 1                       99999999              1              741           \n",
       "7 1                         217646              1              730           \n",
       "9 1                         548746              1              678           \n",
       "  `Annual Income` `Years in current job`1 year `Years in current job`10+ years\n",
       "3 2231892         0                            0                              \n",
       "7 1184194         0                            0                              \n",
       "9 2559110         0                            0                              \n",
       "  `Years in current job`2 years `Years in current job`3 years\n",
       "3 0                             0                            \n",
       "7 0                             0                            \n",
       "9 1                             0                            \n",
       "  `Years in current job`4 years ... Purposewedding `Monthly Debt`\n",
       "3 0                             ... 0              29200.53      \n",
       "7 0                             ... 0              10855.08      \n",
       "9 0                             ... 0              18660.28      \n",
       "  `Years of Credit History` `Months since last delinquent`\n",
       "3 14.9                      29                            \n",
       "7 19.6                      10                            \n",
       "9 22.6                      33                            \n",
       "  `Number of Open Accounts` `Number of Credit Problems`\n",
       "3 18                        1                          \n",
       "7 13                        1                          \n",
       "9  4                        0                          \n",
       "  `Current Credit Balance` `Maximum Open Credit` Bankruptcies `Tax Liens`\n",
       "3 297996                   750090                0            0          \n",
       "7 122170                   272052                1            0          \n",
       "9 437171                   555038                0            0          "
      ]
     },
     "metadata": {},
     "output_type": "display_data"
    }
   ],
   "source": [
    "head(features,3)"
   ]
  },
  {
   "cell_type": "code",
   "execution_count": 11,
   "metadata": {},
   "outputs": [
    {
     "data": {
      "text/html": [
       "<table>\n",
       "<thead><tr><th></th><th scope=col>Loan.StatusFully.Paid</th><th scope=col>Current.Loan.Amount</th><th scope=col>TermShort.Term</th><th scope=col>Credit.Score</th><th scope=col>Annual.Income</th><th scope=col>Years.in.current.job1.year</th><th scope=col>Years.in.current.job10plus.years</th><th scope=col>Years.in.current.job2.years</th><th scope=col>Years.in.current.job3.years</th><th scope=col>Years.in.current.job4.years</th><th scope=col>...</th><th scope=col>Purposewedding</th><th scope=col>Monthly.Debt</th><th scope=col>Years.of.Credit.History</th><th scope=col>Months.since.last.delinquent</th><th scope=col>Number.of.Open.Accounts</th><th scope=col>Number.of.Credit.Problems</th><th scope=col>Current.Credit.Balance</th><th scope=col>Maximum.Open.Credit</th><th scope=col>Bankruptcies</th><th scope=col>Tax.Liens</th></tr></thead>\n",
       "<tbody>\n",
       "\t<tr><th scope=row>3</th><td>1       </td><td>1e+08   </td><td>1       </td><td>741     </td><td>2231892 </td><td>0       </td><td>0       </td><td>0       </td><td>0       </td><td>0       </td><td>...     </td><td>0       </td><td>29200.53</td><td>14.9    </td><td>29      </td><td>18      </td><td>1       </td><td>297996  </td><td>750090  </td><td>0       </td><td>0       </td></tr>\n",
       "</tbody>\n",
       "</table>\n"
      ],
      "text/latex": [
       "\\begin{tabular}{r|lllllllllllllllllllllllllllllllllllllllllll}\n",
       "  & Loan.StatusFully.Paid & Current.Loan.Amount & TermShort.Term & Credit.Score & Annual.Income & Years.in.current.job1.year & Years.in.current.job10plus.years & Years.in.current.job2.years & Years.in.current.job3.years & Years.in.current.job4.years & ... & Purposewedding & Monthly.Debt & Years.of.Credit.History & Months.since.last.delinquent & Number.of.Open.Accounts & Number.of.Credit.Problems & Current.Credit.Balance & Maximum.Open.Credit & Bankruptcies & Tax.Liens\\\\\n",
       "\\hline\n",
       "\t3 & 1        & 1e+08    & 1        & 741      & 2231892  & 0        & 0        & 0        & 0        & 0        & ...      & 0        & 29200.53 & 14.9     & 29       & 18       & 1        & 297996   & 750090   & 0        & 0       \\\\\n",
       "\\end{tabular}\n"
      ],
      "text/markdown": [
       "\n",
       "| <!--/--> | Loan.StatusFully.Paid | Current.Loan.Amount | TermShort.Term | Credit.Score | Annual.Income | Years.in.current.job1.year | Years.in.current.job10plus.years | Years.in.current.job2.years | Years.in.current.job3.years | Years.in.current.job4.years | ... | Purposewedding | Monthly.Debt | Years.of.Credit.History | Months.since.last.delinquent | Number.of.Open.Accounts | Number.of.Credit.Problems | Current.Credit.Balance | Maximum.Open.Credit | Bankruptcies | Tax.Liens | \n",
       "|---|\n",
       "| 3 | 1        | 1e+08    | 1        | 741      | 2231892  | 0        | 0        | 0        | 0        | 0        | ...      | 0        | 29200.53 | 14.9     | 29       | 18       | 1        | 297996   | 750090   | 0        | 0        | \n",
       "\n",
       "\n"
      ],
      "text/plain": [
       "  Loan.StatusFully.Paid Current.Loan.Amount TermShort.Term Credit.Score\n",
       "3 1                     1e+08               1              741         \n",
       "  Annual.Income Years.in.current.job1.year Years.in.current.job10plus.years\n",
       "3 2231892       0                          0                               \n",
       "  Years.in.current.job2.years Years.in.current.job3.years\n",
       "3 0                           0                          \n",
       "  Years.in.current.job4.years ... Purposewedding Monthly.Debt\n",
       "3 0                           ... 0              29200.53    \n",
       "  Years.of.Credit.History Months.since.last.delinquent Number.of.Open.Accounts\n",
       "3 14.9                    29                           18                     \n",
       "  Number.of.Credit.Problems Current.Credit.Balance Maximum.Open.Credit\n",
       "3 1                         297996                 750090             \n",
       "  Bankruptcies Tax.Liens\n",
       "3 0            0        "
      ]
     },
     "metadata": {},
     "output_type": "display_data"
    }
   ],
   "source": [
    "colnames(features) <- gsub(\"`\", \"\", colnames(features))\n",
    "colnames(features) <- gsub(\" \", \".\", colnames(features))\n",
    "colnames(features) <- gsub(\"\\\\+\", \"plus\", colnames(features))\n",
    "colnames(features) <- gsub(\"\\\\/\", \"\", colnames(features))\n",
    "# In R, use \\\\ to grab special character\n",
    "head(features,1)"
   ]
  },
  {
   "cell_type": "code",
   "execution_count": 12,
   "metadata": {},
   "outputs": [
    {
     "data": {
      "text/html": [
       "<ol class=list-inline>\n",
       "\t<li>'Loan.StatusFully.Paid'</li>\n",
       "\t<li>'Current.Loan.Amount'</li>\n",
       "\t<li>'TermShort.Term'</li>\n",
       "\t<li>'Credit.Score'</li>\n",
       "\t<li>'Annual.Income'</li>\n",
       "\t<li>'Years.in.current.job1.year'</li>\n",
       "\t<li>'Years.in.current.job10plus.years'</li>\n",
       "\t<li>'Years.in.current.job2.years'</li>\n",
       "\t<li>'Years.in.current.job3.years'</li>\n",
       "\t<li>'Years.in.current.job4.years'</li>\n",
       "\t<li>'Years.in.current.job5.years'</li>\n",
       "\t<li>'Years.in.current.job6.years'</li>\n",
       "\t<li>'Years.in.current.job7.years'</li>\n",
       "\t<li>'Years.in.current.job8.years'</li>\n",
       "\t<li>'Years.in.current.job9.years'</li>\n",
       "\t<li>'Years.in.current.jobna'</li>\n",
       "\t<li>'Home.OwnershipHome.Mortgage'</li>\n",
       "\t<li>'Home.OwnershipOwn.Home'</li>\n",
       "\t<li>'Home.OwnershipRent'</li>\n",
       "\t<li>'PurposeBuy.a.Car'</li>\n",
       "\t<li>'PurposeBuy.House'</li>\n",
       "\t<li>'PurposeDebt.Consolidation'</li>\n",
       "\t<li>'PurposeEducational.Expenses'</li>\n",
       "\t<li>'PurposeHome.Improvements'</li>\n",
       "\t<li>'Purposemajor_purchase'</li>\n",
       "\t<li>'PurposeMedical.Bills'</li>\n",
       "\t<li>'Purposemoving'</li>\n",
       "\t<li>'Purposeother'</li>\n",
       "\t<li>'PurposeOther'</li>\n",
       "\t<li>'Purposerenewable_energy'</li>\n",
       "\t<li>'Purposesmall_business'</li>\n",
       "\t<li>'PurposeTake.a.Trip'</li>\n",
       "\t<li>'Purposevacation'</li>\n",
       "\t<li>'Purposewedding'</li>\n",
       "\t<li>'Monthly.Debt'</li>\n",
       "\t<li>'Years.of.Credit.History'</li>\n",
       "\t<li>'Months.since.last.delinquent'</li>\n",
       "\t<li>'Number.of.Open.Accounts'</li>\n",
       "\t<li>'Number.of.Credit.Problems'</li>\n",
       "\t<li>'Current.Credit.Balance'</li>\n",
       "\t<li>'Maximum.Open.Credit'</li>\n",
       "\t<li>'Bankruptcies'</li>\n",
       "\t<li>'Tax.Liens'</li>\n",
       "</ol>\n"
      ],
      "text/latex": [
       "\\begin{enumerate*}\n",
       "\\item 'Loan.StatusFully.Paid'\n",
       "\\item 'Current.Loan.Amount'\n",
       "\\item 'TermShort.Term'\n",
       "\\item 'Credit.Score'\n",
       "\\item 'Annual.Income'\n",
       "\\item 'Years.in.current.job1.year'\n",
       "\\item 'Years.in.current.job10plus.years'\n",
       "\\item 'Years.in.current.job2.years'\n",
       "\\item 'Years.in.current.job3.years'\n",
       "\\item 'Years.in.current.job4.years'\n",
       "\\item 'Years.in.current.job5.years'\n",
       "\\item 'Years.in.current.job6.years'\n",
       "\\item 'Years.in.current.job7.years'\n",
       "\\item 'Years.in.current.job8.years'\n",
       "\\item 'Years.in.current.job9.years'\n",
       "\\item 'Years.in.current.jobna'\n",
       "\\item 'Home.OwnershipHome.Mortgage'\n",
       "\\item 'Home.OwnershipOwn.Home'\n",
       "\\item 'Home.OwnershipRent'\n",
       "\\item 'PurposeBuy.a.Car'\n",
       "\\item 'PurposeBuy.House'\n",
       "\\item 'PurposeDebt.Consolidation'\n",
       "\\item 'PurposeEducational.Expenses'\n",
       "\\item 'PurposeHome.Improvements'\n",
       "\\item 'Purposemajor\\_purchase'\n",
       "\\item 'PurposeMedical.Bills'\n",
       "\\item 'Purposemoving'\n",
       "\\item 'Purposeother'\n",
       "\\item 'PurposeOther'\n",
       "\\item 'Purposerenewable\\_energy'\n",
       "\\item 'Purposesmall\\_business'\n",
       "\\item 'PurposeTake.a.Trip'\n",
       "\\item 'Purposevacation'\n",
       "\\item 'Purposewedding'\n",
       "\\item 'Monthly.Debt'\n",
       "\\item 'Years.of.Credit.History'\n",
       "\\item 'Months.since.last.delinquent'\n",
       "\\item 'Number.of.Open.Accounts'\n",
       "\\item 'Number.of.Credit.Problems'\n",
       "\\item 'Current.Credit.Balance'\n",
       "\\item 'Maximum.Open.Credit'\n",
       "\\item 'Bankruptcies'\n",
       "\\item 'Tax.Liens'\n",
       "\\end{enumerate*}\n"
      ],
      "text/markdown": [
       "1. 'Loan.StatusFully.Paid'\n",
       "2. 'Current.Loan.Amount'\n",
       "3. 'TermShort.Term'\n",
       "4. 'Credit.Score'\n",
       "5. 'Annual.Income'\n",
       "6. 'Years.in.current.job1.year'\n",
       "7. 'Years.in.current.job10plus.years'\n",
       "8. 'Years.in.current.job2.years'\n",
       "9. 'Years.in.current.job3.years'\n",
       "10. 'Years.in.current.job4.years'\n",
       "11. 'Years.in.current.job5.years'\n",
       "12. 'Years.in.current.job6.years'\n",
       "13. 'Years.in.current.job7.years'\n",
       "14. 'Years.in.current.job8.years'\n",
       "15. 'Years.in.current.job9.years'\n",
       "16. 'Years.in.current.jobna'\n",
       "17. 'Home.OwnershipHome.Mortgage'\n",
       "18. 'Home.OwnershipOwn.Home'\n",
       "19. 'Home.OwnershipRent'\n",
       "20. 'PurposeBuy.a.Car'\n",
       "21. 'PurposeBuy.House'\n",
       "22. 'PurposeDebt.Consolidation'\n",
       "23. 'PurposeEducational.Expenses'\n",
       "24. 'PurposeHome.Improvements'\n",
       "25. 'Purposemajor_purchase'\n",
       "26. 'PurposeMedical.Bills'\n",
       "27. 'Purposemoving'\n",
       "28. 'Purposeother'\n",
       "29. 'PurposeOther'\n",
       "30. 'Purposerenewable_energy'\n",
       "31. 'Purposesmall_business'\n",
       "32. 'PurposeTake.a.Trip'\n",
       "33. 'Purposevacation'\n",
       "34. 'Purposewedding'\n",
       "35. 'Monthly.Debt'\n",
       "36. 'Years.of.Credit.History'\n",
       "37. 'Months.since.last.delinquent'\n",
       "38. 'Number.of.Open.Accounts'\n",
       "39. 'Number.of.Credit.Problems'\n",
       "40. 'Current.Credit.Balance'\n",
       "41. 'Maximum.Open.Credit'\n",
       "42. 'Bankruptcies'\n",
       "43. 'Tax.Liens'\n",
       "\n",
       "\n"
      ],
      "text/plain": [
       " [1] \"Loan.StatusFully.Paid\"            \"Current.Loan.Amount\"             \n",
       " [3] \"TermShort.Term\"                   \"Credit.Score\"                    \n",
       " [5] \"Annual.Income\"                    \"Years.in.current.job1.year\"      \n",
       " [7] \"Years.in.current.job10plus.years\" \"Years.in.current.job2.years\"     \n",
       " [9] \"Years.in.current.job3.years\"      \"Years.in.current.job4.years\"     \n",
       "[11] \"Years.in.current.job5.years\"      \"Years.in.current.job6.years\"     \n",
       "[13] \"Years.in.current.job7.years\"      \"Years.in.current.job8.years\"     \n",
       "[15] \"Years.in.current.job9.years\"      \"Years.in.current.jobna\"          \n",
       "[17] \"Home.OwnershipHome.Mortgage\"      \"Home.OwnershipOwn.Home\"          \n",
       "[19] \"Home.OwnershipRent\"               \"PurposeBuy.a.Car\"                \n",
       "[21] \"PurposeBuy.House\"                 \"PurposeDebt.Consolidation\"       \n",
       "[23] \"PurposeEducational.Expenses\"      \"PurposeHome.Improvements\"        \n",
       "[25] \"Purposemajor_purchase\"            \"PurposeMedical.Bills\"            \n",
       "[27] \"Purposemoving\"                    \"Purposeother\"                    \n",
       "[29] \"PurposeOther\"                     \"Purposerenewable_energy\"         \n",
       "[31] \"Purposesmall_business\"            \"PurposeTake.a.Trip\"              \n",
       "[33] \"Purposevacation\"                  \"Purposewedding\"                  \n",
       "[35] \"Monthly.Debt\"                     \"Years.of.Credit.History\"         \n",
       "[37] \"Months.since.last.delinquent\"     \"Number.of.Open.Accounts\"         \n",
       "[39] \"Number.of.Credit.Problems\"        \"Current.Credit.Balance\"          \n",
       "[41] \"Maximum.Open.Credit\"              \"Bankruptcies\"                    \n",
       "[43] \"Tax.Liens\"                       "
      ]
     },
     "metadata": {},
     "output_type": "display_data"
    }
   ],
   "source": [
    "colnames(features)"
   ]
  },
  {
   "cell_type": "code",
   "execution_count": 13,
   "metadata": {},
   "outputs": [],
   "source": [
    "set.seed(100)\n",
    "train <- sample(nrow(features), 0.75*nrow(features), replace = FALSE)\n",
    "TrainSet <- features[train,]\n",
    "ValidSet <- features[-train,]"
   ]
  },
  {
   "cell_type": "code",
   "execution_count": 14,
   "metadata": {},
   "outputs": [],
   "source": [
    "labels <- as.factor(features$Loan.StatusFully.Paid)\n",
    "features <- select(features, -Loan.StatusFully.Paid)"
   ]
  },
  {
   "cell_type": "code",
   "execution_count": 15,
   "metadata": {},
   "outputs": [
    {
     "data": {
      "text/html": [
       "28507"
      ],
      "text/latex": [
       "28507"
      ],
      "text/markdown": [
       "28507"
      ],
      "text/plain": [
       "[1] 28507"
      ]
     },
     "metadata": {},
     "output_type": "display_data"
    },
    {
     "data": {
      "text/html": [
       "9503"
      ],
      "text/latex": [
       "9503"
      ],
      "text/markdown": [
       "9503"
      ],
      "text/plain": [
       "[1] 9503"
      ]
     },
     "metadata": {},
     "output_type": "display_data"
    }
   ],
   "source": [
    "nrow(TrainSet)\n",
    "nrow(ValidSet)"
   ]
  },
  {
   "cell_type": "code",
   "execution_count": 16,
   "metadata": {
    "scrolled": true
   },
   "outputs": [
    {
     "name": "stdout",
     "output_type": "stream",
     "text": [
      "37.02 sec elapsed\n"
     ]
    }
   ],
   "source": [
    "tic()\n",
    "    random_forest = rf <- randomForest(features,labels, ntree=20, importance=TRUE)\n",
    "toc()"
   ]
  },
  {
   "cell_type": "code",
   "execution_count": 17,
   "metadata": {},
   "outputs": [
    {
     "name": "stdout",
     "output_type": "stream",
     "text": [
      "\n",
      "Call:\n",
      " randomForest(x = features, y = labels, ntree = 20, importance = TRUE) \n",
      "               Type of random forest: classification\n",
      "                     Number of trees: 20\n",
      "No. of variables tried at each split: 6\n",
      "\n",
      "        OOB estimate of  error rate: 16.29%\n",
      "Confusion matrix:\n",
      "     0     1 class.error\n",
      "0 2654  5237  0.66366747\n",
      "1  956 29159  0.03174498\n"
     ]
    }
   ],
   "source": [
    "print(rf)"
   ]
  },
  {
   "cell_type": "code",
   "execution_count": 18,
   "metadata": {},
   "outputs": [
    {
     "data": {
      "image/png": "[encoded data removed]",
      "text/plain": [
       "Plot with title \"rf\""
      ]
     },
     "metadata": {},
     "output_type": "display_data"
    }
   ],
   "source": [
    "plot(rf)\n",
    "# Have to find a way to do this in Python"
   ]
  },
  {
   "cell_type": "code",
   "execution_count": 19,
   "metadata": {},
   "outputs": [
    {
     "data": {
      "text/plain": [
       "         \n",
       "predTrain     0     1\n",
       "        0  5478     0\n",
       "        1   443 22586"
      ]
     },
     "metadata": {},
     "output_type": "display_data"
    }
   ],
   "source": [
    "# Predicting on train set\n",
    "predTrain <- predict(rf, TrainSet, type = \"class\")\n",
    "# Checking classification accuracy\n",
    "table(predTrain, TrainSet$Loan.StatusFully.Paid)  "
   ]
  },
  {
   "cell_type": "code",
   "execution_count": 20,
   "metadata": {
    "scrolled": true
   },
   "outputs": [
    {
     "data": {
      "text/html": [
       "0.982637061980427"
      ],
      "text/latex": [
       "0.982637061980427"
      ],
      "text/markdown": [
       "0.982637061980427"
      ],
      "text/plain": [
       "[1] 0.9826371"
      ]
     },
     "metadata": {},
     "output_type": "display_data"
    },
    {
     "data": {
      "text/plain": [
       "         \n",
       "predValid    0    1\n",
       "        0 1805    0\n",
       "        1  165 7533"
      ]
     },
     "metadata": {},
     "output_type": "display_data"
    }
   ],
   "source": [
    "# Checking classification accuracy\n",
    "predValid <- predict(rf, ValidSet, type = \"class\")\n",
    "mean(predValid == ValidSet$Loan.StatusFully.Paid)                    \n",
    "table(predValid,ValidSet$Loan.StatusFully.Paid)"
   ]
  },
  {
   "cell_type": "code",
   "execution_count": 21,
   "metadata": {},
   "outputs": [
    {
     "data": {
      "text/html": [
       "<table>\n",
       "<thead><tr><th></th><th scope=col>0</th><th scope=col>1</th><th scope=col>MeanDecreaseAccuracy</th><th scope=col>MeanDecreaseGini</th></tr></thead>\n",
       "<tbody>\n",
       "\t<tr><th scope=row>Current.Loan.Amount</th><td>11.3815383923</td><td>12.8944656   </td><td>14.2428881   </td><td>1207.622527  </td></tr>\n",
       "\t<tr><th scope=row>TermShort.Term</th><td>-0.8589845413</td><td>15.8675813   </td><td>16.6804878   </td><td> 118.837345  </td></tr>\n",
       "\t<tr><th scope=row>Credit.Score</th><td>57.7545050045</td><td>33.4059115   </td><td>46.3913785   </td><td>3241.111649  </td></tr>\n",
       "\t<tr><th scope=row>Annual.Income</th><td> 0.4416296032</td><td>25.5273433   </td><td>26.0830603   </td><td> 914.505168  </td></tr>\n",
       "\t<tr><th scope=row>Years.in.current.job1.year</th><td>-1.4879541846</td><td> 5.4508396   </td><td> 4.5526452   </td><td>  59.029126  </td></tr>\n",
       "\t<tr><th scope=row>Years.in.current.job10plus.years</th><td> 2.0235788115</td><td> 8.5862087   </td><td> 8.4929888   </td><td> 101.449034  </td></tr>\n",
       "\t<tr><th scope=row>Years.in.current.job2.years</th><td> 0.0881341491</td><td> 4.9902036   </td><td> 3.9961631   </td><td>  73.016293  </td></tr>\n",
       "\t<tr><th scope=row>Years.in.current.job3.years</th><td>-0.3152689647</td><td> 6.2059618   </td><td> 5.0430341   </td><td>  61.560762  </td></tr>\n",
       "\t<tr><th scope=row>Years.in.current.job4.years</th><td>-0.1165002296</td><td> 4.5157190   </td><td> 4.1487085   </td><td>  52.766077  </td></tr>\n",
       "\t<tr><th scope=row>Years.in.current.job5.years</th><td>-0.9647015813</td><td> 4.4380400   </td><td> 3.7924499   </td><td>  57.478545  </td></tr>\n",
       "\t<tr><th scope=row>Years.in.current.job6.years</th><td> 1.1473924690</td><td> 9.4624579   </td><td> 6.7622000   </td><td>  54.323027  </td></tr>\n",
       "\t<tr><th scope=row>Years.in.current.job7.years</th><td>-2.1401753944</td><td> 6.0295945   </td><td> 4.6254985   </td><td>  53.620858  </td></tr>\n",
       "\t<tr><th scope=row>Years.in.current.job8.years</th><td> 1.9292437138</td><td> 3.3392354   </td><td> 3.3121793   </td><td>  51.066695  </td></tr>\n",
       "\t<tr><th scope=row>Years.in.current.job9.years</th><td> 2.0246601540</td><td> 5.0623843   </td><td> 6.1207256   </td><td>  45.898388  </td></tr>\n",
       "\t<tr><th scope=row>Years.in.current.jobna</th><td> 0.9406633850</td><td> 7.5077850   </td><td> 7.0764921   </td><td>  47.418639  </td></tr>\n",
       "\t<tr><th scope=row>Home.OwnershipHome.Mortgage</th><td>-0.7222641985</td><td> 7.3296644   </td><td> 7.3023657   </td><td>  53.920294  </td></tr>\n",
       "\t<tr><th scope=row>Home.OwnershipOwn.Home</th><td> 0.3131936340</td><td> 6.1612220   </td><td> 5.5450623   </td><td>  48.351409  </td></tr>\n",
       "\t<tr><th scope=row>Home.OwnershipRent</th><td>-0.2149258112</td><td> 5.0771494   </td><td> 5.0788957   </td><td>  57.765446  </td></tr>\n",
       "\t<tr><th scope=row>PurposeBuy.a.Car</th><td>-0.6354360729</td><td> 1.6358706   </td><td> 1.1881171   </td><td>  13.410082  </td></tr>\n",
       "\t<tr><th scope=row>PurposeBuy.House</th><td>-2.2113413307</td><td> 2.5658955   </td><td> 2.0725407   </td><td>  15.199050  </td></tr>\n",
       "\t<tr><th scope=row>PurposeDebt.Consolidation</th><td>-1.9163202494</td><td>10.7524820   </td><td>10.0061766   </td><td>  91.435025  </td></tr>\n",
       "\t<tr><th scope=row>PurposeEducational.Expenses</th><td>-1.0259783521</td><td>-0.2833389   </td><td>-0.4508696   </td><td>   1.732212  </td></tr>\n",
       "\t<tr><th scope=row>PurposeHome.Improvements</th><td>-1.7207398740</td><td> 8.6701846   </td><td> 8.6013483   </td><td>  48.197338  </td></tr>\n",
       "\t<tr><th scope=row>Purposemajor_purchase</th><td>-0.2730257398</td><td> 1.9010087   </td><td> 1.8754803   </td><td>   9.058367  </td></tr>\n",
       "\t<tr><th scope=row>PurposeMedical.Bills</th><td> 1.8668830782</td><td> 4.0848340   </td><td> 4.5313543   </td><td>  19.399741  </td></tr>\n",
       "\t<tr><th scope=row>Purposemoving</th><td> 1.4126728157</td><td> 0.6972709   </td><td> 1.2762392   </td><td>   8.444698  </td></tr>\n",
       "\t<tr><th scope=row>Purposeother</th><td>-0.0478709858</td><td>11.4966915   </td><td> 9.5159969   </td><td>  52.829497  </td></tr>\n",
       "\t<tr><th scope=row>PurposeOther</th><td>-0.9572652070</td><td> 5.6588273   </td><td> 6.5701108   </td><td>  33.257486  </td></tr>\n",
       "\t<tr><th scope=row>Purposerenewable_energy</th><td> 0.0000000000</td><td> 0.0000000   </td><td> 0.0000000   </td><td>   0.132828  </td></tr>\n",
       "\t<tr><th scope=row>Purposesmall_business</th><td> 1.7588655552</td><td> 2.6779101   </td><td> 2.9728212   </td><td>  18.077544  </td></tr>\n",
       "\t<tr><th scope=row>PurposeTake.a.Trip</th><td>-0.9716280288</td><td> 1.4439123   </td><td> 0.9591889   </td><td>   8.784991  </td></tr>\n",
       "\t<tr><th scope=row>Purposevacation</th><td> 0.4497759151</td><td>-1.3148934   </td><td>-1.0446158   </td><td>   6.248289  </td></tr>\n",
       "\t<tr><th scope=row>Purposewedding</th><td>-0.0009817517</td><td> 0.9670555   </td><td> 0.9647629   </td><td>   4.882705  </td></tr>\n",
       "\t<tr><th scope=row>Monthly.Debt</th><td>-3.8250440730</td><td>20.2109780   </td><td>21.7786604   </td><td> 856.810226  </td></tr>\n",
       "\t<tr><th scope=row>Years.of.Credit.History</th><td>-0.4844775706</td><td>18.5286761   </td><td>18.3407452   </td><td> 782.519906  </td></tr>\n",
       "\t<tr><th scope=row>Months.since.last.delinquent</th><td>-0.6206572280</td><td>19.1788082   </td><td>15.7946205   </td><td> 721.687204  </td></tr>\n",
       "\t<tr><th scope=row>Number.of.Open.Accounts</th><td>-1.7306574316</td><td>15.2713192   </td><td>15.1581051   </td><td> 559.120420  </td></tr>\n",
       "\t<tr><th scope=row>Number.of.Credit.Problems</th><td>-1.6763879773</td><td> 8.5307418   </td><td> 7.7387506   </td><td> 110.396235  </td></tr>\n",
       "\t<tr><th scope=row>Current.Credit.Balance</th><td>-8.2727752813</td><td>18.1064326   </td><td>18.6278680   </td><td> 799.880784  </td></tr>\n",
       "\t<tr><th scope=row>Maximum.Open.Credit</th><td>-6.3067807597</td><td>20.8865977   </td><td>21.2331884   </td><td> 834.747962  </td></tr>\n",
       "\t<tr><th scope=row>Bankruptcies</th><td>-1.8672086851</td><td> 7.1987164   </td><td> 6.5484201   </td><td>  69.297354  </td></tr>\n",
       "\t<tr><th scope=row>Tax.Liens</th><td>-0.4617023212</td><td> 7.8407098   </td><td> 7.4385319   </td><td>  38.537216  </td></tr>\n",
       "</tbody>\n",
       "</table>\n"
      ],
      "text/latex": [
       "\\begin{tabular}{r|llll}\n",
       "  & 0 & 1 & MeanDecreaseAccuracy & MeanDecreaseGini\\\\\n",
       "\\hline\n",
       "\tCurrent.Loan.Amount & 11.3815383923 & 12.8944656    & 14.2428881    & 1207.622527  \\\\\n",
       "\tTermShort.Term & -0.8589845413 & 15.8675813    & 16.6804878    &  118.837345  \\\\\n",
       "\tCredit.Score & 57.7545050045 & 33.4059115    & 46.3913785    & 3241.111649  \\\\\n",
       "\tAnnual.Income &  0.4416296032 & 25.5273433    & 26.0830603    &  914.505168  \\\\\n",
       "\tYears.in.current.job1.year & -1.4879541846 &  5.4508396    &  4.5526452    &   59.029126  \\\\\n",
       "\tYears.in.current.job10plus.years &  2.0235788115 &  8.5862087    &  8.4929888    &  101.449034  \\\\\n",
       "\tYears.in.current.job2.years &  0.0881341491 &  4.9902036    &  3.9961631    &   73.016293  \\\\\n",
       "\tYears.in.current.job3.years & -0.3152689647 &  6.2059618    &  5.0430341    &   61.560762  \\\\\n",
       "\tYears.in.current.job4.years & -0.1165002296 &  4.5157190    &  4.1487085    &   52.766077  \\\\\n",
       "\tYears.in.current.job5.years & -0.9647015813 &  4.4380400    &  3.7924499    &   57.478545  \\\\\n",
       "\tYears.in.current.job6.years &  1.1473924690 &  9.4624579    &  6.7622000    &   54.323027  \\\\\n",
       "\tYears.in.current.job7.years & -2.1401753944 &  6.0295945    &  4.6254985    &   53.620858  \\\\\n",
       "\tYears.in.current.job8.years &  1.9292437138 &  3.3392354    &  3.3121793    &   51.066695  \\\\\n",
       "\tYears.in.current.job9.years &  2.0246601540 &  5.0623843    &  6.1207256    &   45.898388  \\\\\n",
       "\tYears.in.current.jobna &  0.9406633850 &  7.5077850    &  7.0764921    &   47.418639  \\\\\n",
       "\tHome.OwnershipHome.Mortgage & -0.7222641985 &  7.3296644    &  7.3023657    &   53.920294  \\\\\n",
       "\tHome.OwnershipOwn.Home &  0.3131936340 &  6.1612220    &  5.5450623    &   48.351409  \\\\\n",
       "\tHome.OwnershipRent & -0.2149258112 &  5.0771494    &  5.0788957    &   57.765446  \\\\\n",
       "\tPurposeBuy.a.Car & -0.6354360729 &  1.6358706    &  1.1881171    &   13.410082  \\\\\n",
       "\tPurposeBuy.House & -2.2113413307 &  2.5658955    &  2.0725407    &   15.199050  \\\\\n",
       "\tPurposeDebt.Consolidation & -1.9163202494 & 10.7524820    & 10.0061766    &   91.435025  \\\\\n",
       "\tPurposeEducational.Expenses & -1.0259783521 & -0.2833389    & -0.4508696    &    1.732212  \\\\\n",
       "\tPurposeHome.Improvements & -1.7207398740 &  8.6701846    &  8.6013483    &   48.197338  \\\\\n",
       "\tPurposemajor\\_purchase & -0.2730257398 &  1.9010087    &  1.8754803    &    9.058367  \\\\\n",
       "\tPurposeMedical.Bills &  1.8668830782 &  4.0848340    &  4.5313543    &   19.399741  \\\\\n",
       "\tPurposemoving &  1.4126728157 &  0.6972709    &  1.2762392    &    8.444698  \\\\\n",
       "\tPurposeother & -0.0478709858 & 11.4966915    &  9.5159969    &   52.829497  \\\\\n",
       "\tPurposeOther & -0.9572652070 &  5.6588273    &  6.5701108    &   33.257486  \\\\\n",
       "\tPurposerenewable\\_energy &  0.0000000000 &  0.0000000    &  0.0000000    &    0.132828  \\\\\n",
       "\tPurposesmall\\_business &  1.7588655552 &  2.6779101    &  2.9728212    &   18.077544  \\\\\n",
       "\tPurposeTake.a.Trip & -0.9716280288 &  1.4439123    &  0.9591889    &    8.784991  \\\\\n",
       "\tPurposevacation &  0.4497759151 & -1.3148934    & -1.0446158    &    6.248289  \\\\\n",
       "\tPurposewedding & -0.0009817517 &  0.9670555    &  0.9647629    &    4.882705  \\\\\n",
       "\tMonthly.Debt & -3.8250440730 & 20.2109780    & 21.7786604    &  856.810226  \\\\\n",
       "\tYears.of.Credit.History & -0.4844775706 & 18.5286761    & 18.3407452    &  782.519906  \\\\\n",
       "\tMonths.since.last.delinquent & -0.6206572280 & 19.1788082    & 15.7946205    &  721.687204  \\\\\n",
       "\tNumber.of.Open.Accounts & -1.7306574316 & 15.2713192    & 15.1581051    &  559.120420  \\\\\n",
       "\tNumber.of.Credit.Problems & -1.6763879773 &  8.5307418    &  7.7387506    &  110.396235  \\\\\n",
       "\tCurrent.Credit.Balance & -8.2727752813 & 18.1064326    & 18.6278680    &  799.880784  \\\\\n",
       "\tMaximum.Open.Credit & -6.3067807597 & 20.8865977    & 21.2331884    &  834.747962  \\\\\n",
       "\tBankruptcies & -1.8672086851 &  7.1987164    &  6.5484201    &   69.297354  \\\\\n",
       "\tTax.Liens & -0.4617023212 &  7.8407098    &  7.4385319    &   38.537216  \\\\\n",
       "\\end{tabular}\n"
      ],
      "text/markdown": [
       "\n",
       "| <!--/--> | 0 | 1 | MeanDecreaseAccuracy | MeanDecreaseGini | \n",
       "|---|---|---|---|---|---|---|---|---|---|---|---|---|---|---|---|---|---|---|---|---|---|---|---|---|---|---|---|---|---|---|---|---|---|---|---|---|---|---|---|---|---|\n",
       "| Current.Loan.Amount | 11.3815383923 | 12.8944656    | 14.2428881    | 1207.622527   | \n",
       "| TermShort.Term | -0.8589845413 | 15.8675813    | 16.6804878    |  118.837345   | \n",
       "| Credit.Score | 57.7545050045 | 33.4059115    | 46.3913785    | 3241.111649   | \n",
       "| Annual.Income |  0.4416296032 | 25.5273433    | 26.0830603    |  914.505168   | \n",
       "| Years.in.current.job1.year | -1.4879541846 |  5.4508396    |  4.5526452    |   59.029126   | \n",
       "| Years.in.current.job10plus.years |  2.0235788115 |  8.5862087    |  8.4929888    |  101.449034   | \n",
       "| Years.in.current.job2.years |  0.0881341491 |  4.9902036    |  3.9961631    |   73.016293   | \n",
       "| Years.in.current.job3.years | -0.3152689647 |  6.2059618    |  5.0430341    |   61.560762   | \n",
       "| Years.in.current.job4.years | -0.1165002296 |  4.5157190    |  4.1487085    |   52.766077   | \n",
       "| Years.in.current.job5.years | -0.9647015813 |  4.4380400    |  3.7924499    |   57.478545   | \n",
       "| Years.in.current.job6.years |  1.1473924690 |  9.4624579    |  6.7622000    |   54.323027   | \n",
       "| Years.in.current.job7.years | -2.1401753944 |  6.0295945    |  4.6254985    |   53.620858   | \n",
       "| Years.in.current.job8.years |  1.9292437138 |  3.3392354    |  3.3121793    |   51.066695   | \n",
       "| Years.in.current.job9.years |  2.0246601540 |  5.0623843    |  6.1207256    |   45.898388   | \n",
       "| Years.in.current.jobna |  0.9406633850 |  7.5077850    |  7.0764921    |   47.418639   | \n",
       "| Home.OwnershipHome.Mortgage | -0.7222641985 |  7.3296644    |  7.3023657    |   53.920294   | \n",
       "| Home.OwnershipOwn.Home |  0.3131936340 |  6.1612220    |  5.5450623    |   48.351409   | \n",
       "| Home.OwnershipRent | -0.2149258112 |  5.0771494    |  5.0788957    |   57.765446   | \n",
       "| PurposeBuy.a.Car | -0.6354360729 |  1.6358706    |  1.1881171    |   13.410082   | \n",
       "| PurposeBuy.House | -2.2113413307 |  2.5658955    |  2.0725407    |   15.199050   | \n",
       "| PurposeDebt.Consolidation | -1.9163202494 | 10.7524820    | 10.0061766    |   91.435025   | \n",
       "| PurposeEducational.Expenses | -1.0259783521 | -0.2833389    | -0.4508696    |    1.732212   | \n",
       "| PurposeHome.Improvements | -1.7207398740 |  8.6701846    |  8.6013483    |   48.197338   | \n",
       "| Purposemajor_purchase | -0.2730257398 |  1.9010087    |  1.8754803    |    9.058367   | \n",
       "| PurposeMedical.Bills |  1.8668830782 |  4.0848340    |  4.5313543    |   19.399741   | \n",
       "| Purposemoving |  1.4126728157 |  0.6972709    |  1.2762392    |    8.444698   | \n",
       "| Purposeother | -0.0478709858 | 11.4966915    |  9.5159969    |   52.829497   | \n",
       "| PurposeOther | -0.9572652070 |  5.6588273    |  6.5701108    |   33.257486   | \n",
       "| Purposerenewable_energy |  0.0000000000 |  0.0000000    |  0.0000000    |    0.132828   | \n",
       "| Purposesmall_business |  1.7588655552 |  2.6779101    |  2.9728212    |   18.077544   | \n",
       "| PurposeTake.a.Trip | -0.9716280288 |  1.4439123    |  0.9591889    |    8.784991   | \n",
       "| Purposevacation |  0.4497759151 | -1.3148934    | -1.0446158    |    6.248289   | \n",
       "| Purposewedding | -0.0009817517 |  0.9670555    |  0.9647629    |    4.882705   | \n",
       "| Monthly.Debt | -3.8250440730 | 20.2109780    | 21.7786604    |  856.810226   | \n",
       "| Years.of.Credit.History | -0.4844775706 | 18.5286761    | 18.3407452    |  782.519906   | \n",
       "| Months.since.last.delinquent | -0.6206572280 | 19.1788082    | 15.7946205    |  721.687204   | \n",
       "| Number.of.Open.Accounts | -1.7306574316 | 15.2713192    | 15.1581051    |  559.120420   | \n",
       "| Number.of.Credit.Problems | -1.6763879773 |  8.5307418    |  7.7387506    |  110.396235   | \n",
       "| Current.Credit.Balance | -8.2727752813 | 18.1064326    | 18.6278680    |  799.880784   | \n",
       "| Maximum.Open.Credit | -6.3067807597 | 20.8865977    | 21.2331884    |  834.747962   | \n",
       "| Bankruptcies | -1.8672086851 |  7.1987164    |  6.5484201    |   69.297354   | \n",
       "| Tax.Liens | -0.4617023212 |  7.8407098    |  7.4385319    |   38.537216   | \n",
       "\n",
       "\n"
      ],
      "text/plain": [
       "                                 0             1          MeanDecreaseAccuracy\n",
       "Current.Loan.Amount              11.3815383923 12.8944656 14.2428881          \n",
       "TermShort.Term                   -0.8589845413 15.8675813 16.6804878          \n",
       "Credit.Score                     57.7545050045 33.4059115 46.3913785          \n",
       "Annual.Income                     0.4416296032 25.5273433 26.0830603          \n",
       "Years.in.current.job1.year       -1.4879541846  5.4508396  4.5526452          \n",
       "Years.in.current.job10plus.years  2.0235788115  8.5862087  8.4929888          \n",
       "Years.in.current.job2.years       0.0881341491  4.9902036  3.9961631          \n",
       "Years.in.current.job3.years      -0.3152689647  6.2059618  5.0430341          \n",
       "Years.in.current.job4.years      -0.1165002296  4.5157190  4.1487085          \n",
       "Years.in.current.job5.years      -0.9647015813  4.4380400  3.7924499          \n",
       "Years.in.current.job6.years       1.1473924690  9.4624579  6.7622000          \n",
       "Years.in.current.job7.years      -2.1401753944  6.0295945  4.6254985          \n",
       "Years.in.current.job8.years       1.9292437138  3.3392354  3.3121793          \n",
       "Years.in.current.job9.years       2.0246601540  5.0623843  6.1207256          \n",
       "Years.in.current.jobna            0.9406633850  7.5077850  7.0764921          \n",
       "Home.OwnershipHome.Mortgage      -0.7222641985  7.3296644  7.3023657          \n",
       "Home.OwnershipOwn.Home            0.3131936340  6.1612220  5.5450623          \n",
       "Home.OwnershipRent               -0.2149258112  5.0771494  5.0788957          \n",
       "PurposeBuy.a.Car                 -0.6354360729  1.6358706  1.1881171          \n",
       "PurposeBuy.House                 -2.2113413307  2.5658955  2.0725407          \n",
       "PurposeDebt.Consolidation        -1.9163202494 10.7524820 10.0061766          \n",
       "PurposeEducational.Expenses      -1.0259783521 -0.2833389 -0.4508696          \n",
       "PurposeHome.Improvements         -1.7207398740  8.6701846  8.6013483          \n",
       "Purposemajor_purchase            -0.2730257398  1.9010087  1.8754803          \n",
       "PurposeMedical.Bills              1.8668830782  4.0848340  4.5313543          \n",
       "Purposemoving                     1.4126728157  0.6972709  1.2762392          \n",
       "Purposeother                     -0.0478709858 11.4966915  9.5159969          \n",
       "PurposeOther                     -0.9572652070  5.6588273  6.5701108          \n",
       "Purposerenewable_energy           0.0000000000  0.0000000  0.0000000          \n",
       "Purposesmall_business             1.7588655552  2.6779101  2.9728212          \n",
       "PurposeTake.a.Trip               -0.9716280288  1.4439123  0.9591889          \n",
       "Purposevacation                   0.4497759151 -1.3148934 -1.0446158          \n",
       "Purposewedding                   -0.0009817517  0.9670555  0.9647629          \n",
       "Monthly.Debt                     -3.8250440730 20.2109780 21.7786604          \n",
       "Years.of.Credit.History          -0.4844775706 18.5286761 18.3407452          \n",
       "Months.since.last.delinquent     -0.6206572280 19.1788082 15.7946205          \n",
       "Number.of.Open.Accounts          -1.7306574316 15.2713192 15.1581051          \n",
       "Number.of.Credit.Problems        -1.6763879773  8.5307418  7.7387506          \n",
       "Current.Credit.Balance           -8.2727752813 18.1064326 18.6278680          \n",
       "Maximum.Open.Credit              -6.3067807597 20.8865977 21.2331884          \n",
       "Bankruptcies                     -1.8672086851  7.1987164  6.5484201          \n",
       "Tax.Liens                        -0.4617023212  7.8407098  7.4385319          \n",
       "                                 MeanDecreaseGini\n",
       "Current.Loan.Amount              1207.622527     \n",
       "TermShort.Term                    118.837345     \n",
       "Credit.Score                     3241.111649     \n",
       "Annual.Income                     914.505168     \n",
       "Years.in.current.job1.year         59.029126     \n",
       "Years.in.current.job10plus.years  101.449034     \n",
       "Years.in.current.job2.years        73.016293     \n",
       "Years.in.current.job3.years        61.560762     \n",
       "Years.in.current.job4.years        52.766077     \n",
       "Years.in.current.job5.years        57.478545     \n",
       "Years.in.current.job6.years        54.323027     \n",
       "Years.in.current.job7.years        53.620858     \n",
       "Years.in.current.job8.years        51.066695     \n",
       "Years.in.current.job9.years        45.898388     \n",
       "Years.in.current.jobna             47.418639     \n",
       "Home.OwnershipHome.Mortgage        53.920294     \n",
       "Home.OwnershipOwn.Home             48.351409     \n",
       "Home.OwnershipRent                 57.765446     \n",
       "PurposeBuy.a.Car                   13.410082     \n",
       "PurposeBuy.House                   15.199050     \n",
       "PurposeDebt.Consolidation          91.435025     \n",
       "PurposeEducational.Expenses         1.732212     \n",
       "PurposeHome.Improvements           48.197338     \n",
       "Purposemajor_purchase               9.058367     \n",
       "PurposeMedical.Bills               19.399741     \n",
       "Purposemoving                       8.444698     \n",
       "Purposeother                       52.829497     \n",
       "PurposeOther                       33.257486     \n",
       "Purposerenewable_energy             0.132828     \n",
       "Purposesmall_business              18.077544     \n",
       "PurposeTake.a.Trip                  8.784991     \n",
       "Purposevacation                     6.248289     \n",
       "Purposewedding                      4.882705     \n",
       "Monthly.Debt                      856.810226     \n",
       "Years.of.Credit.History           782.519906     \n",
       "Months.since.last.delinquent      721.687204     \n",
       "Number.of.Open.Accounts           559.120420     \n",
       "Number.of.Credit.Problems         110.396235     \n",
       "Current.Credit.Balance            799.880784     \n",
       "Maximum.Open.Credit               834.747962     \n",
       "Bankruptcies                       69.297354     \n",
       "Tax.Liens                          38.537216     "
      ]
     },
     "metadata": {},
     "output_type": "display_data"
    },
    {
     "data": {
      "image/png": "[encoded data removed]",
      "text/plain": [
       "plot without title"
      ]
     },
     "metadata": {},
     "output_type": "display_data"
    }
   ],
   "source": [
    "importance(rf)        \n",
    "varImpPlot(rf)        \n"
   ]
  },
  {
   "cell_type": "code",
   "execution_count": 22,
   "metadata": {},
   "outputs": [],
   "source": [
    "library(party)"
   ]
  },
  {
   "cell_type": "code",
   "execution_count": 23,
   "metadata": {},
   "outputs": [],
   "source": [
    "# reprtree:::plot.getTree(rf)"
   ]
  },
  {
   "cell_type": "code",
   "execution_count": 24,
   "metadata": {},
   "outputs": [
    {
     "data": {
      "text/html": [
       "<table>\n",
       "<thead><tr><th></th><th scope=col>left daughter</th><th scope=col>right daughter</th><th scope=col>split var</th><th scope=col>split point</th><th scope=col>status</th><th scope=col>prediction</th></tr></thead>\n",
       "<tbody>\n",
       "\t<tr><th scope=row>1</th><td> 2          </td><td> 3          </td><td> 1          </td><td>50394547.500</td><td> 1          </td><td>0           </td></tr>\n",
       "\t<tr><th scope=row>2</th><td> 4          </td><td> 5          </td><td>18          </td><td>       0.500</td><td> 1          </td><td>0           </td></tr>\n",
       "\t<tr><th scope=row>3</th><td> 0          </td><td> 0          </td><td> 0          </td><td>       0.000</td><td>-1          </td><td>2           </td></tr>\n",
       "\t<tr><th scope=row>4</th><td> 6          </td><td> 7          </td><td> 1          </td><td>  346269.000</td><td> 1          </td><td>0           </td></tr>\n",
       "\t<tr><th scope=row>5</th><td> 8          </td><td> 9          </td><td>28          </td><td>       0.500</td><td> 1          </td><td>0           </td></tr>\n",
       "\t<tr><th scope=row>6</th><td>10          </td><td>11          </td><td> 1          </td><td>  174394.000</td><td> 1          </td><td>0           </td></tr>\n",
       "\t<tr><th scope=row>7</th><td>12          </td><td>13          </td><td> 4          </td><td> 1924852.000</td><td> 1          </td><td>0           </td></tr>\n",
       "\t<tr><th scope=row>8</th><td>14          </td><td>15          </td><td> 4          </td><td> 1157670.000</td><td> 1          </td><td>0           </td></tr>\n",
       "\t<tr><th scope=row>9</th><td>16          </td><td>17          </td><td>13          </td><td>       0.500</td><td> 1          </td><td>0           </td></tr>\n",
       "\t<tr><th scope=row>10</th><td>18          </td><td>19          </td><td>19          </td><td>       0.500</td><td> 1          </td><td>0           </td></tr>\n",
       "\t<tr><th scope=row>11</th><td>20          </td><td>21          </td><td>35          </td><td>      40.750</td><td> 1          </td><td>0           </td></tr>\n",
       "\t<tr><th scope=row>12</th><td>22          </td><td>23          </td><td> 3          </td><td>    3305.500</td><td> 1          </td><td>0           </td></tr>\n",
       "\t<tr><th scope=row>13</th><td>24          </td><td>25          </td><td> 3          </td><td>    3380.500</td><td> 1          </td><td>0           </td></tr>\n",
       "\t<tr><th scope=row>14</th><td>26          </td><td>27          </td><td>34          </td><td>    8408.165</td><td> 1          </td><td>0           </td></tr>\n",
       "\t<tr><th scope=row>15</th><td>28          </td><td>29          </td><td>24          </td><td>       0.500</td><td> 1          </td><td>0           </td></tr>\n",
       "\t<tr><th scope=row>16</th><td>30          </td><td>31          </td><td> 3          </td><td>    3585.500</td><td> 1          </td><td>0           </td></tr>\n",
       "\t<tr><th scope=row>17</th><td>32          </td><td>33          </td><td>36          </td><td>      17.000</td><td> 1          </td><td>0           </td></tr>\n",
       "\t<tr><th scope=row>18</th><td>34          </td><td>35          </td><td> 3          </td><td>    3545.500</td><td> 1          </td><td>0           </td></tr>\n",
       "\t<tr><th scope=row>19</th><td>36          </td><td>37          </td><td>35          </td><td>      16.050</td><td> 1          </td><td>0           </td></tr>\n",
       "\t<tr><th scope=row>20</th><td>38          </td><td>39          </td><td>19          </td><td>       0.500</td><td> 1          </td><td>0           </td></tr>\n",
       "\t<tr><th scope=row>21</th><td>40          </td><td>41          </td><td>37          </td><td>       8.500</td><td> 1          </td><td>0           </td></tr>\n",
       "\t<tr><th scope=row>22</th><td>42          </td><td>43          </td><td>37          </td><td>       7.500</td><td> 1          </td><td>0           </td></tr>\n",
       "\t<tr><th scope=row>23</th><td> 0          </td><td> 0          </td><td> 0          </td><td>       0.000</td><td>-1          </td><td>1           </td></tr>\n",
       "\t<tr><th scope=row>24</th><td>44          </td><td>45          </td><td>32          </td><td>       0.500</td><td> 1          </td><td>0           </td></tr>\n",
       "\t<tr><th scope=row>25</th><td> 0          </td><td> 0          </td><td> 0          </td><td>       0.000</td><td>-1          </td><td>1           </td></tr>\n",
       "\t<tr><th scope=row>26</th><td>46          </td><td>47          </td><td> 7          </td><td>       0.500</td><td> 1          </td><td>0           </td></tr>\n",
       "\t<tr><th scope=row>27</th><td>48          </td><td>49          </td><td>34          </td><td>    8602.820</td><td> 1          </td><td>0           </td></tr>\n",
       "\t<tr><th scope=row>28</th><td>50          </td><td>51          </td><td> 1          </td><td>  398145.000</td><td> 1          </td><td>0           </td></tr>\n",
       "\t<tr><th scope=row>29</th><td>52          </td><td>53          </td><td>34          </td><td>   21973.595</td><td> 1          </td><td>0           </td></tr>\n",
       "\t<tr><th scope=row>30</th><td>54          </td><td>55          </td><td> 4          </td><td> 2358964.000</td><td> 1          </td><td>0           </td></tr>\n",
       "\t<tr><th scope=row>...</th><td>...</td><td>...</td><td>...</td><td>...</td><td>...</td><td>...</td></tr>\n",
       "\t<tr><th scope=row>9422</th><td>   0     </td><td>   0     </td><td> 0       </td><td>      0.0</td><td>-1       </td><td>2        </td></tr>\n",
       "\t<tr><th scope=row>9423</th><td>   0     </td><td>   0     </td><td> 0       </td><td>      0.0</td><td>-1       </td><td>2        </td></tr>\n",
       "\t<tr><th scope=row>9424</th><td>9436     </td><td>9437     </td><td>28       </td><td>      0.5</td><td> 1       </td><td>0        </td></tr>\n",
       "\t<tr><th scope=row>9425</th><td>   0     </td><td>   0     </td><td> 0       </td><td>      0.0</td><td>-1       </td><td>2        </td></tr>\n",
       "\t<tr><th scope=row>9426</th><td>   0     </td><td>   0     </td><td> 0       </td><td>      0.0</td><td>-1       </td><td>2        </td></tr>\n",
       "\t<tr><th scope=row>9427</th><td>9438     </td><td>9439     </td><td> 4       </td><td>1144237.0</td><td> 1       </td><td>0        </td></tr>\n",
       "\t<tr><th scope=row>9428</th><td>   0     </td><td>   0     </td><td> 0       </td><td>      0.0</td><td>-1       </td><td>1        </td></tr>\n",
       "\t<tr><th scope=row>9429</th><td>   0     </td><td>   0     </td><td> 0       </td><td>      0.0</td><td>-1       </td><td>2        </td></tr>\n",
       "\t<tr><th scope=row>9430</th><td>9440     </td><td>9441     </td><td>16       </td><td>      0.5</td><td> 1       </td><td>0        </td></tr>\n",
       "\t<tr><th scope=row>9431</th><td>   0     </td><td>   0     </td><td> 0       </td><td>      0.0</td><td>-1       </td><td>2        </td></tr>\n",
       "\t<tr><th scope=row>9432</th><td>   0     </td><td>   0     </td><td> 0       </td><td>      0.0</td><td>-1       </td><td>2        </td></tr>\n",
       "\t<tr><th scope=row>9433</th><td>9442     </td><td>9443     </td><td> 3       </td><td>    739.5</td><td> 1       </td><td>0        </td></tr>\n",
       "\t<tr><th scope=row>9434</th><td>   0     </td><td>   0     </td><td> 0       </td><td>      0.0</td><td>-1       </td><td>1        </td></tr>\n",
       "\t<tr><th scope=row>9435</th><td>   0     </td><td>   0     </td><td> 0       </td><td>      0.0</td><td>-1       </td><td>2        </td></tr>\n",
       "\t<tr><th scope=row>9436</th><td>9444     </td><td>9445     </td><td>36       </td><td>     37.5</td><td> 1       </td><td>0        </td></tr>\n",
       "\t<tr><th scope=row>9437</th><td>   0     </td><td>   0     </td><td> 0       </td><td>      0.0</td><td>-1       </td><td>2        </td></tr>\n",
       "\t<tr><th scope=row>9438</th><td>   0     </td><td>   0     </td><td> 0       </td><td>      0.0</td><td>-1       </td><td>2        </td></tr>\n",
       "\t<tr><th scope=row>9439</th><td>   0     </td><td>   0     </td><td> 0       </td><td>      0.0</td><td>-1       </td><td>1        </td></tr>\n",
       "\t<tr><th scope=row>9440</th><td>   0     </td><td>   0     </td><td> 0       </td><td>      0.0</td><td>-1       </td><td>2        </td></tr>\n",
       "\t<tr><th scope=row>9441</th><td>   0     </td><td>   0     </td><td> 0       </td><td>      0.0</td><td>-1       </td><td>2        </td></tr>\n",
       "\t<tr><th scope=row>9442</th><td>   0     </td><td>   0     </td><td> 0       </td><td>      0.0</td><td>-1       </td><td>1        </td></tr>\n",
       "\t<tr><th scope=row>9443</th><td>9446     </td><td>9447     </td><td> 4       </td><td>2386352.5</td><td> 1       </td><td>0        </td></tr>\n",
       "\t<tr><th scope=row>9444</th><td>   0     </td><td>   0     </td><td> 0       </td><td>      0.0</td><td>-1       </td><td>2        </td></tr>\n",
       "\t<tr><th scope=row>9445</th><td>9448     </td><td>9449     </td><td> 4       </td><td> 834898.0</td><td> 1       </td><td>0        </td></tr>\n",
       "\t<tr><th scope=row>9446</th><td>   0     </td><td>   0     </td><td> 0       </td><td>      0.0</td><td>-1       </td><td>2        </td></tr>\n",
       "\t<tr><th scope=row>9447</th><td>   0     </td><td>   0     </td><td> 0       </td><td>      0.0</td><td>-1       </td><td>1        </td></tr>\n",
       "\t<tr><th scope=row>9448</th><td>   0     </td><td>   0     </td><td> 0       </td><td>      0.0</td><td>-1       </td><td>2        </td></tr>\n",
       "\t<tr><th scope=row>9449</th><td>9450     </td><td>9451     </td><td> 4       </td><td> 927114.5</td><td> 1       </td><td>0        </td></tr>\n",
       "\t<tr><th scope=row>9450</th><td>   0     </td><td>   0     </td><td> 0       </td><td>      0.0</td><td>-1       </td><td>1        </td></tr>\n",
       "\t<tr><th scope=row>9451</th><td>   0     </td><td>   0     </td><td> 0       </td><td>      0.0</td><td>-1       </td><td>2        </td></tr>\n",
       "</tbody>\n",
       "</table>\n"
      ],
      "text/latex": [
       "\\begin{tabular}{r|llllll}\n",
       "  & left daughter & right daughter & split var & split point & status & prediction\\\\\n",
       "\\hline\n",
       "\t1 &  2           &  3           &  1           & 50394547.500 &  1           & 0           \\\\\n",
       "\t2 &  4           &  5           & 18           &        0.500 &  1           & 0           \\\\\n",
       "\t3 &  0           &  0           &  0           &        0.000 & -1           & 2           \\\\\n",
       "\t4 &  6           &  7           &  1           &   346269.000 &  1           & 0           \\\\\n",
       "\t5 &  8           &  9           & 28           &        0.500 &  1           & 0           \\\\\n",
       "\t6 & 10           & 11           &  1           &   174394.000 &  1           & 0           \\\\\n",
       "\t7 & 12           & 13           &  4           &  1924852.000 &  1           & 0           \\\\\n",
       "\t8 & 14           & 15           &  4           &  1157670.000 &  1           & 0           \\\\\n",
       "\t9 & 16           & 17           & 13           &        0.500 &  1           & 0           \\\\\n",
       "\t10 & 18           & 19           & 19           &        0.500 &  1           & 0           \\\\\n",
       "\t11 & 20           & 21           & 35           &       40.750 &  1           & 0           \\\\\n",
       "\t12 & 22           & 23           &  3           &     3305.500 &  1           & 0           \\\\\n",
       "\t13 & 24           & 25           &  3           &     3380.500 &  1           & 0           \\\\\n",
       "\t14 & 26           & 27           & 34           &     8408.165 &  1           & 0           \\\\\n",
       "\t15 & 28           & 29           & 24           &        0.500 &  1           & 0           \\\\\n",
       "\t16 & 30           & 31           &  3           &     3585.500 &  1           & 0           \\\\\n",
       "\t17 & 32           & 33           & 36           &       17.000 &  1           & 0           \\\\\n",
       "\t18 & 34           & 35           &  3           &     3545.500 &  1           & 0           \\\\\n",
       "\t19 & 36           & 37           & 35           &       16.050 &  1           & 0           \\\\\n",
       "\t20 & 38           & 39           & 19           &        0.500 &  1           & 0           \\\\\n",
       "\t21 & 40           & 41           & 37           &        8.500 &  1           & 0           \\\\\n",
       "\t22 & 42           & 43           & 37           &        7.500 &  1           & 0           \\\\\n",
       "\t23 &  0           &  0           &  0           &        0.000 & -1           & 1           \\\\\n",
       "\t24 & 44           & 45           & 32           &        0.500 &  1           & 0           \\\\\n",
       "\t25 &  0           &  0           &  0           &        0.000 & -1           & 1           \\\\\n",
       "\t26 & 46           & 47           &  7           &        0.500 &  1           & 0           \\\\\n",
       "\t27 & 48           & 49           & 34           &     8602.820 &  1           & 0           \\\\\n",
       "\t28 & 50           & 51           &  1           &   398145.000 &  1           & 0           \\\\\n",
       "\t29 & 52           & 53           & 34           &    21973.595 &  1           & 0           \\\\\n",
       "\t30 & 54           & 55           &  4           &  2358964.000 &  1           & 0           \\\\\n",
       "\t... & ... & ... & ... & ... & ... & ...\\\\\n",
       "\t9422 &    0      &    0      &  0        &       0.0 & -1        & 2        \\\\\n",
       "\t9423 &    0      &    0      &  0        &       0.0 & -1        & 2        \\\\\n",
       "\t9424 & 9436      & 9437      & 28        &       0.5 &  1        & 0        \\\\\n",
       "\t9425 &    0      &    0      &  0        &       0.0 & -1        & 2        \\\\\n",
       "\t9426 &    0      &    0      &  0        &       0.0 & -1        & 2        \\\\\n",
       "\t9427 & 9438      & 9439      &  4        & 1144237.0 &  1        & 0        \\\\\n",
       "\t9428 &    0      &    0      &  0        &       0.0 & -1        & 1        \\\\\n",
       "\t9429 &    0      &    0      &  0        &       0.0 & -1        & 2        \\\\\n",
       "\t9430 & 9440      & 9441      & 16        &       0.5 &  1        & 0        \\\\\n",
       "\t9431 &    0      &    0      &  0        &       0.0 & -1        & 2        \\\\\n",
       "\t9432 &    0      &    0      &  0        &       0.0 & -1        & 2        \\\\\n",
       "\t9433 & 9442      & 9443      &  3        &     739.5 &  1        & 0        \\\\\n",
       "\t9434 &    0      &    0      &  0        &       0.0 & -1        & 1        \\\\\n",
       "\t9435 &    0      &    0      &  0        &       0.0 & -1        & 2        \\\\\n",
       "\t9436 & 9444      & 9445      & 36        &      37.5 &  1        & 0        \\\\\n",
       "\t9437 &    0      &    0      &  0        &       0.0 & -1        & 2        \\\\\n",
       "\t9438 &    0      &    0      &  0        &       0.0 & -1        & 2        \\\\\n",
       "\t9439 &    0      &    0      &  0        &       0.0 & -1        & 1        \\\\\n",
       "\t9440 &    0      &    0      &  0        &       0.0 & -1        & 2        \\\\\n",
       "\t9441 &    0      &    0      &  0        &       0.0 & -1        & 2        \\\\\n",
       "\t9442 &    0      &    0      &  0        &       0.0 & -1        & 1        \\\\\n",
       "\t9443 & 9446      & 9447      &  4        & 2386352.5 &  1        & 0        \\\\\n",
       "\t9444 &    0      &    0      &  0        &       0.0 & -1        & 2        \\\\\n",
       "\t9445 & 9448      & 9449      &  4        &  834898.0 &  1        & 0        \\\\\n",
       "\t9446 &    0      &    0      &  0        &       0.0 & -1        & 2        \\\\\n",
       "\t9447 &    0      &    0      &  0        &       0.0 & -1        & 1        \\\\\n",
       "\t9448 &    0      &    0      &  0        &       0.0 & -1        & 2        \\\\\n",
       "\t9449 & 9450      & 9451      &  4        &  927114.5 &  1        & 0        \\\\\n",
       "\t9450 &    0      &    0      &  0        &       0.0 & -1        & 1        \\\\\n",
       "\t9451 &    0      &    0      &  0        &       0.0 & -1        & 2        \\\\\n",
       "\\end{tabular}\n"
      ],
      "text/markdown": [
       "\n",
       "| <!--/--> | left daughter | right daughter | split var | split point | status | prediction | \n",
       "|---|---|---|---|---|---|---|---|---|---|---|---|---|---|---|---|---|---|---|---|---|---|---|---|---|---|---|---|---|---|---|---|---|---|---|---|---|---|---|---|---|---|---|---|---|---|---|---|---|---|---|---|---|---|---|---|---|---|---|---|---|\n",
       "| 1 |  2           |  3           |  1           | 50394547.500 |  1           | 0            | \n",
       "| 2 |  4           |  5           | 18           |        0.500 |  1           | 0            | \n",
       "| 3 |  0           |  0           |  0           |        0.000 | -1           | 2            | \n",
       "| 4 |  6           |  7           |  1           |   346269.000 |  1           | 0            | \n",
       "| 5 |  8           |  9           | 28           |        0.500 |  1           | 0            | \n",
       "| 6 | 10           | 11           |  1           |   174394.000 |  1           | 0            | \n",
       "| 7 | 12           | 13           |  4           |  1924852.000 |  1           | 0            | \n",
       "| 8 | 14           | 15           |  4           |  1157670.000 |  1           | 0            | \n",
       "| 9 | 16           | 17           | 13           |        0.500 |  1           | 0            | \n",
       "| 10 | 18           | 19           | 19           |        0.500 |  1           | 0            | \n",
       "| 11 | 20           | 21           | 35           |       40.750 |  1           | 0            | \n",
       "| 12 | 22           | 23           |  3           |     3305.500 |  1           | 0            | \n",
       "| 13 | 24           | 25           |  3           |     3380.500 |  1           | 0            | \n",
       "| 14 | 26           | 27           | 34           |     8408.165 |  1           | 0            | \n",
       "| 15 | 28           | 29           | 24           |        0.500 |  1           | 0            | \n",
       "| 16 | 30           | 31           |  3           |     3585.500 |  1           | 0            | \n",
       "| 17 | 32           | 33           | 36           |       17.000 |  1           | 0            | \n",
       "| 18 | 34           | 35           |  3           |     3545.500 |  1           | 0            | \n",
       "| 19 | 36           | 37           | 35           |       16.050 |  1           | 0            | \n",
       "| 20 | 38           | 39           | 19           |        0.500 |  1           | 0            | \n",
       "| 21 | 40           | 41           | 37           |        8.500 |  1           | 0            | \n",
       "| 22 | 42           | 43           | 37           |        7.500 |  1           | 0            | \n",
       "| 23 |  0           |  0           |  0           |        0.000 | -1           | 1            | \n",
       "| 24 | 44           | 45           | 32           |        0.500 |  1           | 0            | \n",
       "| 25 |  0           |  0           |  0           |        0.000 | -1           | 1            | \n",
       "| 26 | 46           | 47           |  7           |        0.500 |  1           | 0            | \n",
       "| 27 | 48           | 49           | 34           |     8602.820 |  1           | 0            | \n",
       "| 28 | 50           | 51           |  1           |   398145.000 |  1           | 0            | \n",
       "| 29 | 52           | 53           | 34           |    21973.595 |  1           | 0            | \n",
       "| 30 | 54           | 55           |  4           |  2358964.000 |  1           | 0            | \n",
       "| ... | ... | ... | ... | ... | ... | ... | \n",
       "| 9422 |    0      |    0      |  0        |       0.0 | -1        | 2         | \n",
       "| 9423 |    0      |    0      |  0        |       0.0 | -1        | 2         | \n",
       "| 9424 | 9436      | 9437      | 28        |       0.5 |  1        | 0         | \n",
       "| 9425 |    0      |    0      |  0        |       0.0 | -1        | 2         | \n",
       "| 9426 |    0      |    0      |  0        |       0.0 | -1        | 2         | \n",
       "| 9427 | 9438      | 9439      |  4        | 1144237.0 |  1        | 0         | \n",
       "| 9428 |    0      |    0      |  0        |       0.0 | -1        | 1         | \n",
       "| 9429 |    0      |    0      |  0        |       0.0 | -1        | 2         | \n",
       "| 9430 | 9440      | 9441      | 16        |       0.5 |  1        | 0         | \n",
       "| 9431 |    0      |    0      |  0        |       0.0 | -1        | 2         | \n",
       "| 9432 |    0      |    0      |  0        |       0.0 | -1        | 2         | \n",
       "| 9433 | 9442      | 9443      |  3        |     739.5 |  1        | 0         | \n",
       "| 9434 |    0      |    0      |  0        |       0.0 | -1        | 1         | \n",
       "| 9435 |    0      |    0      |  0        |       0.0 | -1        | 2         | \n",
       "| 9436 | 9444      | 9445      | 36        |      37.5 |  1        | 0         | \n",
       "| 9437 |    0      |    0      |  0        |       0.0 | -1        | 2         | \n",
       "| 9438 |    0      |    0      |  0        |       0.0 | -1        | 2         | \n",
       "| 9439 |    0      |    0      |  0        |       0.0 | -1        | 1         | \n",
       "| 9440 |    0      |    0      |  0        |       0.0 | -1        | 2         | \n",
       "| 9441 |    0      |    0      |  0        |       0.0 | -1        | 2         | \n",
       "| 9442 |    0      |    0      |  0        |       0.0 | -1        | 1         | \n",
       "| 9443 | 9446      | 9447      |  4        | 2386352.5 |  1        | 0         | \n",
       "| 9444 |    0      |    0      |  0        |       0.0 | -1        | 2         | \n",
       "| 9445 | 9448      | 9449      |  4        |  834898.0 |  1        | 0         | \n",
       "| 9446 |    0      |    0      |  0        |       0.0 | -1        | 2         | \n",
       "| 9447 |    0      |    0      |  0        |       0.0 | -1        | 1         | \n",
       "| 9448 |    0      |    0      |  0        |       0.0 | -1        | 2         | \n",
       "| 9449 | 9450      | 9451      |  4        |  927114.5 |  1        | 0         | \n",
       "| 9450 |    0      |    0      |  0        |       0.0 | -1        | 1         | \n",
       "| 9451 |    0      |    0      |  0        |       0.0 | -1        | 2         | \n",
       "\n",
       "\n"
      ],
      "text/plain": [
       "     left daughter right daughter split var split point  status prediction\n",
       "1     2             3              1        50394547.500  1     0         \n",
       "2     4             5             18               0.500  1     0         \n",
       "3     0             0              0               0.000 -1     2         \n",
       "4     6             7              1          346269.000  1     0         \n",
       "5     8             9             28               0.500  1     0         \n",
       "6    10            11              1          174394.000  1     0         \n",
       "7    12            13              4         1924852.000  1     0         \n",
       "8    14            15              4         1157670.000  1     0         \n",
       "9    16            17             13               0.500  1     0         \n",
       "10   18            19             19               0.500  1     0         \n",
       "11   20            21             35              40.750  1     0         \n",
       "12   22            23              3            3305.500  1     0         \n",
       "13   24            25              3            3380.500  1     0         \n",
       "14   26            27             34            8408.165  1     0         \n",
       "15   28            29             24               0.500  1     0         \n",
       "16   30            31              3            3585.500  1     0         \n",
       "17   32            33             36              17.000  1     0         \n",
       "18   34            35              3            3545.500  1     0         \n",
       "19   36            37             35              16.050  1     0         \n",
       "20   38            39             19               0.500  1     0         \n",
       "21   40            41             37               8.500  1     0         \n",
       "22   42            43             37               7.500  1     0         \n",
       "23    0             0              0               0.000 -1     1         \n",
       "24   44            45             32               0.500  1     0         \n",
       "25    0             0              0               0.000 -1     1         \n",
       "26   46            47              7               0.500  1     0         \n",
       "27   48            49             34            8602.820  1     0         \n",
       "28   50            51              1          398145.000  1     0         \n",
       "29   52            53             34           21973.595  1     0         \n",
       "30   54            55              4         2358964.000  1     0         \n",
       "...  ...           ...            ...       ...          ...    ...       \n",
       "9422    0             0            0              0.0    -1     2         \n",
       "9423    0             0            0              0.0    -1     2         \n",
       "9424 9436          9437           28              0.5     1     0         \n",
       "9425    0             0            0              0.0    -1     2         \n",
       "9426    0             0            0              0.0    -1     2         \n",
       "9427 9438          9439            4        1144237.0     1     0         \n",
       "9428    0             0            0              0.0    -1     1         \n",
       "9429    0             0            0              0.0    -1     2         \n",
       "9430 9440          9441           16              0.5     1     0         \n",
       "9431    0             0            0              0.0    -1     2         \n",
       "9432    0             0            0              0.0    -1     2         \n",
       "9433 9442          9443            3            739.5     1     0         \n",
       "9434    0             0            0              0.0    -1     1         \n",
       "9435    0             0            0              0.0    -1     2         \n",
       "9436 9444          9445           36             37.5     1     0         \n",
       "9437    0             0            0              0.0    -1     2         \n",
       "9438    0             0            0              0.0    -1     2         \n",
       "9439    0             0            0              0.0    -1     1         \n",
       "9440    0             0            0              0.0    -1     2         \n",
       "9441    0             0            0              0.0    -1     2         \n",
       "9442    0             0            0              0.0    -1     1         \n",
       "9443 9446          9447            4        2386352.5     1     0         \n",
       "9444    0             0            0              0.0    -1     2         \n",
       "9445 9448          9449            4         834898.0     1     0         \n",
       "9446    0             0            0              0.0    -1     2         \n",
       "9447    0             0            0              0.0    -1     1         \n",
       "9448    0             0            0              0.0    -1     2         \n",
       "9449 9450          9451            4         927114.5     1     0         \n",
       "9450    0             0            0              0.0    -1     1         \n",
       "9451    0             0            0              0.0    -1     2         "
      ]
     },
     "metadata": {},
     "output_type": "display_data"
    }
   ],
   "source": [
    "getTree(rf)"
   ]
  },
  {
   "cell_type": "code",
   "execution_count": 25,
   "metadata": {},
   "outputs": [],
   "source": [
    "help(getTree)"
   ]
  }
 ],
 "metadata": {
  "kernelspec": {
   "display_name": "R",
   "language": "R",
   "name": "ir"
  },
  "language_info": {
   "codemirror_mode": "r",
   "file_extension": ".r",
   "mimetype": "text/x-r-source",
   "name": "R",
   "pygments_lexer": "r",
   "version": "3.5.1"
  }
 },
 "nbformat": 4,
 "nbformat_minor": 2
}
