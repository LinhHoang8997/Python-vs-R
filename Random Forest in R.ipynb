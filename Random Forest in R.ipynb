{
 "cells": [
  {
   "cell_type": "code",
   "execution_count": 29,
   "metadata": {},
   "outputs": [],
   "source": [
    "library(party)\n",
    "library(randomForest)\n",
    "library(readr)\n",
    "library(dplyr)\n",
    "library(tictoc)"
   ]
  },
  {
   "cell_type": "code",
   "execution_count": 30,
   "metadata": {
    "scrolled": true
   },
   "outputs": [
    {
     "name": "stderr",
     "output_type": "stream",
     "text": [
      "Parsed with column specification:\n",
      "cols(\n",
      "  `Loan ID` = col_character(),\n",
      "  `Customer ID` = col_character(),\n",
      "  `Loan Status` = col_character(),\n",
      "  `Current Loan Amount` = col_integer(),\n",
      "  Term = col_character(),\n",
      "  `Credit Score` = col_integer(),\n",
      "  `Annual Income` = col_integer(),\n",
      "  `Years in current job` = col_character(),\n",
      "  `Home Ownership` = col_character(),\n",
      "  Purpose = col_character(),\n",
      "  `Monthly Debt` = col_double(),\n",
      "  `Years of Credit History` = col_double(),\n",
      "  `Months since last delinquent` = col_integer(),\n",
      "  `Number of Open Accounts` = col_integer(),\n",
      "  `Number of Credit Problems` = col_integer(),\n",
      "  `Current Credit Balance` = col_integer(),\n",
      "  `Maximum Open Credit` = col_integer(),\n",
      "  Bankruptcies = col_integer(),\n",
      "  `Tax Liens` = col_integer()\n",
      ")\n"
     ]
    }
   ],
   "source": [
    "df <- as.data.frame(read_csv('credit_train.csv'))"
   ]
  },
  {
   "cell_type": "code",
   "execution_count": 31,
   "metadata": {},
   "outputs": [
    {
     "data": {
      "text/html": [
       "<dl class=dl-horizontal>\n",
       "\t<dt>Loan ID</dt>\n",
       "\t\t<dd>'character'</dd>\n",
       "\t<dt>Customer ID</dt>\n",
       "\t\t<dd>'character'</dd>\n",
       "\t<dt>Loan Status</dt>\n",
       "\t\t<dd>'character'</dd>\n",
       "\t<dt>Current Loan Amount</dt>\n",
       "\t\t<dd>'integer'</dd>\n",
       "\t<dt>Term</dt>\n",
       "\t\t<dd>'character'</dd>\n",
       "\t<dt>Credit Score</dt>\n",
       "\t\t<dd>'integer'</dd>\n",
       "\t<dt>Annual Income</dt>\n",
       "\t\t<dd>'integer'</dd>\n",
       "\t<dt>Years in current job</dt>\n",
       "\t\t<dd>'character'</dd>\n",
       "\t<dt>Home Ownership</dt>\n",
       "\t\t<dd>'character'</dd>\n",
       "\t<dt>Purpose</dt>\n",
       "\t\t<dd>'character'</dd>\n",
       "\t<dt>Monthly Debt</dt>\n",
       "\t\t<dd>'numeric'</dd>\n",
       "\t<dt>Years of Credit History</dt>\n",
       "\t\t<dd>'numeric'</dd>\n",
       "\t<dt>Months since last delinquent</dt>\n",
       "\t\t<dd>'integer'</dd>\n",
       "\t<dt>Number of Open Accounts</dt>\n",
       "\t\t<dd>'integer'</dd>\n",
       "\t<dt>Number of Credit Problems</dt>\n",
       "\t\t<dd>'integer'</dd>\n",
       "\t<dt>Current Credit Balance</dt>\n",
       "\t\t<dd>'integer'</dd>\n",
       "\t<dt>Maximum Open Credit</dt>\n",
       "\t\t<dd>'integer'</dd>\n",
       "\t<dt>Bankruptcies</dt>\n",
       "\t\t<dd>'integer'</dd>\n",
       "\t<dt>Tax Liens</dt>\n",
       "\t\t<dd>'integer'</dd>\n",
       "</dl>\n"
      ],
      "text/latex": [
       "\\begin{description*}\n",
       "\\item[Loan ID] 'character'\n",
       "\\item[Customer ID] 'character'\n",
       "\\item[Loan Status] 'character'\n",
       "\\item[Current Loan Amount] 'integer'\n",
       "\\item[Term] 'character'\n",
       "\\item[Credit Score] 'integer'\n",
       "\\item[Annual Income] 'integer'\n",
       "\\item[Years in current job] 'character'\n",
       "\\item[Home Ownership] 'character'\n",
       "\\item[Purpose] 'character'\n",
       "\\item[Monthly Debt] 'numeric'\n",
       "\\item[Years of Credit History] 'numeric'\n",
       "\\item[Months since last delinquent] 'integer'\n",
       "\\item[Number of Open Accounts] 'integer'\n",
       "\\item[Number of Credit Problems] 'integer'\n",
       "\\item[Current Credit Balance] 'integer'\n",
       "\\item[Maximum Open Credit] 'integer'\n",
       "\\item[Bankruptcies] 'integer'\n",
       "\\item[Tax Liens] 'integer'\n",
       "\\end{description*}\n"
      ],
      "text/markdown": [
       "Loan ID\n",
       ":   'character'Customer ID\n",
       ":   'character'Loan Status\n",
       ":   'character'Current Loan Amount\n",
       ":   'integer'Term\n",
       ":   'character'Credit Score\n",
       ":   'integer'Annual Income\n",
       ":   'integer'Years in current job\n",
       ":   'character'Home Ownership\n",
       ":   'character'Purpose\n",
       ":   'character'Monthly Debt\n",
       ":   'numeric'Years of Credit History\n",
       ":   'numeric'Months since last delinquent\n",
       ":   'integer'Number of Open Accounts\n",
       ":   'integer'Number of Credit Problems\n",
       ":   'integer'Current Credit Balance\n",
       ":   'integer'Maximum Open Credit\n",
       ":   'integer'Bankruptcies\n",
       ":   'integer'Tax Liens\n",
       ":   'integer'\n",
       "\n"
      ],
      "text/plain": [
       "                     Loan ID                  Customer ID \n",
       "                 \"character\"                  \"character\" \n",
       "                 Loan Status          Current Loan Amount \n",
       "                 \"character\"                    \"integer\" \n",
       "                        Term                 Credit Score \n",
       "                 \"character\"                    \"integer\" \n",
       "               Annual Income         Years in current job \n",
       "                   \"integer\"                  \"character\" \n",
       "              Home Ownership                      Purpose \n",
       "                 \"character\"                  \"character\" \n",
       "                Monthly Debt      Years of Credit History \n",
       "                   \"numeric\"                    \"numeric\" \n",
       "Months since last delinquent      Number of Open Accounts \n",
       "                   \"integer\"                    \"integer\" \n",
       "   Number of Credit Problems       Current Credit Balance \n",
       "                   \"integer\"                    \"integer\" \n",
       "         Maximum Open Credit                 Bankruptcies \n",
       "                   \"integer\"                    \"integer\" \n",
       "                   Tax Liens \n",
       "                   \"integer\" "
      ]
     },
     "metadata": {},
     "output_type": "display_data"
    }
   ],
   "source": [
    "sapply(df,class)\n",
    "# There are a ton of NAs"
   ]
  },
  {
   "cell_type": "code",
   "execution_count": 32,
   "metadata": {},
   "outputs": [],
   "source": [
    "df <- na.omit(df)"
   ]
  },
  {
   "cell_type": "code",
   "execution_count": 33,
   "metadata": {},
   "outputs": [
    {
     "data": {
      "text/html": [
       "<table>\n",
       "<thead><tr><th></th><th scope=col>Loan ID</th><th scope=col>Customer ID</th><th scope=col>Loan Status</th><th scope=col>Current Loan Amount</th><th scope=col>Term</th><th scope=col>Credit Score</th><th scope=col>Annual Income</th><th scope=col>Years in current job</th><th scope=col>Home Ownership</th><th scope=col>Purpose</th><th scope=col>Monthly Debt</th><th scope=col>Years of Credit History</th><th scope=col>Months since last delinquent</th><th scope=col>Number of Open Accounts</th><th scope=col>Number of Credit Problems</th><th scope=col>Current Credit Balance</th><th scope=col>Maximum Open Credit</th><th scope=col>Bankruptcies</th><th scope=col>Tax Liens</th></tr></thead>\n",
       "<tbody>\n",
       "\t<tr><th scope=row>3</th><td>4eed4e6a-aa2f-4c91-8651-ce984ee8fb26</td><td>5efb2b2b-bf11-4dfd-a572-3761a2694725</td><td>Fully Paid                          </td><td>99999999                            </td><td>Short Term                          </td><td>741                                 </td><td>2231892                             </td><td>8 years                             </td><td>Own Home                            </td><td>Debt Consolidation                  </td><td>29200.53                            </td><td>14.9                                </td><td>29                                  </td><td>18                                  </td><td>1                                   </td><td>297996                              </td><td>750090                              </td><td>0                                   </td><td>0                                   </td></tr>\n",
       "\t<tr><th scope=row>7</th><td>273581de-85d8-4332-81a5-19b04ce68666            </td><td>90a75dde-34d5-419c-90dc-1e58b04b3e35            </td><td>Fully Paid                                      </td><td><span style=white-space:pre-wrap>  217646</span></td><td>Short Term                                      </td><td>730                                             </td><td>1184194                                         </td><td>&lt; 1 year                                     </td><td>Home Mortgage                                   </td><td>Debt Consolidation                              </td><td>10855.08                                        </td><td>19.6                                            </td><td>10                                              </td><td>13                                              </td><td>1                                               </td><td>122170                                          </td><td>272052                                          </td><td>1                                               </td><td>0                                               </td></tr>\n",
       "</tbody>\n",
       "</table>\n"
      ],
      "text/latex": [
       "\\begin{tabular}{r|lllllllllllllllllll}\n",
       "  & Loan ID & Customer ID & Loan Status & Current Loan Amount & Term & Credit Score & Annual Income & Years in current job & Home Ownership & Purpose & Monthly Debt & Years of Credit History & Months since last delinquent & Number of Open Accounts & Number of Credit Problems & Current Credit Balance & Maximum Open Credit & Bankruptcies & Tax Liens\\\\\n",
       "\\hline\n",
       "\t3 & 4eed4e6a-aa2f-4c91-8651-ce984ee8fb26 & 5efb2b2b-bf11-4dfd-a572-3761a2694725 & Fully Paid                           & 99999999                             & Short Term                           & 741                                  & 2231892                              & 8 years                              & Own Home                             & Debt Consolidation                   & 29200.53                             & 14.9                                 & 29                                   & 18                                   & 1                                    & 297996                               & 750090                               & 0                                    & 0                                   \\\\\n",
       "\t7 & 273581de-85d8-4332-81a5-19b04ce68666 & 90a75dde-34d5-419c-90dc-1e58b04b3e35 & Fully Paid                           &   217646                             & Short Term                           & 730                                  & 1184194                              & < 1 year                             & Home Mortgage                        & Debt Consolidation                   & 10855.08                             & 19.6                                 & 10                                   & 13                                   & 1                                    & 122170                               & 272052                               & 1                                    & 0                                   \\\\\n",
       "\\end{tabular}\n"
      ],
      "text/markdown": [
       "\n",
       "| <!--/--> | Loan ID | Customer ID | Loan Status | Current Loan Amount | Term | Credit Score | Annual Income | Years in current job | Home Ownership | Purpose | Monthly Debt | Years of Credit History | Months since last delinquent | Number of Open Accounts | Number of Credit Problems | Current Credit Balance | Maximum Open Credit | Bankruptcies | Tax Liens | \n",
       "|---|---|\n",
       "| 3 | 4eed4e6a-aa2f-4c91-8651-ce984ee8fb26 | 5efb2b2b-bf11-4dfd-a572-3761a2694725 | Fully Paid                           | 99999999                             | Short Term                           | 741                                  | 2231892                              | 8 years                              | Own Home                             | Debt Consolidation                   | 29200.53                             | 14.9                                 | 29                                   | 18                                   | 1                                    | 297996                               | 750090                               | 0                                    | 0                                    | \n",
       "| 7 | 273581de-85d8-4332-81a5-19b04ce68666 | 90a75dde-34d5-419c-90dc-1e58b04b3e35 | Fully Paid                           |   217646                             | Short Term                           | 730                                  | 1184194                              | < 1 year                             | Home Mortgage                        | Debt Consolidation                   | 10855.08                             | 19.6                                 | 10                                   | 13                                   | 1                                    | 122170                               | 272052                               | 1                                    | 0                                    | \n",
       "\n",
       "\n"
      ],
      "text/plain": [
       "  Loan ID                              Customer ID                         \n",
       "3 4eed4e6a-aa2f-4c91-8651-ce984ee8fb26 5efb2b2b-bf11-4dfd-a572-3761a2694725\n",
       "7 273581de-85d8-4332-81a5-19b04ce68666 90a75dde-34d5-419c-90dc-1e58b04b3e35\n",
       "  Loan Status Current Loan Amount Term       Credit Score Annual Income\n",
       "3 Fully Paid  99999999            Short Term 741          2231892      \n",
       "7 Fully Paid    217646            Short Term 730          1184194      \n",
       "  Years in current job Home Ownership Purpose            Monthly Debt\n",
       "3 8 years              Own Home       Debt Consolidation 29200.53    \n",
       "7 < 1 year             Home Mortgage  Debt Consolidation 10855.08    \n",
       "  Years of Credit History Months since last delinquent Number of Open Accounts\n",
       "3 14.9                    29                           18                     \n",
       "7 19.6                    10                           13                     \n",
       "  Number of Credit Problems Current Credit Balance Maximum Open Credit\n",
       "3 1                         297996                 750090             \n",
       "7 1                         122170                 272052             \n",
       "  Bankruptcies Tax Liens\n",
       "3 0            0        \n",
       "7 1            0        "
      ]
     },
     "metadata": {},
     "output_type": "display_data"
    }
   ],
   "source": [
    "head(df,2)"
   ]
  },
  {
   "cell_type": "code",
   "execution_count": 34,
   "metadata": {},
   "outputs": [],
   "source": [
    "df <- select(df,-`Loan ID`,-`Customer ID`) "
   ]
  },
  {
   "cell_type": "code",
   "execution_count": 35,
   "metadata": {},
   "outputs": [],
   "source": [
    "library(caret)\n",
    "dummy <- dummyVars(\"~ .\", data = df,fullRank = TRUE, sep=\".\")"
   ]
  },
  {
   "cell_type": "code",
   "execution_count": 36,
   "metadata": {},
   "outputs": [],
   "source": [
    "features <- as.data.frame(predict(dummy, df))"
   ]
  },
  {
   "cell_type": "code",
   "execution_count": 37,
   "metadata": {},
   "outputs": [
    {
     "data": {
      "text/html": [
       "<table>\n",
       "<thead><tr><th></th><th scope=col>`Loan Status`Fully Paid</th><th scope=col>`Current Loan Amount`</th><th scope=col>TermShort Term</th><th scope=col>`Credit Score`</th><th scope=col>`Annual Income`</th><th scope=col>`Years in current job`1 year</th><th scope=col>`Years in current job`10+ years</th><th scope=col>`Years in current job`2 years</th><th scope=col>`Years in current job`3 years</th><th scope=col>`Years in current job`4 years</th><th scope=col>...</th><th scope=col>Purposewedding</th><th scope=col>`Monthly Debt`</th><th scope=col>`Years of Credit History`</th><th scope=col>`Months since last delinquent`</th><th scope=col>`Number of Open Accounts`</th><th scope=col>`Number of Credit Problems`</th><th scope=col>`Current Credit Balance`</th><th scope=col>`Maximum Open Credit`</th><th scope=col>Bankruptcies</th><th scope=col>`Tax Liens`</th></tr></thead>\n",
       "<tbody>\n",
       "\t<tr><th scope=row>3</th><td>1       </td><td>99999999</td><td>1       </td><td>741     </td><td>2231892 </td><td>0       </td><td>0       </td><td>0       </td><td>0       </td><td>0       </td><td>...     </td><td>0       </td><td>29200.53</td><td>14.9    </td><td>29      </td><td>18      </td><td>1       </td><td>297996  </td><td>750090  </td><td>0       </td><td>0       </td></tr>\n",
       "\t<tr><th scope=row>7</th><td>1       </td><td>  217646</td><td>1       </td><td>730     </td><td>1184194 </td><td>0       </td><td>0       </td><td>0       </td><td>0       </td><td>0       </td><td>...     </td><td>0       </td><td>10855.08</td><td>19.6    </td><td>10      </td><td>13      </td><td>1       </td><td>122170  </td><td>272052  </td><td>1       </td><td>0       </td></tr>\n",
       "\t<tr><th scope=row>9</th><td>1       </td><td>  548746</td><td>1       </td><td>678     </td><td>2559110 </td><td>0       </td><td>0       </td><td>1       </td><td>0       </td><td>0       </td><td>...     </td><td>0       </td><td>18660.28</td><td>22.6    </td><td>33      </td><td> 4      </td><td>0       </td><td>437171  </td><td>555038  </td><td>0       </td><td>0       </td></tr>\n",
       "</tbody>\n",
       "</table>\n"
      ],
      "text/latex": [
       "\\begin{tabular}{r|lllllllllllllllllllllllllllllllllllllllllll}\n",
       "  & `Loan Status`Fully Paid & `Current Loan Amount` & TermShort Term & `Credit Score` & `Annual Income` & `Years in current job`1 year & `Years in current job`10+ years & `Years in current job`2 years & `Years in current job`3 years & `Years in current job`4 years & ... & Purposewedding & `Monthly Debt` & `Years of Credit History` & `Months since last delinquent` & `Number of Open Accounts` & `Number of Credit Problems` & `Current Credit Balance` & `Maximum Open Credit` & Bankruptcies & `Tax Liens`\\\\\n",
       "\\hline\n",
       "\t3 & 1        & 99999999 & 1        & 741      & 2231892  & 0        & 0        & 0        & 0        & 0        & ...      & 0        & 29200.53 & 14.9     & 29       & 18       & 1        & 297996   & 750090   & 0        & 0       \\\\\n",
       "\t7 & 1        &   217646 & 1        & 730      & 1184194  & 0        & 0        & 0        & 0        & 0        & ...      & 0        & 10855.08 & 19.6     & 10       & 13       & 1        & 122170   & 272052   & 1        & 0       \\\\\n",
       "\t9 & 1        &   548746 & 1        & 678      & 2559110  & 0        & 0        & 1        & 0        & 0        & ...      & 0        & 18660.28 & 22.6     & 33       &  4       & 0        & 437171   & 555038   & 0        & 0       \\\\\n",
       "\\end{tabular}\n"
      ],
      "text/markdown": [
       "\n",
       "| <!--/--> | `Loan Status`Fully Paid | `Current Loan Amount` | TermShort Term | `Credit Score` | `Annual Income` | `Years in current job`1 year | `Years in current job`10+ years | `Years in current job`2 years | `Years in current job`3 years | `Years in current job`4 years | ... | Purposewedding | `Monthly Debt` | `Years of Credit History` | `Months since last delinquent` | `Number of Open Accounts` | `Number of Credit Problems` | `Current Credit Balance` | `Maximum Open Credit` | Bankruptcies | `Tax Liens` | \n",
       "|---|---|---|\n",
       "| 3 | 1        | 99999999 | 1        | 741      | 2231892  | 0        | 0        | 0        | 0        | 0        | ...      | 0        | 29200.53 | 14.9     | 29       | 18       | 1        | 297996   | 750090   | 0        | 0        | \n",
       "| 7 | 1        |   217646 | 1        | 730      | 1184194  | 0        | 0        | 0        | 0        | 0        | ...      | 0        | 10855.08 | 19.6     | 10       | 13       | 1        | 122170   | 272052   | 1        | 0        | \n",
       "| 9 | 1        |   548746 | 1        | 678      | 2559110  | 0        | 0        | 1        | 0        | 0        | ...      | 0        | 18660.28 | 22.6     | 33       |  4       | 0        | 437171   | 555038   | 0        | 0        | \n",
       "\n",
       "\n"
      ],
      "text/plain": [
       "  `Loan Status`Fully Paid `Current Loan Amount` TermShort Term `Credit Score`\n",
       "3 1                       99999999              1              741           \n",
       "7 1                         217646              1              730           \n",
       "9 1                         548746              1              678           \n",
       "  `Annual Income` `Years in current job`1 year `Years in current job`10+ years\n",
       "3 2231892         0                            0                              \n",
       "7 1184194         0                            0                              \n",
       "9 2559110         0                            0                              \n",
       "  `Years in current job`2 years `Years in current job`3 years\n",
       "3 0                             0                            \n",
       "7 0                             0                            \n",
       "9 1                             0                            \n",
       "  `Years in current job`4 years ... Purposewedding `Monthly Debt`\n",
       "3 0                             ... 0              29200.53      \n",
       "7 0                             ... 0              10855.08      \n",
       "9 0                             ... 0              18660.28      \n",
       "  `Years of Credit History` `Months since last delinquent`\n",
       "3 14.9                      29                            \n",
       "7 19.6                      10                            \n",
       "9 22.6                      33                            \n",
       "  `Number of Open Accounts` `Number of Credit Problems`\n",
       "3 18                        1                          \n",
       "7 13                        1                          \n",
       "9  4                        0                          \n",
       "  `Current Credit Balance` `Maximum Open Credit` Bankruptcies `Tax Liens`\n",
       "3 297996                   750090                0            0          \n",
       "7 122170                   272052                1            0          \n",
       "9 437171                   555038                0            0          "
      ]
     },
     "metadata": {},
     "output_type": "display_data"
    }
   ],
   "source": [
    "head(features,3)"
   ]
  },
  {
   "cell_type": "code",
   "execution_count": 38,
   "metadata": {},
   "outputs": [
    {
     "data": {
      "text/html": [
       "<table>\n",
       "<thead><tr><th></th><th scope=col>Loan.StatusFully.Paid</th><th scope=col>Current.Loan.Amount</th><th scope=col>TermShort.Term</th><th scope=col>Credit.Score</th><th scope=col>Annual.Income</th><th scope=col>Years.in.current.job1.year</th><th scope=col>Years.in.current.job10plus.years</th><th scope=col>Years.in.current.job2.years</th><th scope=col>Years.in.current.job3.years</th><th scope=col>Years.in.current.job4.years</th><th scope=col>...</th><th scope=col>Purposewedding</th><th scope=col>Monthly.Debt</th><th scope=col>Years.of.Credit.History</th><th scope=col>Months.since.last.delinquent</th><th scope=col>Number.of.Open.Accounts</th><th scope=col>Number.of.Credit.Problems</th><th scope=col>Current.Credit.Balance</th><th scope=col>Maximum.Open.Credit</th><th scope=col>Bankruptcies</th><th scope=col>Tax.Liens</th></tr></thead>\n",
       "<tbody>\n",
       "\t<tr><th scope=row>3</th><td>1       </td><td>1e+08   </td><td>1       </td><td>741     </td><td>2231892 </td><td>0       </td><td>0       </td><td>0       </td><td>0       </td><td>0       </td><td>...     </td><td>0       </td><td>29200.53</td><td>14.9    </td><td>29      </td><td>18      </td><td>1       </td><td>297996  </td><td>750090  </td><td>0       </td><td>0       </td></tr>\n",
       "</tbody>\n",
       "</table>\n"
      ],
      "text/latex": [
       "\\begin{tabular}{r|lllllllllllllllllllllllllllllllllllllllllll}\n",
       "  & Loan.StatusFully.Paid & Current.Loan.Amount & TermShort.Term & Credit.Score & Annual.Income & Years.in.current.job1.year & Years.in.current.job10plus.years & Years.in.current.job2.years & Years.in.current.job3.years & Years.in.current.job4.years & ... & Purposewedding & Monthly.Debt & Years.of.Credit.History & Months.since.last.delinquent & Number.of.Open.Accounts & Number.of.Credit.Problems & Current.Credit.Balance & Maximum.Open.Credit & Bankruptcies & Tax.Liens\\\\\n",
       "\\hline\n",
       "\t3 & 1        & 1e+08    & 1        & 741      & 2231892  & 0        & 0        & 0        & 0        & 0        & ...      & 0        & 29200.53 & 14.9     & 29       & 18       & 1        & 297996   & 750090   & 0        & 0       \\\\\n",
       "\\end{tabular}\n"
      ],
      "text/markdown": [
       "\n",
       "| <!--/--> | Loan.StatusFully.Paid | Current.Loan.Amount | TermShort.Term | Credit.Score | Annual.Income | Years.in.current.job1.year | Years.in.current.job10plus.years | Years.in.current.job2.years | Years.in.current.job3.years | Years.in.current.job4.years | ... | Purposewedding | Monthly.Debt | Years.of.Credit.History | Months.since.last.delinquent | Number.of.Open.Accounts | Number.of.Credit.Problems | Current.Credit.Balance | Maximum.Open.Credit | Bankruptcies | Tax.Liens | \n",
       "|---|\n",
       "| 3 | 1        | 1e+08    | 1        | 741      | 2231892  | 0        | 0        | 0        | 0        | 0        | ...      | 0        | 29200.53 | 14.9     | 29       | 18       | 1        | 297996   | 750090   | 0        | 0        | \n",
       "\n",
       "\n"
      ],
      "text/plain": [
       "  Loan.StatusFully.Paid Current.Loan.Amount TermShort.Term Credit.Score\n",
       "3 1                     1e+08               1              741         \n",
       "  Annual.Income Years.in.current.job1.year Years.in.current.job10plus.years\n",
       "3 2231892       0                          0                               \n",
       "  Years.in.current.job2.years Years.in.current.job3.years\n",
       "3 0                           0                          \n",
       "  Years.in.current.job4.years ... Purposewedding Monthly.Debt\n",
       "3 0                           ... 0              29200.53    \n",
       "  Years.of.Credit.History Months.since.last.delinquent Number.of.Open.Accounts\n",
       "3 14.9                    29                           18                     \n",
       "  Number.of.Credit.Problems Current.Credit.Balance Maximum.Open.Credit\n",
       "3 1                         297996                 750090             \n",
       "  Bankruptcies Tax.Liens\n",
       "3 0            0        "
      ]
     },
     "metadata": {},
     "output_type": "display_data"
    }
   ],
   "source": [
    "colnames(features) <- gsub(\"`\", \"\", colnames(features))\n",
    "colnames(features) <- gsub(\" \", \".\", colnames(features))\n",
    "colnames(features) <- gsub(\"\\\\+\", \"plus\", colnames(features))\n",
    "colnames(features) <- gsub(\"\\\\/\", \"\", colnames(features))\n",
    "# In R, use \\\\ to grab special character\n",
    "head(features,1)"
   ]
  },
  {
   "cell_type": "code",
   "execution_count": 39,
   "metadata": {},
   "outputs": [
    {
     "data": {
      "text/html": [
       "<ol class=list-inline>\n",
       "\t<li>'Loan.StatusFully.Paid'</li>\n",
       "\t<li>'Current.Loan.Amount'</li>\n",
       "\t<li>'TermShort.Term'</li>\n",
       "\t<li>'Credit.Score'</li>\n",
       "\t<li>'Annual.Income'</li>\n",
       "\t<li>'Years.in.current.job1.year'</li>\n",
       "\t<li>'Years.in.current.job10plus.years'</li>\n",
       "\t<li>'Years.in.current.job2.years'</li>\n",
       "\t<li>'Years.in.current.job3.years'</li>\n",
       "\t<li>'Years.in.current.job4.years'</li>\n",
       "\t<li>'Years.in.current.job5.years'</li>\n",
       "\t<li>'Years.in.current.job6.years'</li>\n",
       "\t<li>'Years.in.current.job7.years'</li>\n",
       "\t<li>'Years.in.current.job8.years'</li>\n",
       "\t<li>'Years.in.current.job9.years'</li>\n",
       "\t<li>'Years.in.current.jobna'</li>\n",
       "\t<li>'Home.OwnershipHome.Mortgage'</li>\n",
       "\t<li>'Home.OwnershipOwn.Home'</li>\n",
       "\t<li>'Home.OwnershipRent'</li>\n",
       "\t<li>'PurposeBuy.a.Car'</li>\n",
       "\t<li>'PurposeBuy.House'</li>\n",
       "\t<li>'PurposeDebt.Consolidation'</li>\n",
       "\t<li>'PurposeEducational.Expenses'</li>\n",
       "\t<li>'PurposeHome.Improvements'</li>\n",
       "\t<li>'Purposemajor_purchase'</li>\n",
       "\t<li>'PurposeMedical.Bills'</li>\n",
       "\t<li>'Purposemoving'</li>\n",
       "\t<li>'Purposeother'</li>\n",
       "\t<li>'PurposeOther'</li>\n",
       "\t<li>'Purposerenewable_energy'</li>\n",
       "\t<li>'Purposesmall_business'</li>\n",
       "\t<li>'PurposeTake.a.Trip'</li>\n",
       "\t<li>'Purposevacation'</li>\n",
       "\t<li>'Purposewedding'</li>\n",
       "\t<li>'Monthly.Debt'</li>\n",
       "\t<li>'Years.of.Credit.History'</li>\n",
       "\t<li>'Months.since.last.delinquent'</li>\n",
       "\t<li>'Number.of.Open.Accounts'</li>\n",
       "\t<li>'Number.of.Credit.Problems'</li>\n",
       "\t<li>'Current.Credit.Balance'</li>\n",
       "\t<li>'Maximum.Open.Credit'</li>\n",
       "\t<li>'Bankruptcies'</li>\n",
       "\t<li>'Tax.Liens'</li>\n",
       "</ol>\n"
      ],
      "text/latex": [
       "\\begin{enumerate*}\n",
       "\\item 'Loan.StatusFully.Paid'\n",
       "\\item 'Current.Loan.Amount'\n",
       "\\item 'TermShort.Term'\n",
       "\\item 'Credit.Score'\n",
       "\\item 'Annual.Income'\n",
       "\\item 'Years.in.current.job1.year'\n",
       "\\item 'Years.in.current.job10plus.years'\n",
       "\\item 'Years.in.current.job2.years'\n",
       "\\item 'Years.in.current.job3.years'\n",
       "\\item 'Years.in.current.job4.years'\n",
       "\\item 'Years.in.current.job5.years'\n",
       "\\item 'Years.in.current.job6.years'\n",
       "\\item 'Years.in.current.job7.years'\n",
       "\\item 'Years.in.current.job8.years'\n",
       "\\item 'Years.in.current.job9.years'\n",
       "\\item 'Years.in.current.jobna'\n",
       "\\item 'Home.OwnershipHome.Mortgage'\n",
       "\\item 'Home.OwnershipOwn.Home'\n",
       "\\item 'Home.OwnershipRent'\n",
       "\\item 'PurposeBuy.a.Car'\n",
       "\\item 'PurposeBuy.House'\n",
       "\\item 'PurposeDebt.Consolidation'\n",
       "\\item 'PurposeEducational.Expenses'\n",
       "\\item 'PurposeHome.Improvements'\n",
       "\\item 'Purposemajor\\_purchase'\n",
       "\\item 'PurposeMedical.Bills'\n",
       "\\item 'Purposemoving'\n",
       "\\item 'Purposeother'\n",
       "\\item 'PurposeOther'\n",
       "\\item 'Purposerenewable\\_energy'\n",
       "\\item 'Purposesmall\\_business'\n",
       "\\item 'PurposeTake.a.Trip'\n",
       "\\item 'Purposevacation'\n",
       "\\item 'Purposewedding'\n",
       "\\item 'Monthly.Debt'\n",
       "\\item 'Years.of.Credit.History'\n",
       "\\item 'Months.since.last.delinquent'\n",
       "\\item 'Number.of.Open.Accounts'\n",
       "\\item 'Number.of.Credit.Problems'\n",
       "\\item 'Current.Credit.Balance'\n",
       "\\item 'Maximum.Open.Credit'\n",
       "\\item 'Bankruptcies'\n",
       "\\item 'Tax.Liens'\n",
       "\\end{enumerate*}\n"
      ],
      "text/markdown": [
       "1. 'Loan.StatusFully.Paid'\n",
       "2. 'Current.Loan.Amount'\n",
       "3. 'TermShort.Term'\n",
       "4. 'Credit.Score'\n",
       "5. 'Annual.Income'\n",
       "6. 'Years.in.current.job1.year'\n",
       "7. 'Years.in.current.job10plus.years'\n",
       "8. 'Years.in.current.job2.years'\n",
       "9. 'Years.in.current.job3.years'\n",
       "10. 'Years.in.current.job4.years'\n",
       "11. 'Years.in.current.job5.years'\n",
       "12. 'Years.in.current.job6.years'\n",
       "13. 'Years.in.current.job7.years'\n",
       "14. 'Years.in.current.job8.years'\n",
       "15. 'Years.in.current.job9.years'\n",
       "16. 'Years.in.current.jobna'\n",
       "17. 'Home.OwnershipHome.Mortgage'\n",
       "18. 'Home.OwnershipOwn.Home'\n",
       "19. 'Home.OwnershipRent'\n",
       "20. 'PurposeBuy.a.Car'\n",
       "21. 'PurposeBuy.House'\n",
       "22. 'PurposeDebt.Consolidation'\n",
       "23. 'PurposeEducational.Expenses'\n",
       "24. 'PurposeHome.Improvements'\n",
       "25. 'Purposemajor_purchase'\n",
       "26. 'PurposeMedical.Bills'\n",
       "27. 'Purposemoving'\n",
       "28. 'Purposeother'\n",
       "29. 'PurposeOther'\n",
       "30. 'Purposerenewable_energy'\n",
       "31. 'Purposesmall_business'\n",
       "32. 'PurposeTake.a.Trip'\n",
       "33. 'Purposevacation'\n",
       "34. 'Purposewedding'\n",
       "35. 'Monthly.Debt'\n",
       "36. 'Years.of.Credit.History'\n",
       "37. 'Months.since.last.delinquent'\n",
       "38. 'Number.of.Open.Accounts'\n",
       "39. 'Number.of.Credit.Problems'\n",
       "40. 'Current.Credit.Balance'\n",
       "41. 'Maximum.Open.Credit'\n",
       "42. 'Bankruptcies'\n",
       "43. 'Tax.Liens'\n",
       "\n",
       "\n"
      ],
      "text/plain": [
       " [1] \"Loan.StatusFully.Paid\"            \"Current.Loan.Amount\"             \n",
       " [3] \"TermShort.Term\"                   \"Credit.Score\"                    \n",
       " [5] \"Annual.Income\"                    \"Years.in.current.job1.year\"      \n",
       " [7] \"Years.in.current.job10plus.years\" \"Years.in.current.job2.years\"     \n",
       " [9] \"Years.in.current.job3.years\"      \"Years.in.current.job4.years\"     \n",
       "[11] \"Years.in.current.job5.years\"      \"Years.in.current.job6.years\"     \n",
       "[13] \"Years.in.current.job7.years\"      \"Years.in.current.job8.years\"     \n",
       "[15] \"Years.in.current.job9.years\"      \"Years.in.current.jobna\"          \n",
       "[17] \"Home.OwnershipHome.Mortgage\"      \"Home.OwnershipOwn.Home\"          \n",
       "[19] \"Home.OwnershipRent\"               \"PurposeBuy.a.Car\"                \n",
       "[21] \"PurposeBuy.House\"                 \"PurposeDebt.Consolidation\"       \n",
       "[23] \"PurposeEducational.Expenses\"      \"PurposeHome.Improvements\"        \n",
       "[25] \"Purposemajor_purchase\"            \"PurposeMedical.Bills\"            \n",
       "[27] \"Purposemoving\"                    \"Purposeother\"                    \n",
       "[29] \"PurposeOther\"                     \"Purposerenewable_energy\"         \n",
       "[31] \"Purposesmall_business\"            \"PurposeTake.a.Trip\"              \n",
       "[33] \"Purposevacation\"                  \"Purposewedding\"                  \n",
       "[35] \"Monthly.Debt\"                     \"Years.of.Credit.History\"         \n",
       "[37] \"Months.since.last.delinquent\"     \"Number.of.Open.Accounts\"         \n",
       "[39] \"Number.of.Credit.Problems\"        \"Current.Credit.Balance\"          \n",
       "[41] \"Maximum.Open.Credit\"              \"Bankruptcies\"                    \n",
       "[43] \"Tax.Liens\"                       "
      ]
     },
     "metadata": {},
     "output_type": "display_data"
    }
   ],
   "source": [
    "colnames(features)"
   ]
  },
  {
   "cell_type": "code",
   "execution_count": 40,
   "metadata": {},
   "outputs": [],
   "source": [
    "set.seed(100)\n",
    "train <- sample(nrow(features), 0.75*nrow(features), replace = FALSE)\n",
    "TrainSet <- features[train,]\n",
    "TestSet <- features[-train,]"
   ]
  },
  {
   "cell_type": "code",
   "execution_count": 41,
   "metadata": {},
   "outputs": [],
   "source": [
    "labels <- as.factor(features$Loan.StatusFully.Paid)\n",
    "features <- select(features, -Loan.StatusFully.Paid)"
   ]
  },
  {
   "cell_type": "code",
   "execution_count": 48,
   "metadata": {},
   "outputs": [
    {
     "name": "stdout",
     "output_type": "stream",
     "text": [
      "Training Set Shape: 28507 43 \n",
      "Testing Set Shape: 9503 43"
     ]
    }
   ],
   "source": [
    "cat('Training Set Shape:', dim(TrainSet),\"\\n\")\n",
    "cat('Testing Set Shape:',dim(ValidSet))"
   ]
  },
  {
   "cell_type": "code",
   "execution_count": 49,
   "metadata": {
    "scrolled": true
   },
   "outputs": [
    {
     "name": "stdout",
     "output_type": "stream",
     "text": [
      "147.46 sec elapsed\n"
     ]
    }
   ],
   "source": [
    "tic()\n",
    "    random_forest = rf <- randomForest(features,labels, ntree=200, importance=TRUE)\n",
    "toc()"
   ]
  },
  {
   "cell_type": "code",
   "execution_count": 50,
   "metadata": {},
   "outputs": [
    {
     "name": "stdout",
     "output_type": "stream",
     "text": [
      "\n",
      "Call:\n",
      " randomForest(x = features, y = labels, ntree = 200, importance = TRUE) \n",
      "               Type of random forest: classification\n",
      "                     Number of trees: 200\n",
      "No. of variables tried at each split: 6\n",
      "\n",
      "        OOB estimate of  error rate: 15.23%\n",
      "Confusion matrix:\n",
      "     0     1 class.error\n",
      "0 2154  5737 0.727030795\n",
      "1   51 30068 0.001693283\n"
     ]
    }
   ],
   "source": [
    "print(rf)"
   ]
  },
  {
   "cell_type": "code",
   "execution_count": 51,
   "metadata": {
    "scrolled": true
   },
   "outputs": [
    {
     "data": {
      "image/png": "[encoded data removed]",
      "text/plain": [
       "Plot with title \"rf\""
      ]
     },
     "metadata": {},
     "output_type": "display_data"
    }
   ],
   "source": [
    "plot(rf)\n",
    "# Have to find a way to do this in Python"
   ]
  },
  {
   "cell_type": "code",
   "execution_count": 52,
   "metadata": {},
   "outputs": [
    {
     "data": {
      "text/plain": [
       "         \n",
       "predTrain     0     1\n",
       "        0  5850     0\n",
       "        1    71 22586"
      ]
     },
     "metadata": {},
     "output_type": "display_data"
    }
   ],
   "source": [
    "# Predicting on train set\n",
    "predTrain <- predict(rf, TrainSet, type = \"class\")\n",
    "# Checking classification accuracy\n",
    "table(predTrain, TrainSet$Loan.StatusFully.Paid)  "
   ]
  },
  {
   "cell_type": "code",
   "execution_count": 53,
   "metadata": {
    "scrolled": true
   },
   "outputs": [
    {
     "data": {
      "text/html": [
       "0.996527412396085"
      ],
      "text/latex": [
       "0.996527412396085"
      ],
      "text/markdown": [
       "0.996527412396085"
      ],
      "text/plain": [
       "[1] 0.9965274"
      ]
     },
     "metadata": {},
     "output_type": "display_data"
    },
    {
     "data": {
      "text/plain": [
       "         \n",
       "predValid    0    1\n",
       "        0 1937    0\n",
       "        1   33 7533"
      ]
     },
     "metadata": {},
     "output_type": "display_data"
    }
   ],
   "source": [
    "# Checking classification accuracy\n",
    "predValid <- predict(rf, ValidSet, type = \"class\")\n",
    "mean(predValid == ValidSet$Loan.StatusFully.Paid)                    \n",
    "table(predValid,ValidSet$Loan.StatusFully.Paid)"
   ]
  },
  {
   "cell_type": "code",
   "execution_count": 54,
   "metadata": {
    "scrolled": false
   },
   "outputs": [
    {
     "data": {
      "text/html": [
       "<table>\n",
       "<thead><tr><th></th><th scope=col>0</th><th scope=col>1</th><th scope=col>MeanDecreaseAccuracy</th><th scope=col>MeanDecreaseGini</th></tr></thead>\n",
       "<tbody>\n",
       "\t<tr><th scope=row>Current.Loan.Amount</th><td> 29.387386906</td><td>48.3954331   </td><td> 52.3775237  </td><td>1.209113e+03 </td></tr>\n",
       "\t<tr><th scope=row>TermShort.Term</th><td> -4.000801569</td><td>43.5041663   </td><td> 43.2079373  </td><td>1.166810e+02 </td></tr>\n",
       "\t<tr><th scope=row>Credit.Score</th><td>140.538353535</td><td>96.3401324   </td><td>119.8523456  </td><td>3.178923e+03 </td></tr>\n",
       "\t<tr><th scope=row>Annual.Income</th><td>  1.895158684</td><td>64.8138750   </td><td> 64.2576876  </td><td>9.154097e+02 </td></tr>\n",
       "\t<tr><th scope=row>Years.in.current.job1.year</th><td> -1.915087661</td><td>16.2703764   </td><td> 14.7602309  </td><td>5.601701e+01 </td></tr>\n",
       "\t<tr><th scope=row>Years.in.current.job10plus.years</th><td>  0.400332714</td><td>19.2123459   </td><td> 19.4619382  </td><td>9.678420e+01 </td></tr>\n",
       "\t<tr><th scope=row>Years.in.current.job2.years</th><td>  1.100020398</td><td>18.2414098   </td><td> 17.4024527  </td><td>6.666686e+01 </td></tr>\n",
       "\t<tr><th scope=row>Years.in.current.job3.years</th><td> -1.321208212</td><td>18.9525163   </td><td> 17.0426214  </td><td>6.041565e+01 </td></tr>\n",
       "\t<tr><th scope=row>Years.in.current.job4.years</th><td>  1.174459824</td><td>17.5833044   </td><td> 17.4416053  </td><td>5.283658e+01 </td></tr>\n",
       "\t<tr><th scope=row>Years.in.current.job5.years</th><td> -1.729476580</td><td>16.5390542   </td><td> 14.6360869  </td><td>5.929336e+01 </td></tr>\n",
       "\t<tr><th scope=row>Years.in.current.job6.years</th><td>  0.617348582</td><td>13.9785874   </td><td> 13.2431883  </td><td>5.610021e+01 </td></tr>\n",
       "\t<tr><th scope=row>Years.in.current.job7.years</th><td> -0.443300938</td><td>17.5624239   </td><td> 15.7518006  </td><td>5.393909e+01 </td></tr>\n",
       "\t<tr><th scope=row>Years.in.current.job8.years</th><td> -0.130206660</td><td>13.5743273   </td><td> 12.2243453  </td><td>5.180006e+01 </td></tr>\n",
       "\t<tr><th scope=row>Years.in.current.job9.years</th><td>  0.572442044</td><td>14.8968785   </td><td> 14.1833050  </td><td>4.481750e+01 </td></tr>\n",
       "\t<tr><th scope=row>Years.in.current.jobna</th><td>  1.213479775</td><td>18.6933133   </td><td> 18.7332950  </td><td>4.286194e+01 </td></tr>\n",
       "\t<tr><th scope=row>Home.OwnershipHome.Mortgage</th><td> -0.387116141</td><td>22.8501615   </td><td> 22.6346786  </td><td>5.857722e+01 </td></tr>\n",
       "\t<tr><th scope=row>Home.OwnershipOwn.Home</th><td>  0.006821203</td><td>14.4415454   </td><td> 14.7311638  </td><td>4.546318e+01 </td></tr>\n",
       "\t<tr><th scope=row>Home.OwnershipRent</th><td> -0.025032916</td><td>16.3707589   </td><td> 16.8193587  </td><td>5.756121e+01 </td></tr>\n",
       "\t<tr><th scope=row>PurposeBuy.a.Car</th><td>  1.687976282</td><td> 7.0437632   </td><td>  6.9939793  </td><td>1.366670e+01 </td></tr>\n",
       "\t<tr><th scope=row>PurposeBuy.House</th><td> -1.433849362</td><td> 9.8224761   </td><td>  8.7761853  </td><td>1.553353e+01 </td></tr>\n",
       "\t<tr><th scope=row>PurposeDebt.Consolidation</th><td> -4.418026505</td><td>30.3442354   </td><td> 29.4122926  </td><td>8.967513e+01 </td></tr>\n",
       "\t<tr><th scope=row>PurposeEducational.Expenses</th><td>  0.004377275</td><td>-0.1241702   </td><td> -0.1035074  </td><td>1.298391e+00 </td></tr>\n",
       "\t<tr><th scope=row>PurposeHome.Improvements</th><td> -4.434891986</td><td>19.0842046   </td><td> 18.5618566  </td><td>4.684663e+01 </td></tr>\n",
       "\t<tr><th scope=row>Purposemajor_purchase</th><td>  0.225118200</td><td> 4.0108464   </td><td>  3.7250270  </td><td>9.990345e+00 </td></tr>\n",
       "\t<tr><th scope=row>PurposeMedical.Bills</th><td> -0.956526469</td><td>11.3360649   </td><td>  9.7784740  </td><td>2.117569e+01 </td></tr>\n",
       "\t<tr><th scope=row>Purposemoving</th><td>  3.324271240</td><td> 2.6548154   </td><td>  3.7376741  </td><td>8.159871e+00 </td></tr>\n",
       "\t<tr><th scope=row>Purposeother</th><td> -1.393865457</td><td>20.4986613   </td><td> 20.0507566  </td><td>5.340220e+01 </td></tr>\n",
       "\t<tr><th scope=row>PurposeOther</th><td> -0.685334639</td><td>14.6887927   </td><td> 14.3475101  </td><td>3.375113e+01 </td></tr>\n",
       "\t<tr><th scope=row>Purposerenewable_energy</th><td>  0.000000000</td><td> 1.7451408   </td><td>  1.7451564  </td><td>3.931946e-02 </td></tr>\n",
       "\t<tr><th scope=row>Purposesmall_business</th><td>  4.124226345</td><td> 9.1170525   </td><td>  9.5314606  </td><td>1.684167e+01 </td></tr>\n",
       "\t<tr><th scope=row>PurposeTake.a.Trip</th><td> -0.480681653</td><td> 5.3856885   </td><td>  4.6887661  </td><td>9.556958e+00 </td></tr>\n",
       "\t<tr><th scope=row>Purposevacation</th><td>  3.033507120</td><td> 2.2864636   </td><td>  3.2637174  </td><td>6.780712e+00 </td></tr>\n",
       "\t<tr><th scope=row>Purposewedding</th><td>  0.352801123</td><td> 2.0595830   </td><td>  2.0001867  </td><td>3.872498e+00 </td></tr>\n",
       "\t<tr><th scope=row>Monthly.Debt</th><td>-12.150419832</td><td>58.5603563   </td><td> 58.1129381  </td><td>8.411185e+02 </td></tr>\n",
       "\t<tr><th scope=row>Years.of.Credit.History</th><td> -2.381699558</td><td>54.9688540   </td><td> 52.3203138  </td><td>7.981739e+02 </td></tr>\n",
       "\t<tr><th scope=row>Months.since.last.delinquent</th><td> -1.281561037</td><td>53.7242814   </td><td> 49.0640630  </td><td>7.250183e+02 </td></tr>\n",
       "\t<tr><th scope=row>Number.of.Open.Accounts</th><td> -7.246573884</td><td>50.0024702   </td><td> 48.1528667  </td><td>5.608032e+02 </td></tr>\n",
       "\t<tr><th scope=row>Number.of.Credit.Problems</th><td> -2.929811229</td><td>30.1512593   </td><td> 27.9162593  </td><td>1.097725e+02 </td></tr>\n",
       "\t<tr><th scope=row>Current.Credit.Balance</th><td>-20.371547240</td><td>55.2208159   </td><td> 56.3295341  </td><td>8.139929e+02 </td></tr>\n",
       "\t<tr><th scope=row>Maximum.Open.Credit</th><td>-20.855171621</td><td>60.8517592   </td><td> 59.9657195  </td><td>8.216154e+02 </td></tr>\n",
       "\t<tr><th scope=row>Bankruptcies</th><td> -4.748104252</td><td>22.4367023   </td><td> 21.2255995  </td><td>7.343868e+01 </td></tr>\n",
       "\t<tr><th scope=row>Tax.Liens</th><td> -1.789783889</td><td>17.0648067   </td><td> 15.0735764  </td><td>4.248535e+01 </td></tr>\n",
       "</tbody>\n",
       "</table>\n"
      ],
      "text/latex": [
       "\\begin{tabular}{r|llll}\n",
       "  & 0 & 1 & MeanDecreaseAccuracy & MeanDecreaseGini\\\\\n",
       "\\hline\n",
       "\tCurrent.Loan.Amount &  29.387386906 & 48.3954331    &  52.3775237   & 1.209113e+03 \\\\\n",
       "\tTermShort.Term &  -4.000801569 & 43.5041663    &  43.2079373   & 1.166810e+02 \\\\\n",
       "\tCredit.Score & 140.538353535 & 96.3401324    & 119.8523456   & 3.178923e+03 \\\\\n",
       "\tAnnual.Income &   1.895158684 & 64.8138750    &  64.2576876   & 9.154097e+02 \\\\\n",
       "\tYears.in.current.job1.year &  -1.915087661 & 16.2703764    &  14.7602309   & 5.601701e+01 \\\\\n",
       "\tYears.in.current.job10plus.years &   0.400332714 & 19.2123459    &  19.4619382   & 9.678420e+01 \\\\\n",
       "\tYears.in.current.job2.years &   1.100020398 & 18.2414098    &  17.4024527   & 6.666686e+01 \\\\\n",
       "\tYears.in.current.job3.years &  -1.321208212 & 18.9525163    &  17.0426214   & 6.041565e+01 \\\\\n",
       "\tYears.in.current.job4.years &   1.174459824 & 17.5833044    &  17.4416053   & 5.283658e+01 \\\\\n",
       "\tYears.in.current.job5.years &  -1.729476580 & 16.5390542    &  14.6360869   & 5.929336e+01 \\\\\n",
       "\tYears.in.current.job6.years &   0.617348582 & 13.9785874    &  13.2431883   & 5.610021e+01 \\\\\n",
       "\tYears.in.current.job7.years &  -0.443300938 & 17.5624239    &  15.7518006   & 5.393909e+01 \\\\\n",
       "\tYears.in.current.job8.years &  -0.130206660 & 13.5743273    &  12.2243453   & 5.180006e+01 \\\\\n",
       "\tYears.in.current.job9.years &   0.572442044 & 14.8968785    &  14.1833050   & 4.481750e+01 \\\\\n",
       "\tYears.in.current.jobna &   1.213479775 & 18.6933133    &  18.7332950   & 4.286194e+01 \\\\\n",
       "\tHome.OwnershipHome.Mortgage &  -0.387116141 & 22.8501615    &  22.6346786   & 5.857722e+01 \\\\\n",
       "\tHome.OwnershipOwn.Home &   0.006821203 & 14.4415454    &  14.7311638   & 4.546318e+01 \\\\\n",
       "\tHome.OwnershipRent &  -0.025032916 & 16.3707589    &  16.8193587   & 5.756121e+01 \\\\\n",
       "\tPurposeBuy.a.Car &   1.687976282 &  7.0437632    &   6.9939793   & 1.366670e+01 \\\\\n",
       "\tPurposeBuy.House &  -1.433849362 &  9.8224761    &   8.7761853   & 1.553353e+01 \\\\\n",
       "\tPurposeDebt.Consolidation &  -4.418026505 & 30.3442354    &  29.4122926   & 8.967513e+01 \\\\\n",
       "\tPurposeEducational.Expenses &   0.004377275 & -0.1241702    &  -0.1035074   & 1.298391e+00 \\\\\n",
       "\tPurposeHome.Improvements &  -4.434891986 & 19.0842046    &  18.5618566   & 4.684663e+01 \\\\\n",
       "\tPurposemajor\\_purchase &   0.225118200 &  4.0108464    &   3.7250270   & 9.990345e+00 \\\\\n",
       "\tPurposeMedical.Bills &  -0.956526469 & 11.3360649    &   9.7784740   & 2.117569e+01 \\\\\n",
       "\tPurposemoving &   3.324271240 &  2.6548154    &   3.7376741   & 8.159871e+00 \\\\\n",
       "\tPurposeother &  -1.393865457 & 20.4986613    &  20.0507566   & 5.340220e+01 \\\\\n",
       "\tPurposeOther &  -0.685334639 & 14.6887927    &  14.3475101   & 3.375113e+01 \\\\\n",
       "\tPurposerenewable\\_energy &   0.000000000 &  1.7451408    &   1.7451564   & 3.931946e-02 \\\\\n",
       "\tPurposesmall\\_business &   4.124226345 &  9.1170525    &   9.5314606   & 1.684167e+01 \\\\\n",
       "\tPurposeTake.a.Trip &  -0.480681653 &  5.3856885    &   4.6887661   & 9.556958e+00 \\\\\n",
       "\tPurposevacation &   3.033507120 &  2.2864636    &   3.2637174   & 6.780712e+00 \\\\\n",
       "\tPurposewedding &   0.352801123 &  2.0595830    &   2.0001867   & 3.872498e+00 \\\\\n",
       "\tMonthly.Debt & -12.150419832 & 58.5603563    &  58.1129381   & 8.411185e+02 \\\\\n",
       "\tYears.of.Credit.History &  -2.381699558 & 54.9688540    &  52.3203138   & 7.981739e+02 \\\\\n",
       "\tMonths.since.last.delinquent &  -1.281561037 & 53.7242814    &  49.0640630   & 7.250183e+02 \\\\\n",
       "\tNumber.of.Open.Accounts &  -7.246573884 & 50.0024702    &  48.1528667   & 5.608032e+02 \\\\\n",
       "\tNumber.of.Credit.Problems &  -2.929811229 & 30.1512593    &  27.9162593   & 1.097725e+02 \\\\\n",
       "\tCurrent.Credit.Balance & -20.371547240 & 55.2208159    &  56.3295341   & 8.139929e+02 \\\\\n",
       "\tMaximum.Open.Credit & -20.855171621 & 60.8517592    &  59.9657195   & 8.216154e+02 \\\\\n",
       "\tBankruptcies &  -4.748104252 & 22.4367023    &  21.2255995   & 7.343868e+01 \\\\\n",
       "\tTax.Liens &  -1.789783889 & 17.0648067    &  15.0735764   & 4.248535e+01 \\\\\n",
       "\\end{tabular}\n"
      ],
      "text/markdown": [
       "\n",
       "| <!--/--> | 0 | 1 | MeanDecreaseAccuracy | MeanDecreaseGini | \n",
       "|---|---|---|---|---|---|---|---|---|---|---|---|---|---|---|---|---|---|---|---|---|---|---|---|---|---|---|---|---|---|---|---|---|---|---|---|---|---|---|---|---|---|\n",
       "| Current.Loan.Amount |  29.387386906 | 48.3954331    |  52.3775237   | 1.209113e+03  | \n",
       "| TermShort.Term |  -4.000801569 | 43.5041663    |  43.2079373   | 1.166810e+02  | \n",
       "| Credit.Score | 140.538353535 | 96.3401324    | 119.8523456   | 3.178923e+03  | \n",
       "| Annual.Income |   1.895158684 | 64.8138750    |  64.2576876   | 9.154097e+02  | \n",
       "| Years.in.current.job1.year |  -1.915087661 | 16.2703764    |  14.7602309   | 5.601701e+01  | \n",
       "| Years.in.current.job10plus.years |   0.400332714 | 19.2123459    |  19.4619382   | 9.678420e+01  | \n",
       "| Years.in.current.job2.years |   1.100020398 | 18.2414098    |  17.4024527   | 6.666686e+01  | \n",
       "| Years.in.current.job3.years |  -1.321208212 | 18.9525163    |  17.0426214   | 6.041565e+01  | \n",
       "| Years.in.current.job4.years |   1.174459824 | 17.5833044    |  17.4416053   | 5.283658e+01  | \n",
       "| Years.in.current.job5.years |  -1.729476580 | 16.5390542    |  14.6360869   | 5.929336e+01  | \n",
       "| Years.in.current.job6.years |   0.617348582 | 13.9785874    |  13.2431883   | 5.610021e+01  | \n",
       "| Years.in.current.job7.years |  -0.443300938 | 17.5624239    |  15.7518006   | 5.393909e+01  | \n",
       "| Years.in.current.job8.years |  -0.130206660 | 13.5743273    |  12.2243453   | 5.180006e+01  | \n",
       "| Years.in.current.job9.years |   0.572442044 | 14.8968785    |  14.1833050   | 4.481750e+01  | \n",
       "| Years.in.current.jobna |   1.213479775 | 18.6933133    |  18.7332950   | 4.286194e+01  | \n",
       "| Home.OwnershipHome.Mortgage |  -0.387116141 | 22.8501615    |  22.6346786   | 5.857722e+01  | \n",
       "| Home.OwnershipOwn.Home |   0.006821203 | 14.4415454    |  14.7311638   | 4.546318e+01  | \n",
       "| Home.OwnershipRent |  -0.025032916 | 16.3707589    |  16.8193587   | 5.756121e+01  | \n",
       "| PurposeBuy.a.Car |   1.687976282 |  7.0437632    |   6.9939793   | 1.366670e+01  | \n",
       "| PurposeBuy.House |  -1.433849362 |  9.8224761    |   8.7761853   | 1.553353e+01  | \n",
       "| PurposeDebt.Consolidation |  -4.418026505 | 30.3442354    |  29.4122926   | 8.967513e+01  | \n",
       "| PurposeEducational.Expenses |   0.004377275 | -0.1241702    |  -0.1035074   | 1.298391e+00  | \n",
       "| PurposeHome.Improvements |  -4.434891986 | 19.0842046    |  18.5618566   | 4.684663e+01  | \n",
       "| Purposemajor_purchase |   0.225118200 |  4.0108464    |   3.7250270   | 9.990345e+00  | \n",
       "| PurposeMedical.Bills |  -0.956526469 | 11.3360649    |   9.7784740   | 2.117569e+01  | \n",
       "| Purposemoving |   3.324271240 |  2.6548154    |   3.7376741   | 8.159871e+00  | \n",
       "| Purposeother |  -1.393865457 | 20.4986613    |  20.0507566   | 5.340220e+01  | \n",
       "| PurposeOther |  -0.685334639 | 14.6887927    |  14.3475101   | 3.375113e+01  | \n",
       "| Purposerenewable_energy |   0.000000000 |  1.7451408    |   1.7451564   | 3.931946e-02  | \n",
       "| Purposesmall_business |   4.124226345 |  9.1170525    |   9.5314606   | 1.684167e+01  | \n",
       "| PurposeTake.a.Trip |  -0.480681653 |  5.3856885    |   4.6887661   | 9.556958e+00  | \n",
       "| Purposevacation |   3.033507120 |  2.2864636    |   3.2637174   | 6.780712e+00  | \n",
       "| Purposewedding |   0.352801123 |  2.0595830    |   2.0001867   | 3.872498e+00  | \n",
       "| Monthly.Debt | -12.150419832 | 58.5603563    |  58.1129381   | 8.411185e+02  | \n",
       "| Years.of.Credit.History |  -2.381699558 | 54.9688540    |  52.3203138   | 7.981739e+02  | \n",
       "| Months.since.last.delinquent |  -1.281561037 | 53.7242814    |  49.0640630   | 7.250183e+02  | \n",
       "| Number.of.Open.Accounts |  -7.246573884 | 50.0024702    |  48.1528667   | 5.608032e+02  | \n",
       "| Number.of.Credit.Problems |  -2.929811229 | 30.1512593    |  27.9162593   | 1.097725e+02  | \n",
       "| Current.Credit.Balance | -20.371547240 | 55.2208159    |  56.3295341   | 8.139929e+02  | \n",
       "| Maximum.Open.Credit | -20.855171621 | 60.8517592    |  59.9657195   | 8.216154e+02  | \n",
       "| Bankruptcies |  -4.748104252 | 22.4367023    |  21.2255995   | 7.343868e+01  | \n",
       "| Tax.Liens |  -1.789783889 | 17.0648067    |  15.0735764   | 4.248535e+01  | \n",
       "\n",
       "\n"
      ],
      "text/plain": [
       "                                 0             1          MeanDecreaseAccuracy\n",
       "Current.Loan.Amount               29.387386906 48.3954331  52.3775237         \n",
       "TermShort.Term                    -4.000801569 43.5041663  43.2079373         \n",
       "Credit.Score                     140.538353535 96.3401324 119.8523456         \n",
       "Annual.Income                      1.895158684 64.8138750  64.2576876         \n",
       "Years.in.current.job1.year        -1.915087661 16.2703764  14.7602309         \n",
       "Years.in.current.job10plus.years   0.400332714 19.2123459  19.4619382         \n",
       "Years.in.current.job2.years        1.100020398 18.2414098  17.4024527         \n",
       "Years.in.current.job3.years       -1.321208212 18.9525163  17.0426214         \n",
       "Years.in.current.job4.years        1.174459824 17.5833044  17.4416053         \n",
       "Years.in.current.job5.years       -1.729476580 16.5390542  14.6360869         \n",
       "Years.in.current.job6.years        0.617348582 13.9785874  13.2431883         \n",
       "Years.in.current.job7.years       -0.443300938 17.5624239  15.7518006         \n",
       "Years.in.current.job8.years       -0.130206660 13.5743273  12.2243453         \n",
       "Years.in.current.job9.years        0.572442044 14.8968785  14.1833050         \n",
       "Years.in.current.jobna             1.213479775 18.6933133  18.7332950         \n",
       "Home.OwnershipHome.Mortgage       -0.387116141 22.8501615  22.6346786         \n",
       "Home.OwnershipOwn.Home             0.006821203 14.4415454  14.7311638         \n",
       "Home.OwnershipRent                -0.025032916 16.3707589  16.8193587         \n",
       "PurposeBuy.a.Car                   1.687976282  7.0437632   6.9939793         \n",
       "PurposeBuy.House                  -1.433849362  9.8224761   8.7761853         \n",
       "PurposeDebt.Consolidation         -4.418026505 30.3442354  29.4122926         \n",
       "PurposeEducational.Expenses        0.004377275 -0.1241702  -0.1035074         \n",
       "PurposeHome.Improvements          -4.434891986 19.0842046  18.5618566         \n",
       "Purposemajor_purchase              0.225118200  4.0108464   3.7250270         \n",
       "PurposeMedical.Bills              -0.956526469 11.3360649   9.7784740         \n",
       "Purposemoving                      3.324271240  2.6548154   3.7376741         \n",
       "Purposeother                      -1.393865457 20.4986613  20.0507566         \n",
       "PurposeOther                      -0.685334639 14.6887927  14.3475101         \n",
       "Purposerenewable_energy            0.000000000  1.7451408   1.7451564         \n",
       "Purposesmall_business              4.124226345  9.1170525   9.5314606         \n",
       "PurposeTake.a.Trip                -0.480681653  5.3856885   4.6887661         \n",
       "Purposevacation                    3.033507120  2.2864636   3.2637174         \n",
       "Purposewedding                     0.352801123  2.0595830   2.0001867         \n",
       "Monthly.Debt                     -12.150419832 58.5603563  58.1129381         \n",
       "Years.of.Credit.History           -2.381699558 54.9688540  52.3203138         \n",
       "Months.since.last.delinquent      -1.281561037 53.7242814  49.0640630         \n",
       "Number.of.Open.Accounts           -7.246573884 50.0024702  48.1528667         \n",
       "Number.of.Credit.Problems         -2.929811229 30.1512593  27.9162593         \n",
       "Current.Credit.Balance           -20.371547240 55.2208159  56.3295341         \n",
       "Maximum.Open.Credit              -20.855171621 60.8517592  59.9657195         \n",
       "Bankruptcies                      -4.748104252 22.4367023  21.2255995         \n",
       "Tax.Liens                         -1.789783889 17.0648067  15.0735764         \n",
       "                                 MeanDecreaseGini\n",
       "Current.Loan.Amount              1.209113e+03    \n",
       "TermShort.Term                   1.166810e+02    \n",
       "Credit.Score                     3.178923e+03    \n",
       "Annual.Income                    9.154097e+02    \n",
       "Years.in.current.job1.year       5.601701e+01    \n",
       "Years.in.current.job10plus.years 9.678420e+01    \n",
       "Years.in.current.job2.years      6.666686e+01    \n",
       "Years.in.current.job3.years      6.041565e+01    \n",
       "Years.in.current.job4.years      5.283658e+01    \n",
       "Years.in.current.job5.years      5.929336e+01    \n",
       "Years.in.current.job6.years      5.610021e+01    \n",
       "Years.in.current.job7.years      5.393909e+01    \n",
       "Years.in.current.job8.years      5.180006e+01    \n",
       "Years.in.current.job9.years      4.481750e+01    \n",
       "Years.in.current.jobna           4.286194e+01    \n",
       "Home.OwnershipHome.Mortgage      5.857722e+01    \n",
       "Home.OwnershipOwn.Home           4.546318e+01    \n",
       "Home.OwnershipRent               5.756121e+01    \n",
       "PurposeBuy.a.Car                 1.366670e+01    \n",
       "PurposeBuy.House                 1.553353e+01    \n",
       "PurposeDebt.Consolidation        8.967513e+01    \n",
       "PurposeEducational.Expenses      1.298391e+00    \n",
       "PurposeHome.Improvements         4.684663e+01    \n",
       "Purposemajor_purchase            9.990345e+00    \n",
       "PurposeMedical.Bills             2.117569e+01    \n",
       "Purposemoving                    8.159871e+00    \n",
       "Purposeother                     5.340220e+01    \n",
       "PurposeOther                     3.375113e+01    \n",
       "Purposerenewable_energy          3.931946e-02    \n",
       "Purposesmall_business            1.684167e+01    \n",
       "PurposeTake.a.Trip               9.556958e+00    \n",
       "Purposevacation                  6.780712e+00    \n",
       "Purposewedding                   3.872498e+00    \n",
       "Monthly.Debt                     8.411185e+02    \n",
       "Years.of.Credit.History          7.981739e+02    \n",
       "Months.since.last.delinquent     7.250183e+02    \n",
       "Number.of.Open.Accounts          5.608032e+02    \n",
       "Number.of.Credit.Problems        1.097725e+02    \n",
       "Current.Credit.Balance           8.139929e+02    \n",
       "Maximum.Open.Credit              8.216154e+02    \n",
       "Bankruptcies                     7.343868e+01    \n",
       "Tax.Liens                        4.248535e+01    "
      ]
     },
     "metadata": {},
     "output_type": "display_data"
    },
    {
     "data": {
      "image/png": "[encoded data removed]",
      "text/plain": [
       "plot without title"
      ]
     },
     "metadata": {},
     "output_type": "display_data"
    }
   ],
   "source": [
    "importance(rf)  \n",
    "varImpPlot(rf)"
   ]
  },
  {
   "cell_type": "code",
   "execution_count": 55,
   "metadata": {},
   "outputs": [
    {
     "data": {
      "text/html": [
       "<table>\n",
       "<thead><tr><th></th><th scope=col>left daughter</th><th scope=col>right daughter</th><th scope=col>split var</th><th scope=col>split point</th><th scope=col>status</th><th scope=col>prediction</th></tr></thead>\n",
       "<tbody>\n",
       "\t<tr><th scope=row>1</th><td> 2          </td><td> 3          </td><td> 1          </td><td>50394547.500</td><td> 1          </td><td>0           </td></tr>\n",
       "\t<tr><th scope=row>2</th><td> 4          </td><td> 5          </td><td>18          </td><td>       0.500</td><td> 1          </td><td>0           </td></tr>\n",
       "\t<tr><th scope=row>3</th><td> 0          </td><td> 0          </td><td> 0          </td><td>       0.000</td><td>-1          </td><td>2           </td></tr>\n",
       "\t<tr><th scope=row>4</th><td> 6          </td><td> 7          </td><td> 1          </td><td>  346269.000</td><td> 1          </td><td>0           </td></tr>\n",
       "\t<tr><th scope=row>5</th><td> 8          </td><td> 9          </td><td>28          </td><td>       0.500</td><td> 1          </td><td>0           </td></tr>\n",
       "\t<tr><th scope=row>6</th><td>10          </td><td>11          </td><td> 1          </td><td>  174394.000</td><td> 1          </td><td>0           </td></tr>\n",
       "\t<tr><th scope=row>7</th><td>12          </td><td>13          </td><td> 4          </td><td> 1924852.000</td><td> 1          </td><td>0           </td></tr>\n",
       "\t<tr><th scope=row>8</th><td>14          </td><td>15          </td><td> 4          </td><td> 1157670.000</td><td> 1          </td><td>0           </td></tr>\n",
       "\t<tr><th scope=row>9</th><td>16          </td><td>17          </td><td>13          </td><td>       0.500</td><td> 1          </td><td>0           </td></tr>\n",
       "\t<tr><th scope=row>10</th><td>18          </td><td>19          </td><td>19          </td><td>       0.500</td><td> 1          </td><td>0           </td></tr>\n",
       "\t<tr><th scope=row>11</th><td>20          </td><td>21          </td><td>35          </td><td>      40.750</td><td> 1          </td><td>0           </td></tr>\n",
       "\t<tr><th scope=row>12</th><td>22          </td><td>23          </td><td> 3          </td><td>    3305.500</td><td> 1          </td><td>0           </td></tr>\n",
       "\t<tr><th scope=row>13</th><td>24          </td><td>25          </td><td> 3          </td><td>    3380.500</td><td> 1          </td><td>0           </td></tr>\n",
       "\t<tr><th scope=row>14</th><td>26          </td><td>27          </td><td>34          </td><td>    8408.165</td><td> 1          </td><td>0           </td></tr>\n",
       "\t<tr><th scope=row>15</th><td>28          </td><td>29          </td><td>24          </td><td>       0.500</td><td> 1          </td><td>0           </td></tr>\n",
       "\t<tr><th scope=row>16</th><td>30          </td><td>31          </td><td> 3          </td><td>    3585.500</td><td> 1          </td><td>0           </td></tr>\n",
       "\t<tr><th scope=row>17</th><td>32          </td><td>33          </td><td>36          </td><td>      17.000</td><td> 1          </td><td>0           </td></tr>\n",
       "\t<tr><th scope=row>18</th><td>34          </td><td>35          </td><td> 3          </td><td>    3545.500</td><td> 1          </td><td>0           </td></tr>\n",
       "\t<tr><th scope=row>19</th><td>36          </td><td>37          </td><td>35          </td><td>      16.050</td><td> 1          </td><td>0           </td></tr>\n",
       "\t<tr><th scope=row>20</th><td>38          </td><td>39          </td><td>19          </td><td>       0.500</td><td> 1          </td><td>0           </td></tr>\n",
       "\t<tr><th scope=row>21</th><td>40          </td><td>41          </td><td>37          </td><td>       8.500</td><td> 1          </td><td>0           </td></tr>\n",
       "\t<tr><th scope=row>22</th><td>42          </td><td>43          </td><td>37          </td><td>       7.500</td><td> 1          </td><td>0           </td></tr>\n",
       "\t<tr><th scope=row>23</th><td> 0          </td><td> 0          </td><td> 0          </td><td>       0.000</td><td>-1          </td><td>1           </td></tr>\n",
       "\t<tr><th scope=row>24</th><td>44          </td><td>45          </td><td>32          </td><td>       0.500</td><td> 1          </td><td>0           </td></tr>\n",
       "\t<tr><th scope=row>25</th><td> 0          </td><td> 0          </td><td> 0          </td><td>       0.000</td><td>-1          </td><td>1           </td></tr>\n",
       "\t<tr><th scope=row>26</th><td>46          </td><td>47          </td><td> 7          </td><td>       0.500</td><td> 1          </td><td>0           </td></tr>\n",
       "\t<tr><th scope=row>27</th><td>48          </td><td>49          </td><td>34          </td><td>    8602.820</td><td> 1          </td><td>0           </td></tr>\n",
       "\t<tr><th scope=row>28</th><td>50          </td><td>51          </td><td> 1          </td><td>  398145.000</td><td> 1          </td><td>0           </td></tr>\n",
       "\t<tr><th scope=row>29</th><td>52          </td><td>53          </td><td>34          </td><td>   21973.595</td><td> 1          </td><td>0           </td></tr>\n",
       "\t<tr><th scope=row>30</th><td>54          </td><td>55          </td><td> 4          </td><td> 2358964.000</td><td> 1          </td><td>0           </td></tr>\n",
       "\t<tr><th scope=row>...</th><td>...</td><td>...</td><td>...</td><td>...</td><td>...</td><td>...</td></tr>\n",
       "\t<tr><th scope=row>9422</th><td>   0     </td><td>   0     </td><td> 0       </td><td>      0.0</td><td>-1       </td><td>2        </td></tr>\n",
       "\t<tr><th scope=row>9423</th><td>   0     </td><td>   0     </td><td> 0       </td><td>      0.0</td><td>-1       </td><td>2        </td></tr>\n",
       "\t<tr><th scope=row>9424</th><td>9436     </td><td>9437     </td><td>28       </td><td>      0.5</td><td> 1       </td><td>0        </td></tr>\n",
       "\t<tr><th scope=row>9425</th><td>   0     </td><td>   0     </td><td> 0       </td><td>      0.0</td><td>-1       </td><td>2        </td></tr>\n",
       "\t<tr><th scope=row>9426</th><td>   0     </td><td>   0     </td><td> 0       </td><td>      0.0</td><td>-1       </td><td>2        </td></tr>\n",
       "\t<tr><th scope=row>9427</th><td>9438     </td><td>9439     </td><td> 4       </td><td>1144237.0</td><td> 1       </td><td>0        </td></tr>\n",
       "\t<tr><th scope=row>9428</th><td>   0     </td><td>   0     </td><td> 0       </td><td>      0.0</td><td>-1       </td><td>1        </td></tr>\n",
       "\t<tr><th scope=row>9429</th><td>   0     </td><td>   0     </td><td> 0       </td><td>      0.0</td><td>-1       </td><td>2        </td></tr>\n",
       "\t<tr><th scope=row>9430</th><td>9440     </td><td>9441     </td><td>16       </td><td>      0.5</td><td> 1       </td><td>0        </td></tr>\n",
       "\t<tr><th scope=row>9431</th><td>   0     </td><td>   0     </td><td> 0       </td><td>      0.0</td><td>-1       </td><td>2        </td></tr>\n",
       "\t<tr><th scope=row>9432</th><td>   0     </td><td>   0     </td><td> 0       </td><td>      0.0</td><td>-1       </td><td>2        </td></tr>\n",
       "\t<tr><th scope=row>9433</th><td>9442     </td><td>9443     </td><td> 3       </td><td>    739.5</td><td> 1       </td><td>0        </td></tr>\n",
       "\t<tr><th scope=row>9434</th><td>   0     </td><td>   0     </td><td> 0       </td><td>      0.0</td><td>-1       </td><td>1        </td></tr>\n",
       "\t<tr><th scope=row>9435</th><td>   0     </td><td>   0     </td><td> 0       </td><td>      0.0</td><td>-1       </td><td>2        </td></tr>\n",
       "\t<tr><th scope=row>9436</th><td>9444     </td><td>9445     </td><td>36       </td><td>     37.5</td><td> 1       </td><td>0        </td></tr>\n",
       "\t<tr><th scope=row>9437</th><td>   0     </td><td>   0     </td><td> 0       </td><td>      0.0</td><td>-1       </td><td>2        </td></tr>\n",
       "\t<tr><th scope=row>9438</th><td>   0     </td><td>   0     </td><td> 0       </td><td>      0.0</td><td>-1       </td><td>2        </td></tr>\n",
       "\t<tr><th scope=row>9439</th><td>   0     </td><td>   0     </td><td> 0       </td><td>      0.0</td><td>-1       </td><td>1        </td></tr>\n",
       "\t<tr><th scope=row>9440</th><td>   0     </td><td>   0     </td><td> 0       </td><td>      0.0</td><td>-1       </td><td>2        </td></tr>\n",
       "\t<tr><th scope=row>9441</th><td>   0     </td><td>   0     </td><td> 0       </td><td>      0.0</td><td>-1       </td><td>2        </td></tr>\n",
       "\t<tr><th scope=row>9442</th><td>   0     </td><td>   0     </td><td> 0       </td><td>      0.0</td><td>-1       </td><td>1        </td></tr>\n",
       "\t<tr><th scope=row>9443</th><td>9446     </td><td>9447     </td><td> 4       </td><td>2386352.5</td><td> 1       </td><td>0        </td></tr>\n",
       "\t<tr><th scope=row>9444</th><td>   0     </td><td>   0     </td><td> 0       </td><td>      0.0</td><td>-1       </td><td>2        </td></tr>\n",
       "\t<tr><th scope=row>9445</th><td>9448     </td><td>9449     </td><td> 4       </td><td> 834898.0</td><td> 1       </td><td>0        </td></tr>\n",
       "\t<tr><th scope=row>9446</th><td>   0     </td><td>   0     </td><td> 0       </td><td>      0.0</td><td>-1       </td><td>2        </td></tr>\n",
       "\t<tr><th scope=row>9447</th><td>   0     </td><td>   0     </td><td> 0       </td><td>      0.0</td><td>-1       </td><td>1        </td></tr>\n",
       "\t<tr><th scope=row>9448</th><td>   0     </td><td>   0     </td><td> 0       </td><td>      0.0</td><td>-1       </td><td>2        </td></tr>\n",
       "\t<tr><th scope=row>9449</th><td>9450     </td><td>9451     </td><td> 4       </td><td> 927114.5</td><td> 1       </td><td>0        </td></tr>\n",
       "\t<tr><th scope=row>9450</th><td>   0     </td><td>   0     </td><td> 0       </td><td>      0.0</td><td>-1       </td><td>1        </td></tr>\n",
       "\t<tr><th scope=row>9451</th><td>   0     </td><td>   0     </td><td> 0       </td><td>      0.0</td><td>-1       </td><td>2        </td></tr>\n",
       "</tbody>\n",
       "</table>\n"
      ],
      "text/latex": [
       "\\begin{tabular}{r|llllll}\n",
       "  & left daughter & right daughter & split var & split point & status & prediction\\\\\n",
       "\\hline\n",
       "\t1 &  2           &  3           &  1           & 50394547.500 &  1           & 0           \\\\\n",
       "\t2 &  4           &  5           & 18           &        0.500 &  1           & 0           \\\\\n",
       "\t3 &  0           &  0           &  0           &        0.000 & -1           & 2           \\\\\n",
       "\t4 &  6           &  7           &  1           &   346269.000 &  1           & 0           \\\\\n",
       "\t5 &  8           &  9           & 28           &        0.500 &  1           & 0           \\\\\n",
       "\t6 & 10           & 11           &  1           &   174394.000 &  1           & 0           \\\\\n",
       "\t7 & 12           & 13           &  4           &  1924852.000 &  1           & 0           \\\\\n",
       "\t8 & 14           & 15           &  4           &  1157670.000 &  1           & 0           \\\\\n",
       "\t9 & 16           & 17           & 13           &        0.500 &  1           & 0           \\\\\n",
       "\t10 & 18           & 19           & 19           &        0.500 &  1           & 0           \\\\\n",
       "\t11 & 20           & 21           & 35           &       40.750 &  1           & 0           \\\\\n",
       "\t12 & 22           & 23           &  3           &     3305.500 &  1           & 0           \\\\\n",
       "\t13 & 24           & 25           &  3           &     3380.500 &  1           & 0           \\\\\n",
       "\t14 & 26           & 27           & 34           &     8408.165 &  1           & 0           \\\\\n",
       "\t15 & 28           & 29           & 24           &        0.500 &  1           & 0           \\\\\n",
       "\t16 & 30           & 31           &  3           &     3585.500 &  1           & 0           \\\\\n",
       "\t17 & 32           & 33           & 36           &       17.000 &  1           & 0           \\\\\n",
       "\t18 & 34           & 35           &  3           &     3545.500 &  1           & 0           \\\\\n",
       "\t19 & 36           & 37           & 35           &       16.050 &  1           & 0           \\\\\n",
       "\t20 & 38           & 39           & 19           &        0.500 &  1           & 0           \\\\\n",
       "\t21 & 40           & 41           & 37           &        8.500 &  1           & 0           \\\\\n",
       "\t22 & 42           & 43           & 37           &        7.500 &  1           & 0           \\\\\n",
       "\t23 &  0           &  0           &  0           &        0.000 & -1           & 1           \\\\\n",
       "\t24 & 44           & 45           & 32           &        0.500 &  1           & 0           \\\\\n",
       "\t25 &  0           &  0           &  0           &        0.000 & -1           & 1           \\\\\n",
       "\t26 & 46           & 47           &  7           &        0.500 &  1           & 0           \\\\\n",
       "\t27 & 48           & 49           & 34           &     8602.820 &  1           & 0           \\\\\n",
       "\t28 & 50           & 51           &  1           &   398145.000 &  1           & 0           \\\\\n",
       "\t29 & 52           & 53           & 34           &    21973.595 &  1           & 0           \\\\\n",
       "\t30 & 54           & 55           &  4           &  2358964.000 &  1           & 0           \\\\\n",
       "\t... & ... & ... & ... & ... & ... & ...\\\\\n",
       "\t9422 &    0      &    0      &  0        &       0.0 & -1        & 2        \\\\\n",
       "\t9423 &    0      &    0      &  0        &       0.0 & -1        & 2        \\\\\n",
       "\t9424 & 9436      & 9437      & 28        &       0.5 &  1        & 0        \\\\\n",
       "\t9425 &    0      &    0      &  0        &       0.0 & -1        & 2        \\\\\n",
       "\t9426 &    0      &    0      &  0        &       0.0 & -1        & 2        \\\\\n",
       "\t9427 & 9438      & 9439      &  4        & 1144237.0 &  1        & 0        \\\\\n",
       "\t9428 &    0      &    0      &  0        &       0.0 & -1        & 1        \\\\\n",
       "\t9429 &    0      &    0      &  0        &       0.0 & -1        & 2        \\\\\n",
       "\t9430 & 9440      & 9441      & 16        &       0.5 &  1        & 0        \\\\\n",
       "\t9431 &    0      &    0      &  0        &       0.0 & -1        & 2        \\\\\n",
       "\t9432 &    0      &    0      &  0        &       0.0 & -1        & 2        \\\\\n",
       "\t9433 & 9442      & 9443      &  3        &     739.5 &  1        & 0        \\\\\n",
       "\t9434 &    0      &    0      &  0        &       0.0 & -1        & 1        \\\\\n",
       "\t9435 &    0      &    0      &  0        &       0.0 & -1        & 2        \\\\\n",
       "\t9436 & 9444      & 9445      & 36        &      37.5 &  1        & 0        \\\\\n",
       "\t9437 &    0      &    0      &  0        &       0.0 & -1        & 2        \\\\\n",
       "\t9438 &    0      &    0      &  0        &       0.0 & -1        & 2        \\\\\n",
       "\t9439 &    0      &    0      &  0        &       0.0 & -1        & 1        \\\\\n",
       "\t9440 &    0      &    0      &  0        &       0.0 & -1        & 2        \\\\\n",
       "\t9441 &    0      &    0      &  0        &       0.0 & -1        & 2        \\\\\n",
       "\t9442 &    0      &    0      &  0        &       0.0 & -1        & 1        \\\\\n",
       "\t9443 & 9446      & 9447      &  4        & 2386352.5 &  1        & 0        \\\\\n",
       "\t9444 &    0      &    0      &  0        &       0.0 & -1        & 2        \\\\\n",
       "\t9445 & 9448      & 9449      &  4        &  834898.0 &  1        & 0        \\\\\n",
       "\t9446 &    0      &    0      &  0        &       0.0 & -1        & 2        \\\\\n",
       "\t9447 &    0      &    0      &  0        &       0.0 & -1        & 1        \\\\\n",
       "\t9448 &    0      &    0      &  0        &       0.0 & -1        & 2        \\\\\n",
       "\t9449 & 9450      & 9451      &  4        &  927114.5 &  1        & 0        \\\\\n",
       "\t9450 &    0      &    0      &  0        &       0.0 & -1        & 1        \\\\\n",
       "\t9451 &    0      &    0      &  0        &       0.0 & -1        & 2        \\\\\n",
       "\\end{tabular}\n"
      ],
      "text/markdown": [
       "\n",
       "| <!--/--> | left daughter | right daughter | split var | split point | status | prediction | \n",
       "|---|---|---|---|---|---|---|---|---|---|---|---|---|---|---|---|---|---|---|---|---|---|---|---|---|---|---|---|---|---|---|---|---|---|---|---|---|---|---|---|---|---|---|---|---|---|---|---|---|---|---|---|---|---|---|---|---|---|---|---|---|\n",
       "| 1 |  2           |  3           |  1           | 50394547.500 |  1           | 0            | \n",
       "| 2 |  4           |  5           | 18           |        0.500 |  1           | 0            | \n",
       "| 3 |  0           |  0           |  0           |        0.000 | -1           | 2            | \n",
       "| 4 |  6           |  7           |  1           |   346269.000 |  1           | 0            | \n",
       "| 5 |  8           |  9           | 28           |        0.500 |  1           | 0            | \n",
       "| 6 | 10           | 11           |  1           |   174394.000 |  1           | 0            | \n",
       "| 7 | 12           | 13           |  4           |  1924852.000 |  1           | 0            | \n",
       "| 8 | 14           | 15           |  4           |  1157670.000 |  1           | 0            | \n",
       "| 9 | 16           | 17           | 13           |        0.500 |  1           | 0            | \n",
       "| 10 | 18           | 19           | 19           |        0.500 |  1           | 0            | \n",
       "| 11 | 20           | 21           | 35           |       40.750 |  1           | 0            | \n",
       "| 12 | 22           | 23           |  3           |     3305.500 |  1           | 0            | \n",
       "| 13 | 24           | 25           |  3           |     3380.500 |  1           | 0            | \n",
       "| 14 | 26           | 27           | 34           |     8408.165 |  1           | 0            | \n",
       "| 15 | 28           | 29           | 24           |        0.500 |  1           | 0            | \n",
       "| 16 | 30           | 31           |  3           |     3585.500 |  1           | 0            | \n",
       "| 17 | 32           | 33           | 36           |       17.000 |  1           | 0            | \n",
       "| 18 | 34           | 35           |  3           |     3545.500 |  1           | 0            | \n",
       "| 19 | 36           | 37           | 35           |       16.050 |  1           | 0            | \n",
       "| 20 | 38           | 39           | 19           |        0.500 |  1           | 0            | \n",
       "| 21 | 40           | 41           | 37           |        8.500 |  1           | 0            | \n",
       "| 22 | 42           | 43           | 37           |        7.500 |  1           | 0            | \n",
       "| 23 |  0           |  0           |  0           |        0.000 | -1           | 1            | \n",
       "| 24 | 44           | 45           | 32           |        0.500 |  1           | 0            | \n",
       "| 25 |  0           |  0           |  0           |        0.000 | -1           | 1            | \n",
       "| 26 | 46           | 47           |  7           |        0.500 |  1           | 0            | \n",
       "| 27 | 48           | 49           | 34           |     8602.820 |  1           | 0            | \n",
       "| 28 | 50           | 51           |  1           |   398145.000 |  1           | 0            | \n",
       "| 29 | 52           | 53           | 34           |    21973.595 |  1           | 0            | \n",
       "| 30 | 54           | 55           |  4           |  2358964.000 |  1           | 0            | \n",
       "| ... | ... | ... | ... | ... | ... | ... | \n",
       "| 9422 |    0      |    0      |  0        |       0.0 | -1        | 2         | \n",
       "| 9423 |    0      |    0      |  0        |       0.0 | -1        | 2         | \n",
       "| 9424 | 9436      | 9437      | 28        |       0.5 |  1        | 0         | \n",
       "| 9425 |    0      |    0      |  0        |       0.0 | -1        | 2         | \n",
       "| 9426 |    0      |    0      |  0        |       0.0 | -1        | 2         | \n",
       "| 9427 | 9438      | 9439      |  4        | 1144237.0 |  1        | 0         | \n",
       "| 9428 |    0      |    0      |  0        |       0.0 | -1        | 1         | \n",
       "| 9429 |    0      |    0      |  0        |       0.0 | -1        | 2         | \n",
       "| 9430 | 9440      | 9441      | 16        |       0.5 |  1        | 0         | \n",
       "| 9431 |    0      |    0      |  0        |       0.0 | -1        | 2         | \n",
       "| 9432 |    0      |    0      |  0        |       0.0 | -1        | 2         | \n",
       "| 9433 | 9442      | 9443      |  3        |     739.5 |  1        | 0         | \n",
       "| 9434 |    0      |    0      |  0        |       0.0 | -1        | 1         | \n",
       "| 9435 |    0      |    0      |  0        |       0.0 | -1        | 2         | \n",
       "| 9436 | 9444      | 9445      | 36        |      37.5 |  1        | 0         | \n",
       "| 9437 |    0      |    0      |  0        |       0.0 | -1        | 2         | \n",
       "| 9438 |    0      |    0      |  0        |       0.0 | -1        | 2         | \n",
       "| 9439 |    0      |    0      |  0        |       0.0 | -1        | 1         | \n",
       "| 9440 |    0      |    0      |  0        |       0.0 | -1        | 2         | \n",
       "| 9441 |    0      |    0      |  0        |       0.0 | -1        | 2         | \n",
       "| 9442 |    0      |    0      |  0        |       0.0 | -1        | 1         | \n",
       "| 9443 | 9446      | 9447      |  4        | 2386352.5 |  1        | 0         | \n",
       "| 9444 |    0      |    0      |  0        |       0.0 | -1        | 2         | \n",
       "| 9445 | 9448      | 9449      |  4        |  834898.0 |  1        | 0         | \n",
       "| 9446 |    0      |    0      |  0        |       0.0 | -1        | 2         | \n",
       "| 9447 |    0      |    0      |  0        |       0.0 | -1        | 1         | \n",
       "| 9448 |    0      |    0      |  0        |       0.0 | -1        | 2         | \n",
       "| 9449 | 9450      | 9451      |  4        |  927114.5 |  1        | 0         | \n",
       "| 9450 |    0      |    0      |  0        |       0.0 | -1        | 1         | \n",
       "| 9451 |    0      |    0      |  0        |       0.0 | -1        | 2         | \n",
       "\n",
       "\n"
      ],
      "text/plain": [
       "     left daughter right daughter split var split point  status prediction\n",
       "1     2             3              1        50394547.500  1     0         \n",
       "2     4             5             18               0.500  1     0         \n",
       "3     0             0              0               0.000 -1     2         \n",
       "4     6             7              1          346269.000  1     0         \n",
       "5     8             9             28               0.500  1     0         \n",
       "6    10            11              1          174394.000  1     0         \n",
       "7    12            13              4         1924852.000  1     0         \n",
       "8    14            15              4         1157670.000  1     0         \n",
       "9    16            17             13               0.500  1     0         \n",
       "10   18            19             19               0.500  1     0         \n",
       "11   20            21             35              40.750  1     0         \n",
       "12   22            23              3            3305.500  1     0         \n",
       "13   24            25              3            3380.500  1     0         \n",
       "14   26            27             34            8408.165  1     0         \n",
       "15   28            29             24               0.500  1     0         \n",
       "16   30            31              3            3585.500  1     0         \n",
       "17   32            33             36              17.000  1     0         \n",
       "18   34            35              3            3545.500  1     0         \n",
       "19   36            37             35              16.050  1     0         \n",
       "20   38            39             19               0.500  1     0         \n",
       "21   40            41             37               8.500  1     0         \n",
       "22   42            43             37               7.500  1     0         \n",
       "23    0             0              0               0.000 -1     1         \n",
       "24   44            45             32               0.500  1     0         \n",
       "25    0             0              0               0.000 -1     1         \n",
       "26   46            47              7               0.500  1     0         \n",
       "27   48            49             34            8602.820  1     0         \n",
       "28   50            51              1          398145.000  1     0         \n",
       "29   52            53             34           21973.595  1     0         \n",
       "30   54            55              4         2358964.000  1     0         \n",
       "...  ...           ...            ...       ...          ...    ...       \n",
       "9422    0             0            0              0.0    -1     2         \n",
       "9423    0             0            0              0.0    -1     2         \n",
       "9424 9436          9437           28              0.5     1     0         \n",
       "9425    0             0            0              0.0    -1     2         \n",
       "9426    0             0            0              0.0    -1     2         \n",
       "9427 9438          9439            4        1144237.0     1     0         \n",
       "9428    0             0            0              0.0    -1     1         \n",
       "9429    0             0            0              0.0    -1     2         \n",
       "9430 9440          9441           16              0.5     1     0         \n",
       "9431    0             0            0              0.0    -1     2         \n",
       "9432    0             0            0              0.0    -1     2         \n",
       "9433 9442          9443            3            739.5     1     0         \n",
       "9434    0             0            0              0.0    -1     1         \n",
       "9435    0             0            0              0.0    -1     2         \n",
       "9436 9444          9445           36             37.5     1     0         \n",
       "9437    0             0            0              0.0    -1     2         \n",
       "9438    0             0            0              0.0    -1     2         \n",
       "9439    0             0            0              0.0    -1     1         \n",
       "9440    0             0            0              0.0    -1     2         \n",
       "9441    0             0            0              0.0    -1     2         \n",
       "9442    0             0            0              0.0    -1     1         \n",
       "9443 9446          9447            4        2386352.5     1     0         \n",
       "9444    0             0            0              0.0    -1     2         \n",
       "9445 9448          9449            4         834898.0     1     0         \n",
       "9446    0             0            0              0.0    -1     2         \n",
       "9447    0             0            0              0.0    -1     1         \n",
       "9448    0             0            0              0.0    -1     2         \n",
       "9449 9450          9451            4         927114.5     1     0         \n",
       "9450    0             0            0              0.0    -1     1         \n",
       "9451    0             0            0              0.0    -1     2         "
      ]
     },
     "metadata": {},
     "output_type": "display_data"
    }
   ],
   "source": [
    "getTree(rf)"
   ]
  }
 ],
 "metadata": {
  "kernelspec": {
   "display_name": "R",
   "language": "R",
   "name": "ir"
  },
  "language_info": {
   "codemirror_mode": "r",
   "file_extension": ".r",
   "mimetype": "text/x-r-source",
   "name": "R",
   "pygments_lexer": "r",
   "version": "3.5.1"
  }
 },
 "nbformat": 4,
 "nbformat_minor": 2
}
