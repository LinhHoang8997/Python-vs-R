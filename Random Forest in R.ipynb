{
 "cells": [
  {
   "cell_type": "code",
   "execution_count": 46,
   "metadata": {
    "ExecuteTime": {
     "end_time": "2019-04-24T16:32:15.161794Z",
     "start_time": "2019-04-24T16:32:15.115Z"
    }
   },
   "outputs": [],
   "source": [
    "library(party)\n",
    "library(randomForest)\n",
    "library(caret)\n",
    "library(tidyverse)\n",
    "# library(tictoc)"
   ]
  },
  {
   "cell_type": "code",
   "execution_count": 47,
   "metadata": {
    "ExecuteTime": {
     "end_time": "2019-04-24T16:32:15.606605Z",
     "start_time": "2019-04-24T16:32:15.128Z"
    }
   },
   "outputs": [
    {
     "name": "stderr",
     "output_type": "stream",
     "text": [
      "Parsed with column specification:\n",
      "cols(\n",
      "  `Loan ID` = col_character(),\n",
      "  `Customer ID` = col_character(),\n",
      "  `Loan Status` = col_character(),\n",
      "  `Current Loan Amount` = col_integer(),\n",
      "  Term = col_character(),\n",
      "  `Credit Score` = col_integer(),\n",
      "  `Annual Income` = col_integer(),\n",
      "  `Years in current job` = col_character(),\n",
      "  `Home Ownership` = col_character(),\n",
      "  Purpose = col_character(),\n",
      "  `Monthly Debt` = col_double(),\n",
      "  `Years of Credit History` = col_double(),\n",
      "  `Months since last delinquent` = col_integer(),\n",
      "  `Number of Open Accounts` = col_integer(),\n",
      "  `Number of Credit Problems` = col_integer(),\n",
      "  `Current Credit Balance` = col_integer(),\n",
      "  `Maximum Open Credit` = col_integer(),\n",
      "  Bankruptcies = col_integer(),\n",
      "  `Tax Liens` = col_integer()\n",
      ")\n"
     ]
    }
   ],
   "source": [
    "df = read_csv('credit_train.csv')"
   ]
  },
  {
   "cell_type": "markdown",
   "metadata": {},
   "source": [
    "## Exploring the dataset with str() *\n",
    "1. Gives you more information and overall sense of the data\n",
    "2. Readr (a package where you call read_csv from) will type strings as char right away. "
   ]
  },
  {
   "cell_type": "code",
   "execution_count": 48,
   "metadata": {
    "ExecuteTime": {
     "end_time": "2019-04-24T16:32:15.809071Z",
     "start_time": "2019-04-24T16:32:15.143Z"
    },
    "scrolled": true
   },
   "outputs": [
    {
     "name": "stdout",
     "output_type": "stream",
     "text": [
      "Classes 'tbl_df', 'tbl' and 'data.frame':\t100514 obs. of  19 variables:\n",
      " $ Loan ID                     : chr  \"14dd8831-6af5-400b-83ec-68e61888a048\" \"4771cc26-131a-45db-b5aa-537ea4ba5342\" \"4eed4e6a-aa2f-4c91-8651-ce984ee8fb26\" \"77598f7b-32e7-4e3b-a6e5-06ba0d98fe8a\" ...\n",
      " $ Customer ID                 : chr  \"981165ec-3274-42f5-a3b4-d104041a9ca9\" \"2de017a3-2e01-49cb-a581-08169e83be29\" \"5efb2b2b-bf11-4dfd-a572-3761a2694725\" \"e777faab-98ae-45af-9a86-7ce5b33b1011\" ...\n",
      " $ Loan Status                 : chr  \"Fully Paid\" \"Fully Paid\" \"Fully Paid\" \"Fully Paid\" ...\n",
      " $ Current Loan Amount         : int  445412 262328 99999999 347666 176220 206602 217646 648714 548746 215952 ...\n",
      " $ Term                        : chr  \"Short Term\" \"Short Term\" \"Short Term\" \"Long Term\" ...\n",
      " $ Credit Score                : int  709 NA 741 721 NA 7290 730 NA 678 739 ...\n",
      " $ Annual Income               : int  1167493 NA 2231892 806949 NA 896857 1184194 NA 2559110 1454735 ...\n",
      " $ Years in current job        : chr  \"8 years\" \"10+ years\" \"8 years\" \"3 years\" ...\n",
      " $ Home Ownership              : chr  \"Home Mortgage\" \"Home Mortgage\" \"Own Home\" \"Own Home\" ...\n",
      " $ Purpose                     : chr  \"Home Improvements\" \"Debt Consolidation\" \"Debt Consolidation\" \"Debt Consolidation\" ...\n",
      " $ Monthly Debt                : num  5215 33296 29201 8742 20640 ...\n",
      " $ Years of Credit History     : num  17.2 21.1 14.9 12 6.1 17.3 19.6 8.2 22.6 13.9 ...\n",
      " $ Months since last delinquent: int  NA 8 29 NA NA NA 10 8 33 NA ...\n",
      " $ Number of Open Accounts     : int  6 35 18 9 15 6 13 15 4 20 ...\n",
      " $ Number of Credit Problems   : int  1 0 1 0 0 0 1 0 0 0 ...\n",
      " $ Current Credit Balance      : int  228190 229976 297996 256329 253460 215308 122170 193306 437171 669560 ...\n",
      " $ Maximum Open Credit         : int  416746 850784 750090 386958 427174 272448 272052 864204 555038 1021460 ...\n",
      " $ Bankruptcies                : int  1 0 0 0 0 0 1 0 0 0 ...\n",
      " $ Tax Liens                   : int  0 0 0 0 0 0 0 0 0 0 ...\n",
      " - attr(*, \"spec\")=List of 2\n",
      "  ..$ cols   :List of 19\n",
      "  .. ..$ Loan ID                     : list()\n",
      "  .. .. ..- attr(*, \"class\")= chr  \"collector_character\" \"collector\"\n",
      "  .. ..$ Customer ID                 : list()\n",
      "  .. .. ..- attr(*, \"class\")= chr  \"collector_character\" \"collector\"\n",
      "  .. ..$ Loan Status                 : list()\n",
      "  .. .. ..- attr(*, \"class\")= chr  \"collector_character\" \"collector\"\n",
      "  .. ..$ Current Loan Amount         : list()\n",
      "  .. .. ..- attr(*, \"class\")= chr  \"collector_integer\" \"collector\"\n",
      "  .. ..$ Term                        : list()\n",
      "  .. .. ..- attr(*, \"class\")= chr  \"collector_character\" \"collector\"\n",
      "  .. ..$ Credit Score                : list()\n",
      "  .. .. ..- attr(*, \"class\")= chr  \"collector_integer\" \"collector\"\n",
      "  .. ..$ Annual Income               : list()\n",
      "  .. .. ..- attr(*, \"class\")= chr  \"collector_integer\" \"collector\"\n",
      "  .. ..$ Years in current job        : list()\n",
      "  .. .. ..- attr(*, \"class\")= chr  \"collector_character\" \"collector\"\n",
      "  .. ..$ Home Ownership              : list()\n",
      "  .. .. ..- attr(*, \"class\")= chr  \"collector_character\" \"collector\"\n",
      "  .. ..$ Purpose                     : list()\n",
      "  .. .. ..- attr(*, \"class\")= chr  \"collector_character\" \"collector\"\n",
      "  .. ..$ Monthly Debt                : list()\n",
      "  .. .. ..- attr(*, \"class\")= chr  \"collector_double\" \"collector\"\n",
      "  .. ..$ Years of Credit History     : list()\n",
      "  .. .. ..- attr(*, \"class\")= chr  \"collector_double\" \"collector\"\n",
      "  .. ..$ Months since last delinquent: list()\n",
      "  .. .. ..- attr(*, \"class\")= chr  \"collector_integer\" \"collector\"\n",
      "  .. ..$ Number of Open Accounts     : list()\n",
      "  .. .. ..- attr(*, \"class\")= chr  \"collector_integer\" \"collector\"\n",
      "  .. ..$ Number of Credit Problems   : list()\n",
      "  .. .. ..- attr(*, \"class\")= chr  \"collector_integer\" \"collector\"\n",
      "  .. ..$ Current Credit Balance      : list()\n",
      "  .. .. ..- attr(*, \"class\")= chr  \"collector_integer\" \"collector\"\n",
      "  .. ..$ Maximum Open Credit         : list()\n",
      "  .. .. ..- attr(*, \"class\")= chr  \"collector_integer\" \"collector\"\n",
      "  .. ..$ Bankruptcies                : list()\n",
      "  .. .. ..- attr(*, \"class\")= chr  \"collector_integer\" \"collector\"\n",
      "  .. ..$ Tax Liens                   : list()\n",
      "  .. .. ..- attr(*, \"class\")= chr  \"collector_integer\" \"collector\"\n",
      "  ..$ default: list()\n",
      "  .. ..- attr(*, \"class\")= chr  \"collector_guess\" \"collector\"\n",
      "  ..- attr(*, \"class\")= chr \"col_spec\"\n"
     ]
    }
   ],
   "source": [
    "str(df)\n",
    "# Str() is a powerful function that gives a more complete overview of the the language"
   ]
  },
  {
   "cell_type": "code",
   "execution_count": 49,
   "metadata": {
    "ExecuteTime": {
     "end_time": "2019-04-24T16:32:15.890846Z",
     "start_time": "2019-04-24T16:32:15.155Z"
    },
    "scrolled": true
   },
   "outputs": [
    {
     "data": {
      "text/html": [
       "<table>\n",
       "<thead><tr><th scope=col>Loan Status</th></tr></thead>\n",
       "<tbody>\n",
       "\t<tr><td>Fully Paid</td></tr>\n",
       "\t<tr><td>Fully Paid</td></tr>\n",
       "\t<tr><td>Fully Paid</td></tr>\n",
       "\t<tr><td>Fully Paid</td></tr>\n",
       "\t<tr><td>Fully Paid</td></tr>\n",
       "</tbody>\n",
       "</table>\n"
      ],
      "text/latex": [
       "\\begin{tabular}{r|l}\n",
       " Loan Status\\\\\n",
       "\\hline\n",
       "\t Fully Paid\\\\\n",
       "\t Fully Paid\\\\\n",
       "\t Fully Paid\\\\\n",
       "\t Fully Paid\\\\\n",
       "\t Fully Paid\\\\\n",
       "\\end{tabular}\n"
      ],
      "text/markdown": [
       "\n",
       "Loan Status | \n",
       "|---|---|---|---|---|\n",
       "| Fully Paid | \n",
       "| Fully Paid | \n",
       "| Fully Paid | \n",
       "| Fully Paid | \n",
       "| Fully Paid | \n",
       "\n",
       "\n"
      ],
      "text/plain": [
       "  Loan Status\n",
       "1 Fully Paid \n",
       "2 Fully Paid \n",
       "3 Fully Paid \n",
       "4 Fully Paid \n",
       "5 Fully Paid "
      ]
     },
     "metadata": {},
     "output_type": "display_data"
    }
   ],
   "source": [
    "head(\n",
    "    df[,\"Loan Status\"]\n",
    "    ,5)"
   ]
  },
  {
   "cell_type": "code",
   "execution_count": 50,
   "metadata": {
    "ExecuteTime": {
     "end_time": "2019-04-24T16:32:16.069372Z",
     "start_time": "2019-04-24T16:32:15.164Z"
    }
   },
   "outputs": [],
   "source": [
    "# Remove NaN values - dropping those row\n",
    "df <- na.omit(df)"
   ]
  },
  {
   "cell_type": "code",
   "execution_count": 51,
   "metadata": {
    "ExecuteTime": {
     "end_time": "2019-04-24T16:32:16.105271Z",
     "start_time": "2019-04-24T16:32:15.172Z"
    }
   },
   "outputs": [],
   "source": [
    "# summary(df)"
   ]
  },
  {
   "cell_type": "code",
   "execution_count": 52,
   "metadata": {
    "ExecuteTime": {
     "end_time": "2019-04-24T16:32:16.151149Z",
     "start_time": "2019-04-24T16:32:15.181Z"
    }
   },
   "outputs": [],
   "source": [
    "df <- select(df,-`Loan ID`,-`Customer ID`) "
   ]
  },
  {
   "cell_type": "code",
   "execution_count": 53,
   "metadata": {
    "ExecuteTime": {
     "end_time": "2019-04-24T16:32:17.213338Z",
     "start_time": "2019-04-24T16:32:15.190Z"
    }
   },
   "outputs": [],
   "source": [
    "# Select only categorical fields/columns \n",
    "catg_df = select_if(df,is.character)\n",
    "\n",
    "# One hot code all categorical values \n",
    "dummy <- dummyVars(\"~ .\", data = df,fullRank = TRUE, sep =\"_\")\n",
    "df_new <- as.data.frame(predict(dummy, df))"
   ]
  },
  {
   "cell_type": "code",
   "execution_count": 54,
   "metadata": {
    "ExecuteTime": {
     "end_time": "2019-04-24T16:32:17.280130Z",
     "start_time": "2019-04-24T16:32:15.200Z"
    }
   },
   "outputs": [
    {
     "data": {
      "text/html": [
       "<ol class=list-inline>\n",
       "\t<li>38010</li>\n",
       "\t<li>43</li>\n",
       "</ol>\n"
      ],
      "text/latex": [
       "\\begin{enumerate*}\n",
       "\\item 38010\n",
       "\\item 43\n",
       "\\end{enumerate*}\n"
      ],
      "text/markdown": [
       "1. 38010\n",
       "2. 43\n",
       "\n",
       "\n"
      ],
      "text/plain": [
       "[1] 38010    43"
      ]
     },
     "metadata": {},
     "output_type": "display_data"
    }
   ],
   "source": [
    "dim(df_new)"
   ]
  },
  {
   "cell_type": "code",
   "execution_count": 55,
   "metadata": {
    "ExecuteTime": {
     "end_time": "2019-04-24T16:32:17.359918Z",
     "start_time": "2019-04-24T16:32:15.208Z"
    }
   },
   "outputs": [
    {
     "data": {
      "text/html": [
       "<table>\n",
       "<thead><tr><th scope=col>`Loan Status`Fully Paid</th><th scope=col>`Current Loan Amount`</th><th scope=col>TermShort Term</th><th scope=col>`Credit Score`</th><th scope=col>`Annual Income`</th><th scope=col>`Years in current job`1 year</th><th scope=col>`Years in current job`10+ years</th><th scope=col>`Years in current job`2 years</th><th scope=col>`Years in current job`3 years</th><th scope=col>`Years in current job`4 years</th><th scope=col>...</th><th scope=col>Purposewedding</th><th scope=col>`Monthly Debt`</th><th scope=col>`Years of Credit History`</th><th scope=col>`Months since last delinquent`</th><th scope=col>`Number of Open Accounts`</th><th scope=col>`Number of Credit Problems`</th><th scope=col>`Current Credit Balance`</th><th scope=col>`Maximum Open Credit`</th><th scope=col>Bankruptcies</th><th scope=col>`Tax Liens`</th></tr></thead>\n",
       "<tbody>\n",
       "\t<tr><td>1       </td><td>99999999</td><td>1       </td><td>741     </td><td>2231892 </td><td>0       </td><td>0       </td><td>0       </td><td>0       </td><td>0       </td><td>...     </td><td>0       </td><td>29200.53</td><td>14.9    </td><td>29      </td><td>18      </td><td>1       </td><td>297996  </td><td>750090  </td><td>0       </td><td>0       </td></tr>\n",
       "\t<tr><td>1       </td><td>  217646</td><td>1       </td><td>730     </td><td>1184194 </td><td>0       </td><td>0       </td><td>0       </td><td>0       </td><td>0       </td><td>...     </td><td>0       </td><td>10855.08</td><td>19.6    </td><td>10      </td><td>13      </td><td>1       </td><td>122170  </td><td>272052  </td><td>1       </td><td>0       </td></tr>\n",
       "</tbody>\n",
       "</table>\n"
      ],
      "text/latex": [
       "\\begin{tabular}{r|lllllllllllllllllllllllllllllllllllllllllll}\n",
       " `Loan Status`Fully Paid & `Current Loan Amount` & TermShort Term & `Credit Score` & `Annual Income` & `Years in current job`1 year & `Years in current job`10+ years & `Years in current job`2 years & `Years in current job`3 years & `Years in current job`4 years & ... & Purposewedding & `Monthly Debt` & `Years of Credit History` & `Months since last delinquent` & `Number of Open Accounts` & `Number of Credit Problems` & `Current Credit Balance` & `Maximum Open Credit` & Bankruptcies & `Tax Liens`\\\\\n",
       "\\hline\n",
       "\t 1        & 99999999 & 1        & 741      & 2231892  & 0        & 0        & 0        & 0        & 0        & ...      & 0        & 29200.53 & 14.9     & 29       & 18       & 1        & 297996   & 750090   & 0        & 0       \\\\\n",
       "\t 1        &   217646 & 1        & 730      & 1184194  & 0        & 0        & 0        & 0        & 0        & ...      & 0        & 10855.08 & 19.6     & 10       & 13       & 1        & 122170   & 272052   & 1        & 0       \\\\\n",
       "\\end{tabular}\n"
      ],
      "text/markdown": [
       "\n",
       "`Loan Status`Fully Paid | `Current Loan Amount` | TermShort Term | `Credit Score` | `Annual Income` | `Years in current job`1 year | `Years in current job`10+ years | `Years in current job`2 years | `Years in current job`3 years | `Years in current job`4 years | ... | Purposewedding | `Monthly Debt` | `Years of Credit History` | `Months since last delinquent` | `Number of Open Accounts` | `Number of Credit Problems` | `Current Credit Balance` | `Maximum Open Credit` | Bankruptcies | `Tax Liens` | \n",
       "|---|---|\n",
       "| 1        | 99999999 | 1        | 741      | 2231892  | 0        | 0        | 0        | 0        | 0        | ...      | 0        | 29200.53 | 14.9     | 29       | 18       | 1        | 297996   | 750090   | 0        | 0        | \n",
       "| 1        |   217646 | 1        | 730      | 1184194  | 0        | 0        | 0        | 0        | 0        | ...      | 0        | 10855.08 | 19.6     | 10       | 13       | 1        | 122170   | 272052   | 1        | 0        | \n",
       "\n",
       "\n"
      ],
      "text/plain": [
       "  `Loan Status`Fully Paid `Current Loan Amount` TermShort Term `Credit Score`\n",
       "1 1                       99999999              1              741           \n",
       "2 1                         217646              1              730           \n",
       "  `Annual Income` `Years in current job`1 year `Years in current job`10+ years\n",
       "1 2231892         0                            0                              \n",
       "2 1184194         0                            0                              \n",
       "  `Years in current job`2 years `Years in current job`3 years\n",
       "1 0                             0                            \n",
       "2 0                             0                            \n",
       "  `Years in current job`4 years ... Purposewedding `Monthly Debt`\n",
       "1 0                             ... 0              29200.53      \n",
       "2 0                             ... 0              10855.08      \n",
       "  `Years of Credit History` `Months since last delinquent`\n",
       "1 14.9                      29                            \n",
       "2 19.6                      10                            \n",
       "  `Number of Open Accounts` `Number of Credit Problems`\n",
       "1 18                        1                          \n",
       "2 13                        1                          \n",
       "  `Current Credit Balance` `Maximum Open Credit` Bankruptcies `Tax Liens`\n",
       "1 297996                   750090                0            0          \n",
       "2 122170                   272052                1            0          "
      ]
     },
     "metadata": {},
     "output_type": "display_data"
    }
   ],
   "source": [
    "head(df_new,2)"
   ]
  },
  {
   "cell_type": "code",
   "execution_count": 56,
   "metadata": {
    "ExecuteTime": {
     "end_time": "2019-04-24T16:32:17.402803Z",
     "start_time": "2019-04-24T16:32:15.215Z"
    }
   },
   "outputs": [],
   "source": [
    "# Merge dummy_df back into dummy, while dropping the old categorical variables\\\n",
    "# df <- select_if(df,Negate(is.character))\n",
    "# df_new <- cbind(df,dummy_df)"
   ]
  },
  {
   "cell_type": "code",
   "execution_count": 57,
   "metadata": {
    "ExecuteTime": {
     "end_time": "2019-04-24T16:32:17.451674Z",
     "start_time": "2019-04-24T16:32:15.222Z"
    }
   },
   "outputs": [],
   "source": [
    "# str(df_new)"
   ]
  },
  {
   "cell_type": "code",
   "execution_count": 58,
   "metadata": {
    "ExecuteTime": {
     "end_time": "2019-04-24T16:32:17.512509Z",
     "start_time": "2019-04-24T16:32:15.231Z"
    }
   },
   "outputs": [],
   "source": [
    "colnames(df_new) <- gsub(\"`\", \"\", colnames(df_new))\n",
    "# colnames(df_new) <- gsub(\" \", \".\", colnames(df_new))\n",
    "# # In R, use \\\\ to grab special character"
   ]
  },
  {
   "cell_type": "code",
   "execution_count": 59,
   "metadata": {
    "ExecuteTime": {
     "end_time": "2019-04-24T16:32:17.565368Z",
     "start_time": "2019-04-24T16:32:15.236Z"
    }
   },
   "outputs": [
    {
     "data": {
      "text/html": [
       "<ol class=list-inline>\n",
       "\t<li>'Loan StatusFully Paid'</li>\n",
       "\t<li>'Current Loan Amount'</li>\n",
       "\t<li>'TermShort Term'</li>\n",
       "\t<li>'Credit Score'</li>\n",
       "\t<li>'Annual Income'</li>\n",
       "\t<li>'Years in current job1 year'</li>\n",
       "\t<li>'Years in current job10+ years'</li>\n",
       "\t<li>'Years in current job2 years'</li>\n",
       "\t<li>'Years in current job3 years'</li>\n",
       "\t<li>'Years in current job4 years'</li>\n",
       "\t<li>'Years in current job5 years'</li>\n",
       "\t<li>'Years in current job6 years'</li>\n",
       "\t<li>'Years in current job7 years'</li>\n",
       "\t<li>'Years in current job8 years'</li>\n",
       "\t<li>'Years in current job9 years'</li>\n",
       "\t<li>'Years in current jobn/a'</li>\n",
       "\t<li>'Home OwnershipHome Mortgage'</li>\n",
       "\t<li>'Home OwnershipOwn Home'</li>\n",
       "\t<li>'Home OwnershipRent'</li>\n",
       "\t<li>'PurposeBuy a Car'</li>\n",
       "\t<li>'PurposeBuy House'</li>\n",
       "\t<li>'PurposeDebt Consolidation'</li>\n",
       "\t<li>'PurposeEducational Expenses'</li>\n",
       "\t<li>'PurposeHome Improvements'</li>\n",
       "\t<li>'Purposemajor_purchase'</li>\n",
       "\t<li>'PurposeMedical Bills'</li>\n",
       "\t<li>'Purposemoving'</li>\n",
       "\t<li>'Purposeother'</li>\n",
       "\t<li>'PurposeOther'</li>\n",
       "\t<li>'Purposerenewable_energy'</li>\n",
       "\t<li>'Purposesmall_business'</li>\n",
       "\t<li>'PurposeTake a Trip'</li>\n",
       "\t<li>'Purposevacation'</li>\n",
       "\t<li>'Purposewedding'</li>\n",
       "\t<li>'Monthly Debt'</li>\n",
       "\t<li>'Years of Credit History'</li>\n",
       "\t<li>'Months since last delinquent'</li>\n",
       "\t<li>'Number of Open Accounts'</li>\n",
       "\t<li>'Number of Credit Problems'</li>\n",
       "\t<li>'Current Credit Balance'</li>\n",
       "\t<li>'Maximum Open Credit'</li>\n",
       "\t<li>'Bankruptcies'</li>\n",
       "\t<li>'Tax Liens'</li>\n",
       "</ol>\n"
      ],
      "text/latex": [
       "\\begin{enumerate*}\n",
       "\\item 'Loan StatusFully Paid'\n",
       "\\item 'Current Loan Amount'\n",
       "\\item 'TermShort Term'\n",
       "\\item 'Credit Score'\n",
       "\\item 'Annual Income'\n",
       "\\item 'Years in current job1 year'\n",
       "\\item 'Years in current job10+ years'\n",
       "\\item 'Years in current job2 years'\n",
       "\\item 'Years in current job3 years'\n",
       "\\item 'Years in current job4 years'\n",
       "\\item 'Years in current job5 years'\n",
       "\\item 'Years in current job6 years'\n",
       "\\item 'Years in current job7 years'\n",
       "\\item 'Years in current job8 years'\n",
       "\\item 'Years in current job9 years'\n",
       "\\item 'Years in current jobn/a'\n",
       "\\item 'Home OwnershipHome Mortgage'\n",
       "\\item 'Home OwnershipOwn Home'\n",
       "\\item 'Home OwnershipRent'\n",
       "\\item 'PurposeBuy a Car'\n",
       "\\item 'PurposeBuy House'\n",
       "\\item 'PurposeDebt Consolidation'\n",
       "\\item 'PurposeEducational Expenses'\n",
       "\\item 'PurposeHome Improvements'\n",
       "\\item 'Purposemajor\\_purchase'\n",
       "\\item 'PurposeMedical Bills'\n",
       "\\item 'Purposemoving'\n",
       "\\item 'Purposeother'\n",
       "\\item 'PurposeOther'\n",
       "\\item 'Purposerenewable\\_energy'\n",
       "\\item 'Purposesmall\\_business'\n",
       "\\item 'PurposeTake a Trip'\n",
       "\\item 'Purposevacation'\n",
       "\\item 'Purposewedding'\n",
       "\\item 'Monthly Debt'\n",
       "\\item 'Years of Credit History'\n",
       "\\item 'Months since last delinquent'\n",
       "\\item 'Number of Open Accounts'\n",
       "\\item 'Number of Credit Problems'\n",
       "\\item 'Current Credit Balance'\n",
       "\\item 'Maximum Open Credit'\n",
       "\\item 'Bankruptcies'\n",
       "\\item 'Tax Liens'\n",
       "\\end{enumerate*}\n"
      ],
      "text/markdown": [
       "1. 'Loan StatusFully Paid'\n",
       "2. 'Current Loan Amount'\n",
       "3. 'TermShort Term'\n",
       "4. 'Credit Score'\n",
       "5. 'Annual Income'\n",
       "6. 'Years in current job1 year'\n",
       "7. 'Years in current job10+ years'\n",
       "8. 'Years in current job2 years'\n",
       "9. 'Years in current job3 years'\n",
       "10. 'Years in current job4 years'\n",
       "11. 'Years in current job5 years'\n",
       "12. 'Years in current job6 years'\n",
       "13. 'Years in current job7 years'\n",
       "14. 'Years in current job8 years'\n",
       "15. 'Years in current job9 years'\n",
       "16. 'Years in current jobn/a'\n",
       "17. 'Home OwnershipHome Mortgage'\n",
       "18. 'Home OwnershipOwn Home'\n",
       "19. 'Home OwnershipRent'\n",
       "20. 'PurposeBuy a Car'\n",
       "21. 'PurposeBuy House'\n",
       "22. 'PurposeDebt Consolidation'\n",
       "23. 'PurposeEducational Expenses'\n",
       "24. 'PurposeHome Improvements'\n",
       "25. 'Purposemajor_purchase'\n",
       "26. 'PurposeMedical Bills'\n",
       "27. 'Purposemoving'\n",
       "28. 'Purposeother'\n",
       "29. 'PurposeOther'\n",
       "30. 'Purposerenewable_energy'\n",
       "31. 'Purposesmall_business'\n",
       "32. 'PurposeTake a Trip'\n",
       "33. 'Purposevacation'\n",
       "34. 'Purposewedding'\n",
       "35. 'Monthly Debt'\n",
       "36. 'Years of Credit History'\n",
       "37. 'Months since last delinquent'\n",
       "38. 'Number of Open Accounts'\n",
       "39. 'Number of Credit Problems'\n",
       "40. 'Current Credit Balance'\n",
       "41. 'Maximum Open Credit'\n",
       "42. 'Bankruptcies'\n",
       "43. 'Tax Liens'\n",
       "\n",
       "\n"
      ],
      "text/plain": [
       " [1] \"Loan StatusFully Paid\"         \"Current Loan Amount\"          \n",
       " [3] \"TermShort Term\"                \"Credit Score\"                 \n",
       " [5] \"Annual Income\"                 \"Years in current job1 year\"   \n",
       " [7] \"Years in current job10+ years\" \"Years in current job2 years\"  \n",
       " [9] \"Years in current job3 years\"   \"Years in current job4 years\"  \n",
       "[11] \"Years in current job5 years\"   \"Years in current job6 years\"  \n",
       "[13] \"Years in current job7 years\"   \"Years in current job8 years\"  \n",
       "[15] \"Years in current job9 years\"   \"Years in current jobn/a\"      \n",
       "[17] \"Home OwnershipHome Mortgage\"   \"Home OwnershipOwn Home\"       \n",
       "[19] \"Home OwnershipRent\"            \"PurposeBuy a Car\"             \n",
       "[21] \"PurposeBuy House\"              \"PurposeDebt Consolidation\"    \n",
       "[23] \"PurposeEducational Expenses\"   \"PurposeHome Improvements\"     \n",
       "[25] \"Purposemajor_purchase\"         \"PurposeMedical Bills\"         \n",
       "[27] \"Purposemoving\"                 \"Purposeother\"                 \n",
       "[29] \"PurposeOther\"                  \"Purposerenewable_energy\"      \n",
       "[31] \"Purposesmall_business\"         \"PurposeTake a Trip\"           \n",
       "[33] \"Purposevacation\"               \"Purposewedding\"               \n",
       "[35] \"Monthly Debt\"                  \"Years of Credit History\"      \n",
       "[37] \"Months since last delinquent\"  \"Number of Open Accounts\"      \n",
       "[39] \"Number of Credit Problems\"     \"Current Credit Balance\"       \n",
       "[41] \"Maximum Open Credit\"           \"Bankruptcies\"                 \n",
       "[43] \"Tax Liens\"                    "
      ]
     },
     "metadata": {},
     "output_type": "display_data"
    }
   ],
   "source": [
    "# length(colnames(df_new))\n",
    "colnames(df_new)"
   ]
  },
  {
   "cell_type": "markdown",
   "metadata": {},
   "source": [
    "**Key distinction:**\n",
    "\n",
    "'Loan.StatusFully.Paid' is automatically kept as the one field.\n",
    "\n",
    "R's dummyVars has removed the 'ChargedOff' option (the negative) from the model.\n",
    "\n",
    "With Python, one must remove the ChargedOff as it can mess with the model. "
   ]
  },
  {
   "cell_type": "code",
   "execution_count": 60,
   "metadata": {
    "ExecuteTime": {
     "end_time": "2019-04-24T16:32:17.703001Z",
     "start_time": "2019-04-24T16:32:15.245Z"
    }
   },
   "outputs": [],
   "source": [
    "set.seed(100)\n",
    "train <- sample(nrow(df_new), 0.75*nrow(df_new), replace = FALSE)\n",
    "TrainSet <- df_new[train,]\n",
    "TestSet <- df_new[-train,]"
   ]
  },
  {
   "cell_type": "code",
   "execution_count": 61,
   "metadata": {
    "ExecuteTime": {
     "end_time": "2019-04-24T16:32:17.747878Z",
     "start_time": "2019-04-24T16:32:15.249Z"
    }
   },
   "outputs": [],
   "source": [
    "# cat('Training Set Shape:', dim(TrainSet),\"\\n\")\n",
    "# cat('Testing Set Shape:',dim(TestSet))"
   ]
  },
  {
   "cell_type": "code",
   "execution_count": 62,
   "metadata": {
    "ExecuteTime": {
     "end_time": "2019-04-24T16:32:17.850606Z",
     "start_time": "2019-04-24T16:32:15.254Z"
    }
   },
   "outputs": [],
   "source": [
    "train_labels <- as.factor(TrainSet[,\"Loan StatusFully Paid\"])\n",
    "train_features <- select(TrainSet, -\"Loan StatusFully Paid\")"
   ]
  },
  {
   "cell_type": "code",
   "execution_count": 63,
   "metadata": {
    "ExecuteTime": {
     "end_time": "2019-04-24T16:32:17.919425Z",
     "start_time": "2019-04-24T16:32:15.258Z"
    }
   },
   "outputs": [],
   "source": [
    "test_labels <- as.factor(TestSet[,\"Loan StatusFully Paid\"])\n",
    "test_features <- select(TestSet, -\"Loan StatusFully Paid\")"
   ]
  },
  {
   "cell_type": "markdown",
   "metadata": {},
   "source": [
    "## Training time in R\n",
    "Clear explanation on specific package. For instance: paramaters."
   ]
  },
  {
   "cell_type": "code",
   "execution_count": 70,
   "metadata": {
    "ExecuteTime": {
     "end_time": "2019-04-24T16:37:50.184269Z",
     "start_time": "2019-04-24T16:36:22.987Z"
    },
    "scrolled": true
   },
   "outputs": [],
   "source": [
    "random_forest = rf <- randomForest(train_features,train_labels, ntree=200, importance=TRUE)"
   ]
  },
  {
   "cell_type": "code",
   "execution_count": 65,
   "metadata": {
    "ExecuteTime": {
     "end_time": "2019-04-24T16:34:09.747829Z",
     "start_time": "2019-04-24T16:32:15.270Z"
    },
    "scrolled": false
   },
   "outputs": [
    {
     "name": "stdout",
     "output_type": "stream",
     "text": [
      "\n",
      "Call:\n",
      " randomForest(x = train_features, y = train_labels, ntree = 200,      importance = TRUE) \n",
      "               Type of random forest: classification\n",
      "                     Number of trees: 200\n",
      "No. of variables tried at each split: 6\n",
      "\n",
      "        OOB estimate of  error rate: 15.26%\n",
      "Confusion matrix:\n",
      "     0     1 class.error\n",
      "0 1609  4312 0.728255362\n",
      "1   38 22548 0.001682458\n"
     ]
    }
   ],
   "source": [
    "print(rf)"
   ]
  },
  {
   "cell_type": "code",
   "execution_count": 66,
   "metadata": {
    "ExecuteTime": {
     "end_time": "2019-04-24T16:34:09.782736Z",
     "start_time": "2019-04-24T16:32:15.275Z"
    },
    "scrolled": true
   },
   "outputs": [],
   "source": [
    "# plot(rf)\n",
    "# # Have to find a way to do this in Python"
   ]
  },
  {
   "cell_type": "code",
   "execution_count": 67,
   "metadata": {
    "ExecuteTime": {
     "end_time": "2019-04-24T16:34:10.272429Z",
     "start_time": "2019-04-24T16:32:15.279Z"
    }
   },
   "outputs": [
    {
     "data": {
      "text/plain": [
       "         test_labels\n",
       "predTrain    0    1\n",
       "        0  521    6\n",
       "        1 1449 7527"
      ]
     },
     "metadata": {},
     "output_type": "display_data"
    }
   ],
   "source": [
    "# Predicting on train set\n",
    "predTrain <- predict(rf, test_features, type = \"class\")\n",
    "# Checking classification accuracy\n",
    "table(predTrain, test_labels)  "
   ]
  },
  {
   "cell_type": "code",
   "execution_count": 68,
   "metadata": {
    "ExecuteTime": {
     "end_time": "2019-04-24T16:34:10.858859Z",
     "start_time": "2019-04-24T16:32:15.284Z"
    },
    "scrolled": false
   },
   "outputs": [
    {
     "name": "stdout",
     "output_type": "stream",
     "text": [
      "[1] \"The accuracy is: \"\n"
     ]
    },
    {
     "data": {
      "text/html": [
       "0.846785225718194"
      ],
      "text/latex": [
       "0.846785225718194"
      ],
      "text/markdown": [
       "0.846785225718194"
      ],
      "text/plain": [
       "[1] 0.8467852"
      ]
     },
     "metadata": {},
     "output_type": "display_data"
    },
    {
     "data": {
      "text/plain": [
       "         test_labels\n",
       "predValid    0    1\n",
       "        0  520    6\n",
       "        1 1450 7527"
      ]
     },
     "metadata": {},
     "output_type": "display_data"
    }
   ],
   "source": [
    "# Checking classification accuracy\n",
    "predValid <- predict(rf, test_features, type = \"class\")\n",
    "print(\"The accuracy is: \")\n",
    "mean(predValid == test_labels)                \n",
    "table(predValid,test_labels)"
   ]
  },
  {
   "cell_type": "markdown",
   "metadata": {},
   "source": [
    "## Importance Plot\n",
    "Give better context of the features/variables used in the training the algorithm. "
   ]
  },
  {
   "cell_type": "code",
   "execution_count": 69,
   "metadata": {
    "ExecuteTime": {
     "end_time": "2019-04-24T16:34:11.105199Z",
     "start_time": "2019-04-24T16:32:15.290Z"
    },
    "scrolled": false
   },
   "outputs": [
    {
     "data": {
      "image/png": "[encoded data removed]",
      "text/plain": [
       "plot without title"
      ]
     },
     "metadata": {},
     "output_type": "display_data"
    }
   ],
   "source": [
    "# importance(rf)  \n",
    "varImpPlot(rf)\n",
    "\n",
    "# Importance of features in the model, represented by degree of accuracy lost if the feature is removed."
   ]
  },
  {
   "cell_type": "code",
   "execution_count": null,
   "metadata": {},
   "outputs": [],
   "source": []
  }
 ],
 "metadata": {
  "kernelspec": {
   "display_name": "R",
   "language": "R",
   "name": "ir"
  },
  "language_info": {
   "codemirror_mode": "r",
   "file_extension": ".r",
   "mimetype": "text/x-r-source",
   "name": "R",
   "pygments_lexer": "r",
   "version": "3.5.1"
  },
  "toc": {
   "base_numbering": 1,
   "nav_menu": {},
   "number_sections": true,
   "sideBar": true,
   "skip_h1_title": false,
   "title_cell": "Table of Contents",
   "title_sidebar": "Contents",
   "toc_cell": false,
   "toc_position": {},
   "toc_section_display": true,
   "toc_window_display": true
  }
 },
 "nbformat": 4,
 "nbformat_minor": 2
}
