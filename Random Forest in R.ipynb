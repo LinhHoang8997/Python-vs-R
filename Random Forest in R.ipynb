{
 "cells": [
  {
   "cell_type": "code",
   "execution_count": 29,
   "metadata": {},
   "outputs": [],
   "source": [
    "library(party)\n",
    "library(randomForest)\n",
    "library(readr)\n",
    "library(dplyr)\n",
    "library(tictoc)"
   ]
  },
  {
   "cell_type": "code",
   "execution_count": 30,
   "metadata": {
    "scrolled": true
   },
   "outputs": [
    {
     "name": "stderr",
     "output_type": "stream",
     "text": [
      "Parsed with column specification:\n",
      "cols(\n",
      "  `Loan ID` = col_character(),\n",
      "  `Customer ID` = col_character(),\n",
      "  `Loan Status` = col_character(),\n",
      "  `Current Loan Amount` = col_integer(),\n",
      "  Term = col_character(),\n",
      "  `Credit Score` = col_integer(),\n",
      "  `Annual Income` = col_integer(),\n",
      "  `Years in current job` = col_character(),\n",
      "  `Home Ownership` = col_character(),\n",
      "  Purpose = col_character(),\n",
      "  `Monthly Debt` = col_double(),\n",
      "  `Years of Credit History` = col_double(),\n",
      "  `Months since last delinquent` = col_integer(),\n",
      "  `Number of Open Accounts` = col_integer(),\n",
      "  `Number of Credit Problems` = col_integer(),\n",
      "  `Current Credit Balance` = col_integer(),\n",
      "  `Maximum Open Credit` = col_integer(),\n",
      "  Bankruptcies = col_integer(),\n",
      "  `Tax Liens` = col_integer()\n",
      ")\n"
     ]
    }
   ],
   "source": [
    "df <- as.data.frame(read_csv('credit_train.csv'))"
   ]
  },
  {
   "cell_type": "code",
   "execution_count": 31,
   "metadata": {},
   "outputs": [
    {
     "data": {
      "text/html": [
       "<dl class=dl-horizontal>\n",
       "\t<dt>Loan ID</dt>\n",
       "\t\t<dd>'character'</dd>\n",
       "\t<dt>Customer ID</dt>\n",
       "\t\t<dd>'character'</dd>\n",
       "\t<dt>Loan Status</dt>\n",
       "\t\t<dd>'character'</dd>\n",
       "\t<dt>Current Loan Amount</dt>\n",
       "\t\t<dd>'integer'</dd>\n",
       "\t<dt>Term</dt>\n",
       "\t\t<dd>'character'</dd>\n",
       "\t<dt>Credit Score</dt>\n",
       "\t\t<dd>'integer'</dd>\n",
       "\t<dt>Annual Income</dt>\n",
       "\t\t<dd>'integer'</dd>\n",
       "\t<dt>Years in current job</dt>\n",
       "\t\t<dd>'character'</dd>\n",
       "\t<dt>Home Ownership</dt>\n",
       "\t\t<dd>'character'</dd>\n",
       "\t<dt>Purpose</dt>\n",
       "\t\t<dd>'character'</dd>\n",
       "\t<dt>Monthly Debt</dt>\n",
       "\t\t<dd>'numeric'</dd>\n",
       "\t<dt>Years of Credit History</dt>\n",
       "\t\t<dd>'numeric'</dd>\n",
       "\t<dt>Months since last delinquent</dt>\n",
       "\t\t<dd>'integer'</dd>\n",
       "\t<dt>Number of Open Accounts</dt>\n",
       "\t\t<dd>'integer'</dd>\n",
       "\t<dt>Number of Credit Problems</dt>\n",
       "\t\t<dd>'integer'</dd>\n",
       "\t<dt>Current Credit Balance</dt>\n",
       "\t\t<dd>'integer'</dd>\n",
       "\t<dt>Maximum Open Credit</dt>\n",
       "\t\t<dd>'integer'</dd>\n",
       "\t<dt>Bankruptcies</dt>\n",
       "\t\t<dd>'integer'</dd>\n",
       "\t<dt>Tax Liens</dt>\n",
       "\t\t<dd>'integer'</dd>\n",
       "</dl>\n"
      ],
      "text/latex": [
       "\\begin{description*}\n",
       "\\item[Loan ID] 'character'\n",
       "\\item[Customer ID] 'character'\n",
       "\\item[Loan Status] 'character'\n",
       "\\item[Current Loan Amount] 'integer'\n",
       "\\item[Term] 'character'\n",
       "\\item[Credit Score] 'integer'\n",
       "\\item[Annual Income] 'integer'\n",
       "\\item[Years in current job] 'character'\n",
       "\\item[Home Ownership] 'character'\n",
       "\\item[Purpose] 'character'\n",
       "\\item[Monthly Debt] 'numeric'\n",
       "\\item[Years of Credit History] 'numeric'\n",
       "\\item[Months since last delinquent] 'integer'\n",
       "\\item[Number of Open Accounts] 'integer'\n",
       "\\item[Number of Credit Problems] 'integer'\n",
       "\\item[Current Credit Balance] 'integer'\n",
       "\\item[Maximum Open Credit] 'integer'\n",
       "\\item[Bankruptcies] 'integer'\n",
       "\\item[Tax Liens] 'integer'\n",
       "\\end{description*}\n"
      ],
      "text/markdown": [
       "Loan ID\n",
       ":   'character'Customer ID\n",
       ":   'character'Loan Status\n",
       ":   'character'Current Loan Amount\n",
       ":   'integer'Term\n",
       ":   'character'Credit Score\n",
       ":   'integer'Annual Income\n",
       ":   'integer'Years in current job\n",
       ":   'character'Home Ownership\n",
       ":   'character'Purpose\n",
       ":   'character'Monthly Debt\n",
       ":   'numeric'Years of Credit History\n",
       ":   'numeric'Months since last delinquent\n",
       ":   'integer'Number of Open Accounts\n",
       ":   'integer'Number of Credit Problems\n",
       ":   'integer'Current Credit Balance\n",
       ":   'integer'Maximum Open Credit\n",
       ":   'integer'Bankruptcies\n",
       ":   'integer'Tax Liens\n",
       ":   'integer'\n",
       "\n"
      ],
      "text/plain": [
       "                     Loan ID                  Customer ID \n",
       "                 \"character\"                  \"character\" \n",
       "                 Loan Status          Current Loan Amount \n",
       "                 \"character\"                    \"integer\" \n",
       "                        Term                 Credit Score \n",
       "                 \"character\"                    \"integer\" \n",
       "               Annual Income         Years in current job \n",
       "                   \"integer\"                  \"character\" \n",
       "              Home Ownership                      Purpose \n",
       "                 \"character\"                  \"character\" \n",
       "                Monthly Debt      Years of Credit History \n",
       "                   \"numeric\"                    \"numeric\" \n",
       "Months since last delinquent      Number of Open Accounts \n",
       "                   \"integer\"                    \"integer\" \n",
       "   Number of Credit Problems       Current Credit Balance \n",
       "                   \"integer\"                    \"integer\" \n",
       "         Maximum Open Credit                 Bankruptcies \n",
       "                   \"integer\"                    \"integer\" \n",
       "                   Tax Liens \n",
       "                   \"integer\" "
      ]
     },
     "metadata": {},
     "output_type": "display_data"
    }
   ],
   "source": [
    "sapply(df,class)\n",
    "# There are a ton of NAs"
   ]
  },
  {
   "cell_type": "code",
   "execution_count": 32,
   "metadata": {},
   "outputs": [],
   "source": [
    "df <- na.omit(df)"
   ]
  },
  {
   "cell_type": "code",
   "execution_count": 33,
   "metadata": {},
   "outputs": [
    {
     "data": {
      "text/html": [
       "<table>\n",
       "<thead><tr><th></th><th scope=col>Loan ID</th><th scope=col>Customer ID</th><th scope=col>Loan Status</th><th scope=col>Current Loan Amount</th><th scope=col>Term</th><th scope=col>Credit Score</th><th scope=col>Annual Income</th><th scope=col>Years in current job</th><th scope=col>Home Ownership</th><th scope=col>Purpose</th><th scope=col>Monthly Debt</th><th scope=col>Years of Credit History</th><th scope=col>Months since last delinquent</th><th scope=col>Number of Open Accounts</th><th scope=col>Number of Credit Problems</th><th scope=col>Current Credit Balance</th><th scope=col>Maximum Open Credit</th><th scope=col>Bankruptcies</th><th scope=col>Tax Liens</th></tr></thead>\n",
       "<tbody>\n",
       "\t<tr><th scope=row>3</th><td>4eed4e6a-aa2f-4c91-8651-ce984ee8fb26</td><td>5efb2b2b-bf11-4dfd-a572-3761a2694725</td><td>Fully Paid                          </td><td>99999999                            </td><td>Short Term                          </td><td>741                                 </td><td>2231892                             </td><td>8 years                             </td><td>Own Home                            </td><td>Debt Consolidation                  </td><td>29200.53                            </td><td>14.9                                </td><td>29                                  </td><td>18                                  </td><td>1                                   </td><td>297996                              </td><td>750090                              </td><td>0                                   </td><td>0                                   </td></tr>\n",
       "\t<tr><th scope=row>7</th><td>273581de-85d8-4332-81a5-19b04ce68666            </td><td>90a75dde-34d5-419c-90dc-1e58b04b3e35            </td><td>Fully Paid                                      </td><td><span style=white-space:pre-wrap>  217646</span></td><td>Short Term                                      </td><td>730                                             </td><td>1184194                                         </td><td>&lt; 1 year                                     </td><td>Home Mortgage                                   </td><td>Debt Consolidation                              </td><td>10855.08                                        </td><td>19.6                                            </td><td>10                                              </td><td>13                                              </td><td>1                                               </td><td>122170                                          </td><td>272052                                          </td><td>1                                               </td><td>0                                               </td></tr>\n",
       "</tbody>\n",
       "</table>\n"
      ],
      "text/latex": [
       "\\begin{tabular}{r|lllllllllllllllllll}\n",
       "  & Loan ID & Customer ID & Loan Status & Current Loan Amount & Term & Credit Score & Annual Income & Years in current job & Home Ownership & Purpose & Monthly Debt & Years of Credit History & Months since last delinquent & Number of Open Accounts & Number of Credit Problems & Current Credit Balance & Maximum Open Credit & Bankruptcies & Tax Liens\\\\\n",
       "\\hline\n",
       "\t3 & 4eed4e6a-aa2f-4c91-8651-ce984ee8fb26 & 5efb2b2b-bf11-4dfd-a572-3761a2694725 & Fully Paid                           & 99999999                             & Short Term                           & 741                                  & 2231892                              & 8 years                              & Own Home                             & Debt Consolidation                   & 29200.53                             & 14.9                                 & 29                                   & 18                                   & 1                                    & 297996                               & 750090                               & 0                                    & 0                                   \\\\\n",
       "\t7 & 273581de-85d8-4332-81a5-19b04ce68666 & 90a75dde-34d5-419c-90dc-1e58b04b3e35 & Fully Paid                           &   217646                             & Short Term                           & 730                                  & 1184194                              & < 1 year                             & Home Mortgage                        & Debt Consolidation                   & 10855.08                             & 19.6                                 & 10                                   & 13                                   & 1                                    & 122170                               & 272052                               & 1                                    & 0                                   \\\\\n",
       "\\end{tabular}\n"
      ],
      "text/markdown": [
       "\n",
       "| <!--/--> | Loan ID | Customer ID | Loan Status | Current Loan Amount | Term | Credit Score | Annual Income | Years in current job | Home Ownership | Purpose | Monthly Debt | Years of Credit History | Months since last delinquent | Number of Open Accounts | Number of Credit Problems | Current Credit Balance | Maximum Open Credit | Bankruptcies | Tax Liens | \n",
       "|---|---|\n",
       "| 3 | 4eed4e6a-aa2f-4c91-8651-ce984ee8fb26 | 5efb2b2b-bf11-4dfd-a572-3761a2694725 | Fully Paid                           | 99999999                             | Short Term                           | 741                                  | 2231892                              | 8 years                              | Own Home                             | Debt Consolidation                   | 29200.53                             | 14.9                                 | 29                                   | 18                                   | 1                                    | 297996                               | 750090                               | 0                                    | 0                                    | \n",
       "| 7 | 273581de-85d8-4332-81a5-19b04ce68666 | 90a75dde-34d5-419c-90dc-1e58b04b3e35 | Fully Paid                           |   217646                             | Short Term                           | 730                                  | 1184194                              | < 1 year                             | Home Mortgage                        | Debt Consolidation                   | 10855.08                             | 19.6                                 | 10                                   | 13                                   | 1                                    | 122170                               | 272052                               | 1                                    | 0                                    | \n",
       "\n",
       "\n"
      ],
      "text/plain": [
       "  Loan ID                              Customer ID                         \n",
       "3 4eed4e6a-aa2f-4c91-8651-ce984ee8fb26 5efb2b2b-bf11-4dfd-a572-3761a2694725\n",
       "7 273581de-85d8-4332-81a5-19b04ce68666 90a75dde-34d5-419c-90dc-1e58b04b3e35\n",
       "  Loan Status Current Loan Amount Term       Credit Score Annual Income\n",
       "3 Fully Paid  99999999            Short Term 741          2231892      \n",
       "7 Fully Paid    217646            Short Term 730          1184194      \n",
       "  Years in current job Home Ownership Purpose            Monthly Debt\n",
       "3 8 years              Own Home       Debt Consolidation 29200.53    \n",
       "7 < 1 year             Home Mortgage  Debt Consolidation 10855.08    \n",
       "  Years of Credit History Months since last delinquent Number of Open Accounts\n",
       "3 14.9                    29                           18                     \n",
       "7 19.6                    10                           13                     \n",
       "  Number of Credit Problems Current Credit Balance Maximum Open Credit\n",
       "3 1                         297996                 750090             \n",
       "7 1                         122170                 272052             \n",
       "  Bankruptcies Tax Liens\n",
       "3 0            0        \n",
       "7 1            0        "
      ]
     },
     "metadata": {},
     "output_type": "display_data"
    }
   ],
   "source": [
    "head(df,2)"
   ]
  },
  {
   "cell_type": "code",
   "execution_count": 34,
   "metadata": {},
   "outputs": [],
   "source": [
    "df <- select(df,-`Loan ID`,-`Customer ID`) "
   ]
  },
  {
   "cell_type": "code",
   "execution_count": 35,
   "metadata": {},
   "outputs": [],
   "source": [
    "library(caret)\n",
    "dummy <- dummyVars(\"~ .\", data = df,fullRank = TRUE, sep=\".\")"
   ]
  },
  {
   "cell_type": "code",
   "execution_count": 36,
   "metadata": {},
   "outputs": [],
   "source": [
    "features <- as.data.frame(predict(dummy, df))"
   ]
  },
  {
   "cell_type": "code",
   "execution_count": 37,
   "metadata": {},
   "outputs": [
    {
     "data": {
      "text/html": [
       "<table>\n",
       "<thead><tr><th></th><th scope=col>`Loan Status`Fully Paid</th><th scope=col>`Current Loan Amount`</th><th scope=col>TermShort Term</th><th scope=col>`Credit Score`</th><th scope=col>`Annual Income`</th><th scope=col>`Years in current job`1 year</th><th scope=col>`Years in current job`10+ years</th><th scope=col>`Years in current job`2 years</th><th scope=col>`Years in current job`3 years</th><th scope=col>`Years in current job`4 years</th><th scope=col>...</th><th scope=col>Purposewedding</th><th scope=col>`Monthly Debt`</th><th scope=col>`Years of Credit History`</th><th scope=col>`Months since last delinquent`</th><th scope=col>`Number of Open Accounts`</th><th scope=col>`Number of Credit Problems`</th><th scope=col>`Current Credit Balance`</th><th scope=col>`Maximum Open Credit`</th><th scope=col>Bankruptcies</th><th scope=col>`Tax Liens`</th></tr></thead>\n",
       "<tbody>\n",
       "\t<tr><th scope=row>3</th><td>1       </td><td>99999999</td><td>1       </td><td>741     </td><td>2231892 </td><td>0       </td><td>0       </td><td>0       </td><td>0       </td><td>0       </td><td>...     </td><td>0       </td><td>29200.53</td><td>14.9    </td><td>29      </td><td>18      </td><td>1       </td><td>297996  </td><td>750090  </td><td>0       </td><td>0       </td></tr>\n",
       "\t<tr><th scope=row>7</th><td>1       </td><td>  217646</td><td>1       </td><td>730     </td><td>1184194 </td><td>0       </td><td>0       </td><td>0       </td><td>0       </td><td>0       </td><td>...     </td><td>0       </td><td>10855.08</td><td>19.6    </td><td>10      </td><td>13      </td><td>1       </td><td>122170  </td><td>272052  </td><td>1       </td><td>0       </td></tr>\n",
       "\t<tr><th scope=row>9</th><td>1       </td><td>  548746</td><td>1       </td><td>678     </td><td>2559110 </td><td>0       </td><td>0       </td><td>1       </td><td>0       </td><td>0       </td><td>...     </td><td>0       </td><td>18660.28</td><td>22.6    </td><td>33      </td><td> 4      </td><td>0       </td><td>437171  </td><td>555038  </td><td>0       </td><td>0       </td></tr>\n",
       "</tbody>\n",
       "</table>\n"
      ],
      "text/latex": [
       "\\begin{tabular}{r|lllllllllllllllllllllllllllllllllllllllllll}\n",
       "  & `Loan Status`Fully Paid & `Current Loan Amount` & TermShort Term & `Credit Score` & `Annual Income` & `Years in current job`1 year & `Years in current job`10+ years & `Years in current job`2 years & `Years in current job`3 years & `Years in current job`4 years & ... & Purposewedding & `Monthly Debt` & `Years of Credit History` & `Months since last delinquent` & `Number of Open Accounts` & `Number of Credit Problems` & `Current Credit Balance` & `Maximum Open Credit` & Bankruptcies & `Tax Liens`\\\\\n",
       "\\hline\n",
       "\t3 & 1        & 99999999 & 1        & 741      & 2231892  & 0        & 0        & 0        & 0        & 0        & ...      & 0        & 29200.53 & 14.9     & 29       & 18       & 1        & 297996   & 750090   & 0        & 0       \\\\\n",
       "\t7 & 1        &   217646 & 1        & 730      & 1184194  & 0        & 0        & 0        & 0        & 0        & ...      & 0        & 10855.08 & 19.6     & 10       & 13       & 1        & 122170   & 272052   & 1        & 0       \\\\\n",
       "\t9 & 1        &   548746 & 1        & 678      & 2559110  & 0        & 0        & 1        & 0        & 0        & ...      & 0        & 18660.28 & 22.6     & 33       &  4       & 0        & 437171   & 555038   & 0        & 0       \\\\\n",
       "\\end{tabular}\n"
      ],
      "text/markdown": [
       "\n",
       "| <!--/--> | `Loan Status`Fully Paid | `Current Loan Amount` | TermShort Term | `Credit Score` | `Annual Income` | `Years in current job`1 year | `Years in current job`10+ years | `Years in current job`2 years | `Years in current job`3 years | `Years in current job`4 years | ... | Purposewedding | `Monthly Debt` | `Years of Credit History` | `Months since last delinquent` | `Number of Open Accounts` | `Number of Credit Problems` | `Current Credit Balance` | `Maximum Open Credit` | Bankruptcies | `Tax Liens` | \n",
       "|---|---|---|\n",
       "| 3 | 1        | 99999999 | 1        | 741      | 2231892  | 0        | 0        | 0        | 0        | 0        | ...      | 0        | 29200.53 | 14.9     | 29       | 18       | 1        | 297996   | 750090   | 0        | 0        | \n",
       "| 7 | 1        |   217646 | 1        | 730      | 1184194  | 0        | 0        | 0        | 0        | 0        | ...      | 0        | 10855.08 | 19.6     | 10       | 13       | 1        | 122170   | 272052   | 1        | 0        | \n",
       "| 9 | 1        |   548746 | 1        | 678      | 2559110  | 0        | 0        | 1        | 0        | 0        | ...      | 0        | 18660.28 | 22.6     | 33       |  4       | 0        | 437171   | 555038   | 0        | 0        | \n",
       "\n",
       "\n"
      ],
      "text/plain": [
       "  `Loan Status`Fully Paid `Current Loan Amount` TermShort Term `Credit Score`\n",
       "3 1                       99999999              1              741           \n",
       "7 1                         217646              1              730           \n",
       "9 1                         548746              1              678           \n",
       "  `Annual Income` `Years in current job`1 year `Years in current job`10+ years\n",
       "3 2231892         0                            0                              \n",
       "7 1184194         0                            0                              \n",
       "9 2559110         0                            0                              \n",
       "  `Years in current job`2 years `Years in current job`3 years\n",
       "3 0                             0                            \n",
       "7 0                             0                            \n",
       "9 1                             0                            \n",
       "  `Years in current job`4 years ... Purposewedding `Monthly Debt`\n",
       "3 0                             ... 0              29200.53      \n",
       "7 0                             ... 0              10855.08      \n",
       "9 0                             ... 0              18660.28      \n",
       "  `Years of Credit History` `Months since last delinquent`\n",
       "3 14.9                      29                            \n",
       "7 19.6                      10                            \n",
       "9 22.6                      33                            \n",
       "  `Number of Open Accounts` `Number of Credit Problems`\n",
       "3 18                        1                          \n",
       "7 13                        1                          \n",
       "9  4                        0                          \n",
       "  `Current Credit Balance` `Maximum Open Credit` Bankruptcies `Tax Liens`\n",
       "3 297996                   750090                0            0          \n",
       "7 122170                   272052                1            0          \n",
       "9 437171                   555038                0            0          "
      ]
     },
     "metadata": {},
     "output_type": "display_data"
    }
   ],
   "source": [
    "head(features,3)"
   ]
  },
  {
   "cell_type": "code",
   "execution_count": 38,
   "metadata": {},
   "outputs": [
    {
     "data": {
      "text/html": [
       "<table>\n",
       "<thead><tr><th></th><th scope=col>Loan.StatusFully.Paid</th><th scope=col>Current.Loan.Amount</th><th scope=col>TermShort.Term</th><th scope=col>Credit.Score</th><th scope=col>Annual.Income</th><th scope=col>Years.in.current.job1.year</th><th scope=col>Years.in.current.job10plus.years</th><th scope=col>Years.in.current.job2.years</th><th scope=col>Years.in.current.job3.years</th><th scope=col>Years.in.current.job4.years</th><th scope=col>...</th><th scope=col>Purposewedding</th><th scope=col>Monthly.Debt</th><th scope=col>Years.of.Credit.History</th><th scope=col>Months.since.last.delinquent</th><th scope=col>Number.of.Open.Accounts</th><th scope=col>Number.of.Credit.Problems</th><th scope=col>Current.Credit.Balance</th><th scope=col>Maximum.Open.Credit</th><th scope=col>Bankruptcies</th><th scope=col>Tax.Liens</th></tr></thead>\n",
       "<tbody>\n",
       "\t<tr><th scope=row>3</th><td>1       </td><td>1e+08   </td><td>1       </td><td>741     </td><td>2231892 </td><td>0       </td><td>0       </td><td>0       </td><td>0       </td><td>0       </td><td>...     </td><td>0       </td><td>29200.53</td><td>14.9    </td><td>29      </td><td>18      </td><td>1       </td><td>297996  </td><td>750090  </td><td>0       </td><td>0       </td></tr>\n",
       "</tbody>\n",
       "</table>\n"
      ],
      "text/latex": [
       "\\begin{tabular}{r|lllllllllllllllllllllllllllllllllllllllllll}\n",
       "  & Loan.StatusFully.Paid & Current.Loan.Amount & TermShort.Term & Credit.Score & Annual.Income & Years.in.current.job1.year & Years.in.current.job10plus.years & Years.in.current.job2.years & Years.in.current.job3.years & Years.in.current.job4.years & ... & Purposewedding & Monthly.Debt & Years.of.Credit.History & Months.since.last.delinquent & Number.of.Open.Accounts & Number.of.Credit.Problems & Current.Credit.Balance & Maximum.Open.Credit & Bankruptcies & Tax.Liens\\\\\n",
       "\\hline\n",
       "\t3 & 1        & 1e+08    & 1        & 741      & 2231892  & 0        & 0        & 0        & 0        & 0        & ...      & 0        & 29200.53 & 14.9     & 29       & 18       & 1        & 297996   & 750090   & 0        & 0       \\\\\n",
       "\\end{tabular}\n"
      ],
      "text/markdown": [
       "\n",
       "| <!--/--> | Loan.StatusFully.Paid | Current.Loan.Amount | TermShort.Term | Credit.Score | Annual.Income | Years.in.current.job1.year | Years.in.current.job10plus.years | Years.in.current.job2.years | Years.in.current.job3.years | Years.in.current.job4.years | ... | Purposewedding | Monthly.Debt | Years.of.Credit.History | Months.since.last.delinquent | Number.of.Open.Accounts | Number.of.Credit.Problems | Current.Credit.Balance | Maximum.Open.Credit | Bankruptcies | Tax.Liens | \n",
       "|---|\n",
       "| 3 | 1        | 1e+08    | 1        | 741      | 2231892  | 0        | 0        | 0        | 0        | 0        | ...      | 0        | 29200.53 | 14.9     | 29       | 18       | 1        | 297996   | 750090   | 0        | 0        | \n",
       "\n",
       "\n"
      ],
      "text/plain": [
       "  Loan.StatusFully.Paid Current.Loan.Amount TermShort.Term Credit.Score\n",
       "3 1                     1e+08               1              741         \n",
       "  Annual.Income Years.in.current.job1.year Years.in.current.job10plus.years\n",
       "3 2231892       0                          0                               \n",
       "  Years.in.current.job2.years Years.in.current.job3.years\n",
       "3 0                           0                          \n",
       "  Years.in.current.job4.years ... Purposewedding Monthly.Debt\n",
       "3 0                           ... 0              29200.53    \n",
       "  Years.of.Credit.History Months.since.last.delinquent Number.of.Open.Accounts\n",
       "3 14.9                    29                           18                     \n",
       "  Number.of.Credit.Problems Current.Credit.Balance Maximum.Open.Credit\n",
       "3 1                         297996                 750090             \n",
       "  Bankruptcies Tax.Liens\n",
       "3 0            0        "
      ]
     },
     "metadata": {},
     "output_type": "display_data"
    }
   ],
   "source": [
    "colnames(features) <- gsub(\"`\", \"\", colnames(features))\n",
    "colnames(features) <- gsub(\" \", \".\", colnames(features))\n",
    "colnames(features) <- gsub(\"\\\\+\", \"plus\", colnames(features))\n",
    "colnames(features) <- gsub(\"\\\\/\", \"\", colnames(features))\n",
    "# In R, use \\\\ to grab special character\n",
    "head(features,1)"
   ]
  },
  {
   "cell_type": "code",
   "execution_count": 39,
   "metadata": {},
   "outputs": [
    {
     "data": {
      "text/html": [
       "<ol class=list-inline>\n",
       "\t<li>'Loan.StatusFully.Paid'</li>\n",
       "\t<li>'Current.Loan.Amount'</li>\n",
       "\t<li>'TermShort.Term'</li>\n",
       "\t<li>'Credit.Score'</li>\n",
       "\t<li>'Annual.Income'</li>\n",
       "\t<li>'Years.in.current.job1.year'</li>\n",
       "\t<li>'Years.in.current.job10plus.years'</li>\n",
       "\t<li>'Years.in.current.job2.years'</li>\n",
       "\t<li>'Years.in.current.job3.years'</li>\n",
       "\t<li>'Years.in.current.job4.years'</li>\n",
       "\t<li>'Years.in.current.job5.years'</li>\n",
       "\t<li>'Years.in.current.job6.years'</li>\n",
       "\t<li>'Years.in.current.job7.years'</li>\n",
       "\t<li>'Years.in.current.job8.years'</li>\n",
       "\t<li>'Years.in.current.job9.years'</li>\n",
       "\t<li>'Years.in.current.jobna'</li>\n",
       "\t<li>'Home.OwnershipHome.Mortgage'</li>\n",
       "\t<li>'Home.OwnershipOwn.Home'</li>\n",
       "\t<li>'Home.OwnershipRent'</li>\n",
       "\t<li>'PurposeBuy.a.Car'</li>\n",
       "\t<li>'PurposeBuy.House'</li>\n",
       "\t<li>'PurposeDebt.Consolidation'</li>\n",
       "\t<li>'PurposeEducational.Expenses'</li>\n",
       "\t<li>'PurposeHome.Improvements'</li>\n",
       "\t<li>'Purposemajor_purchase'</li>\n",
       "\t<li>'PurposeMedical.Bills'</li>\n",
       "\t<li>'Purposemoving'</li>\n",
       "\t<li>'Purposeother'</li>\n",
       "\t<li>'PurposeOther'</li>\n",
       "\t<li>'Purposerenewable_energy'</li>\n",
       "\t<li>'Purposesmall_business'</li>\n",
       "\t<li>'PurposeTake.a.Trip'</li>\n",
       "\t<li>'Purposevacation'</li>\n",
       "\t<li>'Purposewedding'</li>\n",
       "\t<li>'Monthly.Debt'</li>\n",
       "\t<li>'Years.of.Credit.History'</li>\n",
       "\t<li>'Months.since.last.delinquent'</li>\n",
       "\t<li>'Number.of.Open.Accounts'</li>\n",
       "\t<li>'Number.of.Credit.Problems'</li>\n",
       "\t<li>'Current.Credit.Balance'</li>\n",
       "\t<li>'Maximum.Open.Credit'</li>\n",
       "\t<li>'Bankruptcies'</li>\n",
       "\t<li>'Tax.Liens'</li>\n",
       "</ol>\n"
      ],
      "text/latex": [
       "\\begin{enumerate*}\n",
       "\\item 'Loan.StatusFully.Paid'\n",
       "\\item 'Current.Loan.Amount'\n",
       "\\item 'TermShort.Term'\n",
       "\\item 'Credit.Score'\n",
       "\\item 'Annual.Income'\n",
       "\\item 'Years.in.current.job1.year'\n",
       "\\item 'Years.in.current.job10plus.years'\n",
       "\\item 'Years.in.current.job2.years'\n",
       "\\item 'Years.in.current.job3.years'\n",
       "\\item 'Years.in.current.job4.years'\n",
       "\\item 'Years.in.current.job5.years'\n",
       "\\item 'Years.in.current.job6.years'\n",
       "\\item 'Years.in.current.job7.years'\n",
       "\\item 'Years.in.current.job8.years'\n",
       "\\item 'Years.in.current.job9.years'\n",
       "\\item 'Years.in.current.jobna'\n",
       "\\item 'Home.OwnershipHome.Mortgage'\n",
       "\\item 'Home.OwnershipOwn.Home'\n",
       "\\item 'Home.OwnershipRent'\n",
       "\\item 'PurposeBuy.a.Car'\n",
       "\\item 'PurposeBuy.House'\n",
       "\\item 'PurposeDebt.Consolidation'\n",
       "\\item 'PurposeEducational.Expenses'\n",
       "\\item 'PurposeHome.Improvements'\n",
       "\\item 'Purposemajor\\_purchase'\n",
       "\\item 'PurposeMedical.Bills'\n",
       "\\item 'Purposemoving'\n",
       "\\item 'Purposeother'\n",
       "\\item 'PurposeOther'\n",
       "\\item 'Purposerenewable\\_energy'\n",
       "\\item 'Purposesmall\\_business'\n",
       "\\item 'PurposeTake.a.Trip'\n",
       "\\item 'Purposevacation'\n",
       "\\item 'Purposewedding'\n",
       "\\item 'Monthly.Debt'\n",
       "\\item 'Years.of.Credit.History'\n",
       "\\item 'Months.since.last.delinquent'\n",
       "\\item 'Number.of.Open.Accounts'\n",
       "\\item 'Number.of.Credit.Problems'\n",
       "\\item 'Current.Credit.Balance'\n",
       "\\item 'Maximum.Open.Credit'\n",
       "\\item 'Bankruptcies'\n",
       "\\item 'Tax.Liens'\n",
       "\\end{enumerate*}\n"
      ],
      "text/markdown": [
       "1. 'Loan.StatusFully.Paid'\n",
       "2. 'Current.Loan.Amount'\n",
       "3. 'TermShort.Term'\n",
       "4. 'Credit.Score'\n",
       "5. 'Annual.Income'\n",
       "6. 'Years.in.current.job1.year'\n",
       "7. 'Years.in.current.job10plus.years'\n",
       "8. 'Years.in.current.job2.years'\n",
       "9. 'Years.in.current.job3.years'\n",
       "10. 'Years.in.current.job4.years'\n",
       "11. 'Years.in.current.job5.years'\n",
       "12. 'Years.in.current.job6.years'\n",
       "13. 'Years.in.current.job7.years'\n",
       "14. 'Years.in.current.job8.years'\n",
       "15. 'Years.in.current.job9.years'\n",
       "16. 'Years.in.current.jobna'\n",
       "17. 'Home.OwnershipHome.Mortgage'\n",
       "18. 'Home.OwnershipOwn.Home'\n",
       "19. 'Home.OwnershipRent'\n",
       "20. 'PurposeBuy.a.Car'\n",
       "21. 'PurposeBuy.House'\n",
       "22. 'PurposeDebt.Consolidation'\n",
       "23. 'PurposeEducational.Expenses'\n",
       "24. 'PurposeHome.Improvements'\n",
       "25. 'Purposemajor_purchase'\n",
       "26. 'PurposeMedical.Bills'\n",
       "27. 'Purposemoving'\n",
       "28. 'Purposeother'\n",
       "29. 'PurposeOther'\n",
       "30. 'Purposerenewable_energy'\n",
       "31. 'Purposesmall_business'\n",
       "32. 'PurposeTake.a.Trip'\n",
       "33. 'Purposevacation'\n",
       "34. 'Purposewedding'\n",
       "35. 'Monthly.Debt'\n",
       "36. 'Years.of.Credit.History'\n",
       "37. 'Months.since.last.delinquent'\n",
       "38. 'Number.of.Open.Accounts'\n",
       "39. 'Number.of.Credit.Problems'\n",
       "40. 'Current.Credit.Balance'\n",
       "41. 'Maximum.Open.Credit'\n",
       "42. 'Bankruptcies'\n",
       "43. 'Tax.Liens'\n",
       "\n",
       "\n"
      ],
      "text/plain": [
       " [1] \"Loan.StatusFully.Paid\"            \"Current.Loan.Amount\"             \n",
       " [3] \"TermShort.Term\"                   \"Credit.Score\"                    \n",
       " [5] \"Annual.Income\"                    \"Years.in.current.job1.year\"      \n",
       " [7] \"Years.in.current.job10plus.years\" \"Years.in.current.job2.years\"     \n",
       " [9] \"Years.in.current.job3.years\"      \"Years.in.current.job4.years\"     \n",
       "[11] \"Years.in.current.job5.years\"      \"Years.in.current.job6.years\"     \n",
       "[13] \"Years.in.current.job7.years\"      \"Years.in.current.job8.years\"     \n",
       "[15] \"Years.in.current.job9.years\"      \"Years.in.current.jobna\"          \n",
       "[17] \"Home.OwnershipHome.Mortgage\"      \"Home.OwnershipOwn.Home\"          \n",
       "[19] \"Home.OwnershipRent\"               \"PurposeBuy.a.Car\"                \n",
       "[21] \"PurposeBuy.House\"                 \"PurposeDebt.Consolidation\"       \n",
       "[23] \"PurposeEducational.Expenses\"      \"PurposeHome.Improvements\"        \n",
       "[25] \"Purposemajor_purchase\"            \"PurposeMedical.Bills\"            \n",
       "[27] \"Purposemoving\"                    \"Purposeother\"                    \n",
       "[29] \"PurposeOther\"                     \"Purposerenewable_energy\"         \n",
       "[31] \"Purposesmall_business\"            \"PurposeTake.a.Trip\"              \n",
       "[33] \"Purposevacation\"                  \"Purposewedding\"                  \n",
       "[35] \"Monthly.Debt\"                     \"Years.of.Credit.History\"         \n",
       "[37] \"Months.since.last.delinquent\"     \"Number.of.Open.Accounts\"         \n",
       "[39] \"Number.of.Credit.Problems\"        \"Current.Credit.Balance\"          \n",
       "[41] \"Maximum.Open.Credit\"              \"Bankruptcies\"                    \n",
       "[43] \"Tax.Liens\"                       "
      ]
     },
     "metadata": {},
     "output_type": "display_data"
    }
   ],
   "source": [
    "colnames(features)"
   ]
  },
  {
   "cell_type": "code",
   "execution_count": 40,
   "metadata": {},
   "outputs": [],
   "source": [
    "set.seed(100)\n",
    "train <- sample(nrow(features), 0.75*nrow(features), replace = FALSE)\n",
    "TrainSet <- features[train,]\n",
    "TestSet <- features[-train,]"
   ]
  },
  {
   "cell_type": "code",
   "execution_count": 41,
   "metadata": {},
   "outputs": [],
   "source": [
    "labels <- as.factor(features$Loan.StatusFully.Paid)\n",
    "features <- select(features, -Loan.StatusFully.Paid)"
   ]
  },
  {
   "cell_type": "code",
   "execution_count": 46,
   "metadata": {},
   "outputs": [
    {
     "name": "stdout",
     "output_type": "stream",
     "text": [
      "Training Set Shape: 28507 43 \n",
      "Testing Set Shape: 9503 43"
     ]
    }
   ],
   "source": [
    "cat('Training Set Shape:', dim(TrainSet),\"\\n\")\n",
    "cat('Testing Set Shape:',dim(ValidSet))"
   ]
  },
  {
   "cell_type": "code",
   "execution_count": null,
   "metadata": {
    "scrolled": true
   },
   "outputs": [],
   "source": [
    "tic()\n",
    "    random_forest = rf <- randomForest(features,labels, ntree=200, importance=TRUE)\n",
    "toc()"
   ]
  },
  {
   "cell_type": "code",
   "execution_count": null,
   "metadata": {},
   "outputs": [],
   "source": [
    "print(rf)"
   ]
  },
  {
   "cell_type": "code",
   "execution_count": null,
   "metadata": {},
   "outputs": [],
   "source": [
    "plot(rf)\n",
    "# Have to find a way to do this in Python"
   ]
  },
  {
   "cell_type": "code",
   "execution_count": null,
   "metadata": {},
   "outputs": [],
   "source": [
    "# Predicting on train set\n",
    "predTrain <- predict(rf, TrainSet, type = \"class\")\n",
    "# Checking classification accuracy\n",
    "table(predTrain, TrainSet$Loan.StatusFully.Paid)  "
   ]
  },
  {
   "cell_type": "code",
   "execution_count": null,
   "metadata": {
    "scrolled": true
   },
   "outputs": [],
   "source": [
    "# Checking classification accuracy\n",
    "predValid <- predict(rf, ValidSet, type = \"class\")\n",
    "mean(predValid == ValidSet$Loan.StatusFully.Paid)                    \n",
    "table(predValid,ValidSet$Loan.StatusFully.Paid)"
   ]
  },
  {
   "cell_type": "code",
   "execution_count": null,
   "metadata": {
    "scrolled": false
   },
   "outputs": [],
   "source": [
    "importance(rf)  \n",
    "varImpPlot(rf)"
   ]
  },
  {
   "cell_type": "code",
   "execution_count": null,
   "metadata": {},
   "outputs": [],
   "source": [
    "getTree(rf)"
   ]
  }
 ],
 "metadata": {
  "kernelspec": {
   "display_name": "R",
   "language": "R",
   "name": "ir"
  },
  "language_info": {
   "codemirror_mode": "r",
   "file_extension": ".r",
   "mimetype": "text/x-r-source",
   "name": "R",
   "pygments_lexer": "r",
   "version": "3.5.1"
  }
 },
 "nbformat": 4,
 "nbformat_minor": 2
}
