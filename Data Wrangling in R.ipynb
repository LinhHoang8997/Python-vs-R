{
 "cells": [
  {
   "cell_type": "code",
   "execution_count": 10,
   "metadata": {},
   "outputs": [],
   "source": [
    "if (!require(\"tidyverse\")) { install.packages(\"tidyverse\")\n",
    "  require(\"tidyverse\") };\n",
    "library(\"tidyverse\");\n",
    "\n",
    "if (!require(\"reshape\")) { install.packages(\"reshape\")\n",
    "  require(\"reshape\") };\n",
    "library(\"reshape\");\n",
    "\n",
    "if (!require(\"data.table\")) { install.packages(\"data.table\")\n",
    "  require(\"data.table\") };\n",
    "library(\"data.table\");"
   ]
  },
  {
   "cell_type": "code",
   "execution_count": 11,
   "metadata": {},
   "outputs": [
    {
     "data": {
      "text/html": [
       "<table>\n",
       "<thead><tr><th scope=col>Code</th><th scope=col>Date</th><th scope=col>Open</th><th scope=col>High</th><th scope=col>Low</th><th scope=col>Close</th><th scope=col>Volume</th><th scope=col>VWAP</th><th scope=col>TWAP</th></tr></thead>\n",
       "<tbody>\n",
       "\t<tr><td>GWA_BTC   </td><td>2014-04-01</td><td>467.2762  </td><td>488.6226  </td><td>467.2762  </td><td>479.5625  </td><td> 74776.48 </td><td>482.7574  </td><td>482.8155  </td></tr>\n",
       "\t<tr><td>GWA_BTC   </td><td>2014-04-02</td><td>479.1967  </td><td>494.2979  </td><td>431.3180  </td><td>437.0787  </td><td>114052.96 </td><td>460.1924  </td><td>465.9325  </td></tr>\n",
       "\t<tr><td>GWA_BTC   </td><td>2014-04-03</td><td>437.3265  </td><td>449.7381  </td><td>414.4062  </td><td>445.5970  </td><td> 91415.08 </td><td>432.2859  </td><td>433.2828  </td></tr>\n",
       "\t<tr><td>GWA_BTC   </td><td>2014-04-04</td><td>445.1796  </td><td>456.1005  </td><td>429.1615  </td><td>449.8113  </td><td> 51147.27 </td><td>443.4581  </td><td>443.9253  </td></tr>\n",
       "\t<tr><td>GWA_BTC   </td><td>2014-04-05</td><td>450.0802  </td><td>464.0881  </td><td>445.1607  </td><td>461.6951  </td><td> 28449.19 </td><td>452.5258  </td><td>452.9498  </td></tr>\n",
       "\t<tr><td>GWA_BTC   </td><td>2014-04-06</td><td>463.1802  </td><td>469.1714  </td><td>451.1295  </td><td>461.0219  </td><td> 21720.64 </td><td>460.9213  </td><td>460.8858  </td></tr>\n",
       "</tbody>\n",
       "</table>\n"
      ],
      "text/latex": [
       "\\begin{tabular}{r|lllllllll}\n",
       " Code & Date & Open & High & Low & Close & Volume & VWAP & TWAP\\\\\n",
       "\\hline\n",
       "\t GWA\\_BTC  & 2014-04-01 & 467.2762   & 488.6226   & 467.2762   & 479.5625   &  74776.48  & 482.7574   & 482.8155  \\\\\n",
       "\t GWA\\_BTC  & 2014-04-02 & 479.1967   & 494.2979   & 431.3180   & 437.0787   & 114052.96  & 460.1924   & 465.9325  \\\\\n",
       "\t GWA\\_BTC  & 2014-04-03 & 437.3265   & 449.7381   & 414.4062   & 445.5970   &  91415.08  & 432.2859   & 433.2828  \\\\\n",
       "\t GWA\\_BTC  & 2014-04-04 & 445.1796   & 456.1005   & 429.1615   & 449.8113   &  51147.27  & 443.4581   & 443.9253  \\\\\n",
       "\t GWA\\_BTC  & 2014-04-05 & 450.0802   & 464.0881   & 445.1607   & 461.6951   &  28449.19  & 452.5258   & 452.9498  \\\\\n",
       "\t GWA\\_BTC  & 2014-04-06 & 463.1802   & 469.1714   & 451.1295   & 461.0219   &  21720.64  & 460.9213   & 460.8858  \\\\\n",
       "\\end{tabular}\n"
      ],
      "text/markdown": [
       "\n",
       "Code | Date | Open | High | Low | Close | Volume | VWAP | TWAP | \n",
       "|---|---|---|---|---|---|\n",
       "| GWA_BTC    | 2014-04-01 | 467.2762   | 488.6226   | 467.2762   | 479.5625   |  74776.48  | 482.7574   | 482.8155   | \n",
       "| GWA_BTC    | 2014-04-02 | 479.1967   | 494.2979   | 431.3180   | 437.0787   | 114052.96  | 460.1924   | 465.9325   | \n",
       "| GWA_BTC    | 2014-04-03 | 437.3265   | 449.7381   | 414.4062   | 445.5970   |  91415.08  | 432.2859   | 433.2828   | \n",
       "| GWA_BTC    | 2014-04-04 | 445.1796   | 456.1005   | 429.1615   | 449.8113   |  51147.27  | 443.4581   | 443.9253   | \n",
       "| GWA_BTC    | 2014-04-05 | 450.0802   | 464.0881   | 445.1607   | 461.6951   |  28449.19  | 452.5258   | 452.9498   | \n",
       "| GWA_BTC    | 2014-04-06 | 463.1802   | 469.1714   | 451.1295   | 461.0219   |  21720.64  | 460.9213   | 460.8858   | \n",
       "\n",
       "\n"
      ],
      "text/plain": [
       "  Code    Date       Open     High     Low      Close    Volume    VWAP    \n",
       "1 GWA_BTC 2014-04-01 467.2762 488.6226 467.2762 479.5625  74776.48 482.7574\n",
       "2 GWA_BTC 2014-04-02 479.1967 494.2979 431.3180 437.0787 114052.96 460.1924\n",
       "3 GWA_BTC 2014-04-03 437.3265 449.7381 414.4062 445.5970  91415.08 432.2859\n",
       "4 GWA_BTC 2014-04-04 445.1796 456.1005 429.1615 449.8113  51147.27 443.4581\n",
       "5 GWA_BTC 2014-04-05 450.0802 464.0881 445.1607 461.6951  28449.19 452.5258\n",
       "6 GWA_BTC 2014-04-06 463.1802 469.1714 451.1295 461.0219  21720.64 460.9213\n",
       "  TWAP    \n",
       "1 482.8155\n",
       "2 465.9325\n",
       "3 433.2828\n",
       "4 443.9253\n",
       "5 452.9498\n",
       "6 460.8858"
      ]
     },
     "metadata": {},
     "output_type": "display_data"
    }
   ],
   "source": [
    "MyData <- read.csv(file=\"BNC2_sample.csv\", header=FALSE, sep=\",\");\n",
    "colnames(MyData)<-c(\"Code\",\"Date\",\"Open\",\"High\",\"Low\",\"Close\",\"Volume\",\"VWAP\",\"TWAP\")\n",
    "head(MyData)"
   ]
  },
  {
   "cell_type": "code",
   "execution_count": 12,
   "metadata": {},
   "outputs": [],
   "source": [
    "NewData <- MyData %>%\n",
    "filter(str_detect(Code, \"GWA_\"))"
   ]
  },
  {
   "cell_type": "code",
   "execution_count": 13,
   "metadata": {},
   "outputs": [
    {
     "data": {
      "text/html": [
       "<table>\n",
       "<thead><tr><th></th><th scope=col>Date</th><th scope=col>GWA_BTC</th><th scope=col>GWA_ETH</th><th scope=col>GWA_LTC</th><th scope=col>GWA_XLM</th><th scope=col>GWA_XRP</th></tr></thead>\n",
       "<tbody>\n",
       "\t<tr><th scope=row>1389</th><td>2018-01-18</td><td>11792.87  </td><td>1059.9565 </td><td>193.1625  </td><td>0.5123853 </td><td>1.683890  </td></tr>\n",
       "\t<tr><th scope=row>1390</th><td>2018-01-19</td><td>11826.36  </td><td>1068.4513 </td><td>194.9981  </td><td>0.5114904 </td><td>1.820644  </td></tr>\n",
       "\t<tr><th scope=row>1391</th><td>2018-01-20</td><td>13062.68  </td><td>1158.7099 </td><td>207.5807  </td><td>0.5223238 </td><td>1.752069  </td></tr>\n",
       "\t<tr><th scope=row>1392</th><td>2018-01-21</td><td>12326.23  </td><td>1108.9048 </td><td>197.3641  </td><td>0.4828454 </td><td>1.551756  </td></tr>\n",
       "\t<tr><th scope=row>1393</th><td>2018-01-22</td><td>11397.52  </td><td>1038.2056 </td><td>184.9183  </td><td>0.4703197 </td><td>1.426731  </td></tr>\n",
       "\t<tr><th scope=row>1394</th><td>2018-01-23</td><td>10921.00  </td><td> 992.0523 </td><td>176.9474  </td><td>0.4730853 </td><td>1.422020  </td></tr>\n",
       "</tbody>\n",
       "</table>\n"
      ],
      "text/latex": [
       "\\begin{tabular}{r|llllll}\n",
       "  & Date & GWA\\_BTC & GWA\\_ETH & GWA\\_LTC & GWA\\_XLM & GWA\\_XRP\\\\\n",
       "\\hline\n",
       "\t1389 & 2018-01-18 & 11792.87   & 1059.9565  & 193.1625   & 0.5123853  & 1.683890  \\\\\n",
       "\t1390 & 2018-01-19 & 11826.36   & 1068.4513  & 194.9981   & 0.5114904  & 1.820644  \\\\\n",
       "\t1391 & 2018-01-20 & 13062.68   & 1158.7099  & 207.5807   & 0.5223238  & 1.752069  \\\\\n",
       "\t1392 & 2018-01-21 & 12326.23   & 1108.9048  & 197.3641   & 0.4828454  & 1.551756  \\\\\n",
       "\t1393 & 2018-01-22 & 11397.52   & 1038.2056  & 184.9183   & 0.4703197  & 1.426731  \\\\\n",
       "\t1394 & 2018-01-23 & 10921.00   &  992.0523  & 176.9474   & 0.4730853  & 1.422020  \\\\\n",
       "\\end{tabular}\n"
      ],
      "text/markdown": [
       "\n",
       "| <!--/--> | Date | GWA_BTC | GWA_ETH | GWA_LTC | GWA_XLM | GWA_XRP | \n",
       "|---|---|---|---|---|---|\n",
       "| 1389 | 2018-01-18 | 11792.87   | 1059.9565  | 193.1625   | 0.5123853  | 1.683890   | \n",
       "| 1390 | 2018-01-19 | 11826.36   | 1068.4513  | 194.9981   | 0.5114904  | 1.820644   | \n",
       "| 1391 | 2018-01-20 | 13062.68   | 1158.7099  | 207.5807   | 0.5223238  | 1.752069   | \n",
       "| 1392 | 2018-01-21 | 12326.23   | 1108.9048  | 197.3641   | 0.4828454  | 1.551756   | \n",
       "| 1393 | 2018-01-22 | 11397.52   | 1038.2056  | 184.9183   | 0.4703197  | 1.426731   | \n",
       "| 1394 | 2018-01-23 | 10921.00   |  992.0523  | 176.9474   | 0.4730853  | 1.422020   | \n",
       "\n",
       "\n"
      ],
      "text/plain": [
       "     Date       GWA_BTC  GWA_ETH   GWA_LTC  GWA_XLM   GWA_XRP \n",
       "1389 2018-01-18 11792.87 1059.9565 193.1625 0.5123853 1.683890\n",
       "1390 2018-01-19 11826.36 1068.4513 194.9981 0.5114904 1.820644\n",
       "1391 2018-01-20 13062.68 1158.7099 207.5807 0.5223238 1.752069\n",
       "1392 2018-01-21 12326.23 1108.9048 197.3641 0.4828454 1.551756\n",
       "1393 2018-01-22 11397.52 1038.2056 184.9183 0.4703197 1.426731\n",
       "1394 2018-01-23 10921.00  992.0523 176.9474 0.4730853 1.422020"
      ]
     },
     "metadata": {},
     "output_type": "display_data"
    }
   ],
   "source": [
    "PivotedData <- cast(NewData, Date ~ Code, value = \"VWAP\")\n",
    "PivotedData <- PivotedData[order(as.Date(PivotedData$Date, format=\"%m/%d/%Y\")), ]\n",
    "tail(PivotedData)"
   ]
  },
  {
   "cell_type": "code",
   "execution_count": 14,
   "metadata": {},
   "outputs": [],
   "source": [
    "rownames(PivotedData) <- PivotedData$Date\n",
    "PivotedData$Date <- NULL"
   ]
  },
  {
   "cell_type": "code",
   "execution_count": 15,
   "metadata": {},
   "outputs": [
    {
     "data": {
      "text/html": [
       "<table>\n",
       "<thead><tr><th></th><th scope=col>GWA_BTC</th><th scope=col>GWA_ETH</th><th scope=col>GWA_LTC</th><th scope=col>GWA_XLM</th><th scope=col>GWA_XRP</th></tr></thead>\n",
       "<tbody>\n",
       "\t<tr><th scope=row>2018-01-18</th><td>-0.1859704 </td><td>-0.1758900 </td><td>-0.1925633 </td><td>-0.04259439</td><td>-0.21838609</td></tr>\n",
       "\t<tr><th scope=row>2018-01-19</th><td>-0.1787354 </td><td>-0.1709744 </td><td>-0.1808487 </td><td>-0.21322572</td><td>-0.21581759</td></tr>\n",
       "\t<tr><th scope=row>2018-01-20</th><td>-0.1306220 </td><td>-0.1867120 </td><td>-0.1817972 </td><td>-0.22812837</td><td>-0.29016826</td></tr>\n",
       "\t<tr><th scope=row>2018-01-21</th><td>-0.1452760 </td><td>-0.2010230 </td><td>-0.2159841 </td><td>-0.21953378</td><td>-0.29502853</td></tr>\n",
       "\t<tr><th scope=row>2018-01-22</th><td>-0.2143725 </td><td>-0.2413735 </td><td>-0.2405269 </td><td>-0.25215016</td><td>-0.32272051</td></tr>\n",
       "\t<tr><th scope=row>2018-01-23</th><td>-0.1138674 </td><td>-0.1226110 </td><td>-0.1293543 </td><td>-0.02151248</td><td>-0.04223546</td></tr>\n",
       "</tbody>\n",
       "</table>\n"
      ],
      "text/latex": [
       "\\begin{tabular}{r|lllll}\n",
       "  & GWA\\_BTC & GWA\\_ETH & GWA\\_LTC & GWA\\_XLM & GWA\\_XRP\\\\\n",
       "\\hline\n",
       "\t2018-01-18 & -0.1859704  & -0.1758900  & -0.1925633  & -0.04259439 & -0.21838609\\\\\n",
       "\t2018-01-19 & -0.1787354  & -0.1709744  & -0.1808487  & -0.21322572 & -0.21581759\\\\\n",
       "\t2018-01-20 & -0.1306220  & -0.1867120  & -0.1817972  & -0.22812837 & -0.29016826\\\\\n",
       "\t2018-01-21 & -0.1452760  & -0.2010230  & -0.2159841  & -0.21953378 & -0.29502853\\\\\n",
       "\t2018-01-22 & -0.2143725  & -0.2413735  & -0.2405269  & -0.25215016 & -0.32272051\\\\\n",
       "\t2018-01-23 & -0.1138674  & -0.1226110  & -0.1293543  & -0.02151248 & -0.04223546\\\\\n",
       "\\end{tabular}\n"
      ],
      "text/markdown": [
       "\n",
       "| <!--/--> | GWA_BTC | GWA_ETH | GWA_LTC | GWA_XLM | GWA_XRP | \n",
       "|---|---|---|---|---|---|\n",
       "| 2018-01-18 | -0.1859704  | -0.1758900  | -0.1925633  | -0.04259439 | -0.21838609 | \n",
       "| 2018-01-19 | -0.1787354  | -0.1709744  | -0.1808487  | -0.21322572 | -0.21581759 | \n",
       "| 2018-01-20 | -0.1306220  | -0.1867120  | -0.1817972  | -0.22812837 | -0.29016826 | \n",
       "| 2018-01-21 | -0.1452760  | -0.2010230  | -0.2159841  | -0.21953378 | -0.29502853 | \n",
       "| 2018-01-22 | -0.2143725  | -0.2413735  | -0.2405269  | -0.25215016 | -0.32272051 | \n",
       "| 2018-01-23 | -0.1138674  | -0.1226110  | -0.1293543  | -0.02151248 | -0.04223546 | \n",
       "\n",
       "\n"
      ],
      "text/plain": [
       "           GWA_BTC    GWA_ETH    GWA_LTC    GWA_XLM     GWA_XRP    \n",
       "2018-01-18 -0.1859704 -0.1758900 -0.1925633 -0.04259439 -0.21838609\n",
       "2018-01-19 -0.1787354 -0.1709744 -0.1808487 -0.21322572 -0.21581759\n",
       "2018-01-20 -0.1306220 -0.1867120 -0.1817972 -0.22812837 -0.29016826\n",
       "2018-01-21 -0.1452760 -0.2010230 -0.2159841 -0.21953378 -0.29502853\n",
       "2018-01-22 -0.2143725 -0.2413735 -0.2405269 -0.25215016 -0.32272051\n",
       "2018-01-23 -0.1138674 -0.1226110 -0.1293543 -0.02151248 -0.04223546"
      ]
     },
     "metadata": {},
     "output_type": "display_data"
    }
   ],
   "source": [
    "Shifted <- lapply(PivotedData,lag,n=7)\n",
    "Rate_of_change <-  PivotedData/Shifted - 1\n",
    "tail(Rate_of_change)\n",
    "\n",
    "Rate_of_change$Date <- rownames(Rate_of_change)"
   ]
  },
  {
   "cell_type": "code",
   "execution_count": 20,
   "metadata": {},
   "outputs": [
    {
     "data": {
      "text/html": [
       "<table>\n",
       "<thead><tr><th scope=col>Date</th><th scope=col>variable</th><th scope=col>delta_7</th></tr></thead>\n",
       "<tbody>\n",
       "\t<tr><td>2014-04-01 </td><td>GWA_BTC    </td><td>         NA</td></tr>\n",
       "\t<tr><td>2014-04-02 </td><td>GWA_BTC    </td><td>         NA</td></tr>\n",
       "\t<tr><td>2014-04-03 </td><td>GWA_BTC    </td><td>         NA</td></tr>\n",
       "\t<tr><td>2014-04-04 </td><td>GWA_BTC    </td><td>         NA</td></tr>\n",
       "\t<tr><td>2014-04-05 </td><td>GWA_BTC    </td><td>         NA</td></tr>\n",
       "\t<tr><td>2014-04-06 </td><td>GWA_BTC    </td><td>         NA</td></tr>\n",
       "\t<tr><td>2014-04-07 </td><td>GWA_BTC    </td><td>         NA</td></tr>\n",
       "\t<tr><td>2014-04-08 </td><td>GWA_BTC    </td><td>-0.05964323</td></tr>\n",
       "\t<tr><td>2014-04-09 </td><td>GWA_BTC    </td><td>-0.02121777</td></tr>\n",
       "\t<tr><td>2014-04-10 </td><td>GWA_BTC    </td><td>-0.07043877</td></tr>\n",
       "</tbody>\n",
       "</table>\n"
      ],
      "text/latex": [
       "\\begin{tabular}{r|lll}\n",
       " Date & variable & delta\\_7\\\\\n",
       "\\hline\n",
       "\t 2014-04-01  & GWA\\_BTC   &          NA\\\\\n",
       "\t 2014-04-02  & GWA\\_BTC   &          NA\\\\\n",
       "\t 2014-04-03  & GWA\\_BTC   &          NA\\\\\n",
       "\t 2014-04-04  & GWA\\_BTC   &          NA\\\\\n",
       "\t 2014-04-05  & GWA\\_BTC   &          NA\\\\\n",
       "\t 2014-04-06  & GWA\\_BTC   &          NA\\\\\n",
       "\t 2014-04-07  & GWA\\_BTC   &          NA\\\\\n",
       "\t 2014-04-08  & GWA\\_BTC   & -0.05964323\\\\\n",
       "\t 2014-04-09  & GWA\\_BTC   & -0.02121777\\\\\n",
       "\t 2014-04-10  & GWA\\_BTC   & -0.07043877\\\\\n",
       "\\end{tabular}\n"
      ],
      "text/markdown": [
       "\n",
       "Date | variable | delta_7 | \n",
       "|---|---|---|---|---|---|---|---|---|---|\n",
       "| 2014-04-01  | GWA_BTC     |          NA | \n",
       "| 2014-04-02  | GWA_BTC     |          NA | \n",
       "| 2014-04-03  | GWA_BTC     |          NA | \n",
       "| 2014-04-04  | GWA_BTC     |          NA | \n",
       "| 2014-04-05  | GWA_BTC     |          NA | \n",
       "| 2014-04-06  | GWA_BTC     |          NA | \n",
       "| 2014-04-07  | GWA_BTC     |          NA | \n",
       "| 2014-04-08  | GWA_BTC     | -0.05964323 | \n",
       "| 2014-04-09  | GWA_BTC     | -0.02121777 | \n",
       "| 2014-04-10  | GWA_BTC     | -0.07043877 | \n",
       "\n",
       "\n"
      ],
      "text/plain": [
       "   Date       variable delta_7    \n",
       "1  2014-04-01 GWA_BTC           NA\n",
       "2  2014-04-02 GWA_BTC           NA\n",
       "3  2014-04-03 GWA_BTC           NA\n",
       "4  2014-04-04 GWA_BTC           NA\n",
       "5  2014-04-05 GWA_BTC           NA\n",
       "6  2014-04-06 GWA_BTC           NA\n",
       "7  2014-04-07 GWA_BTC           NA\n",
       "8  2014-04-08 GWA_BTC  -0.05964323\n",
       "9  2014-04-09 GWA_BTC  -0.02121777\n",
       "10 2014-04-10 GWA_BTC  -0.07043877"
      ]
     },
     "metadata": {},
     "output_type": "display_data"
    }
   ],
   "source": [
    "MeltedData <- melt(Rate_of_change, id=\"Date\")\n",
    "colnames(MeltedData)[3] <- \"delta_7\"\n",
    "#write.csv(Rate_of_change, file = \"Rate_of_change.csv\")\n",
    "head(MeltedData,10)"
   ]
  },
  {
   "cell_type": "code",
   "execution_count": 17,
   "metadata": {},
   "outputs": [],
   "source": [
    "delta_dict <- list(7,14,21,28)\n",
    "names(delta_dict) <- list(\"delta_7\",\"delta_14\",\"delta_21\",\"delta_28\")\n",
    "\n",
    "melted_dfs <- list()\n",
    "\n",
    "for (i in delta_dict)\n",
    "{\n",
    "  transit <- lapply(PivotedData,lag,n=i)\n",
    "  rate_change <-  PivotedData/transit - 1\n",
    "  rate_change$Date <- rownames(rate_change)\n",
    "  melted_dfs[[paste(\"delta_\",i)]] <- melt(rate_change, id=\"Date\")\n",
    "  colnames(melted_dfs[[paste(\"delta_\",i)]])[2] <- \"Code\"\n",
    "  colnames(melted_dfs[[paste(\"delta_\",i)]])[3] <- paste(\"delta_\",i)\n",
    "}"
   ]
  },
  {
   "cell_type": "code",
   "execution_count": 18,
   "metadata": {},
   "outputs": [],
   "source": [
    "transit <- lapply(PivotedData,lead,n=7)\n",
    "rate_change <-  PivotedData/transit - 1\n",
    "rate_change$Date <- rownames(rate_change)\n",
    "melted_dfs[[\"return_7\"]] <- melt(rate_change, id=\"Date\")\n",
    "colnames(melted_dfs[[\"return_7\"]])[2] <- \"Code\"\n",
    "colnames(melted_dfs[[\"return_7\"]])[3] <- \"return_7\"\n",
    "\n",
    "Merged_Return <- Reduce(function(x,y) merge(x,y,by=c(\"Date\",\"Code\"),all=TRUE),melted_dfs)\n",
    "\n",
    "base_Data = select(NewData,'Date', 'Code', 'Volume', 'VWAP')\n",
    "\n"
   ]
  },
  {
   "cell_type": "code",
   "execution_count": 19,
   "metadata": {},
   "outputs": [
    {
     "data": {
      "text/html": [
       "<table>\n",
       "<thead><tr><th scope=col>Date</th><th scope=col>Code</th><th scope=col>Volume</th><th scope=col>VWAP</th><th scope=col>delta_ 7</th><th scope=col>delta_ 14</th><th scope=col>delta_ 21</th><th scope=col>delta_ 28</th><th scope=col>return_7</th></tr></thead>\n",
       "<tbody>\n",
       "\t<tr><td>2014-04-01  </td><td>GWA_BTC     </td><td>  74776.48  </td><td>482.75743985</td><td>NA          </td><td>NA          </td><td>NA          </td><td>NA          </td><td> 0.06342617 </td></tr>\n",
       "\t<tr><td>2014-04-01  </td><td>GWA_ETH     </td><td>        NA  </td><td>          NA</td><td>NA          </td><td>NA          </td><td>NA          </td><td>NA          </td><td>         NA </td></tr>\n",
       "\t<tr><td>2014-04-01  </td><td>GWA_LTC     </td><td> 713104.55  </td><td> 13.19192122</td><td>NA          </td><td>NA          </td><td>NA          </td><td>NA          </td><td> 0.15756377 </td></tr>\n",
       "\t<tr><td>2014-04-01  </td><td>GWA_XLM     </td><td>        NA  </td><td>          NA</td><td>NA          </td><td>NA          </td><td>NA          </td><td>NA          </td><td>         NA </td></tr>\n",
       "\t<tr><td>2014-04-01  </td><td>GWA_XRP     </td><td>3342635.94  </td><td>  0.00868482</td><td>NA          </td><td>NA          </td><td>NA          </td><td>NA          </td><td> 0.09202909 </td></tr>\n",
       "\t<tr><td>2014-04-02  </td><td>GWA_BTC     </td><td> 114052.96  </td><td>460.19242000</td><td>NA          </td><td>NA          </td><td>NA          </td><td>NA          </td><td> 0.02167773 </td></tr>\n",
       "\t<tr><td>2014-04-02  </td><td>GWA_ETH     </td><td>        NA  </td><td>          NA</td><td>NA          </td><td>NA          </td><td>NA          </td><td>NA          </td><td>         NA </td></tr>\n",
       "\t<tr><td>2014-04-02  </td><td>GWA_LTC     </td><td>1479611.86  </td><td> 12.09030356</td><td>NA          </td><td>NA          </td><td>NA          </td><td>NA          </td><td> 0.06495046 </td></tr>\n",
       "\t<tr><td>2014-04-02  </td><td>GWA_XLM     </td><td>        NA  </td><td>          NA</td><td>NA          </td><td>NA          </td><td>NA          </td><td>NA          </td><td>         NA </td></tr>\n",
       "\t<tr><td>2014-04-02  </td><td>GWA_XRP     </td><td>7321246.47  </td><td>  0.00772967</td><td>NA          </td><td>NA          </td><td>NA          </td><td>NA          </td><td>-0.05153932 </td></tr>\n",
       "</tbody>\n",
       "</table>\n"
      ],
      "text/latex": [
       "\\begin{tabular}{r|lllllllll}\n",
       " Date & Code & Volume & VWAP & delta\\_ 7 & delta\\_ 14 & delta\\_ 21 & delta\\_ 28 & return\\_7\\\\\n",
       "\\hline\n",
       "\t 2014-04-01   & GWA\\_BTC    &   74776.48   & 482.75743985 & NA           & NA           & NA           & NA           &  0.06342617 \\\\\n",
       "\t 2014-04-01   & GWA\\_ETH    &         NA   &           NA & NA           & NA           & NA           & NA           &          NA \\\\\n",
       "\t 2014-04-01   & GWA\\_LTC    &  713104.55   &  13.19192122 & NA           & NA           & NA           & NA           &  0.15756377 \\\\\n",
       "\t 2014-04-01   & GWA\\_XLM    &         NA   &           NA & NA           & NA           & NA           & NA           &          NA \\\\\n",
       "\t 2014-04-01   & GWA\\_XRP    & 3342635.94   &   0.00868482 & NA           & NA           & NA           & NA           &  0.09202909 \\\\\n",
       "\t 2014-04-02   & GWA\\_BTC    &  114052.96   & 460.19242000 & NA           & NA           & NA           & NA           &  0.02167773 \\\\\n",
       "\t 2014-04-02   & GWA\\_ETH    &         NA   &           NA & NA           & NA           & NA           & NA           &          NA \\\\\n",
       "\t 2014-04-02   & GWA\\_LTC    & 1479611.86   &  12.09030356 & NA           & NA           & NA           & NA           &  0.06495046 \\\\\n",
       "\t 2014-04-02   & GWA\\_XLM    &         NA   &           NA & NA           & NA           & NA           & NA           &          NA \\\\\n",
       "\t 2014-04-02   & GWA\\_XRP    & 7321246.47   &   0.00772967 & NA           & NA           & NA           & NA           & -0.05153932 \\\\\n",
       "\\end{tabular}\n"
      ],
      "text/markdown": [
       "\n",
       "Date | Code | Volume | VWAP | delta_ 7 | delta_ 14 | delta_ 21 | delta_ 28 | return_7 | \n",
       "|---|---|---|---|---|---|---|---|---|---|\n",
       "| 2014-04-01   | GWA_BTC      |   74776.48   | 482.75743985 | NA           | NA           | NA           | NA           |  0.06342617  | \n",
       "| 2014-04-01   | GWA_ETH      |         NA   |           NA | NA           | NA           | NA           | NA           |          NA  | \n",
       "| 2014-04-01   | GWA_LTC      |  713104.55   |  13.19192122 | NA           | NA           | NA           | NA           |  0.15756377  | \n",
       "| 2014-04-01   | GWA_XLM      |         NA   |           NA | NA           | NA           | NA           | NA           |          NA  | \n",
       "| 2014-04-01   | GWA_XRP      | 3342635.94   |   0.00868482 | NA           | NA           | NA           | NA           |  0.09202909  | \n",
       "| 2014-04-02   | GWA_BTC      |  114052.96   | 460.19242000 | NA           | NA           | NA           | NA           |  0.02167773  | \n",
       "| 2014-04-02   | GWA_ETH      |         NA   |           NA | NA           | NA           | NA           | NA           |          NA  | \n",
       "| 2014-04-02   | GWA_LTC      | 1479611.86   |  12.09030356 | NA           | NA           | NA           | NA           |  0.06495046  | \n",
       "| 2014-04-02   | GWA_XLM      |         NA   |           NA | NA           | NA           | NA           | NA           |          NA  | \n",
       "| 2014-04-02   | GWA_XRP      | 7321246.47   |   0.00772967 | NA           | NA           | NA           | NA           | -0.05153932  | \n",
       "\n",
       "\n"
      ],
      "text/plain": [
       "   Date       Code    Volume     VWAP         delta_ 7 delta_ 14 delta_ 21\n",
       "1  2014-04-01 GWA_BTC   74776.48 482.75743985 NA       NA        NA       \n",
       "2  2014-04-01 GWA_ETH         NA           NA NA       NA        NA       \n",
       "3  2014-04-01 GWA_LTC  713104.55  13.19192122 NA       NA        NA       \n",
       "4  2014-04-01 GWA_XLM         NA           NA NA       NA        NA       \n",
       "5  2014-04-01 GWA_XRP 3342635.94   0.00868482 NA       NA        NA       \n",
       "6  2014-04-02 GWA_BTC  114052.96 460.19242000 NA       NA        NA       \n",
       "7  2014-04-02 GWA_ETH         NA           NA NA       NA        NA       \n",
       "8  2014-04-02 GWA_LTC 1479611.86  12.09030356 NA       NA        NA       \n",
       "9  2014-04-02 GWA_XLM         NA           NA NA       NA        NA       \n",
       "10 2014-04-02 GWA_XRP 7321246.47   0.00772967 NA       NA        NA       \n",
       "   delta_ 28 return_7   \n",
       "1  NA         0.06342617\n",
       "2  NA                 NA\n",
       "3  NA         0.15756377\n",
       "4  NA                 NA\n",
       "5  NA         0.09202909\n",
       "6  NA         0.02167773\n",
       "7  NA                 NA\n",
       "8  NA         0.06495046\n",
       "9  NA                 NA\n",
       "10 NA        -0.05153932"
      ]
     },
     "metadata": {},
     "output_type": "display_data"
    }
   ],
   "source": [
    "Merged_Data <- merge(base_Data,Merged_Return,by=c(\"Date\",\"Code\"),all=TRUE)\n",
    "head(Merged_Data,10)"
   ]
  }
 ],
 "metadata": {
  "kernelspec": {
   "display_name": "R",
   "language": "R",
   "name": "ir"
  },
  "language_info": {
   "codemirror_mode": "r",
   "file_extension": ".r",
   "mimetype": "text/x-r-source",
   "name": "R",
   "pygments_lexer": "r",
   "version": "3.5.1"
  }
 },
 "nbformat": 4,
 "nbformat_minor": 2
}
