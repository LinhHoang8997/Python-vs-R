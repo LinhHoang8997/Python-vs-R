{
 "cells": [
  {
   "cell_type": "code",
   "execution_count": 3,
   "metadata": {
    "ExecuteTime": {
     "end_time": "2019-04-24T17:02:44.165496Z",
     "start_time": "2019-04-24T17:02:42.205Z"
    },
    "scrolled": true
   },
   "outputs": [
    {
     "name": "stderr",
     "output_type": "stream",
     "text": [
      "Loading required package: tidyverse\n",
      "-- Attaching packages --------------------------------------- tidyverse 1.2.1 --\n",
      "v ggplot2 3.1.0       v purrr   0.2.5  \n",
      "v tibble  2.0.1       v dplyr   0.8.0.1\n",
      "v tidyr   0.8.1       v stringr 1.3.1  \n",
      "v readr   1.1.1       v forcats 0.3.0  \n",
      "Warning message:\n",
      "\"package 'ggplot2' was built under R version 3.5.2\"Warning message:\n",
      "\"package 'tibble' was built under R version 3.5.2\"Warning message:\n",
      "\"package 'dplyr' was built under R version 3.5.2\"-- Conflicts ------------------------------------------ tidyverse_conflicts() --\n",
      "x dplyr::filter() masks stats::filter()\n",
      "x dplyr::lag()    masks stats::lag()\n",
      "Loading required package: reshape\n",
      "\n",
      "Attaching package: 'reshape'\n",
      "\n",
      "The following object is masked from 'package:dplyr':\n",
      "\n",
      "    rename\n",
      "\n",
      "The following objects are masked from 'package:tidyr':\n",
      "\n",
      "    expand, smiths\n",
      "\n",
      "Loading required package: data.table\n",
      "\n",
      "Attaching package: 'data.table'\n",
      "\n",
      "The following object is masked from 'package:reshape':\n",
      "\n",
      "    melt\n",
      "\n",
      "The following objects are masked from 'package:dplyr':\n",
      "\n",
      "    between, first, last\n",
      "\n",
      "The following object is masked from 'package:purrr':\n",
      "\n",
      "    transpose\n",
      "\n"
     ]
    }
   ],
   "source": [
    "if (!require(\"tidyverse\")) { install.packages(\"tidyverse\")\n",
    "  require(\"tidyverse\") };\n",
    "  library(\"tidyverse\");\n",
    "\n",
    "if (!require(\"reshape\")) { install.packages(\"reshape\")\n",
    "  require(\"reshape\") };\n",
    "library(\"reshape\");\n",
    "\n",
    "if (!require(\"data.table\")) { install.packages(\"data.table\")\n",
    "  require(\"data.table\") };\n",
    "library(\"data.table\");"
   ]
  },
  {
   "cell_type": "code",
   "execution_count": 4,
   "metadata": {
    "ExecuteTime": {
     "end_time": "2019-04-24T17:02:44.490893Z",
     "start_time": "2019-04-24T17:02:42.217Z"
    },
    "collapsed": true
   },
   "outputs": [
    {
     "data": {
      "text/html": [
       "<table>\n",
       "<thead><tr><th></th><th scope=col>Date</th><th scope=col>Open</th><th scope=col>High</th><th scope=col>Low</th><th scope=col>Close</th><th scope=col>Volume</th><th scope=col>Name</th></tr></thead>\n",
       "<tbody>\n",
       "\t<tr><th scope=row>7777</th><td>12/22/2017</td><td>71.42     </td><td>71.87     </td><td>71.22     </td><td>71.58     </td><td>10979165  </td><td>AABA      </td></tr>\n",
       "\t<tr><th scope=row>7778</th><td>12/26/2017</td><td>70.94     </td><td>71.39     </td><td>69.63     </td><td>69.86     </td><td> 8542802  </td><td>AABA      </td></tr>\n",
       "\t<tr><th scope=row>7779</th><td>12/27/2017</td><td>69.77     </td><td>70.49     </td><td>69.69     </td><td>70.06     </td><td> 6345124  </td><td>AABA      </td></tr>\n",
       "\t<tr><th scope=row>7780</th><td>12/28/2017</td><td>70.12     </td><td>70.32     </td><td>69.51     </td><td>69.82     </td><td> 7556877  </td><td>AABA      </td></tr>\n",
       "\t<tr><th scope=row>7781</th><td>12/29/2017</td><td>69.79     </td><td>70.13     </td><td>69.43     </td><td>69.85     </td><td> 6613070  </td><td>AABA      </td></tr>\n",
       "</tbody>\n",
       "</table>\n"
      ],
      "text/latex": [
       "\\begin{tabular}{r|lllllll}\n",
       "  & Date & Open & High & Low & Close & Volume & Name\\\\\n",
       "\\hline\n",
       "\t7777 & 12/22/2017 & 71.42      & 71.87      & 71.22      & 71.58      & 10979165   & AABA      \\\\\n",
       "\t7778 & 12/26/2017 & 70.94      & 71.39      & 69.63      & 69.86      &  8542802   & AABA      \\\\\n",
       "\t7779 & 12/27/2017 & 69.77      & 70.49      & 69.69      & 70.06      &  6345124   & AABA      \\\\\n",
       "\t7780 & 12/28/2017 & 70.12      & 70.32      & 69.51      & 69.82      &  7556877   & AABA      \\\\\n",
       "\t7781 & 12/29/2017 & 69.79      & 70.13      & 69.43      & 69.85      &  6613070   & AABA      \\\\\n",
       "\\end{tabular}\n"
      ],
      "text/markdown": [
       "\n",
       "| <!--/--> | Date | Open | High | Low | Close | Volume | Name | \n",
       "|---|---|---|---|---|\n",
       "| 7777 | 12/22/2017 | 71.42      | 71.87      | 71.22      | 71.58      | 10979165   | AABA       | \n",
       "| 7778 | 12/26/2017 | 70.94      | 71.39      | 69.63      | 69.86      |  8542802   | AABA       | \n",
       "| 7779 | 12/27/2017 | 69.77      | 70.49      | 69.69      | 70.06      |  6345124   | AABA       | \n",
       "| 7780 | 12/28/2017 | 70.12      | 70.32      | 69.51      | 69.82      |  7556877   | AABA       | \n",
       "| 7781 | 12/29/2017 | 69.79      | 70.13      | 69.43      | 69.85      |  6613070   | AABA       | \n",
       "\n",
       "\n"
      ],
      "text/plain": [
       "     Date       Open  High  Low   Close Volume   Name\n",
       "7777 12/22/2017 71.42 71.87 71.22 71.58 10979165 AABA\n",
       "7778 12/26/2017 70.94 71.39 69.63 69.86  8542802 AABA\n",
       "7779 12/27/2017 69.77 70.49 69.69 70.06  6345124 AABA\n",
       "7780 12/28/2017 70.12 70.32 69.51 69.82  7556877 AABA\n",
       "7781 12/29/2017 69.79 70.13 69.43 69.85  6613070 AABA"
      ]
     },
     "metadata": {},
     "output_type": "display_data"
    }
   ],
   "source": [
    "MyData <- read.csv(file=\"all_stocks_2017-2018.csv\", header=TRUE, sep=\",\");\n",
    "tail(MyData,5)"
   ]
  },
  {
   "cell_type": "code",
   "execution_count": 5,
   "metadata": {
    "ExecuteTime": {
     "end_time": "2019-04-24T17:02:44.570896Z",
     "start_time": "2019-04-24T17:02:42.222Z"
    }
   },
   "outputs": [],
   "source": [
    "NewData <- MyData %>%\n",
    "  filter(str_detect(Name, \"AAPL|MSFT|AMZN|GOOGL\"))"
   ]
  },
  {
   "cell_type": "code",
   "execution_count": 6,
   "metadata": {
    "ExecuteTime": {
     "end_time": "2019-04-24T17:02:44.679571Z",
     "start_time": "2019-04-24T17:02:42.228Z"
    }
   },
   "outputs": [
    {
     "data": {
      "text/html": [
       "<table>\n",
       "<thead><tr><th></th><th scope=col>Date</th><th scope=col>AAPL</th><th scope=col>AMZN</th><th scope=col>GOOGL</th><th scope=col>MSFT</th></tr></thead>\n",
       "<tbody>\n",
       "\t<tr><th scope=row>73</th><td>12/21/2017</td><td>175.01    </td><td>1174.76   </td><td>1070.85   </td><td>85.50     </td></tr>\n",
       "\t<tr><th scope=row>74</th><td>12/22/2017</td><td>175.01    </td><td>1168.36   </td><td>1068.86   </td><td>85.51     </td></tr>\n",
       "\t<tr><th scope=row>75</th><td>12/26/2017</td><td>170.57    </td><td>1176.76   </td><td>1065.85   </td><td>85.40     </td></tr>\n",
       "\t<tr><th scope=row>76</th><td>12/27/2017</td><td>170.60    </td><td>1182.26   </td><td>1060.20   </td><td>85.71     </td></tr>\n",
       "\t<tr><th scope=row>77</th><td>12/28/2017</td><td>171.08    </td><td>1186.10   </td><td>1055.95   </td><td>85.72     </td></tr>\n",
       "\t<tr><th scope=row>78</th><td>12/29/2017</td><td>169.23    </td><td>1169.47   </td><td>1053.40   </td><td>85.54     </td></tr>\n",
       "</tbody>\n",
       "</table>\n"
      ],
      "text/latex": [
       "\\begin{tabular}{r|lllll}\n",
       "  & Date & AAPL & AMZN & GOOGL & MSFT\\\\\n",
       "\\hline\n",
       "\t73 & 12/21/2017 & 175.01     & 1174.76    & 1070.85    & 85.50     \\\\\n",
       "\t74 & 12/22/2017 & 175.01     & 1168.36    & 1068.86    & 85.51     \\\\\n",
       "\t75 & 12/26/2017 & 170.57     & 1176.76    & 1065.85    & 85.40     \\\\\n",
       "\t76 & 12/27/2017 & 170.60     & 1182.26    & 1060.20    & 85.71     \\\\\n",
       "\t77 & 12/28/2017 & 171.08     & 1186.10    & 1055.95    & 85.72     \\\\\n",
       "\t78 & 12/29/2017 & 169.23     & 1169.47    & 1053.40    & 85.54     \\\\\n",
       "\\end{tabular}\n"
      ],
      "text/markdown": [
       "\n",
       "| <!--/--> | Date | AAPL | AMZN | GOOGL | MSFT | \n",
       "|---|---|---|---|---|---|\n",
       "| 73 | 12/21/2017 | 175.01     | 1174.76    | 1070.85    | 85.50      | \n",
       "| 74 | 12/22/2017 | 175.01     | 1168.36    | 1068.86    | 85.51      | \n",
       "| 75 | 12/26/2017 | 170.57     | 1176.76    | 1065.85    | 85.40      | \n",
       "| 76 | 12/27/2017 | 170.60     | 1182.26    | 1060.20    | 85.71      | \n",
       "| 77 | 12/28/2017 | 171.08     | 1186.10    | 1055.95    | 85.72      | \n",
       "| 78 | 12/29/2017 | 169.23     | 1169.47    | 1053.40    | 85.54      | \n",
       "\n",
       "\n"
      ],
      "text/plain": [
       "   Date       AAPL   AMZN    GOOGL   MSFT \n",
       "73 12/21/2017 175.01 1174.76 1070.85 85.50\n",
       "74 12/22/2017 175.01 1168.36 1068.86 85.51\n",
       "75 12/26/2017 170.57 1176.76 1065.85 85.40\n",
       "76 12/27/2017 170.60 1182.26 1060.20 85.71\n",
       "77 12/28/2017 171.08 1186.10 1055.95 85.72\n",
       "78 12/29/2017 169.23 1169.47 1053.40 85.54"
      ]
     },
     "metadata": {},
     "output_type": "display_data"
    }
   ],
   "source": [
    "PivotedData <- cast(NewData, Date ~ Name, value = \"Close\")\n",
    "PivotedData <- PivotedData[order(as.Date(PivotedData$Date, format=\"%m/%d/%Y\")), ]\n",
    "tail(PivotedData)"
   ]
  },
  {
   "cell_type": "code",
   "execution_count": 7,
   "metadata": {
    "ExecuteTime": {
     "end_time": "2019-04-24T17:02:44.730435Z",
     "start_time": "2019-04-24T17:02:42.236Z"
    }
   },
   "outputs": [],
   "source": [
    "# Turn data into index (rownames in R) to simplify transformations later on\n",
    "rownames(PivotedData) <- PivotedData$Date\n",
    "PivotedData$Date <- NULL"
   ]
  },
  {
   "cell_type": "markdown",
   "metadata": {},
   "source": [
    "## Understanding of vectorized functions\n",
    "- Lead vs lag in R, while just + or - in Python. -> Python is \n",
    "- lapply vs "
   ]
  },
  {
   "cell_type": "code",
   "execution_count": 8,
   "metadata": {
    "ExecuteTime": {
     "end_time": "2019-04-24T17:02:44.812217Z",
     "start_time": "2019-04-24T17:02:42.277Z"
    },
    "scrolled": true
   },
   "outputs": [
    {
     "data": {
      "text/html": [
       "<table>\n",
       "<thead><tr><th scope=col>AAPL</th><th scope=col>AMZN</th><th scope=col>GOOGL</th><th scope=col>MSFT</th></tr></thead>\n",
       "<tbody>\n",
       "\t<tr><td>    NA</td><td>    NA</td><td>    NA</td><td>   NA </td></tr>\n",
       "\t<tr><td>    NA</td><td>    NA</td><td>    NA</td><td>   NA </td></tr>\n",
       "\t<tr><td>    NA</td><td>    NA</td><td>    NA</td><td>   NA </td></tr>\n",
       "\t<tr><td>    NA</td><td>    NA</td><td>    NA</td><td>   NA </td></tr>\n",
       "\t<tr><td>    NA</td><td>    NA</td><td>    NA</td><td>   NA </td></tr>\n",
       "\t<tr><td>    NA</td><td>    NA</td><td>    NA</td><td>   NA </td></tr>\n",
       "\t<tr><td>    NA</td><td>    NA</td><td>    NA</td><td>   NA </td></tr>\n",
       "\t<tr><td>116.15</td><td>753.67</td><td>808.01</td><td>62.58 </td></tr>\n",
       "\t<tr><td>116.02</td><td>757.18</td><td>807.77</td><td>62.30 </td></tr>\n",
       "\t<tr><td>116.61</td><td>780.45</td><td>813.02</td><td>62.30 </td></tr>\n",
       "</tbody>\n",
       "</table>\n"
      ],
      "text/latex": [
       "\\begin{tabular}{r|llll}\n",
       " AAPL & AMZN & GOOGL & MSFT\\\\\n",
       "\\hline\n",
       "\t     NA &     NA &     NA &    NA \\\\\n",
       "\t     NA &     NA &     NA &    NA \\\\\n",
       "\t     NA &     NA &     NA &    NA \\\\\n",
       "\t     NA &     NA &     NA &    NA \\\\\n",
       "\t     NA &     NA &     NA &    NA \\\\\n",
       "\t     NA &     NA &     NA &    NA \\\\\n",
       "\t     NA &     NA &     NA &    NA \\\\\n",
       "\t 116.15 & 753.67 & 808.01 & 62.58 \\\\\n",
       "\t 116.02 & 757.18 & 807.77 & 62.30 \\\\\n",
       "\t 116.61 & 780.45 & 813.02 & 62.30 \\\\\n",
       "\\end{tabular}\n"
      ],
      "text/markdown": [
       "\n",
       "AAPL | AMZN | GOOGL | MSFT | \n",
       "|---|---|---|---|---|---|---|---|---|---|\n",
       "|     NA |     NA |     NA |    NA  | \n",
       "|     NA |     NA |     NA |    NA  | \n",
       "|     NA |     NA |     NA |    NA  | \n",
       "|     NA |     NA |     NA |    NA  | \n",
       "|     NA |     NA |     NA |    NA  | \n",
       "|     NA |     NA |     NA |    NA  | \n",
       "|     NA |     NA |     NA |    NA  | \n",
       "| 116.15 | 753.67 | 808.01 | 62.58  | \n",
       "| 116.02 | 757.18 | 807.77 | 62.30  | \n",
       "| 116.61 | 780.45 | 813.02 | 62.30  | \n",
       "\n",
       "\n"
      ],
      "text/plain": [
       "   AAPL   AMZN   GOOGL  MSFT \n",
       "1      NA     NA     NA    NA\n",
       "2      NA     NA     NA    NA\n",
       "3      NA     NA     NA    NA\n",
       "4      NA     NA     NA    NA\n",
       "5      NA     NA     NA    NA\n",
       "6      NA     NA     NA    NA\n",
       "7      NA     NA     NA    NA\n",
       "8  116.15 753.67 808.01 62.58\n",
       "9  116.02 757.18 807.77 62.30\n",
       "10 116.61 780.45 813.02 62.30"
      ]
     },
     "metadata": {},
     "output_type": "display_data"
    }
   ],
   "source": [
    "Shifted <- lapply(PivotedData,lag,n=7)\n",
    "head(data.frame(Shifted),10)"
   ]
  },
  {
   "cell_type": "code",
   "execution_count": 9,
   "metadata": {
    "ExecuteTime": {
     "end_time": "2019-04-24T17:02:44.920929Z",
     "start_time": "2019-04-24T17:02:42.286Z"
    }
   },
   "outputs": [
    {
     "data": {
      "text/html": [
       "<table>\n",
       "<thead><tr><th scope=col>AAPL</th><th scope=col>AMZN</th><th scope=col>GOOGL</th><th scope=col>MSFT</th></tr></thead>\n",
       "<tbody>\n",
       "\t<tr><td>    NA</td><td>    NA</td><td>    NA</td><td>   NA </td></tr>\n",
       "\t<tr><td>    NA</td><td>    NA</td><td>    NA</td><td>   NA </td></tr>\n",
       "\t<tr><td>    NA</td><td>    NA</td><td>    NA</td><td>   NA </td></tr>\n",
       "\t<tr><td>    NA</td><td>    NA</td><td>    NA</td><td>   NA </td></tr>\n",
       "\t<tr><td>    NA</td><td>    NA</td><td>    NA</td><td>   NA </td></tr>\n",
       "\t<tr><td>    NA</td><td>    NA</td><td>    NA</td><td>   NA </td></tr>\n",
       "\t<tr><td>    NA</td><td>    NA</td><td>    NA</td><td>   NA </td></tr>\n",
       "\t<tr><td>116.15</td><td>753.67</td><td>808.01</td><td>62.58 </td></tr>\n",
       "\t<tr><td>116.02</td><td>757.18</td><td>807.77</td><td>62.30 </td></tr>\n",
       "\t<tr><td>116.61</td><td>780.45</td><td>813.02</td><td>62.30 </td></tr>\n",
       "</tbody>\n",
       "</table>\n"
      ],
      "text/latex": [
       "\\begin{tabular}{r|llll}\n",
       " AAPL & AMZN & GOOGL & MSFT\\\\\n",
       "\\hline\n",
       "\t     NA &     NA &     NA &    NA \\\\\n",
       "\t     NA &     NA &     NA &    NA \\\\\n",
       "\t     NA &     NA &     NA &    NA \\\\\n",
       "\t     NA &     NA &     NA &    NA \\\\\n",
       "\t     NA &     NA &     NA &    NA \\\\\n",
       "\t     NA &     NA &     NA &    NA \\\\\n",
       "\t     NA &     NA &     NA &    NA \\\\\n",
       "\t 116.15 & 753.67 & 808.01 & 62.58 \\\\\n",
       "\t 116.02 & 757.18 & 807.77 & 62.30 \\\\\n",
       "\t 116.61 & 780.45 & 813.02 & 62.30 \\\\\n",
       "\\end{tabular}\n"
      ],
      "text/markdown": [
       "\n",
       "AAPL | AMZN | GOOGL | MSFT | \n",
       "|---|---|---|---|---|---|---|---|---|---|\n",
       "|     NA |     NA |     NA |    NA  | \n",
       "|     NA |     NA |     NA |    NA  | \n",
       "|     NA |     NA |     NA |    NA  | \n",
       "|     NA |     NA |     NA |    NA  | \n",
       "|     NA |     NA |     NA |    NA  | \n",
       "|     NA |     NA |     NA |    NA  | \n",
       "|     NA |     NA |     NA |    NA  | \n",
       "| 116.15 | 753.67 | 808.01 | 62.58  | \n",
       "| 116.02 | 757.18 | 807.77 | 62.30  | \n",
       "| 116.61 | 780.45 | 813.02 | 62.30  | \n",
       "\n",
       "\n"
      ],
      "text/plain": [
       "   AAPL   AMZN   GOOGL  MSFT \n",
       "1      NA     NA     NA    NA\n",
       "2      NA     NA     NA    NA\n",
       "3      NA     NA     NA    NA\n",
       "4      NA     NA     NA    NA\n",
       "5      NA     NA     NA    NA\n",
       "6      NA     NA     NA    NA\n",
       "7      NA     NA     NA    NA\n",
       "8  116.15 753.67 808.01 62.58\n",
       "9  116.02 757.18 807.77 62.30\n",
       "10 116.61 780.45 813.02 62.30"
      ]
     },
     "metadata": {},
     "output_type": "display_data"
    },
    {
     "data": {
      "text/html": [
       "<table>\n",
       "<thead><tr><th></th><th scope=col>AAPL</th><th scope=col>AMZN</th><th scope=col>GOOGL</th><th scope=col>MSFT</th></tr></thead>\n",
       "<tbody>\n",
       "\t<tr><th scope=row>1/3/2017</th><td>        NA  </td><td>        NA  </td><td>        NA  </td><td>          NA</td></tr>\n",
       "\t<tr><th scope=row>1/4/2017</th><td>        NA  </td><td>        NA  </td><td>        NA  </td><td>          NA</td></tr>\n",
       "\t<tr><th scope=row>1/5/2017</th><td>        NA  </td><td>        NA  </td><td>        NA  </td><td>          NA</td></tr>\n",
       "\t<tr><th scope=row>1/6/2017</th><td>        NA  </td><td>        NA  </td><td>        NA  </td><td>          NA</td></tr>\n",
       "\t<tr><th scope=row>1/9/2017</th><td>        NA  </td><td>        NA  </td><td>        NA  </td><td>          NA</td></tr>\n",
       "\t<tr><th scope=row>1/10/2017</th><td>        NA  </td><td>        NA  </td><td>        NA  </td><td>          NA</td></tr>\n",
       "\t<tr><th scope=row>1/11/2017</th><td>        NA  </td><td>        NA  </td><td>        NA  </td><td>          NA</td></tr>\n",
       "\t<tr><th scope=row>1/12/2017</th><td>0.02668963  </td><td>0.07957063  </td><td>0.02663333  </td><td>0.0004793864</td></tr>\n",
       "\t<tr><th scope=row>1/13/2017</th><td>0.02602999  </td><td>0.07918857  </td><td>0.02868391  </td><td>0.0064205457</td></tr>\n",
       "\t<tr><th scope=row>1/17/2017</th><td>0.02907126  </td><td>0.03750400  </td><td>0.01776094  </td><td>0.0036918138</td></tr>\n",
       "</tbody>\n",
       "</table>\n"
      ],
      "text/latex": [
       "\\begin{tabular}{r|llll}\n",
       "  & AAPL & AMZN & GOOGL & MSFT\\\\\n",
       "\\hline\n",
       "\t1/3/2017 &         NA   &         NA   &         NA   &           NA\\\\\n",
       "\t1/4/2017 &         NA   &         NA   &         NA   &           NA\\\\\n",
       "\t1/5/2017 &         NA   &         NA   &         NA   &           NA\\\\\n",
       "\t1/6/2017 &         NA   &         NA   &         NA   &           NA\\\\\n",
       "\t1/9/2017 &         NA   &         NA   &         NA   &           NA\\\\\n",
       "\t1/10/2017 &         NA   &         NA   &         NA   &           NA\\\\\n",
       "\t1/11/2017 &         NA   &         NA   &         NA   &           NA\\\\\n",
       "\t1/12/2017 & 0.02668963   & 0.07957063   & 0.02663333   & 0.0004793864\\\\\n",
       "\t1/13/2017 & 0.02602999   & 0.07918857   & 0.02868391   & 0.0064205457\\\\\n",
       "\t1/17/2017 & 0.02907126   & 0.03750400   & 0.01776094   & 0.0036918138\\\\\n",
       "\\end{tabular}\n"
      ],
      "text/markdown": [
       "\n",
       "| <!--/--> | AAPL | AMZN | GOOGL | MSFT | \n",
       "|---|---|---|---|---|---|---|---|---|---|\n",
       "| 1/3/2017 |         NA   |         NA   |         NA   |           NA | \n",
       "| 1/4/2017 |         NA   |         NA   |         NA   |           NA | \n",
       "| 1/5/2017 |         NA   |         NA   |         NA   |           NA | \n",
       "| 1/6/2017 |         NA   |         NA   |         NA   |           NA | \n",
       "| 1/9/2017 |         NA   |         NA   |         NA   |           NA | \n",
       "| 1/10/2017 |         NA   |         NA   |         NA   |           NA | \n",
       "| 1/11/2017 |         NA   |         NA   |         NA   |           NA | \n",
       "| 1/12/2017 | 0.02668963   | 0.07957063   | 0.02663333   | 0.0004793864 | \n",
       "| 1/13/2017 | 0.02602999   | 0.07918857   | 0.02868391   | 0.0064205457 | \n",
       "| 1/17/2017 | 0.02907126   | 0.03750400   | 0.01776094   | 0.0036918138 | \n",
       "\n",
       "\n"
      ],
      "text/plain": [
       "          AAPL       AMZN       GOOGL      MSFT        \n",
       "1/3/2017          NA         NA         NA           NA\n",
       "1/4/2017          NA         NA         NA           NA\n",
       "1/5/2017          NA         NA         NA           NA\n",
       "1/6/2017          NA         NA         NA           NA\n",
       "1/9/2017          NA         NA         NA           NA\n",
       "1/10/2017         NA         NA         NA           NA\n",
       "1/11/2017         NA         NA         NA           NA\n",
       "1/12/2017 0.02668963 0.07957063 0.02663333 0.0004793864\n",
       "1/13/2017 0.02602999 0.07918857 0.02868391 0.0064205457\n",
       "1/17/2017 0.02907126 0.03750400 0.01776094 0.0036918138"
      ]
     },
     "metadata": {},
     "output_type": "display_data"
    }
   ],
   "source": [
    "Rate_of_change <-  PivotedData/Shifted - 1\n",
    "head(data.frame(Shifted),10)\n",
    "head(Rate_of_change,10)"
   ]
  },
  {
   "cell_type": "code",
   "execution_count": 10,
   "metadata": {
    "ExecuteTime": {
     "end_time": "2019-04-24T17:02:45.037616Z",
     "start_time": "2019-04-24T17:02:42.308Z"
    }
   },
   "outputs": [
    {
     "data": {
      "text/html": [
       "<table>\n",
       "<thead><tr><th scope=col>Date</th><th scope=col>variable</th><th scope=col>delta_7</th></tr></thead>\n",
       "<tbody>\n",
       "\t<tr><td>1/3/2017   </td><td>AAPL       </td><td>         NA</td></tr>\n",
       "\t<tr><td>1/4/2017   </td><td>AAPL       </td><td>         NA</td></tr>\n",
       "\t<tr><td>1/5/2017   </td><td>AAPL       </td><td>         NA</td></tr>\n",
       "\t<tr><td>1/6/2017   </td><td>AAPL       </td><td>         NA</td></tr>\n",
       "\t<tr><td>1/9/2017   </td><td>AAPL       </td><td>         NA</td></tr>\n",
       "\t<tr><td>1/10/2017  </td><td>AAPL       </td><td>         NA</td></tr>\n",
       "\t<tr><td>1/11/2017  </td><td>AAPL       </td><td>         NA</td></tr>\n",
       "\t<tr><td>1/12/2017  </td><td>AAPL       </td><td>0.026689625</td></tr>\n",
       "\t<tr><td>1/13/2017  </td><td>AAPL       </td><td>0.026029995</td></tr>\n",
       "\t<tr><td>1/17/2017  </td><td>AAPL       </td><td>0.029071263</td></tr>\n",
       "\t<tr><td>1/18/2017  </td><td>AAPL       </td><td>0.017640573</td></tr>\n",
       "\t<tr><td>1/19/2017  </td><td>AAPL       </td><td>0.006639213</td></tr>\n",
       "\t<tr><td>1/20/2017  </td><td>AAPL       </td><td>0.007472085</td></tr>\n",
       "\t<tr><td>1/23/2017  </td><td>AAPL       </td><td>0.002755741</td></tr>\n",
       "\t<tr><td>1/24/2017  </td><td>AAPL       </td><td>0.006037736</td></tr>\n",
       "\t<tr><td>1/25/2017  </td><td>AAPL       </td><td>0.023857527</td></tr>\n",
       "\t<tr><td>1/26/2017  </td><td>AAPL       </td><td>0.016166667</td></tr>\n",
       "\t<tr><td>1/27/2017  </td><td>AAPL       </td><td>0.016334695</td></tr>\n",
       "\t<tr><td>1/30/2017  </td><td>AAPL       </td><td>0.015444982</td></tr>\n",
       "\t<tr><td>1/31/2017  </td><td>AAPL       </td><td>0.011250000</td></tr>\n",
       "</tbody>\n",
       "</table>\n"
      ],
      "text/latex": [
       "\\begin{tabular}{r|lll}\n",
       " Date & variable & delta\\_7\\\\\n",
       "\\hline\n",
       "\t 1/3/2017    & AAPL        &          NA\\\\\n",
       "\t 1/4/2017    & AAPL        &          NA\\\\\n",
       "\t 1/5/2017    & AAPL        &          NA\\\\\n",
       "\t 1/6/2017    & AAPL        &          NA\\\\\n",
       "\t 1/9/2017    & AAPL        &          NA\\\\\n",
       "\t 1/10/2017   & AAPL        &          NA\\\\\n",
       "\t 1/11/2017   & AAPL        &          NA\\\\\n",
       "\t 1/12/2017   & AAPL        & 0.026689625\\\\\n",
       "\t 1/13/2017   & AAPL        & 0.026029995\\\\\n",
       "\t 1/17/2017   & AAPL        & 0.029071263\\\\\n",
       "\t 1/18/2017   & AAPL        & 0.017640573\\\\\n",
       "\t 1/19/2017   & AAPL        & 0.006639213\\\\\n",
       "\t 1/20/2017   & AAPL        & 0.007472085\\\\\n",
       "\t 1/23/2017   & AAPL        & 0.002755741\\\\\n",
       "\t 1/24/2017   & AAPL        & 0.006037736\\\\\n",
       "\t 1/25/2017   & AAPL        & 0.023857527\\\\\n",
       "\t 1/26/2017   & AAPL        & 0.016166667\\\\\n",
       "\t 1/27/2017   & AAPL        & 0.016334695\\\\\n",
       "\t 1/30/2017   & AAPL        & 0.015444982\\\\\n",
       "\t 1/31/2017   & AAPL        & 0.011250000\\\\\n",
       "\\end{tabular}\n"
      ],
      "text/markdown": [
       "\n",
       "Date | variable | delta_7 | \n",
       "|---|---|---|---|---|---|---|---|---|---|---|---|---|---|---|---|---|---|---|---|\n",
       "| 1/3/2017    | AAPL        |          NA | \n",
       "| 1/4/2017    | AAPL        |          NA | \n",
       "| 1/5/2017    | AAPL        |          NA | \n",
       "| 1/6/2017    | AAPL        |          NA | \n",
       "| 1/9/2017    | AAPL        |          NA | \n",
       "| 1/10/2017   | AAPL        |          NA | \n",
       "| 1/11/2017   | AAPL        |          NA | \n",
       "| 1/12/2017   | AAPL        | 0.026689625 | \n",
       "| 1/13/2017   | AAPL        | 0.026029995 | \n",
       "| 1/17/2017   | AAPL        | 0.029071263 | \n",
       "| 1/18/2017   | AAPL        | 0.017640573 | \n",
       "| 1/19/2017   | AAPL        | 0.006639213 | \n",
       "| 1/20/2017   | AAPL        | 0.007472085 | \n",
       "| 1/23/2017   | AAPL        | 0.002755741 | \n",
       "| 1/24/2017   | AAPL        | 0.006037736 | \n",
       "| 1/25/2017   | AAPL        | 0.023857527 | \n",
       "| 1/26/2017   | AAPL        | 0.016166667 | \n",
       "| 1/27/2017   | AAPL        | 0.016334695 | \n",
       "| 1/30/2017   | AAPL        | 0.015444982 | \n",
       "| 1/31/2017   | AAPL        | 0.011250000 | \n",
       "\n",
       "\n"
      ],
      "text/plain": [
       "   Date      variable delta_7    \n",
       "1  1/3/2017  AAPL              NA\n",
       "2  1/4/2017  AAPL              NA\n",
       "3  1/5/2017  AAPL              NA\n",
       "4  1/6/2017  AAPL              NA\n",
       "5  1/9/2017  AAPL              NA\n",
       "6  1/10/2017 AAPL              NA\n",
       "7  1/11/2017 AAPL              NA\n",
       "8  1/12/2017 AAPL     0.026689625\n",
       "9  1/13/2017 AAPL     0.026029995\n",
       "10 1/17/2017 AAPL     0.029071263\n",
       "11 1/18/2017 AAPL     0.017640573\n",
       "12 1/19/2017 AAPL     0.006639213\n",
       "13 1/20/2017 AAPL     0.007472085\n",
       "14 1/23/2017 AAPL     0.002755741\n",
       "15 1/24/2017 AAPL     0.006037736\n",
       "16 1/25/2017 AAPL     0.023857527\n",
       "17 1/26/2017 AAPL     0.016166667\n",
       "18 1/27/2017 AAPL     0.016334695\n",
       "19 1/30/2017 AAPL     0.015444982\n",
       "20 1/31/2017 AAPL     0.011250000"
      ]
     },
     "metadata": {},
     "output_type": "display_data"
    }
   ],
   "source": [
    "Rate_of_change$Date <- rownames(Rate_of_change)\n",
    "\n",
    "MeltedData <- melt(Rate_of_change, id=\"Date\")\n",
    "colnames(MeltedData)[3] <- \"delta_7\"\n",
    "#write.csv(Rate_of_change, file = \"Rate_of_change.csv\")\n",
    "head(MeltedData,20)"
   ]
  },
  {
   "cell_type": "code",
   "execution_count": 11,
   "metadata": {
    "ExecuteTime": {
     "end_time": "2019-04-24T17:02:45.094465Z",
     "start_time": "2019-04-24T17:02:42.316Z"
    }
   },
   "outputs": [],
   "source": [
    "# We want to shift the data to create a dataset that contains records moving backwards by day 7 days (1 week), 14 days (2 weeks), 21 days, and 28 days.\n",
    "\n",
    "delta_dict <- list(7,14,21,28)\n",
    "names(delta_dict) <- list(\"delta_7\",\"delta_14\",\"delta_21\",\"delta_28\")"
   ]
  },
  {
   "cell_type": "code",
   "execution_count": 12,
   "metadata": {
    "ExecuteTime": {
     "end_time": "2019-04-24T17:02:45.254386Z",
     "start_time": "2019-04-24T17:02:42.321Z"
    }
   },
   "outputs": [],
   "source": [
    "melted_dfs <- list()\n",
    "for (i in delta_dict)\n",
    "{\n",
    "  transit <- lapply(PivotedData,lag,n=i)\n",
    "  rate_change <-  PivotedData/transit - 1\n",
    "  rate_change$Date <- rownames(rate_change)\n",
    "  melted_dfs[[paste(\"delta_\",i)]] <- melt(rate_change, id=\"Date\")\n",
    "  colnames(melted_dfs[[paste(\"delta_\",i)]])[2] <- \"Name\"\n",
    "  colnames(melted_dfs[[paste(\"delta_\",i)]])[3] <- paste(\"delta_\",i)\n",
    "}"
   ]
  },
  {
   "cell_type": "code",
   "execution_count": 13,
   "metadata": {
    "ExecuteTime": {
     "end_time": "2019-04-24T17:02:45.330182Z",
     "start_time": "2019-04-24T17:02:42.325Z"
    }
   },
   "outputs": [],
   "source": [
    "# We need a seperate section to shift 7 days forward (to act as a future predictor)\n",
    "transit <- lapply(PivotedData,lead,n=7)\n",
    "rate_change <-  PivotedData/transit - 1\n",
    "rate_change$Date <- rownames(rate_change)\n",
    "melted_dfs[[\"return_7\"]] <- melt(rate_change, id=\"Date\")\n",
    "colnames(melted_dfs[[\"return_7\"]])[2] <- \"Name\"\n",
    "colnames(melted_dfs[[\"return_7\"]])[3] <- \"return_7\""
   ]
  },
  {
   "cell_type": "code",
   "execution_count": 14,
   "metadata": {
    "ExecuteTime": {
     "end_time": "2019-04-24T17:02:45.472806Z",
     "start_time": "2019-04-24T17:02:42.330Z"
    }
   },
   "outputs": [],
   "source": [
    "Merged_Return <- Reduce(function(x,y) merge(x,y,by=c(\"Date\",\"Name\"),all=TRUE),melted_dfs)\n",
    "base_Data <- select(NewData,'Date', 'Name', 'Volume', 'Close')\n",
    "\n",
    "Merged_Data <- merge(base_Data,Merged_Return,by=c(\"Date\",\"Name\"),all=TRUE)\n",
    "Merged_Data <- Merged_Data[order(as.Date(Merged_Data$Date, format=\"%m/%d/%Y\")), ] \n",
    "# Merged_Data <- Merged_Data[order(Merged_Data$Name)]"
   ]
  },
  {
   "cell_type": "code",
   "execution_count": 15,
   "metadata": {
    "ExecuteTime": {
     "end_time": "2019-04-24T17:02:45.613426Z",
     "start_time": "2019-04-24T17:02:42.349Z"
    }
   },
   "outputs": [
    {
     "data": {
      "text/html": [
       "<table>\n",
       "<thead><tr><th></th><th scope=col>Date</th><th scope=col>Name</th><th scope=col>Volume</th><th scope=col>Close</th><th scope=col>delta_ 7</th><th scope=col>delta_ 14</th><th scope=col>delta_ 21</th><th scope=col>delta_ 28</th><th scope=col>return_7</th></tr></thead>\n",
       "<tbody>\n",
       "\t<tr><th scope=row>53</th><td>1/3/2017     </td><td>AAPL         </td><td>28781865     </td><td>116.15       </td><td>        NA   </td><td>NA           </td><td>NA           </td><td>NA           </td><td>-0.0259958071</td></tr>\n",
       "\t<tr><th scope=row>54</th><td>1/3/2017     </td><td>AMZN         </td><td> 3521066     </td><td>753.67       </td><td>        NA   </td><td>NA           </td><td>NA           </td><td>NA           </td><td>-0.0737058158</td></tr>\n",
       "\t<tr><th scope=row>55</th><td>1/3/2017     </td><td>GOOGL        </td><td> 1959033     </td><td>808.01       </td><td>        NA   </td><td>NA           </td><td>NA           </td><td>NA           </td><td>-0.0259424011</td></tr>\n",
       "\t<tr><th scope=row>56</th><td>1/3/2017     </td><td>MSFT         </td><td>20694101     </td><td> 62.58       </td><td>        NA   </td><td>NA           </td><td>NA           </td><td>NA           </td><td>-0.0004791567</td></tr>\n",
       "\t<tr><th scope=row>65</th><td>1/4/2017     </td><td>AAPL         </td><td>21118116     </td><td>116.02       </td><td>        NA   </td><td>NA           </td><td>NA           </td><td>NA           </td><td>-0.0253696237</td></tr>\n",
       "\t<tr><th scope=row>66</th><td>1/4/2017     </td><td>AMZN         </td><td> 2510526     </td><td>757.18       </td><td>        NA   </td><td>NA           </td><td>NA           </td><td>NA           </td><td>-0.0733778789</td></tr>\n",
       "\t<tr><th scope=row>67</th><td>1/4/2017     </td><td>GOOGL        </td><td> 1515339     </td><td>807.77       </td><td>        NA   </td><td>NA           </td><td>NA           </td><td>NA           </td><td>-0.0278840831</td></tr>\n",
       "\t<tr><th scope=row>68</th><td>1/4/2017     </td><td>MSFT         </td><td>21339969     </td><td> 62.30       </td><td>        NA   </td><td>NA           </td><td>NA           </td><td>NA           </td><td>-0.0063795853</td></tr>\n",
       "\t<tr><th scope=row>69</th><td>1/5/2017     </td><td>AAPL         </td><td>22193587     </td><td>116.61       </td><td>        NA   </td><td>NA           </td><td>NA           </td><td>NA           </td><td>-0.0282500000</td></tr>\n",
       "\t<tr><th scope=row>70</th><td>1/5/2017     </td><td>AMZN         </td><td> 5830068     </td><td>780.45       </td><td>        NA   </td><td>NA           </td><td>NA           </td><td>NA           </td><td>-0.0361482982</td></tr>\n",
       "\t<tr><th scope=row>71</th><td>1/5/2017     </td><td>GOOGL        </td><td> 1340535     </td><td>813.02       </td><td>        NA   </td><td>NA           </td><td>NA           </td><td>NA           </td><td>-0.0174509946</td></tr>\n",
       "\t<tr><th scope=row>72</th><td>1/5/2017     </td><td>MSFT         </td><td>24875968     </td><td> 62.30       </td><td>        NA   </td><td>NA           </td><td>NA           </td><td>NA           </td><td>-0.0036782344</td></tr>\n",
       "\t<tr><th scope=row>73</th><td>1/6/2017     </td><td>AAPL         </td><td>31751900     </td><td>117.91       </td><td>        NA   </td><td>NA           </td><td>NA           </td><td>NA           </td><td>-0.0173347779</td></tr>\n",
       "\t<tr><th scope=row>74</th><td>1/6/2017     </td><td>AMZN         </td><td> 5986234     </td><td>795.99       </td><td>        NA   </td><td>NA           </td><td>NA           </td><td>NA           </td><td>-0.0142294546</td></tr>\n",
       "\t<tr><th scope=row>75</th><td>1/6/2017     </td><td>GOOGL        </td><td> 2017097     </td><td>825.21       </td><td>        NA   </td><td>NA           </td><td>NA           </td><td>NA           </td><td>-0.0045957878</td></tr>\n",
       "\t<tr><th scope=row>76</th><td>1/6/2017     </td><td>MSFT         </td><td>19922919     </td><td> 62.84       </td><td>        NA   </td><td>NA           </td><td>NA           </td><td>NA           </td><td> 0.0054400000</td></tr>\n",
       "\t<tr><th scope=row>77</th><td>1/9/2017     </td><td>AAPL         </td><td>33561948     </td><td>118.99       </td><td>        NA   </td><td>NA           </td><td>NA           </td><td>NA           </td><td>-0.0065954249</td></tr>\n",
       "\t<tr><th scope=row>78</th><td>1/9/2017     </td><td>AMZN         </td><td> 3446109     </td><td>796.92       </td><td>        NA   </td><td>NA           </td><td>NA           </td><td>NA           </td><td>-0.0149807179</td></tr>\n",
       "\t<tr><th scope=row>79</th><td>1/9/2017     </td><td>GOOGL        </td><td> 1408924     </td><td>827.18       </td><td>        NA   </td><td>NA           </td><td>NA           </td><td>NA           </td><td> 0.0034086636</td></tr>\n",
       "\t<tr><th scope=row>80</th><td>1/9/2017     </td><td>MSFT         </td><td>20382730     </td><td> 62.64       </td><td>        NA   </td><td>NA           </td><td>NA           </td><td>NA           </td><td> 0.0054574639</td></tr>\n",
       "\t<tr><th scope=row>1</th><td>1/10/2017    </td><td>AAPL         </td><td>24462051     </td><td>119.11       </td><td>        NA   </td><td>NA           </td><td>NA           </td><td>NA           </td><td>-0.0074166667</td></tr>\n",
       "\t<tr><th scope=row>2</th><td>1/10/2017    </td><td>AMZN         </td><td> 2558369     </td><td>795.90       </td><td>        NA   </td><td>NA           </td><td>NA           </td><td>NA           </td><td>-0.0153773830</td></tr>\n",
       "\t<tr><th scope=row>3</th><td>1/10/2017    </td><td>GOOGL        </td><td> 1197442     </td><td>826.01       </td><td>        NA   </td><td>NA           </td><td>NA           </td><td>NA           </td><td>-0.0026081602</td></tr>\n",
       "\t<tr><th scope=row>4</th><td>1/10/2017    </td><td>MSFT         </td><td>18593004     </td><td> 62.62       </td><td>        NA   </td><td>NA           </td><td>NA           </td><td>NA           </td><td>-0.0019126554</td></tr>\n",
       "\t<tr><th scope=row>5</th><td>1/11/2017    </td><td>AAPL         </td><td>27588593     </td><td>119.75       </td><td>        NA   </td><td>NA           </td><td>NA           </td><td>NA           </td><td>-0.0027481679</td></tr>\n",
       "\t<tr><th scope=row>6</th><td>1/11/2017    </td><td>AMZN         </td><td> 2992791     </td><td>799.02       </td><td>        NA   </td><td>NA           </td><td>NA           </td><td>NA           </td><td>-0.0230596175</td></tr>\n",
       "\t<tr><th scope=row>7</th><td>1/11/2017    </td><td>GOOGL        </td><td> 1325394     </td><td>829.86       </td><td>        NA   </td><td>NA           </td><td>NA           </td><td>NA           </td><td>-0.0172542425</td></tr>\n",
       "\t<tr><th scope=row>8</th><td>1/11/2017    </td><td>MSFT         </td><td>21517335     </td><td> 63.19       </td><td>        NA   </td><td>NA           </td><td>NA           </td><td>NA           </td><td> 0.0036531131</td></tr>\n",
       "\t<tr><th scope=row>9</th><td>1/12/2017    </td><td>AAPL         </td><td>27086220     </td><td>119.25       </td><td>0.02668963   </td><td>NA           </td><td>NA           </td><td>NA           </td><td>-0.0060015004</td></tr>\n",
       "\t<tr><th scope=row>10</th><td>1/12/2017    </td><td>AMZN         </td><td> 4873922     </td><td>813.64       </td><td>0.07957063   </td><td>NA           </td><td>NA           </td><td>NA           </td><td>-0.0106998687</td></tr>\n",
       "\t<tr><th scope=row>...</th><td>...</td><td>...</td><td>...</td><td>...</td><td>...</td><td>...</td><td>...</td><td>...</td><td>...</td></tr>\n",
       "\t<tr><th scope=row>283</th><td>12/19/2017   </td><td>GOOGL        </td><td> 1317519     </td><td>1079.78      </td><td> 0.0289694867</td><td> 0.0408721973</td><td> 0.0423693635</td><td> 0.0203063433</td><td>0.025042719  </td></tr>\n",
       "\t<tr><th scope=row>284</th><td>12/19/2017   </td><td>MSFT         </td><td>23524787     </td><td>  85.83      </td><td> 0.0198431559</td><td> 0.0298776098</td><td> 0.0416262136</td><td> 0.0150189215</td><td>0.003390227  </td></tr>\n",
       "\t<tr><th scope=row>285</th><td>12/20/2017   </td><td>AAPL         </td><td>23475649     </td><td> 174.35      </td><td> 0.0097295419</td><td> 0.0145475706</td><td> 0.0257089069</td><td>-0.0086991130</td><td>         NA  </td></tr>\n",
       "\t<tr><th scope=row>286</th><td>12/20/2017   </td><td>AMZN         </td><td> 2371166     </td><td>1177.62      </td><td> 0.0074427677</td><td> 0.0007393244</td><td> 0.0455558416</td><td> 0.0429445679</td><td>         NA  </td></tr>\n",
       "\t<tr><th scope=row>287</th><td>12/20/2017   </td><td>GOOGL        </td><td> 1436391     </td><td>1073.56      </td><td> 0.0205233990</td><td> 0.0360848123</td><td> 0.0375968917</td><td> 0.0246630779</td><td>         NA  </td></tr>\n",
       "\t<tr><th scope=row>288</th><td>12/20/2017   </td><td>MSFT         </td><td>23674931     </td><td>  85.52      </td><td> 0.0034025578</td><td> 0.0160389688</td><td> 0.0362292500</td><td> 0.0170055892</td><td>         NA  </td></tr>\n",
       "\t<tr><th scope=row>289</th><td>12/21/2017   </td><td>AAPL         </td><td>20949896     </td><td> 175.01      </td><td> 0.0192778101</td><td> 0.0231511254</td><td> 0.0108005083</td><td> 0.0019465277</td><td>         NA  </td></tr>\n",
       "\t<tr><th scope=row>290</th><td>12/21/2017   </td><td>AMZN         </td><td> 2123117     </td><td>1174.76      </td><td> 0.0083084423</td><td> 0.0106766464</td><td> 0.0309524436</td><td> 0.0439063402</td><td>         NA  </td></tr>\n",
       "\t<tr><th scope=row>291</th><td>12/21/2017   </td><td>GOOGL        </td><td> 1282025     </td><td>1070.85      </td><td> 0.0210532338</td><td> 0.0446603647</td><td> 0.0195658383</td><td> 0.0255710386</td><td>         NA  </td></tr>\n",
       "\t<tr><th scope=row>292</th><td>12/21/2017   </td><td>MSFT         </td><td>17990745     </td><td>  85.50      </td><td>-0.0009347978</td><td> 0.0147163541</td><td> 0.0212613473</td><td> 0.0194348396</td><td>         NA  </td></tr>\n",
       "\t<tr><th scope=row>293</th><td>12/22/2017   </td><td>AAPL         </td><td>16349444     </td><td> 175.01      </td><td> 0.0159052650</td><td> 0.0306831567</td><td> 0.0002857796</td><td> 0.0059780422</td><td>         NA  </td></tr>\n",
       "\t<tr><th scope=row>294</th><td>12/22/2017   </td><td>AMZN         </td><td> 1585054     </td><td>1168.36      </td><td> 0.0036336148</td><td> 0.0303452533</td><td> 0.0105521727</td><td> 0.0347069086</td><td>         NA  </td></tr>\n",
       "\t<tr><th scope=row>295</th><td>12/22/2017   </td><td>GOOGL        </td><td>  889446     </td><td>1068.86      </td><td> 0.0166160987</td><td> 0.0563214642</td><td> 0.0161038862</td><td> 0.0265655013</td><td>         NA  </td></tr>\n",
       "\t<tr><th scope=row>296</th><td>12/22/2017   </td><td>MSFT         </td><td>14145841     </td><td>  85.51      </td><td> 0.0018746339</td><td> 0.0546373952</td><td> 0.0288773914</td><td> 0.0188252115</td><td>         NA  </td></tr>\n",
       "\t<tr><th scope=row>297</th><td>12/26/2017   </td><td>AAPL         </td><td>33185536     </td><td> 170.57      </td><td>-0.0095807688</td><td> 0.0054821976</td><td>-0.0251471681</td><td>-0.0044939886</td><td>         NA  </td></tr>\n",
       "\t<tr><th scope=row>298</th><td>12/26/2017   </td><td>AMZN         </td><td> 2005187     </td><td>1176.76      </td><td> 0.0021290004</td><td> 0.0308259677</td><td>-0.0077908938</td><td> 0.0351148798</td><td>         NA  </td></tr>\n",
       "\t<tr><th scope=row>299</th><td>12/26/2017   </td><td>GOOGL        </td><td>  918767     </td><td>1065.85      </td><td> 0.0079245747</td><td> 0.0453609259</td><td> 0.0088308787</td><td> 0.0232421950</td><td>         NA  </td></tr>\n",
       "\t<tr><th scope=row>300</th><td>12/26/2017   </td><td>MSFT         </td><td> 9891237     </td><td>  85.40      </td><td> 0.0083835164</td><td> 0.0466968991</td><td> 0.0257026183</td><td> 0.0160618679</td><td>         NA  </td></tr>\n",
       "\t<tr><th scope=row>301</th><td>12/27/2017   </td><td>AAPL         </td><td>21498213     </td><td> 170.60      </td><td>-0.0193711559</td><td> 0.0094077274</td><td>-0.0200471021</td><td> 0.0089898273</td><td>         NA  </td></tr>\n",
       "\t<tr><th scope=row>302</th><td>12/27/2017   </td><td>AMZN         </td><td> 1867208     </td><td>1182.26      </td><td> 0.0026459962</td><td> 0.0259556558</td><td>-0.0113477668</td><td> 0.0493214638</td><td>         NA  </td></tr>\n",
       "\t<tr><th scope=row>303</th><td>12/27/2017   </td><td>GOOGL        </td><td> 1116203     </td><td>1060.20      </td><td>-0.0110074627</td><td> 0.0266093423</td><td>-0.0110166883</td><td> 0.0229542363</td><td>         NA  </td></tr>\n",
       "\t<tr><th scope=row>304</th><td>12/27/2017   </td><td>MSFT         </td><td>14678025     </td><td>  85.71      </td><td>-0.0131260794</td><td> 0.0353950230</td><td> 0.0219387147</td><td> 0.0328994939</td><td>         NA  </td></tr>\n",
       "\t<tr><th scope=row>305</th><td>12/28/2017   </td><td>AAPL         </td><td>16480187     </td><td> 171.08      </td><td>-0.0302686770</td><td> 0.0103945193</td><td>-0.0114982377</td><td>-0.0001168907</td><td>         NA  </td></tr>\n",
       "\t<tr><th scope=row>306</th><td>12/28/2017   </td><td>AMZN         </td><td> 1841676     </td><td>1186.10      </td><td>-0.0037628719</td><td> 0.0226851413</td><td>-0.0062835121</td><td> 0.0429178134</td><td>         NA  </td></tr>\n",
       "\t<tr><th scope=row>307</th><td>12/28/2017   </td><td>GOOGL        </td><td>  994249     </td><td>1055.95      </td><td>-0.0268549153</td><td> 0.0108944350</td><td>-0.0069031026</td><td> 0.0071342051</td><td>         NA  </td></tr>\n",
       "\t<tr><th scope=row>308</th><td>12/28/2017   </td><td>MSFT         </td><td>10594344     </td><td>  85.72      </td><td>-0.0076406576</td><td> 0.0391562614</td><td> 0.0098963242</td><td> 0.0302884615</td><td>         NA  </td></tr>\n",
       "\t<tr><th scope=row>309</th><td>12/29/2017   </td><td>AAPL         </td><td>25999922     </td><td> 169.23      </td><td>-0.0304228257</td><td>-0.0008265927</td><td>-0.0014751003</td><td>-0.0054069938</td><td>         NA  </td></tr>\n",
       "\t<tr><th scope=row>310</th><td>12/29/2017   </td><td>AMZN         </td><td> 2688391     </td><td>1169.47      </td><td>-0.0150836295</td><td> 0.0064285714</td><td> 0.0070612347</td><td> 0.0350391192</td><td>         NA  </td></tr>\n",
       "\t<tr><th scope=row>311</th><td>12/29/2017   </td><td>GOOGL        </td><td> 1180340     </td><td>1053.40      </td><td>-0.0244309026</td><td> 0.0038308334</td><td> 0.0154427500</td><td> 0.0169033392</td><td>         NA  </td></tr>\n",
       "\t<tr><th scope=row>312</th><td>12/29/2017   </td><td>MSFT         </td><td>18717406     </td><td>  85.54      </td><td>-0.0033787720</td><td> 0.0163973384</td><td> 0.0263978882</td><td> 0.0381067961</td><td>         NA  </td></tr>\n",
       "</tbody>\n",
       "</table>\n"
      ],
      "text/latex": [
       "\\begin{tabular}{r|lllllllll}\n",
       "  & Date & Name & Volume & Close & delta\\_ 7 & delta\\_ 14 & delta\\_ 21 & delta\\_ 28 & return\\_7\\\\\n",
       "\\hline\n",
       "\t53 & 1/3/2017      & AAPL          & 28781865      & 116.15        &         NA    & NA            & NA            & NA            & -0.0259958071\\\\\n",
       "\t54 & 1/3/2017      & AMZN          &  3521066      & 753.67        &         NA    & NA            & NA            & NA            & -0.0737058158\\\\\n",
       "\t55 & 1/3/2017      & GOOGL         &  1959033      & 808.01        &         NA    & NA            & NA            & NA            & -0.0259424011\\\\\n",
       "\t56 & 1/3/2017      & MSFT          & 20694101      &  62.58        &         NA    & NA            & NA            & NA            & -0.0004791567\\\\\n",
       "\t65 & 1/4/2017      & AAPL          & 21118116      & 116.02        &         NA    & NA            & NA            & NA            & -0.0253696237\\\\\n",
       "\t66 & 1/4/2017      & AMZN          &  2510526      & 757.18        &         NA    & NA            & NA            & NA            & -0.0733778789\\\\\n",
       "\t67 & 1/4/2017      & GOOGL         &  1515339      & 807.77        &         NA    & NA            & NA            & NA            & -0.0278840831\\\\\n",
       "\t68 & 1/4/2017      & MSFT          & 21339969      &  62.30        &         NA    & NA            & NA            & NA            & -0.0063795853\\\\\n",
       "\t69 & 1/5/2017      & AAPL          & 22193587      & 116.61        &         NA    & NA            & NA            & NA            & -0.0282500000\\\\\n",
       "\t70 & 1/5/2017      & AMZN          &  5830068      & 780.45        &         NA    & NA            & NA            & NA            & -0.0361482982\\\\\n",
       "\t71 & 1/5/2017      & GOOGL         &  1340535      & 813.02        &         NA    & NA            & NA            & NA            & -0.0174509946\\\\\n",
       "\t72 & 1/5/2017      & MSFT          & 24875968      &  62.30        &         NA    & NA            & NA            & NA            & -0.0036782344\\\\\n",
       "\t73 & 1/6/2017      & AAPL          & 31751900      & 117.91        &         NA    & NA            & NA            & NA            & -0.0173347779\\\\\n",
       "\t74 & 1/6/2017      & AMZN          &  5986234      & 795.99        &         NA    & NA            & NA            & NA            & -0.0142294546\\\\\n",
       "\t75 & 1/6/2017      & GOOGL         &  2017097      & 825.21        &         NA    & NA            & NA            & NA            & -0.0045957878\\\\\n",
       "\t76 & 1/6/2017      & MSFT          & 19922919      &  62.84        &         NA    & NA            & NA            & NA            &  0.0054400000\\\\\n",
       "\t77 & 1/9/2017      & AAPL          & 33561948      & 118.99        &         NA    & NA            & NA            & NA            & -0.0065954249\\\\\n",
       "\t78 & 1/9/2017      & AMZN          &  3446109      & 796.92        &         NA    & NA            & NA            & NA            & -0.0149807179\\\\\n",
       "\t79 & 1/9/2017      & GOOGL         &  1408924      & 827.18        &         NA    & NA            & NA            & NA            &  0.0034086636\\\\\n",
       "\t80 & 1/9/2017      & MSFT          & 20382730      &  62.64        &         NA    & NA            & NA            & NA            &  0.0054574639\\\\\n",
       "\t1 & 1/10/2017     & AAPL          & 24462051      & 119.11        &         NA    & NA            & NA            & NA            & -0.0074166667\\\\\n",
       "\t2 & 1/10/2017     & AMZN          &  2558369      & 795.90        &         NA    & NA            & NA            & NA            & -0.0153773830\\\\\n",
       "\t3 & 1/10/2017     & GOOGL         &  1197442      & 826.01        &         NA    & NA            & NA            & NA            & -0.0026081602\\\\\n",
       "\t4 & 1/10/2017     & MSFT          & 18593004      &  62.62        &         NA    & NA            & NA            & NA            & -0.0019126554\\\\\n",
       "\t5 & 1/11/2017     & AAPL          & 27588593      & 119.75        &         NA    & NA            & NA            & NA            & -0.0027481679\\\\\n",
       "\t6 & 1/11/2017     & AMZN          &  2992791      & 799.02        &         NA    & NA            & NA            & NA            & -0.0230596175\\\\\n",
       "\t7 & 1/11/2017     & GOOGL         &  1325394      & 829.86        &         NA    & NA            & NA            & NA            & -0.0172542425\\\\\n",
       "\t8 & 1/11/2017     & MSFT          & 21517335      &  63.19        &         NA    & NA            & NA            & NA            &  0.0036531131\\\\\n",
       "\t9 & 1/12/2017     & AAPL          & 27086220      & 119.25        & 0.02668963    & NA            & NA            & NA            & -0.0060015004\\\\\n",
       "\t10 & 1/12/2017     & AMZN          &  4873922      & 813.64        & 0.07957063    & NA            & NA            & NA            & -0.0106998687\\\\\n",
       "\t... & ... & ... & ... & ... & ... & ... & ... & ... & ...\\\\\n",
       "\t283 & 12/19/2017    & GOOGL         &  1317519      & 1079.78       &  0.0289694867 &  0.0408721973 &  0.0423693635 &  0.0203063433 & 0.025042719  \\\\\n",
       "\t284 & 12/19/2017    & MSFT          & 23524787      &   85.83       &  0.0198431559 &  0.0298776098 &  0.0416262136 &  0.0150189215 & 0.003390227  \\\\\n",
       "\t285 & 12/20/2017    & AAPL          & 23475649      &  174.35       &  0.0097295419 &  0.0145475706 &  0.0257089069 & -0.0086991130 &          NA  \\\\\n",
       "\t286 & 12/20/2017    & AMZN          &  2371166      & 1177.62       &  0.0074427677 &  0.0007393244 &  0.0455558416 &  0.0429445679 &          NA  \\\\\n",
       "\t287 & 12/20/2017    & GOOGL         &  1436391      & 1073.56       &  0.0205233990 &  0.0360848123 &  0.0375968917 &  0.0246630779 &          NA  \\\\\n",
       "\t288 & 12/20/2017    & MSFT          & 23674931      &   85.52       &  0.0034025578 &  0.0160389688 &  0.0362292500 &  0.0170055892 &          NA  \\\\\n",
       "\t289 & 12/21/2017    & AAPL          & 20949896      &  175.01       &  0.0192778101 &  0.0231511254 &  0.0108005083 &  0.0019465277 &          NA  \\\\\n",
       "\t290 & 12/21/2017    & AMZN          &  2123117      & 1174.76       &  0.0083084423 &  0.0106766464 &  0.0309524436 &  0.0439063402 &          NA  \\\\\n",
       "\t291 & 12/21/2017    & GOOGL         &  1282025      & 1070.85       &  0.0210532338 &  0.0446603647 &  0.0195658383 &  0.0255710386 &          NA  \\\\\n",
       "\t292 & 12/21/2017    & MSFT          & 17990745      &   85.50       & -0.0009347978 &  0.0147163541 &  0.0212613473 &  0.0194348396 &          NA  \\\\\n",
       "\t293 & 12/22/2017    & AAPL          & 16349444      &  175.01       &  0.0159052650 &  0.0306831567 &  0.0002857796 &  0.0059780422 &          NA  \\\\\n",
       "\t294 & 12/22/2017    & AMZN          &  1585054      & 1168.36       &  0.0036336148 &  0.0303452533 &  0.0105521727 &  0.0347069086 &          NA  \\\\\n",
       "\t295 & 12/22/2017    & GOOGL         &   889446      & 1068.86       &  0.0166160987 &  0.0563214642 &  0.0161038862 &  0.0265655013 &          NA  \\\\\n",
       "\t296 & 12/22/2017    & MSFT          & 14145841      &   85.51       &  0.0018746339 &  0.0546373952 &  0.0288773914 &  0.0188252115 &          NA  \\\\\n",
       "\t297 & 12/26/2017    & AAPL          & 33185536      &  170.57       & -0.0095807688 &  0.0054821976 & -0.0251471681 & -0.0044939886 &          NA  \\\\\n",
       "\t298 & 12/26/2017    & AMZN          &  2005187      & 1176.76       &  0.0021290004 &  0.0308259677 & -0.0077908938 &  0.0351148798 &          NA  \\\\\n",
       "\t299 & 12/26/2017    & GOOGL         &   918767      & 1065.85       &  0.0079245747 &  0.0453609259 &  0.0088308787 &  0.0232421950 &          NA  \\\\\n",
       "\t300 & 12/26/2017    & MSFT          &  9891237      &   85.40       &  0.0083835164 &  0.0466968991 &  0.0257026183 &  0.0160618679 &          NA  \\\\\n",
       "\t301 & 12/27/2017    & AAPL          & 21498213      &  170.60       & -0.0193711559 &  0.0094077274 & -0.0200471021 &  0.0089898273 &          NA  \\\\\n",
       "\t302 & 12/27/2017    & AMZN          &  1867208      & 1182.26       &  0.0026459962 &  0.0259556558 & -0.0113477668 &  0.0493214638 &          NA  \\\\\n",
       "\t303 & 12/27/2017    & GOOGL         &  1116203      & 1060.20       & -0.0110074627 &  0.0266093423 & -0.0110166883 &  0.0229542363 &          NA  \\\\\n",
       "\t304 & 12/27/2017    & MSFT          & 14678025      &   85.71       & -0.0131260794 &  0.0353950230 &  0.0219387147 &  0.0328994939 &          NA  \\\\\n",
       "\t305 & 12/28/2017    & AAPL          & 16480187      &  171.08       & -0.0302686770 &  0.0103945193 & -0.0114982377 & -0.0001168907 &          NA  \\\\\n",
       "\t306 & 12/28/2017    & AMZN          &  1841676      & 1186.10       & -0.0037628719 &  0.0226851413 & -0.0062835121 &  0.0429178134 &          NA  \\\\\n",
       "\t307 & 12/28/2017    & GOOGL         &   994249      & 1055.95       & -0.0268549153 &  0.0108944350 & -0.0069031026 &  0.0071342051 &          NA  \\\\\n",
       "\t308 & 12/28/2017    & MSFT          & 10594344      &   85.72       & -0.0076406576 &  0.0391562614 &  0.0098963242 &  0.0302884615 &          NA  \\\\\n",
       "\t309 & 12/29/2017    & AAPL          & 25999922      &  169.23       & -0.0304228257 & -0.0008265927 & -0.0014751003 & -0.0054069938 &          NA  \\\\\n",
       "\t310 & 12/29/2017    & AMZN          &  2688391      & 1169.47       & -0.0150836295 &  0.0064285714 &  0.0070612347 &  0.0350391192 &          NA  \\\\\n",
       "\t311 & 12/29/2017    & GOOGL         &  1180340      & 1053.40       & -0.0244309026 &  0.0038308334 &  0.0154427500 &  0.0169033392 &          NA  \\\\\n",
       "\t312 & 12/29/2017    & MSFT          & 18717406      &   85.54       & -0.0033787720 &  0.0163973384 &  0.0263978882 &  0.0381067961 &          NA  \\\\\n",
       "\\end{tabular}\n"
      ],
      "text/markdown": [
       "\n",
       "| <!--/--> | Date | Name | Volume | Close | delta_ 7 | delta_ 14 | delta_ 21 | delta_ 28 | return_7 | \n",
       "|---|---|---|---|---|---|---|---|---|---|---|---|---|---|---|---|---|---|---|---|---|---|---|---|---|---|---|---|---|---|---|---|---|---|---|---|---|---|---|---|---|---|---|---|---|---|---|---|---|---|---|---|---|---|---|---|---|---|---|---|---|\n",
       "| 53 | 1/3/2017      | AAPL          | 28781865      | 116.15        |         NA    | NA            | NA            | NA            | -0.0259958071 | \n",
       "| 54 | 1/3/2017      | AMZN          |  3521066      | 753.67        |         NA    | NA            | NA            | NA            | -0.0737058158 | \n",
       "| 55 | 1/3/2017      | GOOGL         |  1959033      | 808.01        |         NA    | NA            | NA            | NA            | -0.0259424011 | \n",
       "| 56 | 1/3/2017      | MSFT          | 20694101      |  62.58        |         NA    | NA            | NA            | NA            | -0.0004791567 | \n",
       "| 65 | 1/4/2017      | AAPL          | 21118116      | 116.02        |         NA    | NA            | NA            | NA            | -0.0253696237 | \n",
       "| 66 | 1/4/2017      | AMZN          |  2510526      | 757.18        |         NA    | NA            | NA            | NA            | -0.0733778789 | \n",
       "| 67 | 1/4/2017      | GOOGL         |  1515339      | 807.77        |         NA    | NA            | NA            | NA            | -0.0278840831 | \n",
       "| 68 | 1/4/2017      | MSFT          | 21339969      |  62.30        |         NA    | NA            | NA            | NA            | -0.0063795853 | \n",
       "| 69 | 1/5/2017      | AAPL          | 22193587      | 116.61        |         NA    | NA            | NA            | NA            | -0.0282500000 | \n",
       "| 70 | 1/5/2017      | AMZN          |  5830068      | 780.45        |         NA    | NA            | NA            | NA            | -0.0361482982 | \n",
       "| 71 | 1/5/2017      | GOOGL         |  1340535      | 813.02        |         NA    | NA            | NA            | NA            | -0.0174509946 | \n",
       "| 72 | 1/5/2017      | MSFT          | 24875968      |  62.30        |         NA    | NA            | NA            | NA            | -0.0036782344 | \n",
       "| 73 | 1/6/2017      | AAPL          | 31751900      | 117.91        |         NA    | NA            | NA            | NA            | -0.0173347779 | \n",
       "| 74 | 1/6/2017      | AMZN          |  5986234      | 795.99        |         NA    | NA            | NA            | NA            | -0.0142294546 | \n",
       "| 75 | 1/6/2017      | GOOGL         |  2017097      | 825.21        |         NA    | NA            | NA            | NA            | -0.0045957878 | \n",
       "| 76 | 1/6/2017      | MSFT          | 19922919      |  62.84        |         NA    | NA            | NA            | NA            |  0.0054400000 | \n",
       "| 77 | 1/9/2017      | AAPL          | 33561948      | 118.99        |         NA    | NA            | NA            | NA            | -0.0065954249 | \n",
       "| 78 | 1/9/2017      | AMZN          |  3446109      | 796.92        |         NA    | NA            | NA            | NA            | -0.0149807179 | \n",
       "| 79 | 1/9/2017      | GOOGL         |  1408924      | 827.18        |         NA    | NA            | NA            | NA            |  0.0034086636 | \n",
       "| 80 | 1/9/2017      | MSFT          | 20382730      |  62.64        |         NA    | NA            | NA            | NA            |  0.0054574639 | \n",
       "| 1 | 1/10/2017     | AAPL          | 24462051      | 119.11        |         NA    | NA            | NA            | NA            | -0.0074166667 | \n",
       "| 2 | 1/10/2017     | AMZN          |  2558369      | 795.90        |         NA    | NA            | NA            | NA            | -0.0153773830 | \n",
       "| 3 | 1/10/2017     | GOOGL         |  1197442      | 826.01        |         NA    | NA            | NA            | NA            | -0.0026081602 | \n",
       "| 4 | 1/10/2017     | MSFT          | 18593004      |  62.62        |         NA    | NA            | NA            | NA            | -0.0019126554 | \n",
       "| 5 | 1/11/2017     | AAPL          | 27588593      | 119.75        |         NA    | NA            | NA            | NA            | -0.0027481679 | \n",
       "| 6 | 1/11/2017     | AMZN          |  2992791      | 799.02        |         NA    | NA            | NA            | NA            | -0.0230596175 | \n",
       "| 7 | 1/11/2017     | GOOGL         |  1325394      | 829.86        |         NA    | NA            | NA            | NA            | -0.0172542425 | \n",
       "| 8 | 1/11/2017     | MSFT          | 21517335      |  63.19        |         NA    | NA            | NA            | NA            |  0.0036531131 | \n",
       "| 9 | 1/12/2017     | AAPL          | 27086220      | 119.25        | 0.02668963    | NA            | NA            | NA            | -0.0060015004 | \n",
       "| 10 | 1/12/2017     | AMZN          |  4873922      | 813.64        | 0.07957063    | NA            | NA            | NA            | -0.0106998687 | \n",
       "| ... | ... | ... | ... | ... | ... | ... | ... | ... | ... | \n",
       "| 283 | 12/19/2017    | GOOGL         |  1317519      | 1079.78       |  0.0289694867 |  0.0408721973 |  0.0423693635 |  0.0203063433 | 0.025042719   | \n",
       "| 284 | 12/19/2017    | MSFT          | 23524787      |   85.83       |  0.0198431559 |  0.0298776098 |  0.0416262136 |  0.0150189215 | 0.003390227   | \n",
       "| 285 | 12/20/2017    | AAPL          | 23475649      |  174.35       |  0.0097295419 |  0.0145475706 |  0.0257089069 | -0.0086991130 |          NA   | \n",
       "| 286 | 12/20/2017    | AMZN          |  2371166      | 1177.62       |  0.0074427677 |  0.0007393244 |  0.0455558416 |  0.0429445679 |          NA   | \n",
       "| 287 | 12/20/2017    | GOOGL         |  1436391      | 1073.56       |  0.0205233990 |  0.0360848123 |  0.0375968917 |  0.0246630779 |          NA   | \n",
       "| 288 | 12/20/2017    | MSFT          | 23674931      |   85.52       |  0.0034025578 |  0.0160389688 |  0.0362292500 |  0.0170055892 |          NA   | \n",
       "| 289 | 12/21/2017    | AAPL          | 20949896      |  175.01       |  0.0192778101 |  0.0231511254 |  0.0108005083 |  0.0019465277 |          NA   | \n",
       "| 290 | 12/21/2017    | AMZN          |  2123117      | 1174.76       |  0.0083084423 |  0.0106766464 |  0.0309524436 |  0.0439063402 |          NA   | \n",
       "| 291 | 12/21/2017    | GOOGL         |  1282025      | 1070.85       |  0.0210532338 |  0.0446603647 |  0.0195658383 |  0.0255710386 |          NA   | \n",
       "| 292 | 12/21/2017    | MSFT          | 17990745      |   85.50       | -0.0009347978 |  0.0147163541 |  0.0212613473 |  0.0194348396 |          NA   | \n",
       "| 293 | 12/22/2017    | AAPL          | 16349444      |  175.01       |  0.0159052650 |  0.0306831567 |  0.0002857796 |  0.0059780422 |          NA   | \n",
       "| 294 | 12/22/2017    | AMZN          |  1585054      | 1168.36       |  0.0036336148 |  0.0303452533 |  0.0105521727 |  0.0347069086 |          NA   | \n",
       "| 295 | 12/22/2017    | GOOGL         |   889446      | 1068.86       |  0.0166160987 |  0.0563214642 |  0.0161038862 |  0.0265655013 |          NA   | \n",
       "| 296 | 12/22/2017    | MSFT          | 14145841      |   85.51       |  0.0018746339 |  0.0546373952 |  0.0288773914 |  0.0188252115 |          NA   | \n",
       "| 297 | 12/26/2017    | AAPL          | 33185536      |  170.57       | -0.0095807688 |  0.0054821976 | -0.0251471681 | -0.0044939886 |          NA   | \n",
       "| 298 | 12/26/2017    | AMZN          |  2005187      | 1176.76       |  0.0021290004 |  0.0308259677 | -0.0077908938 |  0.0351148798 |          NA   | \n",
       "| 299 | 12/26/2017    | GOOGL         |   918767      | 1065.85       |  0.0079245747 |  0.0453609259 |  0.0088308787 |  0.0232421950 |          NA   | \n",
       "| 300 | 12/26/2017    | MSFT          |  9891237      |   85.40       |  0.0083835164 |  0.0466968991 |  0.0257026183 |  0.0160618679 |          NA   | \n",
       "| 301 | 12/27/2017    | AAPL          | 21498213      |  170.60       | -0.0193711559 |  0.0094077274 | -0.0200471021 |  0.0089898273 |          NA   | \n",
       "| 302 | 12/27/2017    | AMZN          |  1867208      | 1182.26       |  0.0026459962 |  0.0259556558 | -0.0113477668 |  0.0493214638 |          NA   | \n",
       "| 303 | 12/27/2017    | GOOGL         |  1116203      | 1060.20       | -0.0110074627 |  0.0266093423 | -0.0110166883 |  0.0229542363 |          NA   | \n",
       "| 304 | 12/27/2017    | MSFT          | 14678025      |   85.71       | -0.0131260794 |  0.0353950230 |  0.0219387147 |  0.0328994939 |          NA   | \n",
       "| 305 | 12/28/2017    | AAPL          | 16480187      |  171.08       | -0.0302686770 |  0.0103945193 | -0.0114982377 | -0.0001168907 |          NA   | \n",
       "| 306 | 12/28/2017    | AMZN          |  1841676      | 1186.10       | -0.0037628719 |  0.0226851413 | -0.0062835121 |  0.0429178134 |          NA   | \n",
       "| 307 | 12/28/2017    | GOOGL         |   994249      | 1055.95       | -0.0268549153 |  0.0108944350 | -0.0069031026 |  0.0071342051 |          NA   | \n",
       "| 308 | 12/28/2017    | MSFT          | 10594344      |   85.72       | -0.0076406576 |  0.0391562614 |  0.0098963242 |  0.0302884615 |          NA   | \n",
       "| 309 | 12/29/2017    | AAPL          | 25999922      |  169.23       | -0.0304228257 | -0.0008265927 | -0.0014751003 | -0.0054069938 |          NA   | \n",
       "| 310 | 12/29/2017    | AMZN          |  2688391      | 1169.47       | -0.0150836295 |  0.0064285714 |  0.0070612347 |  0.0350391192 |          NA   | \n",
       "| 311 | 12/29/2017    | GOOGL         |  1180340      | 1053.40       | -0.0244309026 |  0.0038308334 |  0.0154427500 |  0.0169033392 |          NA   | \n",
       "| 312 | 12/29/2017    | MSFT          | 18717406      |   85.54       | -0.0033787720 |  0.0163973384 |  0.0263978882 |  0.0381067961 |          NA   | \n",
       "\n",
       "\n"
      ],
      "text/plain": [
       "    Date       Name  Volume   Close   delta_ 7      delta_ 14     delta_ 21    \n",
       "53  1/3/2017   AAPL  28781865 116.15          NA    NA            NA           \n",
       "54  1/3/2017   AMZN   3521066 753.67          NA    NA            NA           \n",
       "55  1/3/2017   GOOGL  1959033 808.01          NA    NA            NA           \n",
       "56  1/3/2017   MSFT  20694101  62.58          NA    NA            NA           \n",
       "65  1/4/2017   AAPL  21118116 116.02          NA    NA            NA           \n",
       "66  1/4/2017   AMZN   2510526 757.18          NA    NA            NA           \n",
       "67  1/4/2017   GOOGL  1515339 807.77          NA    NA            NA           \n",
       "68  1/4/2017   MSFT  21339969  62.30          NA    NA            NA           \n",
       "69  1/5/2017   AAPL  22193587 116.61          NA    NA            NA           \n",
       "70  1/5/2017   AMZN   5830068 780.45          NA    NA            NA           \n",
       "71  1/5/2017   GOOGL  1340535 813.02          NA    NA            NA           \n",
       "72  1/5/2017   MSFT  24875968  62.30          NA    NA            NA           \n",
       "73  1/6/2017   AAPL  31751900 117.91          NA    NA            NA           \n",
       "74  1/6/2017   AMZN   5986234 795.99          NA    NA            NA           \n",
       "75  1/6/2017   GOOGL  2017097 825.21          NA    NA            NA           \n",
       "76  1/6/2017   MSFT  19922919  62.84          NA    NA            NA           \n",
       "77  1/9/2017   AAPL  33561948 118.99          NA    NA            NA           \n",
       "78  1/9/2017   AMZN   3446109 796.92          NA    NA            NA           \n",
       "79  1/9/2017   GOOGL  1408924 827.18          NA    NA            NA           \n",
       "80  1/9/2017   MSFT  20382730  62.64          NA    NA            NA           \n",
       "1   1/10/2017  AAPL  24462051 119.11          NA    NA            NA           \n",
       "2   1/10/2017  AMZN   2558369 795.90          NA    NA            NA           \n",
       "3   1/10/2017  GOOGL  1197442 826.01          NA    NA            NA           \n",
       "4   1/10/2017  MSFT  18593004  62.62          NA    NA            NA           \n",
       "5   1/11/2017  AAPL  27588593 119.75          NA    NA            NA           \n",
       "6   1/11/2017  AMZN   2992791 799.02          NA    NA            NA           \n",
       "7   1/11/2017  GOOGL  1325394 829.86          NA    NA            NA           \n",
       "8   1/11/2017  MSFT  21517335  63.19          NA    NA            NA           \n",
       "9   1/12/2017  AAPL  27086220 119.25  0.02668963    NA            NA           \n",
       "10  1/12/2017  AMZN   4873922 813.64  0.07957063    NA            NA           \n",
       "... ...        ...   ...      ...     ...           ...           ...          \n",
       "283 12/19/2017 GOOGL  1317519 1079.78  0.0289694867  0.0408721973  0.0423693635\n",
       "284 12/19/2017 MSFT  23524787   85.83  0.0198431559  0.0298776098  0.0416262136\n",
       "285 12/20/2017 AAPL  23475649  174.35  0.0097295419  0.0145475706  0.0257089069\n",
       "286 12/20/2017 AMZN   2371166 1177.62  0.0074427677  0.0007393244  0.0455558416\n",
       "287 12/20/2017 GOOGL  1436391 1073.56  0.0205233990  0.0360848123  0.0375968917\n",
       "288 12/20/2017 MSFT  23674931   85.52  0.0034025578  0.0160389688  0.0362292500\n",
       "289 12/21/2017 AAPL  20949896  175.01  0.0192778101  0.0231511254  0.0108005083\n",
       "290 12/21/2017 AMZN   2123117 1174.76  0.0083084423  0.0106766464  0.0309524436\n",
       "291 12/21/2017 GOOGL  1282025 1070.85  0.0210532338  0.0446603647  0.0195658383\n",
       "292 12/21/2017 MSFT  17990745   85.50 -0.0009347978  0.0147163541  0.0212613473\n",
       "293 12/22/2017 AAPL  16349444  175.01  0.0159052650  0.0306831567  0.0002857796\n",
       "294 12/22/2017 AMZN   1585054 1168.36  0.0036336148  0.0303452533  0.0105521727\n",
       "295 12/22/2017 GOOGL   889446 1068.86  0.0166160987  0.0563214642  0.0161038862\n",
       "296 12/22/2017 MSFT  14145841   85.51  0.0018746339  0.0546373952  0.0288773914\n",
       "297 12/26/2017 AAPL  33185536  170.57 -0.0095807688  0.0054821976 -0.0251471681\n",
       "298 12/26/2017 AMZN   2005187 1176.76  0.0021290004  0.0308259677 -0.0077908938\n",
       "299 12/26/2017 GOOGL   918767 1065.85  0.0079245747  0.0453609259  0.0088308787\n",
       "300 12/26/2017 MSFT   9891237   85.40  0.0083835164  0.0466968991  0.0257026183\n",
       "301 12/27/2017 AAPL  21498213  170.60 -0.0193711559  0.0094077274 -0.0200471021\n",
       "302 12/27/2017 AMZN   1867208 1182.26  0.0026459962  0.0259556558 -0.0113477668\n",
       "303 12/27/2017 GOOGL  1116203 1060.20 -0.0110074627  0.0266093423 -0.0110166883\n",
       "304 12/27/2017 MSFT  14678025   85.71 -0.0131260794  0.0353950230  0.0219387147\n",
       "305 12/28/2017 AAPL  16480187  171.08 -0.0302686770  0.0103945193 -0.0114982377\n",
       "306 12/28/2017 AMZN   1841676 1186.10 -0.0037628719  0.0226851413 -0.0062835121\n",
       "307 12/28/2017 GOOGL   994249 1055.95 -0.0268549153  0.0108944350 -0.0069031026\n",
       "308 12/28/2017 MSFT  10594344   85.72 -0.0076406576  0.0391562614  0.0098963242\n",
       "309 12/29/2017 AAPL  25999922  169.23 -0.0304228257 -0.0008265927 -0.0014751003\n",
       "310 12/29/2017 AMZN   2688391 1169.47 -0.0150836295  0.0064285714  0.0070612347\n",
       "311 12/29/2017 GOOGL  1180340 1053.40 -0.0244309026  0.0038308334  0.0154427500\n",
       "312 12/29/2017 MSFT  18717406   85.54 -0.0033787720  0.0163973384  0.0263978882\n",
       "    delta_ 28     return_7     \n",
       "53  NA            -0.0259958071\n",
       "54  NA            -0.0737058158\n",
       "55  NA            -0.0259424011\n",
       "56  NA            -0.0004791567\n",
       "65  NA            -0.0253696237\n",
       "66  NA            -0.0733778789\n",
       "67  NA            -0.0278840831\n",
       "68  NA            -0.0063795853\n",
       "69  NA            -0.0282500000\n",
       "70  NA            -0.0361482982\n",
       "71  NA            -0.0174509946\n",
       "72  NA            -0.0036782344\n",
       "73  NA            -0.0173347779\n",
       "74  NA            -0.0142294546\n",
       "75  NA            -0.0045957878\n",
       "76  NA             0.0054400000\n",
       "77  NA            -0.0065954249\n",
       "78  NA            -0.0149807179\n",
       "79  NA             0.0034086636\n",
       "80  NA             0.0054574639\n",
       "1   NA            -0.0074166667\n",
       "2   NA            -0.0153773830\n",
       "3   NA            -0.0026081602\n",
       "4   NA            -0.0019126554\n",
       "5   NA            -0.0027481679\n",
       "6   NA            -0.0230596175\n",
       "7   NA            -0.0172542425\n",
       "8   NA             0.0036531131\n",
       "9   NA            -0.0060015004\n",
       "10  NA            -0.0106998687\n",
       "... ...           ...          \n",
       "283  0.0203063433 0.025042719  \n",
       "284  0.0150189215 0.003390227  \n",
       "285 -0.0086991130          NA  \n",
       "286  0.0429445679          NA  \n",
       "287  0.0246630779          NA  \n",
       "288  0.0170055892          NA  \n",
       "289  0.0019465277          NA  \n",
       "290  0.0439063402          NA  \n",
       "291  0.0255710386          NA  \n",
       "292  0.0194348396          NA  \n",
       "293  0.0059780422          NA  \n",
       "294  0.0347069086          NA  \n",
       "295  0.0265655013          NA  \n",
       "296  0.0188252115          NA  \n",
       "297 -0.0044939886          NA  \n",
       "298  0.0351148798          NA  \n",
       "299  0.0232421950          NA  \n",
       "300  0.0160618679          NA  \n",
       "301  0.0089898273          NA  \n",
       "302  0.0493214638          NA  \n",
       "303  0.0229542363          NA  \n",
       "304  0.0328994939          NA  \n",
       "305 -0.0001168907          NA  \n",
       "306  0.0429178134          NA  \n",
       "307  0.0071342051          NA  \n",
       "308  0.0302884615          NA  \n",
       "309 -0.0054069938          NA  \n",
       "310  0.0350391192          NA  \n",
       "311  0.0169033392          NA  \n",
       "312  0.0381067961          NA  "
      ]
     },
     "metadata": {},
     "output_type": "display_data"
    }
   ],
   "source": [
    "Merged_Data"
   ]
  },
  {
   "cell_type": "code",
   "execution_count": 16,
   "metadata": {
    "ExecuteTime": {
     "end_time": "2019-04-24T17:02:45.685234Z",
     "start_time": "2019-04-24T17:02:42.356Z"
    }
   },
   "outputs": [],
   "source": [
    "write.csv(Merged_Data, file = \"MergedData.csv\")"
   ]
  }
 ],
 "metadata": {
  "kernelspec": {
   "display_name": "R",
   "language": "R",
   "name": "ir"
  },
  "language_info": {
   "codemirror_mode": "r",
   "file_extension": ".r",
   "mimetype": "text/x-r-source",
   "name": "R",
   "pygments_lexer": "r",
   "version": "3.5.1"
  },
  "toc": {
   "base_numbering": 1,
   "nav_menu": {},
   "number_sections": true,
   "sideBar": true,
   "skip_h1_title": false,
   "title_cell": "Table of Contents",
   "title_sidebar": "Contents",
   "toc_cell": false,
   "toc_position": {},
   "toc_section_display": true,
   "toc_window_display": true
  }
 },
 "nbformat": 4,
 "nbformat_minor": 2
}
